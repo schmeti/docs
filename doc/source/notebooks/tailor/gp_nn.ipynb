{
 "cells": [
  {
   "cell_type": "markdown",
   "id": "7e052b38",
   "metadata": {},
   "source": [
    "# Mixing TensorFlow models with GPflow\n",
    "\n",
    "This notebook explores the combination of Keras TensorFlow neural networks with GPflow models."
   ]
  },
  {
   "cell_type": "code",
   "execution_count": 1,
   "id": "9edc1563",
   "metadata": {
    "execution": {
     "iopub.execute_input": "2022-01-27T17:39:46.371881Z",
     "iopub.status.busy": "2022-01-27T17:39:46.369632Z",
     "iopub.status.idle": "2022-01-27T17:39:50.083155Z",
     "shell.execute_reply": "2022-01-27T17:39:50.083609Z"
    }
   },
   "outputs": [],
   "source": [
    "import numpy as np\n",
    "import tensorflow as tf\n",
    "from matplotlib import pyplot as plt\n",
    "import gpflow\n",
    "from gpflow.ci_utils import ci_niter\n",
    "from scipy.cluster.vq import kmeans2\n",
    "\n",
    "from typing import Dict, Optional, Tuple\n",
    "import tensorflow as tf\n",
    "import tensorflow_datasets as tfds\n",
    "import gpflow\n",
    "from gpflow.utilities import to_default_float\n",
    "\n",
    "iterations = ci_niter(100)"
   ]
  },
  {
   "cell_type": "markdown",
   "id": "1f07a170",
   "metadata": {},
   "source": [
    "## Convolutional network inside a GPflow model"
   ]
  },
  {
   "cell_type": "code",
   "execution_count": 2,
   "id": "5756bf55",
   "metadata": {
    "execution": {
     "iopub.execute_input": "2022-01-27T17:39:50.091848Z",
     "iopub.status.busy": "2022-01-27T17:39:50.091093Z",
     "iopub.status.idle": "2022-01-27T17:39:51.625647Z",
     "shell.execute_reply": "2022-01-27T17:39:51.626077Z"
    }
   },
   "outputs": [
    {
     "name": "stdout",
     "output_type": "stream",
     "text": [
      "\u001b[1mDownloading and preparing dataset 11.06 MiB (download: 11.06 MiB, generated: 21.00 MiB, total: 32.06 MiB) to /home/circleci/tensorflow_datasets/mnist/3.0.1...\u001b[0m\n"
     ]
    },
    {
     "data": {
      "application/vnd.jupyter.widget-view+json": {
       "model_id": "9f60e5035f73433c8863cc025bda3a65",
       "version_major": 2,
       "version_minor": 0
      },
      "text/plain": [
       "Dl Completed...:   0%|          | 0/4 [00:00<?, ? file/s]"
      ]
     },
     "metadata": {},
     "output_type": "display_data"
    },
    {
     "name": "stdout",
     "output_type": "stream",
     "text": [
      "\u001b[1mDataset mnist downloaded and prepared to /home/circleci/tensorflow_datasets/mnist/3.0.1. Subsequent calls will reuse this data.\u001b[0m\n"
     ]
    }
   ],
   "source": [
    "original_dataset, info = tfds.load(name=\"mnist\", split=tfds.Split.TRAIN, with_info=True)\n",
    "total_num_data = info.splits[\"train\"].num_examples\n",
    "image_shape = info.features[\"image\"].shape\n",
    "image_size = tf.reduce_prod(image_shape)\n",
    "batch_size = 32\n",
    "\n",
    "\n",
    "def map_fn(input_slice: Dict[str, tf.Tensor]):\n",
    "    updated = input_slice\n",
    "    image = to_default_float(updated[\"image\"]) / 255.0\n",
    "    label = to_default_float(updated[\"label\"])\n",
    "    return tf.reshape(image, [-1, image_size]), label\n",
    "\n",
    "\n",
    "autotune = tf.data.experimental.AUTOTUNE\n",
    "dataset = (\n",
    "    original_dataset.shuffle(1024)\n",
    "    .batch(batch_size, drop_remainder=True)\n",
    "    .map(map_fn, num_parallel_calls=autotune)\n",
    "    .prefetch(autotune)\n",
    "    .repeat()\n",
    ")"
   ]
  },
  {
   "cell_type": "markdown",
   "id": "10049bb9",
   "metadata": {},
   "source": [
    "Here we'll use the GPflow functionality, but put a non-GPflow model inside the kernel.\\\n",
    "Vanilla ConvNet. This gets 97.3% accuracy on MNIST when used on its own (+ final linear layer) after 20K iterations"
   ]
  },
  {
   "cell_type": "code",
   "execution_count": 3,
   "id": "5a679cd3",
   "metadata": {
    "execution": {
     "iopub.execute_input": "2022-01-27T17:39:51.637786Z",
     "iopub.status.busy": "2022-01-27T17:39:51.637277Z",
     "iopub.status.idle": "2022-01-27T17:39:51.638855Z",
     "shell.execute_reply": "2022-01-27T17:39:51.639221Z"
    }
   },
   "outputs": [],
   "source": [
    "class KernelWithConvNN(gpflow.kernels.Kernel):\n",
    "    def __init__(\n",
    "        self,\n",
    "        image_shape: Tuple,\n",
    "        output_dim: int,\n",
    "        base_kernel: gpflow.kernels.Kernel,\n",
    "        batch_size: Optional[int] = None,\n",
    "    ):\n",
    "        super().__init__()\n",
    "        with self.name_scope:\n",
    "            self.base_kernel = base_kernel\n",
    "            input_size = int(tf.reduce_prod(image_shape))\n",
    "            input_shape = (input_size,)\n",
    "\n",
    "            self.cnn = tf.keras.Sequential(\n",
    "                [\n",
    "                    tf.keras.layers.InputLayer(input_shape=input_shape, batch_size=batch_size),\n",
    "                    tf.keras.layers.Reshape(image_shape),\n",
    "                    tf.keras.layers.Conv2D(\n",
    "                        filters=32, kernel_size=image_shape[:-1], padding=\"same\", activation=\"relu\"\n",
    "                    ),\n",
    "                    tf.keras.layers.MaxPool2D(pool_size=(2, 2), strides=2),\n",
    "                    tf.keras.layers.Conv2D(\n",
    "                        filters=64, kernel_size=(5, 5), padding=\"same\", activation=\"relu\"\n",
    "                    ),\n",
    "                    tf.keras.layers.MaxPool2D(pool_size=(2, 2), strides=2),\n",
    "                    tf.keras.layers.Flatten(),\n",
    "                    tf.keras.layers.Dense(output_dim, activation=\"relu\"),\n",
    "                    tf.keras.layers.Lambda(to_default_float),\n",
    "                ]\n",
    "            )\n",
    "\n",
    "            self.cnn.build()\n",
    "\n",
    "    def K(self, a_input: tf.Tensor, b_input: Optional[tf.Tensor] = None) -> tf.Tensor:\n",
    "        transformed_a = self.cnn(a_input)\n",
    "        transformed_b = self.cnn(b_input) if b_input is not None else b_input\n",
    "        return self.base_kernel.K(transformed_a, transformed_b)\n",
    "\n",
    "    def K_diag(self, a_input: tf.Tensor) -> tf.Tensor:\n",
    "        transformed_a = self.cnn(a_input)\n",
    "        return self.base_kernel.K_diag(transformed_a)"
   ]
  },
  {
   "cell_type": "markdown",
   "id": "d98b2bbf",
   "metadata": {},
   "source": [
    "$K_{uf}$ is in ConvNN output space, therefore we need to update `Kuf` multidispatch."
   ]
  },
  {
   "cell_type": "code",
   "execution_count": 4,
   "id": "3fd79b86",
   "metadata": {
    "execution": {
     "iopub.execute_input": "2022-01-27T17:39:51.645131Z",
     "iopub.status.busy": "2022-01-27T17:39:51.644615Z",
     "iopub.status.idle": "2022-01-27T17:39:51.646388Z",
     "shell.execute_reply": "2022-01-27T17:39:51.645989Z"
    }
   },
   "outputs": [],
   "source": [
    "class KernelSpaceInducingPoints(gpflow.inducing_variables.InducingPoints):\n",
    "    pass\n",
    "\n",
    "\n",
    "@gpflow.covariances.Kuu.register(KernelSpaceInducingPoints, KernelWithConvNN)\n",
    "def Kuu(inducing_variable, kernel, jitter=None):\n",
    "    func = gpflow.covariances.Kuu.dispatch(\n",
    "        gpflow.inducing_variables.InducingPoints, gpflow.kernels.Kernel\n",
    "    )\n",
    "    return func(inducing_variable, kernel.base_kernel, jitter=jitter)\n",
    "\n",
    "\n",
    "@gpflow.covariances.Kuf.register(KernelSpaceInducingPoints, KernelWithConvNN, object)\n",
    "def Kuf(inducing_variable, kernel, a_input):\n",
    "    return kernel.base_kernel(inducing_variable.Z, kernel.cnn(a_input))"
   ]
  },
  {
   "cell_type": "markdown",
   "id": "52b33781",
   "metadata": {},
   "source": [
    "Now we are ready to create and initialize the model:"
   ]
  },
  {
   "cell_type": "code",
   "execution_count": 5,
   "id": "cf22fd7e",
   "metadata": {
    "execution": {
     "iopub.execute_input": "2022-01-27T17:39:51.652661Z",
     "iopub.status.busy": "2022-01-27T17:39:51.652151Z",
     "iopub.status.idle": "2022-01-27T17:39:55.288114Z",
     "shell.execute_reply": "2022-01-27T17:39:55.288718Z"
    }
   },
   "outputs": [],
   "source": [
    "num_mnist_classes = 10\n",
    "output_dim = 5\n",
    "num_inducing_points = 100\n",
    "images_subset, labels_subset = next(iter(dataset.batch(32)))\n",
    "images_subset = tf.reshape(images_subset, [-1, image_size])\n",
    "labels_subset = tf.reshape(labels_subset, [-1, 1])\n",
    "\n",
    "kernel = KernelWithConvNN(\n",
    "    image_shape, output_dim, gpflow.kernels.SquaredExponential(), batch_size=batch_size\n",
    ")\n",
    "\n",
    "likelihood = gpflow.likelihoods.MultiClass(num_mnist_classes)\n",
    "\n",
    "inducing_variable_kmeans = kmeans2(images_subset.numpy(), num_inducing_points, minit=\"points\")[0]\n",
    "inducing_variable_cnn = kernel.cnn(inducing_variable_kmeans)\n",
    "inducing_variable = KernelSpaceInducingPoints(inducing_variable_cnn)\n",
    "\n",
    "model = gpflow.models.SVGP(\n",
    "    kernel,\n",
    "    likelihood,\n",
    "    inducing_variable=inducing_variable,\n",
    "    num_data=total_num_data,\n",
    "    num_latent_gps=num_mnist_classes,\n",
    ")"
   ]
  },
  {
   "cell_type": "markdown",
   "id": "c353e25a",
   "metadata": {},
   "source": [
    "And start optimization:"
   ]
  },
  {
   "cell_type": "code",
   "execution_count": 6,
   "id": "3e6aaf71",
   "metadata": {
    "execution": {
     "iopub.execute_input": "2022-01-27T17:39:55.293971Z",
     "iopub.status.busy": "2022-01-27T17:39:55.293384Z",
     "iopub.status.idle": "2022-01-27T17:40:15.373749Z",
     "shell.execute_reply": "2022-01-27T17:40:15.374490Z"
    }
   },
   "outputs": [],
   "source": [
    "data_iterator = iter(dataset)\n",
    "adam_opt = tf.optimizers.Adam(0.001)\n",
    "\n",
    "training_loss = model.training_loss_closure(data_iterator)\n",
    "\n",
    "\n",
    "@tf.function\n",
    "def optimization_step():\n",
    "    adam_opt.minimize(training_loss, var_list=model.trainable_variables)\n",
    "\n",
    "\n",
    "for _ in range(iterations):\n",
    "    optimization_step()"
   ]
  },
  {
   "cell_type": "markdown",
   "id": "fab409cb",
   "metadata": {},
   "source": [
    "Let's do predictions after training. Don't expect that we will get a good accuracy, because we haven't run training for long enough."
   ]
  },
  {
   "cell_type": "code",
   "execution_count": 7,
   "id": "87ecced8",
   "metadata": {
    "execution": {
     "iopub.execute_input": "2022-01-27T17:40:15.381115Z",
     "iopub.status.busy": "2022-01-27T17:40:15.380242Z",
     "iopub.status.idle": "2022-01-27T17:40:19.542959Z",
     "shell.execute_reply": "2022-01-27T17:40:19.542446Z"
    }
   },
   "outputs": [
    {
     "name": "stdout",
     "output_type": "stream",
     "text": [
      "Accuracy is 23.2422%\n"
     ]
    }
   ],
   "source": [
    "m, v = model.predict_y(images_subset)\n",
    "preds = np.argmax(m, 1).reshape(labels_subset.numpy().shape)\n",
    "correct = preds == labels_subset.numpy().astype(int)\n",
    "acc = np.average(correct.astype(float)) * 100.0\n",
    "\n",
    "print(\"Accuracy is {:.4f}%\".format(acc))"
   ]
  }
 ],
 "metadata": {
  "jupytext": {
   "formats": "ipynb,.pct.py:percent"
  },
  "kernelspec": {
   "display_name": "Python 3",
   "language": "python",
   "name": "python3"
  },
  "language_info": {
   "codemirror_mode": {
    "name": "ipython",
    "version": 3
   },
   "file_extension": ".py",
   "mimetype": "text/x-python",
   "name": "python",
   "nbconvert_exporter": "python",
   "pygments_lexer": "ipython3",
   "version": "3.6.15"
  },
  "widgets": {
   "application/vnd.jupyter.widget-state+json": {
    "state": {
     "274f54cee163442c9fb197bab18f2d97": {
      "model_module": "@jupyter-widgets/controls",
      "model_module_version": "1.5.0",
      "model_name": "ProgressStyleModel",
      "state": {
       "_model_module": "@jupyter-widgets/controls",
       "_model_module_version": "1.5.0",
       "_model_name": "ProgressStyleModel",
       "_view_count": null,
       "_view_module": "@jupyter-widgets/base",
       "_view_module_version": "1.2.0",
       "_view_name": "StyleView",
       "bar_color": null,
       "description_width": ""
      }
     },
     "55a73475b6474c18bc05f238860ee07a": {
      "model_module": "@jupyter-widgets/controls",
      "model_module_version": "1.5.0",
      "model_name": "HTMLModel",
      "state": {
       "_dom_classes": [],
       "_model_module": "@jupyter-widgets/controls",
       "_model_module_version": "1.5.0",
       "_model_name": "HTMLModel",
       "_view_count": null,
       "_view_module": "@jupyter-widgets/controls",
       "_view_module_version": "1.5.0",
       "_view_name": "HTMLView",
       "description": "",
       "description_tooltip": null,
       "layout": "IPY_MODEL_fdeaae8c0adb465187700719d8b06614",
       "placeholder": "​",
       "style": "IPY_MODEL_ebdb53618d8d4a399869eb711e291aef",
       "value": " 4/4 [00:00&lt;00:00,  9.81 file/s]"
      }
     },
     "588c5ce242a045b2aa047359e51c94b5": {
      "model_module": "@jupyter-widgets/base",
      "model_module_version": "1.2.0",
      "model_name": "LayoutModel",
      "state": {
       "_model_module": "@jupyter-widgets/base",
       "_model_module_version": "1.2.0",
       "_model_name": "LayoutModel",
       "_view_count": null,
       "_view_module": "@jupyter-widgets/base",
       "_view_module_version": "1.2.0",
       "_view_name": "LayoutView",
       "align_content": null,
       "align_items": null,
       "align_self": null,
       "border": null,
       "bottom": null,
       "display": null,
       "flex": null,
       "flex_flow": null,
       "grid_area": null,
       "grid_auto_columns": null,
       "grid_auto_flow": null,
       "grid_auto_rows": null,
       "grid_column": null,
       "grid_gap": null,
       "grid_row": null,
       "grid_template_areas": null,
       "grid_template_columns": null,
       "grid_template_rows": null,
       "height": null,
       "justify_content": null,
       "justify_items": null,
       "left": null,
       "margin": null,
       "max_height": null,
       "max_width": null,
       "min_height": null,
       "min_width": null,
       "object_fit": null,
       "object_position": null,
       "order": null,
       "overflow": null,
       "overflow_x": null,
       "overflow_y": null,
       "padding": null,
       "right": null,
       "top": null,
       "visibility": null,
       "width": null
      }
     },
     "8f3b4fc3856f491098c73bb951a8a5a4": {
      "model_module": "@jupyter-widgets/base",
      "model_module_version": "1.2.0",
      "model_name": "LayoutModel",
      "state": {
       "_model_module": "@jupyter-widgets/base",
       "_model_module_version": "1.2.0",
       "_model_name": "LayoutModel",
       "_view_count": null,
       "_view_module": "@jupyter-widgets/base",
       "_view_module_version": "1.2.0",
       "_view_name": "LayoutView",
       "align_content": null,
       "align_items": null,
       "align_self": null,
       "border": null,
       "bottom": null,
       "display": null,
       "flex": null,
       "flex_flow": null,
       "grid_area": null,
       "grid_auto_columns": null,
       "grid_auto_flow": null,
       "grid_auto_rows": null,
       "grid_column": null,
       "grid_gap": null,
       "grid_row": null,
       "grid_template_areas": null,
       "grid_template_columns": null,
       "grid_template_rows": null,
       "height": null,
       "justify_content": null,
       "justify_items": null,
       "left": null,
       "margin": null,
       "max_height": null,
       "max_width": null,
       "min_height": null,
       "min_width": null,
       "object_fit": null,
       "object_position": null,
       "order": null,
       "overflow": null,
       "overflow_x": null,
       "overflow_y": null,
       "padding": null,
       "right": null,
       "top": null,
       "visibility": null,
       "width": null
      }
     },
     "99724e0cc259431ea6391ef8d944a6e5": {
      "model_module": "@jupyter-widgets/controls",
      "model_module_version": "1.5.0",
      "model_name": "DescriptionStyleModel",
      "state": {
       "_model_module": "@jupyter-widgets/controls",
       "_model_module_version": "1.5.0",
       "_model_name": "DescriptionStyleModel",
       "_view_count": null,
       "_view_module": "@jupyter-widgets/base",
       "_view_module_version": "1.2.0",
       "_view_name": "StyleView",
       "description_width": ""
      }
     },
     "9f60e5035f73433c8863cc025bda3a65": {
      "model_module": "@jupyter-widgets/controls",
      "model_module_version": "1.5.0",
      "model_name": "HBoxModel",
      "state": {
       "_dom_classes": [],
       "_model_module": "@jupyter-widgets/controls",
       "_model_module_version": "1.5.0",
       "_model_name": "HBoxModel",
       "_view_count": null,
       "_view_module": "@jupyter-widgets/controls",
       "_view_module_version": "1.5.0",
       "_view_name": "HBoxView",
       "box_style": "",
       "children": [
        "IPY_MODEL_e6f9522e37434e678d7a41eabbb4fa00",
        "IPY_MODEL_ce6d9c24e0cc4c618e836f1db7d71084",
        "IPY_MODEL_55a73475b6474c18bc05f238860ee07a"
       ],
       "layout": "IPY_MODEL_ce7b5c77094148f5a14fe4584841177b"
      }
     },
     "ce6d9c24e0cc4c618e836f1db7d71084": {
      "model_module": "@jupyter-widgets/controls",
      "model_module_version": "1.5.0",
      "model_name": "FloatProgressModel",
      "state": {
       "_dom_classes": [],
       "_model_module": "@jupyter-widgets/controls",
       "_model_module_version": "1.5.0",
       "_model_name": "FloatProgressModel",
       "_view_count": null,
       "_view_module": "@jupyter-widgets/controls",
       "_view_module_version": "1.5.0",
       "_view_name": "ProgressView",
       "bar_style": "success",
       "description": "",
       "description_tooltip": null,
       "layout": "IPY_MODEL_588c5ce242a045b2aa047359e51c94b5",
       "max": 4.0,
       "min": 0.0,
       "orientation": "horizontal",
       "style": "IPY_MODEL_274f54cee163442c9fb197bab18f2d97",
       "value": 4.0
      }
     },
     "ce7b5c77094148f5a14fe4584841177b": {
      "model_module": "@jupyter-widgets/base",
      "model_module_version": "1.2.0",
      "model_name": "LayoutModel",
      "state": {
       "_model_module": "@jupyter-widgets/base",
       "_model_module_version": "1.2.0",
       "_model_name": "LayoutModel",
       "_view_count": null,
       "_view_module": "@jupyter-widgets/base",
       "_view_module_version": "1.2.0",
       "_view_name": "LayoutView",
       "align_content": null,
       "align_items": null,
       "align_self": null,
       "border": null,
       "bottom": null,
       "display": null,
       "flex": null,
       "flex_flow": null,
       "grid_area": null,
       "grid_auto_columns": null,
       "grid_auto_flow": null,
       "grid_auto_rows": null,
       "grid_column": null,
       "grid_gap": null,
       "grid_row": null,
       "grid_template_areas": null,
       "grid_template_columns": null,
       "grid_template_rows": null,
       "height": null,
       "justify_content": null,
       "justify_items": null,
       "left": null,
       "margin": null,
       "max_height": null,
       "max_width": null,
       "min_height": null,
       "min_width": null,
       "object_fit": null,
       "object_position": null,
       "order": null,
       "overflow": null,
       "overflow_x": null,
       "overflow_y": null,
       "padding": null,
       "right": null,
       "top": null,
       "visibility": null,
       "width": null
      }
     },
     "e6f9522e37434e678d7a41eabbb4fa00": {
      "model_module": "@jupyter-widgets/controls",
      "model_module_version": "1.5.0",
      "model_name": "HTMLModel",
      "state": {
       "_dom_classes": [],
       "_model_module": "@jupyter-widgets/controls",
       "_model_module_version": "1.5.0",
       "_model_name": "HTMLModel",
       "_view_count": null,
       "_view_module": "@jupyter-widgets/controls",
       "_view_module_version": "1.5.0",
       "_view_name": "HTMLView",
       "description": "",
       "description_tooltip": null,
       "layout": "IPY_MODEL_8f3b4fc3856f491098c73bb951a8a5a4",
       "placeholder": "​",
       "style": "IPY_MODEL_99724e0cc259431ea6391ef8d944a6e5",
       "value": "Dl Completed...: 100%"
      }
     },
     "ebdb53618d8d4a399869eb711e291aef": {
      "model_module": "@jupyter-widgets/controls",
      "model_module_version": "1.5.0",
      "model_name": "DescriptionStyleModel",
      "state": {
       "_model_module": "@jupyter-widgets/controls",
       "_model_module_version": "1.5.0",
       "_model_name": "DescriptionStyleModel",
       "_view_count": null,
       "_view_module": "@jupyter-widgets/base",
       "_view_module_version": "1.2.0",
       "_view_name": "StyleView",
       "description_width": ""
      }
     },
     "fdeaae8c0adb465187700719d8b06614": {
      "model_module": "@jupyter-widgets/base",
      "model_module_version": "1.2.0",
      "model_name": "LayoutModel",
      "state": {
       "_model_module": "@jupyter-widgets/base",
       "_model_module_version": "1.2.0",
       "_model_name": "LayoutModel",
       "_view_count": null,
       "_view_module": "@jupyter-widgets/base",
       "_view_module_version": "1.2.0",
       "_view_name": "LayoutView",
       "align_content": null,
       "align_items": null,
       "align_self": null,
       "border": null,
       "bottom": null,
       "display": null,
       "flex": null,
       "flex_flow": null,
       "grid_area": null,
       "grid_auto_columns": null,
       "grid_auto_flow": null,
       "grid_auto_rows": null,
       "grid_column": null,
       "grid_gap": null,
       "grid_row": null,
       "grid_template_areas": null,
       "grid_template_columns": null,
       "grid_template_rows": null,
       "height": null,
       "justify_content": null,
       "justify_items": null,
       "left": null,
       "margin": null,
       "max_height": null,
       "max_width": null,
       "min_height": null,
       "min_width": null,
       "object_fit": null,
       "object_position": null,
       "order": null,
       "overflow": null,
       "overflow_x": null,
       "overflow_y": null,
       "padding": null,
       "right": null,
       "top": null,
       "visibility": null,
       "width": null
      }
     }
    },
    "version_major": 2,
    "version_minor": 0
   }
  }
 },
 "nbformat": 4,
 "nbformat_minor": 5
}
