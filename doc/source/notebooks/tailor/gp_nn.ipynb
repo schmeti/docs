{
 "cells": [
  {
   "cell_type": "markdown",
   "id": "c0ac5426",
   "metadata": {},
   "source": [
    "# Mixing TensorFlow models with GPflow\n",
    "\n",
    "This notebook explores the combination of Keras TensorFlow neural networks with GPflow models."
   ]
  },
  {
   "cell_type": "code",
   "execution_count": 1,
   "id": "7a2a805d",
   "metadata": {
    "execution": {
     "iopub.execute_input": "2022-02-22T15:04:49.221221Z",
     "iopub.status.busy": "2022-02-22T15:04:49.219644Z",
     "iopub.status.idle": "2022-02-22T15:04:53.724531Z",
     "shell.execute_reply": "2022-02-22T15:04:53.724042Z"
    }
   },
   "outputs": [],
   "source": [
    "import numpy as np\n",
    "import tensorflow as tf\n",
    "from matplotlib import pyplot as plt\n",
    "import gpflow\n",
    "from gpflow.ci_utils import ci_niter\n",
    "from scipy.cluster.vq import kmeans2\n",
    "\n",
    "from typing import Dict, Optional, Tuple\n",
    "import tensorflow as tf\n",
    "import tensorflow_datasets as tfds\n",
    "import gpflow\n",
    "from gpflow.utilities import to_default_float\n",
    "\n",
    "iterations = ci_niter(100)"
   ]
  },
  {
   "cell_type": "markdown",
   "id": "65c75e9d",
   "metadata": {},
   "source": [
    "## Convolutional network inside a GPflow model"
   ]
  },
  {
   "cell_type": "code",
   "execution_count": 2,
   "id": "c468e7ab",
   "metadata": {
    "execution": {
     "iopub.execute_input": "2022-02-22T15:04:53.737077Z",
     "iopub.status.busy": "2022-02-22T15:04:53.736528Z",
     "iopub.status.idle": "2022-02-22T15:04:55.832324Z",
     "shell.execute_reply": "2022-02-22T15:04:55.832729Z"
    }
   },
   "outputs": [
    {
     "name": "stdout",
     "output_type": "stream",
     "text": [
      "\u001b[1mDownloading and preparing dataset 11.06 MiB (download: 11.06 MiB, generated: 21.00 MiB, total: 32.06 MiB) to /home/circleci/tensorflow_datasets/mnist/3.0.1...\u001b[0m\n"
     ]
    },
    {
     "data": {
      "application/vnd.jupyter.widget-view+json": {
       "model_id": "57ae89599e7a4c79ad6fedcb0f1c992c",
       "version_major": 2,
       "version_minor": 0
      },
      "text/plain": [
       "Dl Completed...:   0%|          | 0/4 [00:00<?, ? file/s]"
      ]
     },
     "metadata": {},
     "output_type": "display_data"
    },
    {
     "name": "stdout",
     "output_type": "stream",
     "text": [
      "\u001b[1mDataset mnist downloaded and prepared to /home/circleci/tensorflow_datasets/mnist/3.0.1. Subsequent calls will reuse this data.\u001b[0m\n"
     ]
    }
   ],
   "source": [
    "original_dataset, info = tfds.load(name=\"mnist\", split=tfds.Split.TRAIN, with_info=True)\n",
    "total_num_data = info.splits[\"train\"].num_examples\n",
    "image_shape = info.features[\"image\"].shape\n",
    "image_size = tf.reduce_prod(image_shape)\n",
    "batch_size = 32\n",
    "\n",
    "\n",
    "def map_fn(input_slice: Dict[str, tf.Tensor]):\n",
    "    updated = input_slice\n",
    "    image = to_default_float(updated[\"image\"]) / 255.0\n",
    "    label = to_default_float(updated[\"label\"])\n",
    "    return tf.reshape(image, [-1, image_size]), label\n",
    "\n",
    "\n",
    "autotune = tf.data.experimental.AUTOTUNE\n",
    "dataset = (\n",
    "    original_dataset.shuffle(1024)\n",
    "    .batch(batch_size, drop_remainder=True)\n",
    "    .map(map_fn, num_parallel_calls=autotune)\n",
    "    .prefetch(autotune)\n",
    "    .repeat()\n",
    ")"
   ]
  },
  {
   "cell_type": "markdown",
   "id": "b3f45b6f",
   "metadata": {},
   "source": [
    "Here we'll use the GPflow functionality, but put a non-GPflow model inside the kernel.\\\n",
    "Vanilla ConvNet. This gets 97.3% accuracy on MNIST when used on its own (+ final linear layer) after 20K iterations"
   ]
  },
  {
   "cell_type": "code",
   "execution_count": 3,
   "id": "d3c18560",
   "metadata": {
    "execution": {
     "iopub.execute_input": "2022-02-22T15:04:55.842941Z",
     "iopub.status.busy": "2022-02-22T15:04:55.842422Z",
     "iopub.status.idle": "2022-02-22T15:04:55.844289Z",
     "shell.execute_reply": "2022-02-22T15:04:55.844659Z"
    }
   },
   "outputs": [],
   "source": [
    "class KernelWithConvNN(gpflow.kernels.Kernel):\n",
    "    def __init__(\n",
    "        self,\n",
    "        image_shape: Tuple,\n",
    "        output_dim: int,\n",
    "        base_kernel: gpflow.kernels.Kernel,\n",
    "        batch_size: Optional[int] = None,\n",
    "    ):\n",
    "        super().__init__()\n",
    "        with self.name_scope:\n",
    "            self.base_kernel = base_kernel\n",
    "            input_size = int(tf.reduce_prod(image_shape))\n",
    "            input_shape = (input_size,)\n",
    "\n",
    "            self.cnn = tf.keras.Sequential(\n",
    "                [\n",
    "                    tf.keras.layers.InputLayer(input_shape=input_shape, batch_size=batch_size),\n",
    "                    tf.keras.layers.Reshape(image_shape),\n",
    "                    tf.keras.layers.Conv2D(\n",
    "                        filters=32, kernel_size=image_shape[:-1], padding=\"same\", activation=\"relu\"\n",
    "                    ),\n",
    "                    tf.keras.layers.MaxPool2D(pool_size=(2, 2), strides=2),\n",
    "                    tf.keras.layers.Conv2D(\n",
    "                        filters=64, kernel_size=(5, 5), padding=\"same\", activation=\"relu\"\n",
    "                    ),\n",
    "                    tf.keras.layers.MaxPool2D(pool_size=(2, 2), strides=2),\n",
    "                    tf.keras.layers.Flatten(),\n",
    "                    tf.keras.layers.Dense(output_dim, activation=\"relu\"),\n",
    "                    tf.keras.layers.Lambda(to_default_float),\n",
    "                ]\n",
    "            )\n",
    "\n",
    "            self.cnn.build()\n",
    "\n",
    "    def K(self, a_input: tf.Tensor, b_input: Optional[tf.Tensor] = None) -> tf.Tensor:\n",
    "        transformed_a = self.cnn(a_input)\n",
    "        transformed_b = self.cnn(b_input) if b_input is not None else b_input\n",
    "        return self.base_kernel.K(transformed_a, transformed_b)\n",
    "\n",
    "    def K_diag(self, a_input: tf.Tensor) -> tf.Tensor:\n",
    "        transformed_a = self.cnn(a_input)\n",
    "        return self.base_kernel.K_diag(transformed_a)"
   ]
  },
  {
   "cell_type": "markdown",
   "id": "d3f4d8da",
   "metadata": {},
   "source": [
    "$K_{uf}$ is in ConvNN output space, therefore we need to update `Kuf` multidispatch."
   ]
  },
  {
   "cell_type": "code",
   "execution_count": 4,
   "id": "39e857a6",
   "metadata": {
    "execution": {
     "iopub.execute_input": "2022-02-22T15:04:55.850474Z",
     "iopub.status.busy": "2022-02-22T15:04:55.850015Z",
     "iopub.status.idle": "2022-02-22T15:04:55.851620Z",
     "shell.execute_reply": "2022-02-22T15:04:55.851976Z"
    }
   },
   "outputs": [],
   "source": [
    "class KernelSpaceInducingPoints(gpflow.inducing_variables.InducingPoints):\n",
    "    pass\n",
    "\n",
    "\n",
    "@gpflow.covariances.Kuu.register(KernelSpaceInducingPoints, KernelWithConvNN)\n",
    "def Kuu(inducing_variable, kernel, jitter=None):\n",
    "    func = gpflow.covariances.Kuu.dispatch(\n",
    "        gpflow.inducing_variables.InducingPoints, gpflow.kernels.Kernel\n",
    "    )\n",
    "    return func(inducing_variable, kernel.base_kernel, jitter=jitter)\n",
    "\n",
    "\n",
    "@gpflow.covariances.Kuf.register(KernelSpaceInducingPoints, KernelWithConvNN, object)\n",
    "def Kuf(inducing_variable, kernel, a_input):\n",
    "    return kernel.base_kernel(inducing_variable.Z, kernel.cnn(a_input))"
   ]
  },
  {
   "cell_type": "markdown",
   "id": "0949b1f6",
   "metadata": {},
   "source": [
    "Now we are ready to create and initialize the model:"
   ]
  },
  {
   "cell_type": "code",
   "execution_count": 5,
   "id": "78800be5",
   "metadata": {
    "execution": {
     "iopub.execute_input": "2022-02-22T15:04:55.858218Z",
     "iopub.status.busy": "2022-02-22T15:04:55.857755Z",
     "iopub.status.idle": "2022-02-22T15:04:59.126292Z",
     "shell.execute_reply": "2022-02-22T15:04:59.125777Z"
    }
   },
   "outputs": [],
   "source": [
    "num_mnist_classes = 10\n",
    "output_dim = 5\n",
    "num_inducing_points = 100\n",
    "images_subset, labels_subset = next(iter(dataset.batch(32)))\n",
    "images_subset = tf.reshape(images_subset, [-1, image_size])\n",
    "labels_subset = tf.reshape(labels_subset, [-1, 1])\n",
    "\n",
    "kernel = KernelWithConvNN(\n",
    "    image_shape, output_dim, gpflow.kernels.SquaredExponential(), batch_size=batch_size\n",
    ")\n",
    "\n",
    "likelihood = gpflow.likelihoods.MultiClass(num_mnist_classes)\n",
    "\n",
    "inducing_variable_kmeans = kmeans2(images_subset.numpy(), num_inducing_points, minit=\"points\")[0]\n",
    "inducing_variable_cnn = kernel.cnn(inducing_variable_kmeans)\n",
    "inducing_variable = KernelSpaceInducingPoints(inducing_variable_cnn)\n",
    "\n",
    "model = gpflow.models.SVGP(\n",
    "    kernel,\n",
    "    likelihood,\n",
    "    inducing_variable=inducing_variable,\n",
    "    num_data=total_num_data,\n",
    "    num_latent_gps=num_mnist_classes,\n",
    ")"
   ]
  },
  {
   "cell_type": "markdown",
   "id": "fde61f5c",
   "metadata": {},
   "source": [
    "And start optimization:"
   ]
  },
  {
   "cell_type": "code",
   "execution_count": 6,
   "id": "98b6f896",
   "metadata": {
    "execution": {
     "iopub.execute_input": "2022-02-22T15:04:59.131185Z",
     "iopub.status.busy": "2022-02-22T15:04:59.130638Z",
     "iopub.status.idle": "2022-02-22T15:05:19.189781Z",
     "shell.execute_reply": "2022-02-22T15:05:19.190580Z"
    }
   },
   "outputs": [],
   "source": [
    "data_iterator = iter(dataset)\n",
    "adam_opt = tf.optimizers.Adam(0.001)\n",
    "\n",
    "training_loss = model.training_loss_closure(data_iterator)\n",
    "\n",
    "\n",
    "@tf.function\n",
    "def optimization_step():\n",
    "    adam_opt.minimize(training_loss, var_list=model.trainable_variables)\n",
    "\n",
    "\n",
    "for _ in range(iterations):\n",
    "    optimization_step()"
   ]
  },
  {
   "cell_type": "markdown",
   "id": "6009366f",
   "metadata": {},
   "source": [
    "Let's do predictions after training. Don't expect that we will get a good accuracy, because we haven't run training for long enough."
   ]
  },
  {
   "cell_type": "code",
   "execution_count": 7,
   "id": "7b069a1b",
   "metadata": {
    "execution": {
     "iopub.execute_input": "2022-02-22T15:05:19.199555Z",
     "iopub.status.busy": "2022-02-22T15:05:19.198631Z",
     "iopub.status.idle": "2022-02-22T15:05:23.379759Z",
     "shell.execute_reply": "2022-02-22T15:05:23.378787Z"
    }
   },
   "outputs": [
    {
     "name": "stdout",
     "output_type": "stream",
     "text": [
      "Accuracy is 70.6055%\n"
     ]
    }
   ],
   "source": [
    "m, v = model.predict_y(images_subset)\n",
    "preds = np.argmax(m, 1).reshape(labels_subset.numpy().shape)\n",
    "correct = preds == labels_subset.numpy().astype(int)\n",
    "acc = np.average(correct.astype(float)) * 100.0\n",
    "\n",
    "print(\"Accuracy is {:.4f}%\".format(acc))"
   ]
  }
 ],
 "metadata": {
  "jupytext": {
   "formats": "ipynb,.pct.py:percent"
  },
  "kernelspec": {
   "display_name": "Python 3",
   "language": "python",
   "name": "python3"
  },
  "language_info": {
   "codemirror_mode": {
    "name": "ipython",
    "version": 3
   },
   "file_extension": ".py",
   "mimetype": "text/x-python",
   "name": "python",
   "nbconvert_exporter": "python",
   "pygments_lexer": "ipython3",
   "version": "3.6.15"
  },
  "widgets": {
   "application/vnd.jupyter.widget-state+json": {
    "state": {
     "0533edbe6bd8494dabf0e430dad2882f": {
      "model_module": "@jupyter-widgets/base",
      "model_module_version": "1.2.0",
      "model_name": "LayoutModel",
      "state": {
       "_model_module": "@jupyter-widgets/base",
       "_model_module_version": "1.2.0",
       "_model_name": "LayoutModel",
       "_view_count": null,
       "_view_module": "@jupyter-widgets/base",
       "_view_module_version": "1.2.0",
       "_view_name": "LayoutView",
       "align_content": null,
       "align_items": null,
       "align_self": null,
       "border": null,
       "bottom": null,
       "display": null,
       "flex": null,
       "flex_flow": null,
       "grid_area": null,
       "grid_auto_columns": null,
       "grid_auto_flow": null,
       "grid_auto_rows": null,
       "grid_column": null,
       "grid_gap": null,
       "grid_row": null,
       "grid_template_areas": null,
       "grid_template_columns": null,
       "grid_template_rows": null,
       "height": null,
       "justify_content": null,
       "justify_items": null,
       "left": null,
       "margin": null,
       "max_height": null,
       "max_width": null,
       "min_height": null,
       "min_width": null,
       "object_fit": null,
       "object_position": null,
       "order": null,
       "overflow": null,
       "overflow_x": null,
       "overflow_y": null,
       "padding": null,
       "right": null,
       "top": null,
       "visibility": null,
       "width": null
      }
     },
     "19f247c9f3a440fc8fc32a38ebae0eca": {
      "model_module": "@jupyter-widgets/controls",
      "model_module_version": "1.5.0",
      "model_name": "ProgressStyleModel",
      "state": {
       "_model_module": "@jupyter-widgets/controls",
       "_model_module_version": "1.5.0",
       "_model_name": "ProgressStyleModel",
       "_view_count": null,
       "_view_module": "@jupyter-widgets/base",
       "_view_module_version": "1.2.0",
       "_view_name": "StyleView",
       "bar_color": null,
       "description_width": ""
      }
     },
     "42377d2a1cf24fb0bdcf5a98419a1d1d": {
      "model_module": "@jupyter-widgets/controls",
      "model_module_version": "1.5.0",
      "model_name": "DescriptionStyleModel",
      "state": {
       "_model_module": "@jupyter-widgets/controls",
       "_model_module_version": "1.5.0",
       "_model_name": "DescriptionStyleModel",
       "_view_count": null,
       "_view_module": "@jupyter-widgets/base",
       "_view_module_version": "1.2.0",
       "_view_name": "StyleView",
       "description_width": ""
      }
     },
     "4b3fe488d49643b2aa454099f930c7e3": {
      "model_module": "@jupyter-widgets/controls",
      "model_module_version": "1.5.0",
      "model_name": "DescriptionStyleModel",
      "state": {
       "_model_module": "@jupyter-widgets/controls",
       "_model_module_version": "1.5.0",
       "_model_name": "DescriptionStyleModel",
       "_view_count": null,
       "_view_module": "@jupyter-widgets/base",
       "_view_module_version": "1.2.0",
       "_view_name": "StyleView",
       "description_width": ""
      }
     },
     "57ae89599e7a4c79ad6fedcb0f1c992c": {
      "model_module": "@jupyter-widgets/controls",
      "model_module_version": "1.5.0",
      "model_name": "HBoxModel",
      "state": {
       "_dom_classes": [],
       "_model_module": "@jupyter-widgets/controls",
       "_model_module_version": "1.5.0",
       "_model_name": "HBoxModel",
       "_view_count": null,
       "_view_module": "@jupyter-widgets/controls",
       "_view_module_version": "1.5.0",
       "_view_name": "HBoxView",
       "box_style": "",
       "children": [
        "IPY_MODEL_c699012ffc504b22af6ec79709cc61fa",
        "IPY_MODEL_be839fe1a8d3465bbd58b9e7e6eaa84d",
        "IPY_MODEL_bb91e6f2f7834168861add5ab09c7b3a"
       ],
       "layout": "IPY_MODEL_0533edbe6bd8494dabf0e430dad2882f"
      }
     },
     "6f64881f01f545a8b8a140857dccf205": {
      "model_module": "@jupyter-widgets/base",
      "model_module_version": "1.2.0",
      "model_name": "LayoutModel",
      "state": {
       "_model_module": "@jupyter-widgets/base",
       "_model_module_version": "1.2.0",
       "_model_name": "LayoutModel",
       "_view_count": null,
       "_view_module": "@jupyter-widgets/base",
       "_view_module_version": "1.2.0",
       "_view_name": "LayoutView",
       "align_content": null,
       "align_items": null,
       "align_self": null,
       "border": null,
       "bottom": null,
       "display": null,
       "flex": null,
       "flex_flow": null,
       "grid_area": null,
       "grid_auto_columns": null,
       "grid_auto_flow": null,
       "grid_auto_rows": null,
       "grid_column": null,
       "grid_gap": null,
       "grid_row": null,
       "grid_template_areas": null,
       "grid_template_columns": null,
       "grid_template_rows": null,
       "height": null,
       "justify_content": null,
       "justify_items": null,
       "left": null,
       "margin": null,
       "max_height": null,
       "max_width": null,
       "min_height": null,
       "min_width": null,
       "object_fit": null,
       "object_position": null,
       "order": null,
       "overflow": null,
       "overflow_x": null,
       "overflow_y": null,
       "padding": null,
       "right": null,
       "top": null,
       "visibility": null,
       "width": null
      }
     },
     "8b436f0dfd1a45238516cbc488e481c0": {
      "model_module": "@jupyter-widgets/base",
      "model_module_version": "1.2.0",
      "model_name": "LayoutModel",
      "state": {
       "_model_module": "@jupyter-widgets/base",
       "_model_module_version": "1.2.0",
       "_model_name": "LayoutModel",
       "_view_count": null,
       "_view_module": "@jupyter-widgets/base",
       "_view_module_version": "1.2.0",
       "_view_name": "LayoutView",
       "align_content": null,
       "align_items": null,
       "align_self": null,
       "border": null,
       "bottom": null,
       "display": null,
       "flex": null,
       "flex_flow": null,
       "grid_area": null,
       "grid_auto_columns": null,
       "grid_auto_flow": null,
       "grid_auto_rows": null,
       "grid_column": null,
       "grid_gap": null,
       "grid_row": null,
       "grid_template_areas": null,
       "grid_template_columns": null,
       "grid_template_rows": null,
       "height": null,
       "justify_content": null,
       "justify_items": null,
       "left": null,
       "margin": null,
       "max_height": null,
       "max_width": null,
       "min_height": null,
       "min_width": null,
       "object_fit": null,
       "object_position": null,
       "order": null,
       "overflow": null,
       "overflow_x": null,
       "overflow_y": null,
       "padding": null,
       "right": null,
       "top": null,
       "visibility": null,
       "width": null
      }
     },
     "a976d9336b044ab08fe0c021b4ef1229": {
      "model_module": "@jupyter-widgets/base",
      "model_module_version": "1.2.0",
      "model_name": "LayoutModel",
      "state": {
       "_model_module": "@jupyter-widgets/base",
       "_model_module_version": "1.2.0",
       "_model_name": "LayoutModel",
       "_view_count": null,
       "_view_module": "@jupyter-widgets/base",
       "_view_module_version": "1.2.0",
       "_view_name": "LayoutView",
       "align_content": null,
       "align_items": null,
       "align_self": null,
       "border": null,
       "bottom": null,
       "display": null,
       "flex": null,
       "flex_flow": null,
       "grid_area": null,
       "grid_auto_columns": null,
       "grid_auto_flow": null,
       "grid_auto_rows": null,
       "grid_column": null,
       "grid_gap": null,
       "grid_row": null,
       "grid_template_areas": null,
       "grid_template_columns": null,
       "grid_template_rows": null,
       "height": null,
       "justify_content": null,
       "justify_items": null,
       "left": null,
       "margin": null,
       "max_height": null,
       "max_width": null,
       "min_height": null,
       "min_width": null,
       "object_fit": null,
       "object_position": null,
       "order": null,
       "overflow": null,
       "overflow_x": null,
       "overflow_y": null,
       "padding": null,
       "right": null,
       "top": null,
       "visibility": null,
       "width": null
      }
     },
     "bb91e6f2f7834168861add5ab09c7b3a": {
      "model_module": "@jupyter-widgets/controls",
      "model_module_version": "1.5.0",
      "model_name": "HTMLModel",
      "state": {
       "_dom_classes": [],
       "_model_module": "@jupyter-widgets/controls",
       "_model_module_version": "1.5.0",
       "_model_name": "HTMLModel",
       "_view_count": null,
       "_view_module": "@jupyter-widgets/controls",
       "_view_module_version": "1.5.0",
       "_view_name": "HTMLView",
       "description": "",
       "description_tooltip": null,
       "layout": "IPY_MODEL_a976d9336b044ab08fe0c021b4ef1229",
       "placeholder": "​",
       "style": "IPY_MODEL_4b3fe488d49643b2aa454099f930c7e3",
       "value": " 4/4 [00:00&lt;00:00, 11.16 file/s]"
      }
     },
     "be839fe1a8d3465bbd58b9e7e6eaa84d": {
      "model_module": "@jupyter-widgets/controls",
      "model_module_version": "1.5.0",
      "model_name": "FloatProgressModel",
      "state": {
       "_dom_classes": [],
       "_model_module": "@jupyter-widgets/controls",
       "_model_module_version": "1.5.0",
       "_model_name": "FloatProgressModel",
       "_view_count": null,
       "_view_module": "@jupyter-widgets/controls",
       "_view_module_version": "1.5.0",
       "_view_name": "ProgressView",
       "bar_style": "success",
       "description": "",
       "description_tooltip": null,
       "layout": "IPY_MODEL_6f64881f01f545a8b8a140857dccf205",
       "max": 4.0,
       "min": 0.0,
       "orientation": "horizontal",
       "style": "IPY_MODEL_19f247c9f3a440fc8fc32a38ebae0eca",
       "value": 4.0
      }
     },
     "c699012ffc504b22af6ec79709cc61fa": {
      "model_module": "@jupyter-widgets/controls",
      "model_module_version": "1.5.0",
      "model_name": "HTMLModel",
      "state": {
       "_dom_classes": [],
       "_model_module": "@jupyter-widgets/controls",
       "_model_module_version": "1.5.0",
       "_model_name": "HTMLModel",
       "_view_count": null,
       "_view_module": "@jupyter-widgets/controls",
       "_view_module_version": "1.5.0",
       "_view_name": "HTMLView",
       "description": "",
       "description_tooltip": null,
       "layout": "IPY_MODEL_8b436f0dfd1a45238516cbc488e481c0",
       "placeholder": "​",
       "style": "IPY_MODEL_42377d2a1cf24fb0bdcf5a98419a1d1d",
       "value": "Dl Completed...: 100%"
      }
     }
    },
    "version_major": 2,
    "version_minor": 0
   }
  }
 },
 "nbformat": 4,
 "nbformat_minor": 5
}
