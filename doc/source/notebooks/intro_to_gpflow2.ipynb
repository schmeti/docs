{
 "cells": [
  {
   "cell_type": "markdown",
   "id": "80bf5092",
   "metadata": {},
   "source": [
    "GPflow with TensorFlow 2\n",
    "===\n",
    "\n",
    "##### Small steps big changes\n",
    "\n",
    "<br>\n",
    "\n"
   ]
  },
  {
   "cell_type": "code",
   "execution_count": 1,
   "id": "b34624f6",
   "metadata": {
    "execution": {
     "iopub.execute_input": "2022-02-24T11:47:29.706696Z",
     "iopub.status.busy": "2022-02-24T11:47:29.705322Z",
     "iopub.status.idle": "2022-02-24T11:47:32.458428Z",
     "shell.execute_reply": "2022-02-24T11:47:32.457850Z"
    }
   },
   "outputs": [],
   "source": [
    "from typing import Tuple, Optional\n",
    "import tempfile\n",
    "import pathlib\n",
    "\n",
    "import datetime\n",
    "import io\n",
    "import matplotlib.pyplot as plt\n",
    "\n",
    "import numpy as np\n",
    "import tensorflow as tf\n",
    "import gpflow\n",
    "\n",
    "from gpflow.config import default_float\n",
    "from gpflow.ci_utils import ci_niter\n",
    "from gpflow.utilities import to_default_float\n",
    "\n",
    "import warnings\n",
    "\n",
    "warnings.filterwarnings(\"ignore\")"
   ]
  },
  {
   "cell_type": "markdown",
   "id": "d0ab0ecb",
   "metadata": {},
   "source": [
    "Make `tensorboard` work inside notebook:"
   ]
  },
  {
   "cell_type": "code",
   "execution_count": 2,
   "id": "2058a73c",
   "metadata": {
    "execution": {
     "iopub.execute_input": "2022-02-24T11:47:32.467336Z",
     "iopub.status.busy": "2022-02-24T11:47:32.466861Z",
     "iopub.status.idle": "2022-02-24T11:47:32.768501Z",
     "shell.execute_reply": "2022-02-24T11:47:32.768878Z"
    }
   },
   "outputs": [],
   "source": [
    "output_logdir = \"/tmp/tensorboard\"\n",
    "\n",
    "!rm -rf \"{output_logdir}\"\n",
    "!mkdir \"{output_logdir}\"\n",
    "\n",
    "%load_ext tensorboard\n",
    "%matplotlib inline\n",
    "\n",
    "\n",
    "def enumerated_logdir(_logdir_id: int = [0]):\n",
    "    logdir = pathlib.Path(output_logdir, str(_logdir_id[0]))\n",
    "    _logdir_id[0] += 1\n",
    "    return str(logdir)"
   ]
  },
  {
   "cell_type": "markdown",
   "id": "589de379",
   "metadata": {},
   "source": [
    "Set up random seeds and default float for `gpflow` tensors:"
   ]
  },
  {
   "cell_type": "code",
   "execution_count": 3,
   "id": "27bbeb5a",
   "metadata": {
    "execution": {
     "iopub.execute_input": "2022-02-24T11:47:32.772703Z",
     "iopub.status.busy": "2022-02-24T11:47:32.772229Z",
     "iopub.status.idle": "2022-02-24T11:47:32.773653Z",
     "shell.execute_reply": "2022-02-24T11:47:32.774006Z"
    }
   },
   "outputs": [],
   "source": [
    "gpflow.config.set_default_float(np.float64)\n",
    "np.random.seed(0)\n",
    "tf.random.set_seed(0)"
   ]
  },
  {
   "cell_type": "markdown",
   "id": "6dfd2b4c",
   "metadata": {},
   "source": [
    "## Loading data using TensorFlow Datasets\n",
    "\n",
    "For this example, we create a synthetic dataset (noisy sine function):"
   ]
  },
  {
   "cell_type": "code",
   "execution_count": 4,
   "id": "f6835e55",
   "metadata": {
    "execution": {
     "iopub.execute_input": "2022-02-24T11:47:32.787213Z",
     "iopub.status.busy": "2022-02-24T11:47:32.786747Z",
     "iopub.status.idle": "2022-02-24T11:47:32.902441Z",
     "shell.execute_reply": "2022-02-24T11:47:32.902813Z"
    }
   },
   "outputs": [
    {
     "data": {
      "image/png": "[encoded data removed]",
      "text/plain": [
       "<Figure size 432x288 with 1 Axes>"
      ]
     },
     "metadata": {
      "needs_background": "light"
     },
     "output_type": "display_data"
    }
   ],
   "source": [
    "def noisy_sin(x):\n",
    "    return tf.math.sin(x) + 0.1 * tf.random.normal(x.shape, dtype=default_float())\n",
    "\n",
    "\n",
    "num_train_data, num_test_data = 100, 500\n",
    "\n",
    "X = tf.random.uniform((num_train_data, 1), dtype=default_float()) * 10\n",
    "Xtest = tf.random.uniform((num_test_data, 1), dtype=default_float()) * 10\n",
    "\n",
    "Y = noisy_sin(X)\n",
    "Ytest = noisy_sin(Xtest)\n",
    "\n",
    "data = (X, Y)\n",
    "\n",
    "plt.plot(X, Y, \"xk\")\n",
    "plt.show()"
   ]
  },
  {
   "cell_type": "markdown",
   "id": "8d66bf2d",
   "metadata": {},
   "source": [
    "Working with TensorFlow Datasets is an efficient way to rapidly shuffle, iterate, and batch from data. For `prefetch` size we use `tf.data.experimental.AUTOTUNE` as recommended by TensorFlow [guidelines](https://www.tensorflow.org/guide/data_performance)."
   ]
  },
  {
   "cell_type": "code",
   "execution_count": 5,
   "id": "2df1f0fe",
   "metadata": {
    "execution": {
     "iopub.execute_input": "2022-02-24T11:47:32.919300Z",
     "iopub.status.busy": "2022-02-24T11:47:32.918830Z",
     "iopub.status.idle": "2022-02-24T11:47:32.925277Z",
     "shell.execute_reply": "2022-02-24T11:47:32.925637Z"
    }
   },
   "outputs": [
    {
     "name": "stdout",
     "output_type": "stream",
     "text": [
      "prefetch_size=-1\n",
      "shuffle_buffer_size=50\n",
      "num_batches_per_epoch=3\n"
     ]
    }
   ],
   "source": [
    "train_dataset = tf.data.Dataset.from_tensor_slices((X, Y))\n",
    "test_dataset = tf.data.Dataset.from_tensor_slices((Xtest, Ytest))\n",
    "\n",
    "batch_size = 32\n",
    "num_features = 10\n",
    "prefetch_size = tf.data.experimental.AUTOTUNE\n",
    "shuffle_buffer_size = num_train_data // 2\n",
    "num_batches_per_epoch = num_train_data // batch_size\n",
    "\n",
    "original_train_dataset = train_dataset\n",
    "train_dataset = (\n",
    "    train_dataset.repeat()\n",
    "    .prefetch(prefetch_size)\n",
    "    .shuffle(buffer_size=shuffle_buffer_size)\n",
    "    .batch(batch_size)\n",
    ")\n",
    "\n",
    "print(f\"prefetch_size={prefetch_size}\")\n",
    "print(f\"shuffle_buffer_size={shuffle_buffer_size}\")\n",
    "print(f\"num_batches_per_epoch={num_batches_per_epoch}\")"
   ]
  },
  {
   "cell_type": "markdown",
   "id": "a39061f1",
   "metadata": {},
   "source": [
    "## Define a GP model\n",
    "\n",
    "In GPflow 2.0, we use `tf.Module` (or the very thin `gpflow.base.Module` wrapper) to build all our models, as well as their components (kernels, likelihoods, parameters, and so on)."
   ]
  },
  {
   "cell_type": "code",
   "execution_count": 6,
   "id": "a1d4b05d",
   "metadata": {
    "execution": {
     "iopub.execute_input": "2022-02-24T11:47:32.935520Z",
     "iopub.status.busy": "2022-02-24T11:47:32.934924Z",
     "iopub.status.idle": "2022-02-24T11:47:32.970296Z",
     "shell.execute_reply": "2022-02-24T11:47:32.969873Z"
    }
   },
   "outputs": [],
   "source": [
    "kernel = gpflow.kernels.SquaredExponential(variance=2.0)\n",
    "likelihood = gpflow.likelihoods.Gaussian()\n",
    "inducing_variable = np.linspace(0, 10, num_features).reshape(-1, 1)\n",
    "\n",
    "model = gpflow.models.SVGP(\n",
    "    kernel=kernel, likelihood=likelihood, inducing_variable=inducing_variable\n",
    ")"
   ]
  },
  {
   "cell_type": "markdown",
   "id": "833dc774",
   "metadata": {},
   "source": [
    "You can set a module (or a particular parameter) to be non-trainable using the auxiliary method ```set_trainable(module, False)```:"
   ]
  },
  {
   "cell_type": "code",
   "execution_count": 7,
   "id": "23d3f149",
   "metadata": {
    "execution": {
     "iopub.execute_input": "2022-02-24T11:47:33.024101Z",
     "iopub.status.busy": "2022-02-24T11:47:33.008315Z",
     "iopub.status.idle": "2022-02-24T11:47:33.026022Z",
     "shell.execute_reply": "2022-02-24T11:47:33.025618Z"
    }
   },
   "outputs": [],
   "source": [
    "from gpflow import set_trainable\n",
    "\n",
    "set_trainable(likelihood, False)\n",
    "set_trainable(kernel.variance, False)\n",
    "\n",
    "set_trainable(likelihood, True)\n",
    "set_trainable(kernel.variance, True)"
   ]
  },
  {
   "cell_type": "markdown",
   "id": "05784d5b",
   "metadata": {},
   "source": [
    "We can use ```param.assign(value)``` to assign a value to a parameter:"
   ]
  },
  {
   "cell_type": "code",
   "execution_count": 8,
   "id": "6f23e7fe",
   "metadata": {
    "execution": {
     "iopub.execute_input": "2022-02-24T11:47:33.029613Z",
     "iopub.status.busy": "2022-02-24T11:47:33.029165Z",
     "iopub.status.idle": "2022-02-24T11:47:33.033350Z",
     "shell.execute_reply": "2022-02-24T11:47:33.032954Z"
    }
   },
   "outputs": [
    {
     "data": {
      "text/plain": [
       "<tf.Variable 'UnreadVariable' shape=() dtype=float64, numpy=-0.43275212956718856>"
      ]
     },
     "execution_count": 1,
     "metadata": {},
     "output_type": "execute_result"
    }
   ],
   "source": [
    "kernel.lengthscales.assign(0.5)"
   ]
  },
  {
   "cell_type": "markdown",
   "id": "da675b6d",
   "metadata": {},
   "source": [
    "All these changes are reflected when we use ```print_summary(model)``` to print a detailed summary of the model. By default the output is displayed in a minimalistic and simple table."
   ]
  },
  {
   "cell_type": "code",
   "execution_count": 9,
   "id": "31d1e461",
   "metadata": {
    "execution": {
     "iopub.execute_input": "2022-02-24T11:47:33.039258Z",
     "iopub.status.busy": "2022-02-24T11:47:33.038814Z",
     "iopub.status.idle": "2022-02-24T11:47:33.050150Z",
     "shell.execute_reply": "2022-02-24T11:47:33.050512Z"
    }
   },
   "outputs": [
    {
     "name": "stdout",
     "output_type": "stream",
     "text": [
      "╒══════════════════════════╤═══════════╤══════════════════╤═════════╤═════════════╤═════════════╤═════════╤══════════════════╕\n",
      "│ name                     │ class     │ transform        │ prior   │ trainable   │ shape       │ dtype   │ value            │\n",
      "╞══════════════════════════╪═══════════╪══════════════════╪═════════╪═════════════╪═════════════╪═════════╪══════════════════╡\n",
      "│ SVGP.kernel.variance     │ Parameter │ Softplus         │         │ True        │ ()          │ float64 │ 2.0              │\n",
      "├──────────────────────────┼───────────┼──────────────────┼─────────┼─────────────┼─────────────┼─────────┼──────────────────┤\n",
      "│ SVGP.kernel.lengthscales │ Parameter │ Softplus         │         │ True        │ ()          │ float64 │ 0.5              │\n",
      "├──────────────────────────┼───────────┼──────────────────┼─────────┼─────────────┼─────────────┼─────────┼──────────────────┤\n",
      "│ SVGP.likelihood.variance │ Parameter │ Softplus + Shift │         │ True        │ ()          │ float64 │ 1.0              │\n",
      "├──────────────────────────┼───────────┼──────────────────┼─────────┼─────────────┼─────────────┼─────────┼──────────────────┤\n",
      "│ SVGP.inducing_variable.Z │ Parameter │ Identity         │         │ True        │ (10, 1)     │ float64 │ [[0....          │\n",
      "├──────────────────────────┼───────────┼──────────────────┼─────────┼─────────────┼─────────────┼─────────┼──────────────────┤\n",
      "│ SVGP.q_mu                │ Parameter │ Identity         │         │ True        │ (10, 1)     │ float64 │ [[0....          │\n",
      "├──────────────────────────┼───────────┼──────────────────┼─────────┼─────────────┼─────────────┼─────────┼──────────────────┤\n",
      "│ SVGP.q_sqrt              │ Parameter │ FillTriangular   │         │ True        │ (1, 10, 10) │ float64 │ [[[1., 0., 0.... │\n",
      "╘══════════════════════════╧═══════════╧══════════════════╧═════════╧═════════════╧═════════════╧═════════╧══════════════════╛\n"
     ]
    }
   ],
   "source": [
    "from gpflow.utilities import print_summary\n",
    "\n",
    "print_summary(model)  # same as print_summary(model, fmt=\"fancy_table\")"
   ]
  },
  {
   "cell_type": "markdown",
   "id": "37b88512",
   "metadata": {},
   "source": [
    "We can change default printing so that it will look nicer in our notebook:"
   ]
  },
  {
   "cell_type": "code",
   "execution_count": 10,
   "id": "814665f0",
   "metadata": {
    "execution": {
     "iopub.execute_input": "2022-02-24T11:47:33.053946Z",
     "iopub.status.busy": "2022-02-24T11:47:33.053502Z",
     "iopub.status.idle": "2022-02-24T11:47:33.063124Z",
     "shell.execute_reply": "2022-02-24T11:47:33.063489Z"
    }
   },
   "outputs": [
    {
     "data": {
      "text/html": [
       "<table>\n",
       "<thead>\n",
       "<tr><th>name                    </th><th>class    </th><th>transform       </th><th>prior  </th><th>trainable  </th><th>shape      </th><th>dtype  </th><th>value           </th></tr>\n",
       "</thead>\n",
       "<tbody>\n",
       "<tr><td>SVGP.kernel.variance    </td><td>Parameter</td><td>Softplus        </td><td>       </td><td>True       </td><td>()         </td><td>float64</td><td>2.0             </td></tr>\n",
       "<tr><td>SVGP.kernel.lengthscales</td><td>Parameter</td><td>Softplus        </td><td>       </td><td>True       </td><td>()         </td><td>float64</td><td>0.5             </td></tr>\n",
       "<tr><td>SVGP.likelihood.variance</td><td>Parameter</td><td>Softplus + Shift</td><td>       </td><td>True       </td><td>()         </td><td>float64</td><td>1.0             </td></tr>\n",
       "<tr><td>SVGP.inducing_variable.Z</td><td>Parameter</td><td>Identity        </td><td>       </td><td>True       </td><td>(10, 1)    </td><td>float64</td><td>[[0....         </td></tr>\n",
       "<tr><td>SVGP.q_mu               </td><td>Parameter</td><td>Identity        </td><td>       </td><td>True       </td><td>(10, 1)    </td><td>float64</td><td>[[0....         </td></tr>\n",
       "<tr><td>SVGP.q_sqrt             </td><td>Parameter</td><td>FillTriangular  </td><td>       </td><td>True       </td><td>(1, 10, 10)</td><td>float64</td><td>[[[1., 0., 0....</td></tr>\n",
       "</tbody>\n",
       "</table>"
      ],
      "text/plain": [
       "<IPython.core.display.HTML object>"
      ]
     },
     "metadata": {},
     "output_type": "display_data"
    }
   ],
   "source": [
    "gpflow.config.set_default_summary_fmt(\"notebook\")\n",
    "\n",
    "print_summary(model)  # same as print_summary(model, fmt=\"notebook\")"
   ]
  },
  {
   "cell_type": "markdown",
   "id": "0b962ec5",
   "metadata": {},
   "source": [
    "Jupyter notebooks also format GPflow classes (that are subclasses of `gpflow.base.Module`) in the same nice way when at the end of a cell (this is independent of the `default_summary_fmt`):"
   ]
  },
  {
   "cell_type": "code",
   "execution_count": 11,
   "id": "9554cbf2",
   "metadata": {
    "execution": {
     "iopub.execute_input": "2022-02-24T11:47:33.066992Z",
     "iopub.status.busy": "2022-02-24T11:47:33.066555Z",
     "iopub.status.idle": "2022-02-24T11:47:33.083607Z",
     "shell.execute_reply": "2022-02-24T11:47:33.083975Z"
    }
   },
   "outputs": [
    {
     "data": {
      "text/html": [
       "&lt;gpflow.models.svgp.SVGP object at 0x7f4ce2099b00&gt;\n",
       "<table>\n",
       "<thead>\n",
       "<tr><th>name                    </th><th>class    </th><th>transform       </th><th>prior  </th><th>trainable  </th><th>shape      </th><th>dtype  </th><th>value           </th></tr>\n",
       "</thead>\n",
       "<tbody>\n",
       "<tr><td>SVGP.kernel.variance    </td><td>Parameter</td><td>Softplus        </td><td>       </td><td>True       </td><td>()         </td><td>float64</td><td>2.0             </td></tr>\n",
       "<tr><td>SVGP.kernel.lengthscales</td><td>Parameter</td><td>Softplus        </td><td>       </td><td>True       </td><td>()         </td><td>float64</td><td>0.5             </td></tr>\n",
       "<tr><td>SVGP.likelihood.variance</td><td>Parameter</td><td>Softplus + Shift</td><td>       </td><td>True       </td><td>()         </td><td>float64</td><td>1.0             </td></tr>\n",
       "<tr><td>SVGP.inducing_variable.Z</td><td>Parameter</td><td>Identity        </td><td>       </td><td>True       </td><td>(10, 1)    </td><td>float64</td><td>[[0....         </td></tr>\n",
       "<tr><td>SVGP.q_mu               </td><td>Parameter</td><td>Identity        </td><td>       </td><td>True       </td><td>(10, 1)    </td><td>float64</td><td>[[0....         </td></tr>\n",
       "<tr><td>SVGP.q_sqrt             </td><td>Parameter</td><td>FillTriangular  </td><td>       </td><td>True       </td><td>(1, 10, 10)</td><td>float64</td><td>[[[1., 0., 0....</td></tr>\n",
       "</tbody>\n",
       "</table>"
      ],
      "text/plain": [
       "<gpflow.models.svgp.SVGP object at 0x7f4ce2099b00>\n",
       "name                      class      transform         prior    trainable    shape        dtype    value\n",
       "------------------------  ---------  ----------------  -------  -----------  -----------  -------  ----------------\n",
       "SVGP.kernel.variance      Parameter  Softplus                   True         ()           float64  2.0\n",
       "SVGP.kernel.lengthscales  Parameter  Softplus                   True         ()           float64  0.5\n",
       "SVGP.likelihood.variance  Parameter  Softplus + Shift           True         ()           float64  1.0\n",
       "SVGP.inducing_variable.Z  Parameter  Identity                   True         (10, 1)      float64  [[0....\n",
       "SVGP.q_mu                 Parameter  Identity                   True         (10, 1)      float64  [[0....\n",
       "SVGP.q_sqrt               Parameter  FillTriangular             True         (1, 10, 10)  float64  [[[1., 0., 0...."
      ]
     },
     "execution_count": 1,
     "metadata": {},
     "output_type": "execute_result"
    }
   ],
   "source": [
    "model"
   ]
  },
  {
   "cell_type": "markdown",
   "id": "ac656b06",
   "metadata": {},
   "source": [
    "## Training using training_loss and training_loss_closure\n",
    "\n",
    "GPflow models come with training_loss and training_loss_closure methods to make it easy to train your models.\n",
    "There is a slight difference between models that own their own data (most of them, e.g. GPR, VGP, ...) and models that do not own the data (SVGP).\n",
    "\n",
    "### Model-internal data\n",
    "For models that own their own data (inheriting from InternalDataTrainingLossMixin), data is provided at model construction time.\n",
    "In this case, model.training_loss does not take any arguments, and can be directly passed to an optimizer's `minimize()` method:"
   ]
  },
  {
   "cell_type": "code",
   "execution_count": 12,
   "id": "a7705835",
   "metadata": {
    "execution": {
     "iopub.execute_input": "2022-02-24T11:47:33.088584Z",
     "iopub.status.busy": "2022-02-24T11:47:33.088105Z",
     "iopub.status.idle": "2022-02-24T11:47:33.160336Z",
     "shell.execute_reply": "2022-02-24T11:47:33.160774Z"
    }
   },
   "outputs": [
    {
     "data": {
      "text/plain": [
       "<tf.Variable 'UnreadVariable' shape=() dtype=int64, numpy=1>"
      ]
     },
     "execution_count": 1,
     "metadata": {},
     "output_type": "execute_result"
    }
   ],
   "source": [
    "vgp_model = gpflow.models.VGP(data, kernel, likelihood)\n",
    "optimizer = tf.optimizers.Adam()\n",
    "optimizer.minimize(\n",
    "    vgp_model.training_loss, vgp_model.trainable_variables\n",
    ")  # Note: this does a single step\n",
    "# In practice, you will need to call minimize() many times, this will be further discussed below."
   ]
  },
  {
   "cell_type": "markdown",
   "id": "5951c29e",
   "metadata": {},
   "source": [
    "This also works for the Scipy optimizer, though it will do the full optimization on a single call to minimize():"
   ]
  },
  {
   "cell_type": "code",
   "execution_count": 13,
   "id": "30673c55",
   "metadata": {
    "execution": {
     "iopub.execute_input": "2022-02-24T11:47:33.164495Z",
     "iopub.status.busy": "2022-02-24T11:47:33.164013Z",
     "iopub.status.idle": "2022-02-24T11:47:36.787711Z",
     "shell.execute_reply": "2022-02-24T11:47:36.787309Z"
    }
   },
   "outputs": [
    {
     "data": {
      "text/plain": [
       "      fun: -67.28077585687771\n",
       " hess_inv: <5153x5153 LbfgsInvHessProduct with dtype=float64>\n",
       "      jac: array([ 0.00089797, -0.00289848, -0.00549504, ...,  0.00558928,\n",
       "       -0.00112364,  0.00128042])\n",
       "  message: b'CONVERGENCE: REL_REDUCTION_OF_F_<=_FACTR*EPSMCH'\n",
       "     nfev: 676\n",
       "      nit: 631\n",
       "     njev: 676\n",
       "   status: 0\n",
       "  success: True\n",
       "        x: array([-0.19075323,  1.64249232,  0.02533429, ...,  1.71561857,\n",
       "        0.77716882, -4.65248392])"
      ]
     },
     "execution_count": 1,
     "metadata": {},
     "output_type": "execute_result"
    }
   ],
   "source": [
    "optimizer = gpflow.optimizers.Scipy()\n",
    "optimizer.minimize(\n",
    "    vgp_model.training_loss, vgp_model.trainable_variables, options=dict(maxiter=ci_niter(1000))\n",
    ")"
   ]
  },
  {
   "cell_type": "markdown",
   "id": "9fa2c0d9",
   "metadata": {},
   "source": [
    "You can obtain a compiled version using training_loss_closure, whose `compile` argument is True by default:"
   ]
  },
  {
   "cell_type": "code",
   "execution_count": 14,
   "id": "de5d2dfe",
   "metadata": {
    "execution": {
     "iopub.execute_input": "2022-02-24T11:47:36.791964Z",
     "iopub.status.busy": "2022-02-24T11:47:36.791517Z",
     "iopub.status.idle": "2022-02-24T11:47:36.793587Z",
     "shell.execute_reply": "2022-02-24T11:47:36.793946Z"
    }
   },
   "outputs": [
    {
     "data": {
      "text/plain": [
       "<bound method InternalDataTrainingLossMixin.training_loss of <gpflow.models.vgp.VGP object at 0x7f4ce2000e10>>"
      ]
     },
     "execution_count": 1,
     "metadata": {},
     "output_type": "execute_result"
    }
   ],
   "source": [
    "vgp_model.training_loss_closure()  # compiled\n",
    "vgp_model.training_loss_closure(compile=True)  # compiled\n",
    "vgp_model.training_loss_closure(compile=False)  # uncompiled, same as vgp_model.training_loss"
   ]
  },
  {
   "cell_type": "markdown",
   "id": "f93a760d",
   "metadata": {},
   "source": [
    "### External data\n",
    "\n",
    "The SVGP model inherits from ExternalDataTrainingLossMixin and expects the data to be passed to training_loss().\n",
    "For SVGP as for the other regression models, `data` is a two-tuple of `(X, Y)`, where `X` is an array/tensor with shape `(num_data, input_dim)` and `Y` is an array/tensor with shape `(num_data, output_dim)`:"
   ]
  },
  {
   "cell_type": "code",
   "execution_count": 15,
   "id": "30cf6794",
   "metadata": {
    "execution": {
     "iopub.execute_input": "2022-02-24T11:47:36.797839Z",
     "iopub.status.busy": "2022-02-24T11:47:36.797356Z",
     "iopub.status.idle": "2022-02-24T11:47:36.833289Z",
     "shell.execute_reply": "2022-02-24T11:47:36.833654Z"
    }
   },
   "outputs": [
    {
     "data": {
      "text/plain": [
       "<tf.Tensor: shape=(), dtype=float64, numpy=8158.055881387449>"
      ]
     },
     "execution_count": 1,
     "metadata": {},
     "output_type": "execute_result"
    }
   ],
   "source": [
    "assert isinstance(model, gpflow.models.SVGP)\n",
    "model.training_loss(data)"
   ]
  },
  {
   "cell_type": "markdown",
   "id": "37af8356",
   "metadata": {},
   "source": [
    "To make optimizing it easy, it has a `training_loss_closure()` method, that takes the data and returns a closure that computes the training loss on this data:"
   ]
  },
  {
   "cell_type": "code",
   "execution_count": 16,
   "id": "ad2b9d25",
   "metadata": {
    "execution": {
     "iopub.execute_input": "2022-02-24T11:47:36.848641Z",
     "iopub.status.busy": "2022-02-24T11:47:36.845165Z",
     "iopub.status.idle": "2022-02-24T11:47:39.177108Z",
     "shell.execute_reply": "2022-02-24T11:47:39.177492Z"
    }
   },
   "outputs": [
    {
     "data": {
      "text/plain": [
       "<tf.Variable 'UnreadVariable' shape=() dtype=int64, numpy=1>"
      ]
     },
     "execution_count": 1,
     "metadata": {},
     "output_type": "execute_result"
    }
   ],
   "source": [
    "optimizer = tf.optimizers.Adam()\n",
    "training_loss = model.training_loss_closure(\n",
    "    data\n",
    ")  # We save the compiled closure in a variable so as not to re-compile it each step\n",
    "optimizer.minimize(training_loss, model.trainable_variables)  # Note that this does a single step"
   ]
  },
  {
   "cell_type": "markdown",
   "id": "156653e8",
   "metadata": {},
   "source": [
    "SVGP can handle mini-batching, and an iterator from a batched tf.data.Dataset can be passed to the model's training_loss_closure():"
   ]
  },
  {
   "cell_type": "code",
   "execution_count": 17,
   "id": "81650dad",
   "metadata": {
    "execution": {
     "iopub.execute_input": "2022-02-24T11:47:39.181584Z",
     "iopub.status.busy": "2022-02-24T11:47:39.181118Z",
     "iopub.status.idle": "2022-02-24T11:47:40.264584Z",
     "shell.execute_reply": "2022-02-24T11:47:40.264964Z"
    },
    "lines_to_next_cell": 1
   },
   "outputs": [
    {
     "data": {
      "text/plain": [
       "<tf.Variable 'UnreadVariable' shape=() dtype=int64, numpy=2>"
      ]
     },
     "execution_count": 1,
     "metadata": {},
     "output_type": "execute_result"
    }
   ],
   "source": [
    "batch_size = 5\n",
    "batched_dataset = tf.data.Dataset.from_tensor_slices(data).batch(batch_size)\n",
    "training_loss = model.training_loss_closure(iter(batched_dataset))\n",
    "\n",
    "optimizer.minimize(training_loss, model.trainable_variables)  # Note that this does a single step"
   ]
  },
  {
   "cell_type": "markdown",
   "id": "15de9d08",
   "metadata": {},
   "source": [
    "As previously, training_loss_closure takes an optional `compile` argument for tf.function compilation (True by default)."
   ]
  },
  {
   "cell_type": "markdown",
   "id": "e2493ad4",
   "metadata": {},
   "source": [
    "## Training using Gradient Tapes\n",
    "\n",
    "For a more elaborate example of a gradient update we can define an `optimization_step` that explicitly computes and applies gradients to the model.\n",
    "In TensorFlow 2, we can optimize (trainable) model parameters with TensorFlow optimizers using `tf.GradientTape`. In this simple example, we perform one gradient update of the Adam optimizer to minimize the training_loss (in this case the negative ELBO) of our model.\n",
    "The `optimization_step` can (and should) be wrapped in `tf.function` to be compiled to a graph if executing it many times."
   ]
  },
  {
   "cell_type": "code",
   "execution_count": 18,
   "id": "0eb3c516",
   "metadata": {
    "execution": {
     "iopub.execute_input": "2022-02-24T11:47:40.269679Z",
     "iopub.status.busy": "2022-02-24T11:47:40.269237Z",
     "iopub.status.idle": "2022-02-24T11:47:40.270739Z",
     "shell.execute_reply": "2022-02-24T11:47:40.271103Z"
    }
   },
   "outputs": [],
   "source": [
    "def optimization_step(model: gpflow.models.SVGP, batch: Tuple[tf.Tensor, tf.Tensor]):\n",
    "    with tf.GradientTape(watch_accessed_variables=False) as tape:\n",
    "        tape.watch(model.trainable_variables)\n",
    "        loss = model.training_loss(batch)\n",
    "    grads = tape.gradient(loss, model.trainable_variables)\n",
    "    optimizer.apply_gradients(zip(grads, model.trainable_variables))\n",
    "    return loss"
   ]
  },
  {
   "cell_type": "markdown",
   "id": "0872a7ce",
   "metadata": {},
   "source": [
    "We can use the functionality of TensorFlow Datasets to define a simple training loop that iterates over batches of the training dataset:"
   ]
  },
  {
   "cell_type": "code",
   "execution_count": 19,
   "id": "6b39bc85",
   "metadata": {
    "execution": {
     "iopub.execute_input": "2022-02-24T11:47:40.275669Z",
     "iopub.status.busy": "2022-02-24T11:47:40.275220Z",
     "iopub.status.idle": "2022-02-24T11:47:40.276976Z",
     "shell.execute_reply": "2022-02-24T11:47:40.276592Z"
    }
   },
   "outputs": [],
   "source": [
    "def simple_training_loop(model: gpflow.models.SVGP, epochs: int = 1, logging_epoch_freq: int = 10):\n",
    "    tf_optimization_step = tf.function(optimization_step)\n",
    "\n",
    "    batches = iter(train_dataset)\n",
    "    for epoch in range(epochs):\n",
    "        for _ in range(ci_niter(num_batches_per_epoch)):\n",
    "            tf_optimization_step(model, next(batches))\n",
    "\n",
    "        epoch_id = epoch + 1\n",
    "        if epoch_id % logging_epoch_freq == 0:\n",
    "            tf.print(f\"Epoch {epoch_id}: ELBO (train) {model.elbo(data)}\")"
   ]
  },
  {
   "cell_type": "code",
   "execution_count": 20,
   "id": "e5ae1f6c",
   "metadata": {
    "execution": {
     "iopub.execute_input": "2022-02-24T11:47:40.279965Z",
     "iopub.status.busy": "2022-02-24T11:47:40.279530Z",
     "iopub.status.idle": "2022-02-24T11:47:41.129304Z",
     "shell.execute_reply": "2022-02-24T11:47:41.128879Z"
    }
   },
   "outputs": [
    {
     "name": "stdout",
     "output_type": "stream",
     "text": [
      "Epoch 2: ELBO (train) -7888.278498958151\n"
     ]
    },
    {
     "name": "stdout",
     "output_type": "stream",
     "text": [
      "Epoch 4: ELBO (train) -7685.311135026735\n"
     ]
    },
    {
     "name": "stdout",
     "output_type": "stream",
     "text": [
      "Epoch 6: ELBO (train) -7480.120489617206\n"
     ]
    },
    {
     "name": "stdout",
     "output_type": "stream",
     "text": [
      "Epoch 8: ELBO (train) -7276.944076678673\n"
     ]
    },
    {
     "name": "stdout",
     "output_type": "stream",
     "text": [
      "Epoch 10: ELBO (train) -7077.162758671835\n"
     ]
    }
   ],
   "source": [
    "simple_training_loop(model, epochs=10, logging_epoch_freq=2)"
   ]
  },
  {
   "cell_type": "markdown",
   "id": "9a0c1375",
   "metadata": {},
   "source": [
    "## Monitoring\n",
    "\n",
    "`gpflow.monitor` provides a thin wrapper on top of tf.summary that makes it easy to monitor the training procedure.\n",
    "For a more detailed tutorial see the [monitoring notebook](./basics/monitoring.pct.py)."
   ]
  },
  {
   "cell_type": "code",
   "execution_count": 21,
   "id": "735c5dd9",
   "metadata": {
    "execution": {
     "iopub.execute_input": "2022-02-24T11:47:41.140898Z",
     "iopub.status.busy": "2022-02-24T11:47:41.140401Z",
     "iopub.status.idle": "2022-02-24T11:47:41.156985Z",
     "shell.execute_reply": "2022-02-24T11:47:41.157334Z"
    },
    "lines_to_next_cell": 2
   },
   "outputs": [],
   "source": [
    "from gpflow.monitor import (\n",
    "    ImageToTensorBoard,\n",
    "    ModelToTensorBoard,\n",
    "    ExecuteCallback,\n",
    "    Monitor,\n",
    "    MonitorTaskGroup,\n",
    "    ScalarToTensorBoard,\n",
    ")\n",
    "\n",
    "\n",
    "samples_input = np.linspace(0, 10, 100).reshape(-1, 1)\n",
    "\n",
    "\n",
    "def plot_model(fig, ax):\n",
    "    tf.print(\"Plotting...\")\n",
    "    mean, var = model.predict_f(samples_input)\n",
    "    num_samples = 10\n",
    "    samples = model.predict_f_samples(samples_input, num_samples)\n",
    "    ax.plot(samples_input, mean, \"C0\", lw=2)\n",
    "    ax.fill_between(\n",
    "        samples_input[:, 0],\n",
    "        mean[:, 0] - 1.96 * np.sqrt(var[:, 0]),\n",
    "        mean[:, 0] + 1.96 * np.sqrt(var[:, 0]),\n",
    "        color=\"C0\",\n",
    "        alpha=0.2,\n",
    "    )\n",
    "    ax.plot(X, Y, \"kx\")\n",
    "    ax.plot(samples_input, samples[:, :, 0].numpy().T, \"C0\", linewidth=0.5)\n",
    "    ax.set_ylim(-2.0, +2.0)\n",
    "    ax.set_xlim(0, 10)\n",
    "\n",
    "\n",
    "def print_cb(epoch_id=None, data=None):\n",
    "    tf.print(f\"Epoch {epoch_id}: ELBO (train)\", model.elbo(data))\n",
    "\n",
    "\n",
    "def elbo_cb(data=None, **_):\n",
    "    return model.elbo(data)\n",
    "\n",
    "\n",
    "output_logdir = enumerated_logdir()\n",
    "\n",
    "model_task = ModelToTensorBoard(output_logdir, model)\n",
    "elbo_task = ScalarToTensorBoard(output_logdir, elbo_cb, \"elbo\")\n",
    "print_task = ExecuteCallback(callback=print_cb)\n",
    "\n",
    "# We group these tasks and specify a period of `100` steps for them\n",
    "fast_tasks = MonitorTaskGroup([model_task, elbo_task, print_task], period=100)\n",
    "\n",
    "# We also want to see the model's fit during the optimisation\n",
    "image_task = ImageToTensorBoard(output_logdir, plot_model, \"samples_image\")\n",
    "\n",
    "# We typically don't want to plot too frequently during optimisation,\n",
    "# which is why we specify a larger period for this task.\n",
    "slow_taks = MonitorTaskGroup(image_task, period=500)\n",
    "monitor = Monitor(fast_tasks, slow_taks)\n",
    "\n",
    "\n",
    "def monitored_training_loop(epochs: int):\n",
    "    tf_optimization_step = tf.function(optimization_step)\n",
    "\n",
    "    batches = iter(train_dataset)\n",
    "\n",
    "    for epoch in range(epochs):\n",
    "        for _ in range(ci_niter(num_batches_per_epoch)):\n",
    "            batch = next(batches)\n",
    "            tf_optimization_step(model, batch)\n",
    "\n",
    "        epoch_id = epoch + 1\n",
    "        monitor(epoch, epoch_id=epoch_id, data=data)"
   ]
  },
  {
   "cell_type": "markdown",
   "id": "52de62ad",
   "metadata": {
    "lines_to_next_cell": 2
   },
   "source": [
    "NOTE: for optimal performance it is recommended to wrap the monitoring inside `tf.function`.\n",
    "This is detailed in the [monitoring notebook](./basics/monitoring.ipynb)."
   ]
  },
  {
   "cell_type": "code",
   "execution_count": 22,
   "id": "fe1f0858",
   "metadata": {
    "execution": {
     "iopub.execute_input": "2022-02-24T11:47:41.161683Z",
     "iopub.status.busy": "2022-02-24T11:47:41.161243Z",
     "iopub.status.idle": "2022-02-24T11:47:45.723818Z",
     "shell.execute_reply": "2022-02-24T11:47:45.724202Z"
    }
   },
   "outputs": [
    {
     "name": "stdout",
     "output_type": "stream",
     "text": [
      "Epoch 1: ELBO (train) -7752.1970824993978\n"
     ]
    },
    {
     "name": "stdout",
     "output_type": "stream",
     "text": [
      "Plotting...\n"
     ]
    },
    {
     "name": "stdout",
     "output_type": "stream",
     "text": [
      "Epoch 101: ELBO (train) -2014.4221717430669\n"
     ]
    },
    {
     "name": "stdout",
     "output_type": "stream",
     "text": [
      "Epoch 201: ELBO (train) -837.52614161283725\n"
     ]
    },
    {
     "name": "stdout",
     "output_type": "stream",
     "text": [
      "Epoch 301: ELBO (train) -368.52891896804283\n"
     ]
    },
    {
     "name": "stdout",
     "output_type": "stream",
     "text": [
      "Epoch 401: ELBO (train) -155.09520057918419\n"
     ]
    },
    {
     "name": "stdout",
     "output_type": "stream",
     "text": [
      "Epoch 501: ELBO (train) -53.44710241318279\n"
     ]
    },
    {
     "name": "stdout",
     "output_type": "stream",
     "text": [
      "Plotting...\n"
     ]
    },
    {
     "name": "stdout",
     "output_type": "stream",
     "text": [
      "Epoch 601: ELBO (train) -7.0435997011331466\n"
     ]
    },
    {
     "name": "stdout",
     "output_type": "stream",
     "text": [
      "Epoch 701: ELBO (train) 14.975992302640051\n"
     ]
    },
    {
     "name": "stdout",
     "output_type": "stream",
     "text": [
      "Epoch 801: ELBO (train) 27.069247450818992\n"
     ]
    },
    {
     "name": "stdout",
     "output_type": "stream",
     "text": [
      "Epoch 901: ELBO (train) 34.705315632031642\n"
     ]
    }
   ],
   "source": [
    "model = gpflow.models.SVGP(\n",
    "    kernel=kernel, likelihood=likelihood, inducing_variable=inducing_variable\n",
    ")\n",
    "\n",
    "monitored_training_loop(epochs=1000)"
   ]
  },
  {
   "cell_type": "markdown",
   "id": "8dabbd92",
   "metadata": {},
   "source": [
    "Then, we can use TensorBoard to examine the training procedure in more detail"
   ]
  },
  {
   "cell_type": "code",
   "execution_count": 23,
   "id": "97e5c713",
   "metadata": {
    "execution": {
     "iopub.execute_input": "2022-02-24T11:47:45.727505Z",
     "iopub.status.busy": "2022-02-24T11:47:45.727064Z",
     "iopub.status.idle": "2022-02-24T11:47:45.728611Z",
     "shell.execute_reply": "2022-02-24T11:47:45.729010Z"
    }
   },
   "outputs": [],
   "source": [
    "# %tensorboard --logdir \"{output_logdir}\""
   ]
  },
  {
   "cell_type": "markdown",
   "id": "3a567312",
   "metadata": {},
   "source": [
    "## Saving and loading models\n",
    "\n",
    "### Checkpointing\n",
    "\n",
    "With the help of `tf.train.CheckpointManager` and `tf.train.Checkpoint`, we can checkpoint the model throughout the training procedure. Let's start with a simple example using checkpointing to save and load a `tf.Variable`:"
   ]
  },
  {
   "cell_type": "code",
   "execution_count": 24,
   "id": "209a8ed9",
   "metadata": {
    "execution": {
     "iopub.execute_input": "2022-02-24T11:47:45.732113Z",
     "iopub.status.busy": "2022-02-24T11:47:45.731672Z",
     "iopub.status.idle": "2022-02-24T11:47:45.733425Z",
     "shell.execute_reply": "2022-02-24T11:47:45.733782Z"
    }
   },
   "outputs": [],
   "source": [
    "initial_value = 1.2\n",
    "a = tf.Variable(initial_value)"
   ]
  },
  {
   "cell_type": "markdown",
   "id": "a20c63b6",
   "metadata": {},
   "source": [
    "Create `Checkpoint` object:"
   ]
  },
  {
   "cell_type": "code",
   "execution_count": 25,
   "id": "3ab67a50",
   "metadata": {
    "execution": {
     "iopub.execute_input": "2022-02-24T11:47:45.737618Z",
     "iopub.status.busy": "2022-02-24T11:47:45.737179Z",
     "iopub.status.idle": "2022-02-24T11:47:45.739127Z",
     "shell.execute_reply": "2022-02-24T11:47:45.738752Z"
    }
   },
   "outputs": [],
   "source": [
    "ckpt = tf.train.Checkpoint(a=a)\n",
    "manager = tf.train.CheckpointManager(ckpt, output_logdir, max_to_keep=3)"
   ]
  },
  {
   "cell_type": "markdown",
   "id": "bca48cb3",
   "metadata": {},
   "source": [
    "Save the variable `a` and change its value right after:"
   ]
  },
  {
   "cell_type": "code",
   "execution_count": 26,
   "id": "02444b51",
   "metadata": {
    "execution": {
     "iopub.execute_input": "2022-02-24T11:47:45.742094Z",
     "iopub.status.busy": "2022-02-24T11:47:45.741663Z",
     "iopub.status.idle": "2022-02-24T11:47:45.750004Z",
     "shell.execute_reply": "2022-02-24T11:47:45.750369Z"
    }
   },
   "outputs": [],
   "source": [
    "manager.save()\n",
    "_ = a.assign(0.33)"
   ]
  },
  {
   "cell_type": "markdown",
   "id": "8f1fe1cb",
   "metadata": {},
   "source": [
    "Now we can restore the old variable value:"
   ]
  },
  {
   "cell_type": "code",
   "execution_count": 27,
   "id": "6fefcb0e",
   "metadata": {
    "execution": {
     "iopub.execute_input": "2022-02-24T11:47:45.753481Z",
     "iopub.status.busy": "2022-02-24T11:47:45.753041Z",
     "iopub.status.idle": "2022-02-24T11:47:45.756914Z",
     "shell.execute_reply": "2022-02-24T11:47:45.757276Z"
    }
   },
   "outputs": [
    {
     "name": "stdout",
     "output_type": "stream",
     "text": [
      "Current value of variable a: 0.330\n",
      "Value of variable a after restore: 1.200\n"
     ]
    }
   ],
   "source": [
    "print(f\"Current value of variable a: {a.numpy():0.3f}\")\n",
    "\n",
    "ckpt.restore(manager.latest_checkpoint)\n",
    "\n",
    "print(f\"Value of variable a after restore: {a.numpy():0.3f}\")"
   ]
  },
  {
   "cell_type": "markdown",
   "id": "def805b6",
   "metadata": {},
   "source": [
    "In the example below, we modify a simple training loop to save the model every 100 epochs using the `CheckpointManager`."
   ]
  },
  {
   "cell_type": "code",
   "execution_count": 28,
   "id": "460122d8",
   "metadata": {
    "execution": {
     "iopub.execute_input": "2022-02-24T11:47:45.764654Z",
     "iopub.status.busy": "2022-02-24T11:47:45.764171Z",
     "iopub.status.idle": "2022-02-24T11:47:45.774329Z",
     "shell.execute_reply": "2022-02-24T11:47:45.774677Z"
    }
   },
   "outputs": [],
   "source": [
    "model = gpflow.models.SVGP(\n",
    "    kernel=kernel, likelihood=likelihood, inducing_variable=inducing_variable\n",
    ")\n",
    "\n",
    "\n",
    "def checkpointing_training_loop(\n",
    "    model: gpflow.models.SVGP,\n",
    "    batch_size: int,\n",
    "    epochs: int,\n",
    "    manager: tf.train.CheckpointManager,\n",
    "    logging_epoch_freq: int = 100,\n",
    "    epoch_var: Optional[tf.Variable] = None,\n",
    "    step_var: Optional[tf.Variable] = None,\n",
    "):\n",
    "    tf_optimization_step = tf.function(optimization_step)\n",
    "\n",
    "    batches = iter(train_dataset)\n",
    "\n",
    "    for epoch in range(epochs):\n",
    "        for step in range(ci_niter(num_batches_per_epoch)):\n",
    "            tf_optimization_step(model, next(batches))\n",
    "            if step_var is not None:\n",
    "                step_var.assign(epoch * num_batches_per_epoch + step + 1)\n",
    "        if epoch_var is not None:\n",
    "            epoch_var.assign(epoch + 1)\n",
    "\n",
    "        epoch_id = epoch + 1\n",
    "        if epoch_id % logging_epoch_freq == 0:\n",
    "            ckpt_path = manager.save()\n",
    "            tf.print(f\"Epoch {epoch_id}: ELBO (train) {model.elbo(data)}, saved at {ckpt_path}\")"
   ]
  },
  {
   "cell_type": "code",
   "execution_count": 29,
   "id": "255a844e",
   "metadata": {
    "execution": {
     "iopub.execute_input": "2022-02-24T11:47:45.779368Z",
     "iopub.status.busy": "2022-02-24T11:47:45.778925Z",
     "iopub.status.idle": "2022-02-24T11:47:50.141431Z",
     "shell.execute_reply": "2022-02-24T11:47:50.141825Z"
    }
   },
   "outputs": [
    {
     "name": "stdout",
     "output_type": "stream",
     "text": [
      "Checkpoint folder path at: /tmp/tensorboard/0\n"
     ]
    },
    {
     "name": "stdout",
     "output_type": "stream",
     "text": [
      "Epoch 100: ELBO (train) -148.4417521402694, saved at /tmp/tensorboard/0/ckpt-1\n"
     ]
    },
    {
     "name": "stdout",
     "output_type": "stream",
     "text": [
      "Epoch 200: ELBO (train) -8.171913263064994, saved at /tmp/tensorboard/0/ckpt-2\n"
     ]
    },
    {
     "name": "stdout",
     "output_type": "stream",
     "text": [
      "Epoch 300: ELBO (train) 24.885495135312894, saved at /tmp/tensorboard/0/ckpt-3\n"
     ]
    },
    {
     "name": "stdout",
     "output_type": "stream",
     "text": [
      "Epoch 400: ELBO (train) 36.79959234465867, saved at /tmp/tensorboard/0/ckpt-4\n"
     ]
    },
    {
     "name": "stdout",
     "output_type": "stream",
     "text": [
      "Epoch 500: ELBO (train) 42.150895330172176, saved at /tmp/tensorboard/0/ckpt-5\n"
     ]
    },
    {
     "name": "stdout",
     "output_type": "stream",
     "text": [
      "Epoch 600: ELBO (train) 45.05990684410958, saved at /tmp/tensorboard/0/ckpt-6\n"
     ]
    },
    {
     "name": "stdout",
     "output_type": "stream",
     "text": [
      "Epoch 700: ELBO (train) 46.906694048482514, saved at /tmp/tensorboard/0/ckpt-7\n"
     ]
    },
    {
     "name": "stdout",
     "output_type": "stream",
     "text": [
      "Epoch 800: ELBO (train) 48.23373982138958, saved at /tmp/tensorboard/0/ckpt-8\n"
     ]
    },
    {
     "name": "stdout",
     "output_type": "stream",
     "text": [
      "Epoch 900: ELBO (train) 49.28288238387077, saved at /tmp/tensorboard/0/ckpt-9\n"
     ]
    },
    {
     "name": "stdout",
     "output_type": "stream",
     "text": [
      "Epoch 1000: ELBO (train) 50.178945253576, saved at /tmp/tensorboard/0/ckpt-10\n"
     ]
    }
   ],
   "source": [
    "step_var = tf.Variable(1, dtype=tf.int32, trainable=False)\n",
    "epoch_var = tf.Variable(1, dtype=tf.int32, trainable=False)\n",
    "ckpt = tf.train.Checkpoint(model=model, step=step_var, epoch=epoch_var)\n",
    "manager = tf.train.CheckpointManager(ckpt, output_logdir, max_to_keep=5)\n",
    "\n",
    "print(f\"Checkpoint folder path at: {output_logdir}\")\n",
    "\n",
    "checkpointing_training_loop(\n",
    "    model,\n",
    "    batch_size=batch_size,\n",
    "    epochs=1000,\n",
    "    manager=manager,\n",
    "    epoch_var=epoch_var,\n",
    "    step_var=step_var,\n",
    ")"
   ]
  },
  {
   "cell_type": "markdown",
   "id": "5b5e3f84",
   "metadata": {},
   "source": [
    "After the models have been saved, we can restore them using ```tf.train.Checkpoint.restore``` and assert that their performance corresponds to that logged during training."
   ]
  },
  {
   "cell_type": "code",
   "execution_count": 30,
   "id": "68482221",
   "metadata": {
    "execution": {
     "iopub.execute_input": "2022-02-24T11:47:50.147931Z",
     "iopub.status.busy": "2022-02-24T11:47:50.147479Z",
     "iopub.status.idle": "2022-02-24T11:47:50.288228Z",
     "shell.execute_reply": "2022-02-24T11:47:50.288633Z"
    }
   },
   "outputs": [
    {
     "name": "stdout",
     "output_type": "stream",
     "text": [
      "0 restored model from epoch 600 [step:1800] : ELBO training set 45.05990684410958\n",
      "1 restored model from epoch 700 [step:2100] : ELBO training set 46.906694048482514\n",
      "2 restored model from epoch 800 [step:2400] : ELBO training set 48.23373982138958\n",
      "3 restored model from epoch 900 [step:2700] : ELBO training set 49.28288238387077\n",
      "4 restored model from epoch 1000 [step:3000] : ELBO training set 50.178945253576\n"
     ]
    }
   ],
   "source": [
    "for i, recorded_checkpoint in enumerate(manager.checkpoints):\n",
    "    ckpt.restore(recorded_checkpoint)\n",
    "    print(\n",
    "        f\"{i} restored model from epoch {int(epoch_var)} [step:{int(step_var)}] : ELBO training set {model.elbo(data)}\"\n",
    "    )"
   ]
  },
  {
   "cell_type": "markdown",
   "id": "e84ac0de",
   "metadata": {},
   "source": [
    "### Copying (hyper)parameter values between models\n",
    "\n",
    "It is easy to interact with the set of all parameters of a model or a subcomponent programmatically.\n",
    "\n",
    "The following returns a dictionary of all parameters within"
   ]
  },
  {
   "cell_type": "code",
   "execution_count": 31,
   "id": "62d77c1d",
   "metadata": {
    "execution": {
     "iopub.execute_input": "2022-02-24T11:47:50.292962Z",
     "iopub.status.busy": "2022-02-24T11:47:50.292524Z",
     "iopub.status.idle": "2022-02-24T11:47:50.303040Z",
     "shell.execute_reply": "2022-02-24T11:47:50.303385Z"
    }
   },
   "outputs": [],
   "source": [
    "model = gpflow.models.SGPR(data, kernel=kernel, inducing_variable=inducing_variable)"
   ]
  },
  {
   "cell_type": "code",
   "execution_count": 32,
   "id": "2f446e87",
   "metadata": {
    "execution": {
     "iopub.execute_input": "2022-02-24T11:47:50.307924Z",
     "iopub.status.busy": "2022-02-24T11:47:50.307493Z",
     "iopub.status.idle": "2022-02-24T11:47:50.313753Z",
     "shell.execute_reply": "2022-02-24T11:47:50.314112Z"
    }
   },
   "outputs": [
    {
     "data": {
      "text/plain": [
       "{'.kernel.variance': <Parameter: dtype=float64, shape=[], fn=\"softplus\", numpy=0.8857518652642808>,\n",
       " '.kernel.lengthscales': <Parameter: dtype=float64, shape=[], fn=\"softplus\", numpy=1.6791675813821396>,\n",
       " '.likelihood.variance': <Parameter: dtype=float64, shape=[], fn=\"chain_of_shift_of_softplus\", numpy=1.0>,\n",
       " '.inducing_variable.Z': <Parameter: dtype=float64, shape=[10, 1], fn=\"identity\", numpy=\n",
       " array([[ 0.        ],\n",
       "        [ 1.11111111],\n",
       "        [ 2.22222222],\n",
       "        [ 3.33333333],\n",
       "        [ 4.44444444],\n",
       "        [ 5.55555556],\n",
       "        [ 6.66666667],\n",
       "        [ 7.77777778],\n",
       "        [ 8.88888889],\n",
       "        [10.        ]])>}"
      ]
     },
     "execution_count": 1,
     "metadata": {},
     "output_type": "execute_result"
    }
   ],
   "source": [
    "gpflow.utilities.parameter_dict(model)"
   ]
  },
  {
   "cell_type": "markdown",
   "id": "943e2029",
   "metadata": {},
   "source": [
    "Such a dictionary can be assigned back to this model (or another model with the same tree of parameters) as follows:"
   ]
  },
  {
   "cell_type": "code",
   "execution_count": 33,
   "id": "30d76c02",
   "metadata": {
    "execution": {
     "iopub.execute_input": "2022-02-24T11:47:50.317817Z",
     "iopub.status.busy": "2022-02-24T11:47:50.317383Z",
     "iopub.status.idle": "2022-02-24T11:47:50.323880Z",
     "shell.execute_reply": "2022-02-24T11:47:50.324218Z"
    }
   },
   "outputs": [],
   "source": [
    "params = gpflow.utilities.parameter_dict(model)\n",
    "gpflow.utilities.multiple_assign(model, params)"
   ]
  },
  {
   "cell_type": "markdown",
   "id": "c3ff9bdb",
   "metadata": {},
   "source": [
    "### TensorFlow `saved_model`\n",
    "\n",
    "In order to save the model we need to explicitly store the `tf.function`-compiled functions that we wish to export:"
   ]
  },
  {
   "cell_type": "code",
   "execution_count": 34,
   "id": "d77572b0",
   "metadata": {
    "execution": {
     "iopub.execute_input": "2022-02-24T11:47:50.327708Z",
     "iopub.status.busy": "2022-02-24T11:47:50.327246Z",
     "iopub.status.idle": "2022-02-24T11:47:50.328739Z",
     "shell.execute_reply": "2022-02-24T11:47:50.329096Z"
    }
   },
   "outputs": [],
   "source": [
    "model.predict_f_compiled = tf.function(\n",
    "    model.predict_f, input_signature=[tf.TensorSpec(shape=[None, 1], dtype=tf.float64)]\n",
    ")"
   ]
  },
  {
   "cell_type": "markdown",
   "id": "9cb83ea1",
   "metadata": {},
   "source": [
    "We also save the original prediction for later comparison. Here `samples_input` needs to be a tensor so that `tf.function` will compile a single graph:"
   ]
  },
  {
   "cell_type": "code",
   "execution_count": 35,
   "id": "0ec4f905",
   "metadata": {
    "execution": {
     "iopub.execute_input": "2022-02-24T11:47:50.332396Z",
     "iopub.status.busy": "2022-02-24T11:47:50.331952Z",
     "iopub.status.idle": "2022-02-24T11:47:50.822409Z",
     "shell.execute_reply": "2022-02-24T11:47:50.822805Z"
    }
   },
   "outputs": [],
   "source": [
    "samples_input = tf.convert_to_tensor(samples_input, dtype=default_float())\n",
    "original_result = model.predict_f_compiled(samples_input)"
   ]
  },
  {
   "cell_type": "markdown",
   "id": "7ac7ac2e",
   "metadata": {
    "lines_to_next_cell": 0
   },
   "source": [
    "Let's save the model:"
   ]
  },
  {
   "cell_type": "code",
   "execution_count": 36,
   "id": "9b173def",
   "metadata": {
    "execution": {
     "iopub.execute_input": "2022-02-24T11:47:50.843733Z",
     "iopub.status.busy": "2022-02-24T11:47:50.843288Z",
     "iopub.status.idle": "2022-02-24T11:47:51.187199Z",
     "shell.execute_reply": "2022-02-24T11:47:51.187567Z"
    }
   },
   "outputs": [
    {
     "name": "stderr",
     "output_type": "stream",
     "text": [
      "WARNING:absl:Function `predict_f` contains input name(s) Xnew with unsupported characters which will be renamed to xnew in the SavedModel.\n"
     ]
    },
    {
     "name": "stdout",
     "output_type": "stream",
     "text": [
      "WARNING:tensorflow:From /home/circleci/project/.venv/lib/python3.6/site-packages/tensorflow/python/training/tracking/tracking.py:102: Bijector.has_static_min_event_ndims (from tensorflow_probability.python.bijectors.bijector) is deprecated and will be removed after 2021-08-01.\n",
      "Instructions for updating:\n",
      "`min_event_ndims` is now static for all bijectors; this property is no longer needed.\n"
     ]
    },
    {
     "name": "stderr",
     "output_type": "stream",
     "text": [
      "WARNING:tensorflow:From /home/circleci/project/.venv/lib/python3.6/site-packages/tensorflow/python/training/tracking/tracking.py:102: Bijector.has_static_min_event_ndims (from tensorflow_probability.python.bijectors.bijector) is deprecated and will be removed after 2021-08-01.\n",
      "Instructions for updating:\n",
      "`min_event_ndims` is now static for all bijectors; this property is no longer needed.\n"
     ]
    },
    {
     "name": "stdout",
     "output_type": "stream",
     "text": [
      "INFO:tensorflow:Assets written to: /tmp/assets\n"
     ]
    },
    {
     "name": "stderr",
     "output_type": "stream",
     "text": [
      "INFO:tensorflow:Assets written to: /tmp/assets\n"
     ]
    }
   ],
   "source": [
    "save_dir = str(pathlib.Path(tempfile.gettempdir()))\n",
    "tf.saved_model.save(model, save_dir)"
   ]
  },
  {
   "cell_type": "markdown",
   "id": "d192e143",
   "metadata": {},
   "source": [
    "We can load the module back as a new instance and compare the prediction results:"
   ]
  },
  {
   "cell_type": "code",
   "execution_count": 37,
   "id": "f6d3213b",
   "metadata": {
    "execution": {
     "iopub.execute_input": "2022-02-24T11:47:51.191954Z",
     "iopub.status.busy": "2022-02-24T11:47:51.191520Z",
     "iopub.status.idle": "2022-02-24T11:47:51.346662Z",
     "shell.execute_reply": "2022-02-24T11:47:51.346241Z"
    }
   },
   "outputs": [
    {
     "name": "stderr",
     "output_type": "stream",
     "text": [
      "WARNING:absl:Importing a function (__inference_predict_f_55758) with ops with unsaved custom gradients. Will likely fail if a gradient is requested.\n"
     ]
    }
   ],
   "source": [
    "loaded_model = tf.saved_model.load(save_dir)\n",
    "loaded_result = loaded_model.predict_f_compiled(samples_input)\n",
    "\n",
    "np.testing.assert_array_equal(loaded_result, original_result)"
   ]
  },
  {
   "cell_type": "markdown",
   "id": "37148b2f",
   "metadata": {},
   "source": [
    "## User config update\n",
    "\n",
    "In this notebook, we used a lot `gpflow.config` methods for setting and getting default attributes from global configuration. However, GPflow provides a way for local config modification without updating values in global. As you can see below, using `gpflow.config.as_context` replaces temporarily global config with your instance. At creation time, custom config instance uses standard values from the global config:"
   ]
  },
  {
   "cell_type": "code",
   "execution_count": 38,
   "id": "73b43380",
   "metadata": {
    "execution": {
     "iopub.execute_input": "2022-02-24T11:47:51.351348Z",
     "iopub.status.busy": "2022-02-24T11:47:51.350902Z",
     "iopub.status.idle": "2022-02-24T11:47:51.352839Z",
     "shell.execute_reply": "2022-02-24T11:47:51.353192Z"
    }
   },
   "outputs": [
    {
     "name": "stdout",
     "output_type": "stream",
     "text": [
      "User config\t gpflow.config.default_float = <dtype: 'float32'>\n",
      "User config\t gpflow.config.positive_bijector = exp\n",
      "Global config\t gpflow.config.default_float = <class 'numpy.float64'>\n",
      "Global config\t gpflow.config.positive_bijector = softplus\n"
     ]
    }
   ],
   "source": [
    "user_config = gpflow.config.Config(float=tf.float32, positive_bijector=\"exp\")\n",
    "\n",
    "user_str = \"User config\\t\"\n",
    "global_str = \"Global config\\t\"\n",
    "\n",
    "with gpflow.config.as_context(user_config):\n",
    "    print(f\"{user_str} gpflow.config.default_float = {gpflow.config.default_float()}\")\n",
    "    print(\n",
    "        f\"{user_str} gpflow.config.positive_bijector = {gpflow.config.default_positive_bijector()}\"\n",
    "    )\n",
    "\n",
    "print(f\"{global_str} gpflow.config.default_float = {gpflow.config.default_float()}\")\n",
    "print(f\"{global_str} gpflow.config.positive_bijector = {gpflow.config.default_positive_bijector()}\")"
   ]
  },
  {
   "cell_type": "code",
   "execution_count": 39,
   "id": "135e9d89",
   "metadata": {
    "execution": {
     "iopub.execute_input": "2022-02-24T11:47:51.358830Z",
     "iopub.status.busy": "2022-02-24T11:47:51.358392Z",
     "iopub.status.idle": "2022-02-24T11:47:51.365566Z",
     "shell.execute_reply": "2022-02-24T11:47:51.365921Z"
    }
   },
   "outputs": [
    {
     "name": "stdout",
     "output_type": "stream",
     "text": [
      "User config\t<Parameter: dtype=float32, shape=[], fn=\"exp\", numpy=1.1>\n",
      "Global config\t<Parameter: dtype=float64, shape=[], fn=\"softplus\", numpy=1.1>\n"
     ]
    }
   ],
   "source": [
    "with gpflow.config.as_context(user_config):\n",
    "    p = gpflow.Parameter(1.1, transform=gpflow.utilities.positive())\n",
    "    print(f\"{user_str}{p}\")\n",
    "\n",
    "p = gpflow.Parameter(1.1, transform=gpflow.utilities.positive())\n",
    "print(f\"{global_str}{p}\")"
   ]
  }
 ],
 "metadata": {
  "jupytext": {
   "formats": "ipynb,.pct.py:percent"
  },
  "kernelspec": {
   "display_name": "Python 3",
   "language": "python",
   "name": "python3"
  },
  "language_info": {
   "codemirror_mode": {
    "name": "ipython",
    "version": 3
   },
   "file_extension": ".py",
   "mimetype": "text/x-python",
   "name": "python",
   "nbconvert_exporter": "python",
   "pygments_lexer": "ipython3",
   "version": "3.6.15"
  }
 },
 "nbformat": 4,
 "nbformat_minor": 5
}
