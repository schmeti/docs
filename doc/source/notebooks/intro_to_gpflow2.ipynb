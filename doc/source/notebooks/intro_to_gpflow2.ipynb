{
 "cells": [
  {
   "cell_type": "markdown",
   "id": "706fa3a0",
   "metadata": {},
   "source": [
    "GPflow with TensorFlow 2\n",
    "===\n",
    "\n",
    "##### Small steps big changes\n",
    "\n",
    "<br>\n",
    "\n"
   ]
  },
  {
   "cell_type": "code",
   "execution_count": 1,
   "id": "4b31ac36",
   "metadata": {
    "execution": {
     "iopub.execute_input": "2022-03-07T11:39:44.594543Z",
     "iopub.status.busy": "2022-03-07T11:39:44.594000Z",
     "iopub.status.idle": "2022-03-07T11:39:47.563532Z",
     "shell.execute_reply": "2022-03-07T11:39:47.562870Z"
    }
   },
   "outputs": [
    {
     "name": "stderr",
     "output_type": "stream",
     "text": [
      "2022-03-07 11:39:45.578860: W tensorflow/stream_executor/platform/default/dso_loader.cc:64] Could not load dynamic library 'libcudart.so.11.0'; dlerror: libcudart.so.11.0: cannot open shared object file: No such file or directory\n",
      "2022-03-07 11:39:45.578892: I tensorflow/stream_executor/cuda/cudart_stub.cc:29] Ignore above cudart dlerror if you do not have a GPU set up on your machine.\n"
     ]
    }
   ],
   "source": [
    "from typing import Tuple, Optional\n",
    "import tempfile\n",
    "import pathlib\n",
    "\n",
    "import datetime\n",
    "import io\n",
    "import matplotlib.pyplot as plt\n",
    "\n",
    "import numpy as np\n",
    "import tensorflow as tf\n",
    "import gpflow\n",
    "\n",
    "from gpflow.config import default_float\n",
    "from gpflow.ci_utils import ci_niter\n",
    "from gpflow.utilities import to_default_float\n",
    "\n",
    "import warnings\n",
    "\n",
    "warnings.filterwarnings(\"ignore\")"
   ]
  },
  {
   "cell_type": "markdown",
   "id": "ef08b509",
   "metadata": {},
   "source": [
    "Make `tensorboard` work inside notebook:"
   ]
  },
  {
   "cell_type": "code",
   "execution_count": 2,
   "id": "02e4c10d",
   "metadata": {
    "execution": {
     "iopub.execute_input": "2022-03-07T11:39:47.566562Z",
     "iopub.status.busy": "2022-03-07T11:39:47.566318Z",
     "iopub.status.idle": "2022-03-07T11:39:47.882532Z",
     "shell.execute_reply": "2022-03-07T11:39:47.881839Z"
    }
   },
   "outputs": [],
   "source": [
    "output_logdir = \"/tmp/tensorboard\"\n",
    "\n",
    "!rm -rf \"{output_logdir}\"\n",
    "!mkdir \"{output_logdir}\"\n",
    "\n",
    "%load_ext tensorboard\n",
    "%matplotlib inline\n",
    "\n",
    "\n",
    "def enumerated_logdir(_logdir_id: int = [0]):\n",
    "    logdir = pathlib.Path(output_logdir, str(_logdir_id[0]))\n",
    "    _logdir_id[0] += 1\n",
    "    return str(logdir)"
   ]
  },
  {
   "cell_type": "markdown",
   "id": "33565295",
   "metadata": {},
   "source": [
    "Set up random seeds and default float for `gpflow` tensors:"
   ]
  },
  {
   "cell_type": "code",
   "execution_count": 3,
   "id": "4606618b",
   "metadata": {
    "execution": {
     "iopub.execute_input": "2022-03-07T11:39:47.885845Z",
     "iopub.status.busy": "2022-03-07T11:39:47.885580Z",
     "iopub.status.idle": "2022-03-07T11:39:47.889168Z",
     "shell.execute_reply": "2022-03-07T11:39:47.888707Z"
    }
   },
   "outputs": [],
   "source": [
    "gpflow.config.set_default_float(np.float64)\n",
    "np.random.seed(0)\n",
    "tf.random.set_seed(0)"
   ]
  },
  {
   "cell_type": "markdown",
   "id": "c2c52566",
   "metadata": {},
   "source": [
    "## Loading data using TensorFlow Datasets\n",
    "\n",
    "For this example, we create a synthetic dataset (noisy sine function):"
   ]
  },
  {
   "cell_type": "code",
   "execution_count": 4,
   "id": "21d748d6",
   "metadata": {
    "execution": {
     "iopub.execute_input": "2022-03-07T11:39:47.891577Z",
     "iopub.status.busy": "2022-03-07T11:39:47.891370Z",
     "iopub.status.idle": "2022-03-07T11:39:48.103402Z",
     "shell.execute_reply": "2022-03-07T11:39:48.102889Z"
    }
   },
   "outputs": [
    {
     "name": "stderr",
     "output_type": "stream",
     "text": [
      "2022-03-07 11:39:47.895248: W tensorflow/stream_executor/platform/default/dso_loader.cc:64] Could not load dynamic library 'libcuda.so.1'; dlerror: libcuda.so.1: cannot open shared object file: No such file or directory\n",
      "2022-03-07 11:39:47.895282: W tensorflow/stream_executor/cuda/cuda_driver.cc:269] failed call to cuInit: UNKNOWN ERROR (303)\n",
      "2022-03-07 11:39:47.895305: I tensorflow/stream_executor/cuda/cuda_diagnostics.cc:156] kernel driver does not appear to be running on this host (b149603e3b87): /proc/driver/nvidia/version does not exist\n",
      "2022-03-07 11:39:47.895727: I tensorflow/core/platform/cpu_feature_guard.cc:142] This TensorFlow binary is optimized with oneAPI Deep Neural Network Library (oneDNN) to use the following CPU instructions in performance-critical operations:  AVX2 AVX512F FMA\n",
      "To enable them in other operations, rebuild TensorFlow with the appropriate compiler flags.\n"
     ]
    },
    {
     "data": {
      "image/png": "[encoded data removed]",
      "text/plain": [
       "<Figure size 432x288 with 1 Axes>"
      ]
     },
     "metadata": {
      "needs_background": "light"
     },
     "output_type": "display_data"
    }
   ],
   "source": [
    "def noisy_sin(x):\n",
    "    return tf.math.sin(x) + 0.1 * tf.random.normal(x.shape, dtype=default_float())\n",
    "\n",
    "\n",
    "num_train_data, num_test_data = 100, 500\n",
    "\n",
    "X = tf.random.uniform((num_train_data, 1), dtype=default_float()) * 10\n",
    "Xtest = tf.random.uniform((num_test_data, 1), dtype=default_float()) * 10\n",
    "\n",
    "Y = noisy_sin(X)\n",
    "Ytest = noisy_sin(Xtest)\n",
    "\n",
    "data = (X, Y)\n",
    "\n",
    "plt.plot(X, Y, \"xk\")\n",
    "plt.show()"
   ]
  },
  {
   "cell_type": "markdown",
   "id": "11137ea9",
   "metadata": {},
   "source": [
    "Working with TensorFlow Datasets is an efficient way to rapidly shuffle, iterate, and batch from data. For `prefetch` size we use `tf.data.experimental.AUTOTUNE` as recommended by TensorFlow [guidelines](https://www.tensorflow.org/guide/data_performance)."
   ]
  },
  {
   "cell_type": "code",
   "execution_count": 5,
   "id": "d4fb6db5",
   "metadata": {
    "execution": {
     "iopub.execute_input": "2022-03-07T11:39:48.106026Z",
     "iopub.status.busy": "2022-03-07T11:39:48.105784Z",
     "iopub.status.idle": "2022-03-07T11:39:48.118660Z",
     "shell.execute_reply": "2022-03-07T11:39:48.118128Z"
    }
   },
   "outputs": [
    {
     "name": "stdout",
     "output_type": "stream",
     "text": [
      "prefetch_size=-1\n",
      "shuffle_buffer_size=50\n",
      "num_batches_per_epoch=3\n"
     ]
    }
   ],
   "source": [
    "train_dataset = tf.data.Dataset.from_tensor_slices((X, Y))\n",
    "test_dataset = tf.data.Dataset.from_tensor_slices((Xtest, Ytest))\n",
    "\n",
    "batch_size = 32\n",
    "num_features = 10\n",
    "prefetch_size = tf.data.experimental.AUTOTUNE\n",
    "shuffle_buffer_size = num_train_data // 2\n",
    "num_batches_per_epoch = num_train_data // batch_size\n",
    "\n",
    "original_train_dataset = train_dataset\n",
    "train_dataset = (\n",
    "    train_dataset.repeat()\n",
    "    .prefetch(prefetch_size)\n",
    "    .shuffle(buffer_size=shuffle_buffer_size)\n",
    "    .batch(batch_size)\n",
    ")\n",
    "\n",
    "print(f\"prefetch_size={prefetch_size}\")\n",
    "print(f\"shuffle_buffer_size={shuffle_buffer_size}\")\n",
    "print(f\"num_batches_per_epoch={num_batches_per_epoch}\")"
   ]
  },
  {
   "cell_type": "markdown",
   "id": "c2705a12",
   "metadata": {},
   "source": [
    "## Define a GP model\n",
    "\n",
    "In GPflow 2.0, we use `tf.Module` (or the very thin `gpflow.base.Module` wrapper) to build all our models, as well as their components (kernels, likelihoods, parameters, and so on)."
   ]
  },
  {
   "cell_type": "code",
   "execution_count": 6,
   "id": "962db067",
   "metadata": {
    "execution": {
     "iopub.execute_input": "2022-03-07T11:39:48.121733Z",
     "iopub.status.busy": "2022-03-07T11:39:48.121510Z",
     "iopub.status.idle": "2022-03-07T11:39:48.155827Z",
     "shell.execute_reply": "2022-03-07T11:39:48.155235Z"
    }
   },
   "outputs": [],
   "source": [
    "kernel = gpflow.kernels.SquaredExponential(variance=2.0)\n",
    "likelihood = gpflow.likelihoods.Gaussian()\n",
    "inducing_variable = np.linspace(0, 10, num_features).reshape(-1, 1)\n",
    "\n",
    "model = gpflow.models.SVGP(\n",
    "    kernel=kernel, likelihood=likelihood, inducing_variable=inducing_variable\n",
    ")"
   ]
  },
  {
   "cell_type": "markdown",
   "id": "9626cca4",
   "metadata": {},
   "source": [
    "You can set a module (or a particular parameter) to be non-trainable using the auxiliary method ```set_trainable(module, False)```:"
   ]
  },
  {
   "cell_type": "code",
   "execution_count": 7,
   "id": "cc530d14",
   "metadata": {
    "execution": {
     "iopub.execute_input": "2022-03-07T11:39:48.159770Z",
     "iopub.status.busy": "2022-03-07T11:39:48.159307Z",
     "iopub.status.idle": "2022-03-07T11:39:48.181291Z",
     "shell.execute_reply": "2022-03-07T11:39:48.180747Z"
    }
   },
   "outputs": [
    {
     "name": "stderr",
     "output_type": "stream",
     "text": [
      "2022-03-07 11:39:48.164082: W tensorflow/python/util/util.cc:348] Sets are not currently considered sequences, but this may change in the future, so consider avoiding using them.\n"
     ]
    }
   ],
   "source": [
    "from gpflow import set_trainable\n",
    "\n",
    "set_trainable(likelihood, False)\n",
    "set_trainable(kernel.variance, False)\n",
    "\n",
    "set_trainable(likelihood, True)\n",
    "set_trainable(kernel.variance, True)"
   ]
  },
  {
   "cell_type": "markdown",
   "id": "95d8dc6c",
   "metadata": {},
   "source": [
    "We can use ```param.assign(value)``` to assign a value to a parameter:"
   ]
  },
  {
   "cell_type": "code",
   "execution_count": 8,
   "id": "8057fe9b",
   "metadata": {
    "execution": {
     "iopub.execute_input": "2022-03-07T11:39:48.184296Z",
     "iopub.status.busy": "2022-03-07T11:39:48.184070Z",
     "iopub.status.idle": "2022-03-07T11:39:48.189923Z",
     "shell.execute_reply": "2022-03-07T11:39:48.189414Z"
    }
   },
   "outputs": [
    {
     "data": {
      "text/plain": [
       "<tf.Variable 'UnreadVariable' shape=() dtype=float64, numpy=-0.43275212956718856>"
      ]
     },
     "execution_count": 8,
     "metadata": {},
     "output_type": "execute_result"
    }
   ],
   "source": [
    "kernel.lengthscales.assign(0.5)"
   ]
  },
  {
   "cell_type": "markdown",
   "id": "d827f8bd",
   "metadata": {},
   "source": [
    "All these changes are reflected when we use ```print_summary(model)``` to print a detailed summary of the model. By default the output is displayed in a minimalistic and simple table."
   ]
  },
  {
   "cell_type": "code",
   "execution_count": 9,
   "id": "13f84b8a",
   "metadata": {
    "execution": {
     "iopub.execute_input": "2022-03-07T11:39:48.193102Z",
     "iopub.status.busy": "2022-03-07T11:39:48.192887Z",
     "iopub.status.idle": "2022-03-07T11:39:48.207083Z",
     "shell.execute_reply": "2022-03-07T11:39:48.206519Z"
    }
   },
   "outputs": [
    {
     "name": "stdout",
     "output_type": "stream",
     "text": [
      "╒══════════════════════════╤═══════════╤══════════════════╤═════════╤═════════════╤═════════════╤═════════╤══════════════════╕\n",
      "│ name                     │ class     │ transform        │ prior   │ trainable   │ shape       │ dtype   │ value            │\n",
      "╞══════════════════════════╪═══════════╪══════════════════╪═════════╪═════════════╪═════════════╪═════════╪══════════════════╡\n",
      "│ SVGP.kernel.variance     │ Parameter │ Softplus         │         │ True        │ ()          │ float64 │ 2.0              │\n",
      "├──────────────────────────┼───────────┼──────────────────┼─────────┼─────────────┼─────────────┼─────────┼──────────────────┤\n",
      "│ SVGP.kernel.lengthscales │ Parameter │ Softplus         │         │ True        │ ()          │ float64 │ 0.5              │\n",
      "├──────────────────────────┼───────────┼──────────────────┼─────────┼─────────────┼─────────────┼─────────┼──────────────────┤\n",
      "│ SVGP.likelihood.variance │ Parameter │ Softplus + Shift │         │ True        │ ()          │ float64 │ 1.0              │\n",
      "├──────────────────────────┼───────────┼──────────────────┼─────────┼─────────────┼─────────────┼─────────┼──────────────────┤\n",
      "│ SVGP.inducing_variable.Z │ Parameter │ Identity         │         │ True        │ (10, 1)     │ float64 │ [[0....          │\n",
      "├──────────────────────────┼───────────┼──────────────────┼─────────┼─────────────┼─────────────┼─────────┼──────────────────┤\n",
      "│ SVGP.q_mu                │ Parameter │ Identity         │         │ True        │ (10, 1)     │ float64 │ [[0....          │\n",
      "├──────────────────────────┼───────────┼──────────────────┼─────────┼─────────────┼─────────────┼─────────┼──────────────────┤\n",
      "│ SVGP.q_sqrt              │ Parameter │ FillTriangular   │         │ True        │ (1, 10, 10) │ float64 │ [[[1., 0., 0.... │\n",
      "╘══════════════════════════╧═══════════╧══════════════════╧═════════╧═════════════╧═════════════╧═════════╧══════════════════╛\n"
     ]
    }
   ],
   "source": [
    "from gpflow.utilities import print_summary\n",
    "\n",
    "print_summary(model)  # same as print_summary(model, fmt=\"fancy_table\")"
   ]
  },
  {
   "cell_type": "markdown",
   "id": "842ca51c",
   "metadata": {},
   "source": [
    "We can change default printing so that it will look nicer in our notebook:"
   ]
  },
  {
   "cell_type": "code",
   "execution_count": 10,
   "id": "cb681f47",
   "metadata": {
    "execution": {
     "iopub.execute_input": "2022-03-07T11:39:48.210251Z",
     "iopub.status.busy": "2022-03-07T11:39:48.209995Z",
     "iopub.status.idle": "2022-03-07T11:39:48.222204Z",
     "shell.execute_reply": "2022-03-07T11:39:48.221728Z"
    }
   },
   "outputs": [
    {
     "data": {
      "text/html": [
       "<table>\n",
       "<thead>\n",
       "<tr><th>name                    </th><th>class    </th><th>transform       </th><th>prior  </th><th>trainable  </th><th>shape      </th><th>dtype  </th><th>value           </th></tr>\n",
       "</thead>\n",
       "<tbody>\n",
       "<tr><td>SVGP.kernel.variance    </td><td>Parameter</td><td>Softplus        </td><td>       </td><td>True       </td><td>()         </td><td>float64</td><td>2.0             </td></tr>\n",
       "<tr><td>SVGP.kernel.lengthscales</td><td>Parameter</td><td>Softplus        </td><td>       </td><td>True       </td><td>()         </td><td>float64</td><td>0.5             </td></tr>\n",
       "<tr><td>SVGP.likelihood.variance</td><td>Parameter</td><td>Softplus + Shift</td><td>       </td><td>True       </td><td>()         </td><td>float64</td><td>1.0             </td></tr>\n",
       "<tr><td>SVGP.inducing_variable.Z</td><td>Parameter</td><td>Identity        </td><td>       </td><td>True       </td><td>(10, 1)    </td><td>float64</td><td>[[0....         </td></tr>\n",
       "<tr><td>SVGP.q_mu               </td><td>Parameter</td><td>Identity        </td><td>       </td><td>True       </td><td>(10, 1)    </td><td>float64</td><td>[[0....         </td></tr>\n",
       "<tr><td>SVGP.q_sqrt             </td><td>Parameter</td><td>FillTriangular  </td><td>       </td><td>True       </td><td>(1, 10, 10)</td><td>float64</td><td>[[[1., 0., 0....</td></tr>\n",
       "</tbody>\n",
       "</table>"
      ],
      "text/plain": [
       "<IPython.core.display.HTML object>"
      ]
     },
     "metadata": {},
     "output_type": "display_data"
    }
   ],
   "source": [
    "gpflow.config.set_default_summary_fmt(\"notebook\")\n",
    "\n",
    "print_summary(model)  # same as print_summary(model, fmt=\"notebook\")"
   ]
  },
  {
   "cell_type": "markdown",
   "id": "a32ccd8d",
   "metadata": {},
   "source": [
    "Jupyter notebooks also format GPflow classes (that are subclasses of `gpflow.base.Module`) in the same nice way when at the end of a cell (this is independent of the `default_summary_fmt`):"
   ]
  },
  {
   "cell_type": "code",
   "execution_count": 11,
   "id": "ae44dffc",
   "metadata": {
    "execution": {
     "iopub.execute_input": "2022-03-07T11:39:48.225530Z",
     "iopub.status.busy": "2022-03-07T11:39:48.225294Z",
     "iopub.status.idle": "2022-03-07T11:39:48.245258Z",
     "shell.execute_reply": "2022-03-07T11:39:48.244764Z"
    }
   },
   "outputs": [
    {
     "data": {
      "text/html": [
       "&lt;gpflow.models.svgp.SVGP object at 0x7f4f5d77fed0&gt;\n",
       "<table>\n",
       "<thead>\n",
       "<tr><th>name                    </th><th>class    </th><th>transform       </th><th>prior  </th><th>trainable  </th><th>shape      </th><th>dtype  </th><th>value           </th></tr>\n",
       "</thead>\n",
       "<tbody>\n",
       "<tr><td>SVGP.kernel.variance    </td><td>Parameter</td><td>Softplus        </td><td>       </td><td>True       </td><td>()         </td><td>float64</td><td>2.0             </td></tr>\n",
       "<tr><td>SVGP.kernel.lengthscales</td><td>Parameter</td><td>Softplus        </td><td>       </td><td>True       </td><td>()         </td><td>float64</td><td>0.5             </td></tr>\n",
       "<tr><td>SVGP.likelihood.variance</td><td>Parameter</td><td>Softplus + Shift</td><td>       </td><td>True       </td><td>()         </td><td>float64</td><td>1.0             </td></tr>\n",
       "<tr><td>SVGP.inducing_variable.Z</td><td>Parameter</td><td>Identity        </td><td>       </td><td>True       </td><td>(10, 1)    </td><td>float64</td><td>[[0....         </td></tr>\n",
       "<tr><td>SVGP.q_mu               </td><td>Parameter</td><td>Identity        </td><td>       </td><td>True       </td><td>(10, 1)    </td><td>float64</td><td>[[0....         </td></tr>\n",
       "<tr><td>SVGP.q_sqrt             </td><td>Parameter</td><td>FillTriangular  </td><td>       </td><td>True       </td><td>(1, 10, 10)</td><td>float64</td><td>[[[1., 0., 0....</td></tr>\n",
       "</tbody>\n",
       "</table>"
      ],
      "text/plain": [
       "<gpflow.models.svgp.SVGP object at 0x7f4f5d77fed0>\n",
       "name                      class      transform         prior    trainable    shape        dtype    value\n",
       "------------------------  ---------  ----------------  -------  -----------  -----------  -------  ----------------\n",
       "SVGP.kernel.variance      Parameter  Softplus                   True         ()           float64  2.0\n",
       "SVGP.kernel.lengthscales  Parameter  Softplus                   True         ()           float64  0.5\n",
       "SVGP.likelihood.variance  Parameter  Softplus + Shift           True         ()           float64  1.0\n",
       "SVGP.inducing_variable.Z  Parameter  Identity                   True         (10, 1)      float64  [[0....\n",
       "SVGP.q_mu                 Parameter  Identity                   True         (10, 1)      float64  [[0....\n",
       "SVGP.q_sqrt               Parameter  FillTriangular             True         (1, 10, 10)  float64  [[[1., 0., 0...."
      ]
     },
     "execution_count": 11,
     "metadata": {},
     "output_type": "execute_result"
    }
   ],
   "source": [
    "model"
   ]
  },
  {
   "cell_type": "markdown",
   "id": "adab2591",
   "metadata": {},
   "source": [
    "## Training using training_loss and training_loss_closure\n",
    "\n",
    "GPflow models come with training_loss and training_loss_closure methods to make it easy to train your models.\n",
    "There is a slight difference between models that own their own data (most of them, e.g. GPR, VGP, ...) and models that do not own the data (SVGP).\n",
    "\n",
    "### Model-internal data\n",
    "For models that own their own data (inheriting from InternalDataTrainingLossMixin), data is provided at model construction time.\n",
    "In this case, model.training_loss does not take any arguments, and can be directly passed to an optimizer's `minimize()` method:"
   ]
  },
  {
   "cell_type": "code",
   "execution_count": 12,
   "id": "fe91a200",
   "metadata": {
    "execution": {
     "iopub.execute_input": "2022-03-07T11:39:48.248636Z",
     "iopub.status.busy": "2022-03-07T11:39:48.248389Z",
     "iopub.status.idle": "2022-03-07T11:39:48.321738Z",
     "shell.execute_reply": "2022-03-07T11:39:48.321257Z"
    }
   },
   "outputs": [
    {
     "data": {
      "text/plain": [
       "<tf.Variable 'UnreadVariable' shape=() dtype=int64, numpy=1>"
      ]
     },
     "execution_count": 12,
     "metadata": {},
     "output_type": "execute_result"
    }
   ],
   "source": [
    "vgp_model = gpflow.models.VGP(data, kernel, likelihood)\n",
    "optimizer = tf.optimizers.Adam()\n",
    "optimizer.minimize(\n",
    "    vgp_model.training_loss, vgp_model.trainable_variables\n",
    ")  # Note: this does a single step\n",
    "# In practice, you will need to call minimize() many times, this will be further discussed below."
   ]
  },
  {
   "cell_type": "markdown",
   "id": "198f89f9",
   "metadata": {},
   "source": [
    "This also works for the Scipy optimizer, though it will do the full optimization on a single call to minimize():"
   ]
  },
  {
   "cell_type": "code",
   "execution_count": 13,
   "id": "6a67576f",
   "metadata": {
    "execution": {
     "iopub.execute_input": "2022-03-07T11:39:48.324994Z",
     "iopub.status.busy": "2022-03-07T11:39:48.324748Z",
     "iopub.status.idle": "2022-03-07T11:39:52.275281Z",
     "shell.execute_reply": "2022-03-07T11:39:52.274744Z"
    }
   },
   "outputs": [
    {
     "name": "stderr",
     "output_type": "stream",
     "text": [
      "2022-03-07 11:39:50.742018: I tensorflow/compiler/mlir/mlir_graph_optimization_pass.cc:185] None of the MLIR Optimization Passes are enabled (registered 2)\n"
     ]
    },
    {
     "data": {
      "text/plain": [
       "      fun: -67.28079116205669\n",
       " hess_inv: <5153x5153 LbfgsInvHessProduct with dtype=float64>\n",
       "      jac: array([ 0.02691154,  0.01459887, -0.00436028, ...,  0.05020117,\n",
       "       -0.00861012, -0.00273759])\n",
       "  message: 'CONVERGENCE: REL_REDUCTION_OF_F_<=_FACTR*EPSMCH'\n",
       "     nfev: 691\n",
       "      nit: 652\n",
       "     njev: 691\n",
       "   status: 0\n",
       "  success: True\n",
       "        x: array([-0.19058673,  1.64209811,  0.02528677, ...,  1.7168368 ,\n",
       "        0.78004409, -4.65256065])"
      ]
     },
     "execution_count": 13,
     "metadata": {},
     "output_type": "execute_result"
    }
   ],
   "source": [
    "optimizer = gpflow.optimizers.Scipy()\n",
    "optimizer.minimize(\n",
    "    vgp_model.training_loss, vgp_model.trainable_variables, options=dict(maxiter=ci_niter(1000))\n",
    ")"
   ]
  },
  {
   "cell_type": "markdown",
   "id": "a0196063",
   "metadata": {},
   "source": [
    "You can obtain a compiled version using training_loss_closure, whose `compile` argument is True by default:"
   ]
  },
  {
   "cell_type": "code",
   "execution_count": 14,
   "id": "512f8d0f",
   "metadata": {
    "execution": {
     "iopub.execute_input": "2022-03-07T11:39:52.277862Z",
     "iopub.status.busy": "2022-03-07T11:39:52.277622Z",
     "iopub.status.idle": "2022-03-07T11:39:52.282191Z",
     "shell.execute_reply": "2022-03-07T11:39:52.281699Z"
    }
   },
   "outputs": [
    {
     "data": {
      "text/plain": [
       "<bound method InternalDataTrainingLossMixin.training_loss of <gpflow.models.vgp.VGP object at 0x7f4f5d4ef210>>"
      ]
     },
     "execution_count": 14,
     "metadata": {},
     "output_type": "execute_result"
    }
   ],
   "source": [
    "vgp_model.training_loss_closure()  # compiled\n",
    "vgp_model.training_loss_closure(compile=True)  # compiled\n",
    "vgp_model.training_loss_closure(compile=False)  # uncompiled, same as vgp_model.training_loss"
   ]
  },
  {
   "cell_type": "markdown",
   "id": "70e11710",
   "metadata": {},
   "source": [
    "### External data\n",
    "\n",
    "The SVGP model inherits from ExternalDataTrainingLossMixin and expects the data to be passed to training_loss().\n",
    "For SVGP as for the other regression models, `data` is a two-tuple of `(X, Y)`, where `X` is an array/tensor with shape `(num_data, input_dim)` and `Y` is an array/tensor with shape `(num_data, output_dim)`:"
   ]
  },
  {
   "cell_type": "code",
   "execution_count": 15,
   "id": "fe213a12",
   "metadata": {
    "execution": {
     "iopub.execute_input": "2022-03-07T11:39:52.284536Z",
     "iopub.status.busy": "2022-03-07T11:39:52.284335Z",
     "iopub.status.idle": "2022-03-07T11:39:52.319748Z",
     "shell.execute_reply": "2022-03-07T11:39:52.319267Z"
    }
   },
   "outputs": [
    {
     "data": {
      "text/plain": [
       "<tf.Tensor: shape=(), dtype=float64, numpy=8169.065340796262>"
      ]
     },
     "execution_count": 15,
     "metadata": {},
     "output_type": "execute_result"
    }
   ],
   "source": [
    "assert isinstance(model, gpflow.models.SVGP)\n",
    "model.training_loss(data)"
   ]
  },
  {
   "cell_type": "markdown",
   "id": "bc0c3132",
   "metadata": {},
   "source": [
    "To make optimizing it easy, it has a `training_loss_closure()` method, that takes the data and returns a closure that computes the training loss on this data:"
   ]
  },
  {
   "cell_type": "code",
   "execution_count": 16,
   "id": "35761ff4",
   "metadata": {
    "execution": {
     "iopub.execute_input": "2022-03-07T11:39:52.322370Z",
     "iopub.status.busy": "2022-03-07T11:39:52.322090Z",
     "iopub.status.idle": "2022-03-07T11:39:54.664533Z",
     "shell.execute_reply": "2022-03-07T11:39:54.664062Z"
    }
   },
   "outputs": [
    {
     "data": {
      "text/plain": [
       "<tf.Variable 'UnreadVariable' shape=() dtype=int64, numpy=1>"
      ]
     },
     "execution_count": 16,
     "metadata": {},
     "output_type": "execute_result"
    }
   ],
   "source": [
    "optimizer = tf.optimizers.Adam()\n",
    "training_loss = model.training_loss_closure(\n",
    "    data\n",
    ")  # We save the compiled closure in a variable so as not to re-compile it each step\n",
    "optimizer.minimize(training_loss, model.trainable_variables)  # Note that this does a single step"
   ]
  },
  {
   "cell_type": "markdown",
   "id": "4997d7f6",
   "metadata": {},
   "source": [
    "SVGP can handle mini-batching, and an iterator from a batched tf.data.Dataset can be passed to the model's training_loss_closure():"
   ]
  },
  {
   "cell_type": "code",
   "execution_count": 17,
   "id": "fbd207c8",
   "metadata": {
    "execution": {
     "iopub.execute_input": "2022-03-07T11:39:54.667194Z",
     "iopub.status.busy": "2022-03-07T11:39:54.666976Z",
     "iopub.status.idle": "2022-03-07T11:39:55.860920Z",
     "shell.execute_reply": "2022-03-07T11:39:55.860425Z"
    },
    "lines_to_next_cell": 1
   },
   "outputs": [
    {
     "data": {
      "text/plain": [
       "<tf.Variable 'UnreadVariable' shape=() dtype=int64, numpy=2>"
      ]
     },
     "execution_count": 17,
     "metadata": {},
     "output_type": "execute_result"
    }
   ],
   "source": [
    "batch_size = 5\n",
    "batched_dataset = tf.data.Dataset.from_tensor_slices(data).batch(batch_size)\n",
    "training_loss = model.training_loss_closure(iter(batched_dataset))\n",
    "\n",
    "optimizer.minimize(training_loss, model.trainable_variables)  # Note that this does a single step"
   ]
  },
  {
   "cell_type": "markdown",
   "id": "5da248a9",
   "metadata": {},
   "source": [
    "As previously, training_loss_closure takes an optional `compile` argument for tf.function compilation (True by default)."
   ]
  },
  {
   "cell_type": "markdown",
   "id": "9a69f05e",
   "metadata": {},
   "source": [
    "## Training using Gradient Tapes\n",
    "\n",
    "For a more elaborate example of a gradient update we can define an `optimization_step` that explicitly computes and applies gradients to the model.\n",
    "In TensorFlow 2, we can optimize (trainable) model parameters with TensorFlow optimizers using `tf.GradientTape`. In this simple example, we perform one gradient update of the Adam optimizer to minimize the training_loss (in this case the negative ELBO) of our model.\n",
    "The `optimization_step` can (and should) be wrapped in `tf.function` to be compiled to a graph if executing it many times."
   ]
  },
  {
   "cell_type": "code",
   "execution_count": 18,
   "id": "10cf26a9",
   "metadata": {
    "execution": {
     "iopub.execute_input": "2022-03-07T11:39:55.863665Z",
     "iopub.status.busy": "2022-03-07T11:39:55.863417Z",
     "iopub.status.idle": "2022-03-07T11:39:55.867477Z",
     "shell.execute_reply": "2022-03-07T11:39:55.867011Z"
    }
   },
   "outputs": [],
   "source": [
    "def optimization_step(model: gpflow.models.SVGP, batch: Tuple[tf.Tensor, tf.Tensor]):\n",
    "    with tf.GradientTape(watch_accessed_variables=False) as tape:\n",
    "        tape.watch(model.trainable_variables)\n",
    "        loss = model.training_loss(batch)\n",
    "    grads = tape.gradient(loss, model.trainable_variables)\n",
    "    optimizer.apply_gradients(zip(grads, model.trainable_variables))\n",
    "    return loss"
   ]
  },
  {
   "cell_type": "markdown",
   "id": "4dd5270f",
   "metadata": {},
   "source": [
    "We can use the functionality of TensorFlow Datasets to define a simple training loop that iterates over batches of the training dataset:"
   ]
  },
  {
   "cell_type": "code",
   "execution_count": 19,
   "id": "9d683535",
   "metadata": {
    "execution": {
     "iopub.execute_input": "2022-03-07T11:39:55.870020Z",
     "iopub.status.busy": "2022-03-07T11:39:55.869813Z",
     "iopub.status.idle": "2022-03-07T11:39:55.874347Z",
     "shell.execute_reply": "2022-03-07T11:39:55.873825Z"
    }
   },
   "outputs": [],
   "source": [
    "def simple_training_loop(model: gpflow.models.SVGP, epochs: int = 1, logging_epoch_freq: int = 10):\n",
    "    tf_optimization_step = tf.function(optimization_step)\n",
    "\n",
    "    batches = iter(train_dataset)\n",
    "    for epoch in range(epochs):\n",
    "        for _ in range(ci_niter(num_batches_per_epoch)):\n",
    "            tf_optimization_step(model, next(batches))\n",
    "\n",
    "        epoch_id = epoch + 1\n",
    "        if epoch_id % logging_epoch_freq == 0:\n",
    "            tf.print(f\"Epoch {epoch_id}: ELBO (train) {model.elbo(data)}\")"
   ]
  },
  {
   "cell_type": "code",
   "execution_count": 20,
   "id": "25341a24",
   "metadata": {
    "execution": {
     "iopub.execute_input": "2022-03-07T11:39:55.876771Z",
     "iopub.status.busy": "2022-03-07T11:39:55.876563Z",
     "iopub.status.idle": "2022-03-07T11:39:56.937584Z",
     "shell.execute_reply": "2022-03-07T11:39:56.937006Z"
    }
   },
   "outputs": [
    {
     "name": "stdout",
     "output_type": "stream",
     "text": [
      "Epoch 2: ELBO (train) -7898.854260635546\n"
     ]
    },
    {
     "name": "stdout",
     "output_type": "stream",
     "text": [
      "Epoch 4: ELBO (train) -7695.562257882305\n"
     ]
    },
    {
     "name": "stdout",
     "output_type": "stream",
     "text": [
      "Epoch 6: ELBO (train) -7490.046346329913\n"
     ]
    },
    {
     "name": "stdout",
     "output_type": "stream",
     "text": [
      "Epoch 8: ELBO (train) -7286.5495827288\n"
     ]
    },
    {
     "name": "stdout",
     "output_type": "stream",
     "text": [
      "Epoch 10: ELBO (train) -7086.454568633618\n"
     ]
    }
   ],
   "source": [
    "simple_training_loop(model, epochs=10, logging_epoch_freq=2)"
   ]
  },
  {
   "cell_type": "markdown",
   "id": "1bba7200",
   "metadata": {},
   "source": [
    "## Monitoring\n",
    "\n",
    "`gpflow.monitor` provides a thin wrapper on top of tf.summary that makes it easy to monitor the training procedure.\n",
    "For a more detailed tutorial see the [monitoring notebook](./basics/monitoring.pct.py)."
   ]
  },
  {
   "cell_type": "code",
   "execution_count": 21,
   "id": "322d7871",
   "metadata": {
    "execution": {
     "iopub.execute_input": "2022-03-07T11:39:56.940928Z",
     "iopub.status.busy": "2022-03-07T11:39:56.940677Z",
     "iopub.status.idle": "2022-03-07T11:39:56.967125Z",
     "shell.execute_reply": "2022-03-07T11:39:56.966463Z"
    },
    "lines_to_next_cell": 2
   },
   "outputs": [],
   "source": [
    "from gpflow.monitor import (\n",
    "    ImageToTensorBoard,\n",
    "    ModelToTensorBoard,\n",
    "    ExecuteCallback,\n",
    "    Monitor,\n",
    "    MonitorTaskGroup,\n",
    "    ScalarToTensorBoard,\n",
    ")\n",
    "\n",
    "\n",
    "samples_input = np.linspace(0, 10, 100).reshape(-1, 1)\n",
    "\n",
    "\n",
    "def plot_model(fig, ax):\n",
    "    tf.print(\"Plotting...\")\n",
    "    mean, var = model.predict_f(samples_input)\n",
    "    num_samples = 10\n",
    "    samples = model.predict_f_samples(samples_input, num_samples)\n",
    "    ax.plot(samples_input, mean, \"C0\", lw=2)\n",
    "    ax.fill_between(\n",
    "        samples_input[:, 0],\n",
    "        mean[:, 0] - 1.96 * np.sqrt(var[:, 0]),\n",
    "        mean[:, 0] + 1.96 * np.sqrt(var[:, 0]),\n",
    "        color=\"C0\",\n",
    "        alpha=0.2,\n",
    "    )\n",
    "    ax.plot(X, Y, \"kx\")\n",
    "    ax.plot(samples_input, samples[:, :, 0].numpy().T, \"C0\", linewidth=0.5)\n",
    "    ax.set_ylim(-2.0, +2.0)\n",
    "    ax.set_xlim(0, 10)\n",
    "\n",
    "\n",
    "def print_cb(epoch_id=None, data=None):\n",
    "    tf.print(f\"Epoch {epoch_id}: ELBO (train)\", model.elbo(data))\n",
    "\n",
    "\n",
    "def elbo_cb(data=None, **_):\n",
    "    return model.elbo(data)\n",
    "\n",
    "\n",
    "output_logdir = enumerated_logdir()\n",
    "\n",
    "model_task = ModelToTensorBoard(output_logdir, model)\n",
    "elbo_task = ScalarToTensorBoard(output_logdir, elbo_cb, \"elbo\")\n",
    "print_task = ExecuteCallback(callback=print_cb)\n",
    "\n",
    "# We group these tasks and specify a period of `100` steps for them\n",
    "fast_tasks = MonitorTaskGroup([model_task, elbo_task, print_task], period=100)\n",
    "\n",
    "# We also want to see the model's fit during the optimisation\n",
    "image_task = ImageToTensorBoard(output_logdir, plot_model, \"samples_image\")\n",
    "\n",
    "# We typically don't want to plot too frequently during optimisation,\n",
    "# which is why we specify a larger period for this task.\n",
    "slow_taks = MonitorTaskGroup(image_task, period=500)\n",
    "monitor = Monitor(fast_tasks, slow_taks)\n",
    "\n",
    "\n",
    "def monitored_training_loop(epochs: int):\n",
    "    tf_optimization_step = tf.function(optimization_step)\n",
    "\n",
    "    batches = iter(train_dataset)\n",
    "\n",
    "    for epoch in range(epochs):\n",
    "        for _ in range(ci_niter(num_batches_per_epoch)):\n",
    "            batch = next(batches)\n",
    "            tf_optimization_step(model, batch)\n",
    "\n",
    "        epoch_id = epoch + 1\n",
    "        monitor(epoch, epoch_id=epoch_id, data=data)"
   ]
  },
  {
   "cell_type": "markdown",
   "id": "96c9bee3",
   "metadata": {
    "lines_to_next_cell": 2
   },
   "source": [
    "NOTE: for optimal performance it is recommended to wrap the monitoring inside `tf.function`.\n",
    "This is detailed in the [monitoring notebook](./basics/monitoring.ipynb)."
   ]
  },
  {
   "cell_type": "code",
   "execution_count": 22,
   "id": "531783a4",
   "metadata": {
    "execution": {
     "iopub.execute_input": "2022-03-07T11:39:56.970037Z",
     "iopub.status.busy": "2022-03-07T11:39:56.969793Z",
     "iopub.status.idle": "2022-03-07T11:40:02.115027Z",
     "shell.execute_reply": "2022-03-07T11:40:02.114435Z"
    }
   },
   "outputs": [
    {
     "name": "stdout",
     "output_type": "stream",
     "text": [
      "Epoch 1: ELBO (train) -7762.6662086221522\n"
     ]
    },
    {
     "name": "stdout",
     "output_type": "stream",
     "text": [
      "Plotting...\n"
     ]
    },
    {
     "name": "stderr",
     "output_type": "stream",
     "text": [
      "Cleanup called...\n"
     ]
    },
    {
     "name": "stdout",
     "output_type": "stream",
     "text": [
      "Epoch 101: ELBO (train) -2016.4355973646502\n"
     ]
    },
    {
     "name": "stdout",
     "output_type": "stream",
     "text": [
      "Epoch 201: ELBO (train) -838.528656188451\n"
     ]
    },
    {
     "name": "stdout",
     "output_type": "stream",
     "text": [
      "Epoch 301: ELBO (train) -369.20119278473118\n"
     ]
    },
    {
     "name": "stdout",
     "output_type": "stream",
     "text": [
      "Epoch 401: ELBO (train) -155.54011033976627\n"
     ]
    },
    {
     "name": "stdout",
     "output_type": "stream",
     "text": [
      "Epoch 501: ELBO (train) -53.708026016091175\n"
     ]
    },
    {
     "name": "stdout",
     "output_type": "stream",
     "text": [
      "Plotting...\n"
     ]
    },
    {
     "name": "stderr",
     "output_type": "stream",
     "text": [
      "Cleanup called...\n"
     ]
    },
    {
     "name": "stdout",
     "output_type": "stream",
     "text": [
      "Epoch 601: ELBO (train) -7.2030060045769524\n"
     ]
    },
    {
     "name": "stdout",
     "output_type": "stream",
     "text": [
      "Epoch 701: ELBO (train) 14.869034007581284\n"
     ]
    },
    {
     "name": "stdout",
     "output_type": "stream",
     "text": [
      "Epoch 801: ELBO (train) 26.988733531958971\n"
     ]
    },
    {
     "name": "stdout",
     "output_type": "stream",
     "text": [
      "Epoch 901: ELBO (train) 34.639336530676552\n"
     ]
    }
   ],
   "source": [
    "model = gpflow.models.SVGP(\n",
    "    kernel=kernel, likelihood=likelihood, inducing_variable=inducing_variable\n",
    ")\n",
    "\n",
    "monitored_training_loop(epochs=1000)"
   ]
  },
  {
   "cell_type": "markdown",
   "id": "7d94dd5b",
   "metadata": {},
   "source": [
    "Then, we can use TensorBoard to examine the training procedure in more detail"
   ]
  },
  {
   "cell_type": "code",
   "execution_count": 23,
   "id": "541a75cd",
   "metadata": {
    "execution": {
     "iopub.execute_input": "2022-03-07T11:40:02.117959Z",
     "iopub.status.busy": "2022-03-07T11:40:02.117705Z",
     "iopub.status.idle": "2022-03-07T11:40:02.120292Z",
     "shell.execute_reply": "2022-03-07T11:40:02.119817Z"
    }
   },
   "outputs": [],
   "source": [
    "# %tensorboard --logdir \"{output_logdir}\""
   ]
  },
  {
   "cell_type": "markdown",
   "id": "df30f1ec",
   "metadata": {},
   "source": [
    "## Saving and loading models\n",
    "\n",
    "### Checkpointing\n",
    "\n",
    "With the help of `tf.train.CheckpointManager` and `tf.train.Checkpoint`, we can checkpoint the model throughout the training procedure. Let's start with a simple example using checkpointing to save and load a `tf.Variable`:"
   ]
  },
  {
   "cell_type": "code",
   "execution_count": 24,
   "id": "c5de4e79",
   "metadata": {
    "execution": {
     "iopub.execute_input": "2022-03-07T11:40:02.122513Z",
     "iopub.status.busy": "2022-03-07T11:40:02.122282Z",
     "iopub.status.idle": "2022-03-07T11:40:02.126074Z",
     "shell.execute_reply": "2022-03-07T11:40:02.125463Z"
    }
   },
   "outputs": [],
   "source": [
    "initial_value = 1.2\n",
    "a = tf.Variable(initial_value)"
   ]
  },
  {
   "cell_type": "markdown",
   "id": "da522bab",
   "metadata": {},
   "source": [
    "Create `Checkpoint` object:"
   ]
  },
  {
   "cell_type": "code",
   "execution_count": 25,
   "id": "4977a979",
   "metadata": {
    "execution": {
     "iopub.execute_input": "2022-03-07T11:40:02.128420Z",
     "iopub.status.busy": "2022-03-07T11:40:02.128213Z",
     "iopub.status.idle": "2022-03-07T11:40:02.132383Z",
     "shell.execute_reply": "2022-03-07T11:40:02.131791Z"
    }
   },
   "outputs": [],
   "source": [
    "ckpt = tf.train.Checkpoint(a=a)\n",
    "manager = tf.train.CheckpointManager(ckpt, output_logdir, max_to_keep=3)"
   ]
  },
  {
   "cell_type": "markdown",
   "id": "4e3ac6eb",
   "metadata": {},
   "source": [
    "Save the variable `a` and change its value right after:"
   ]
  },
  {
   "cell_type": "code",
   "execution_count": 26,
   "id": "8ac32eb0",
   "metadata": {
    "execution": {
     "iopub.execute_input": "2022-03-07T11:40:02.134937Z",
     "iopub.status.busy": "2022-03-07T11:40:02.134717Z",
     "iopub.status.idle": "2022-03-07T11:40:02.143313Z",
     "shell.execute_reply": "2022-03-07T11:40:02.142784Z"
    }
   },
   "outputs": [],
   "source": [
    "manager.save()\n",
    "_ = a.assign(0.33)"
   ]
  },
  {
   "cell_type": "markdown",
   "id": "859310dd",
   "metadata": {},
   "source": [
    "Now we can restore the old variable value:"
   ]
  },
  {
   "cell_type": "code",
   "execution_count": 27,
   "id": "efe46c66",
   "metadata": {
    "execution": {
     "iopub.execute_input": "2022-03-07T11:40:02.146151Z",
     "iopub.status.busy": "2022-03-07T11:40:02.145928Z",
     "iopub.status.idle": "2022-03-07T11:40:02.152368Z",
     "shell.execute_reply": "2022-03-07T11:40:02.151839Z"
    }
   },
   "outputs": [
    {
     "name": "stdout",
     "output_type": "stream",
     "text": [
      "Current value of variable a: 0.330\n",
      "Value of variable a after restore: 1.200\n"
     ]
    }
   ],
   "source": [
    "print(f\"Current value of variable a: {a.numpy():0.3f}\")\n",
    "\n",
    "ckpt.restore(manager.latest_checkpoint)\n",
    "\n",
    "print(f\"Value of variable a after restore: {a.numpy():0.3f}\")"
   ]
  },
  {
   "cell_type": "markdown",
   "id": "fe9fe515",
   "metadata": {},
   "source": [
    "In the example below, we modify a simple training loop to save the model every 100 epochs using the `CheckpointManager`."
   ]
  },
  {
   "cell_type": "code",
   "execution_count": 28,
   "id": "1c1b42bd",
   "metadata": {
    "execution": {
     "iopub.execute_input": "2022-03-07T11:40:02.154797Z",
     "iopub.status.busy": "2022-03-07T11:40:02.154557Z",
     "iopub.status.idle": "2022-03-07T11:40:02.171105Z",
     "shell.execute_reply": "2022-03-07T11:40:02.170531Z"
    }
   },
   "outputs": [],
   "source": [
    "model = gpflow.models.SVGP(\n",
    "    kernel=kernel, likelihood=likelihood, inducing_variable=inducing_variable\n",
    ")\n",
    "\n",
    "\n",
    "def checkpointing_training_loop(\n",
    "    model: gpflow.models.SVGP,\n",
    "    batch_size: int,\n",
    "    epochs: int,\n",
    "    manager: tf.train.CheckpointManager,\n",
    "    logging_epoch_freq: int = 100,\n",
    "    epoch_var: Optional[tf.Variable] = None,\n",
    "    step_var: Optional[tf.Variable] = None,\n",
    "):\n",
    "    tf_optimization_step = tf.function(optimization_step)\n",
    "\n",
    "    batches = iter(train_dataset)\n",
    "\n",
    "    for epoch in range(epochs):\n",
    "        for step in range(ci_niter(num_batches_per_epoch)):\n",
    "            tf_optimization_step(model, next(batches))\n",
    "            if step_var is not None:\n",
    "                step_var.assign(epoch * num_batches_per_epoch + step + 1)\n",
    "        if epoch_var is not None:\n",
    "            epoch_var.assign(epoch + 1)\n",
    "\n",
    "        epoch_id = epoch + 1\n",
    "        if epoch_id % logging_epoch_freq == 0:\n",
    "            ckpt_path = manager.save()\n",
    "            tf.print(f\"Epoch {epoch_id}: ELBO (train) {model.elbo(data)}, saved at {ckpt_path}\")"
   ]
  },
  {
   "cell_type": "code",
   "execution_count": 29,
   "id": "bf836a11",
   "metadata": {
    "execution": {
     "iopub.execute_input": "2022-03-07T11:40:02.174215Z",
     "iopub.status.busy": "2022-03-07T11:40:02.173968Z",
     "iopub.status.idle": "2022-03-07T11:40:07.237764Z",
     "shell.execute_reply": "2022-03-07T11:40:07.237170Z"
    }
   },
   "outputs": [
    {
     "name": "stdout",
     "output_type": "stream",
     "text": [
      "Checkpoint folder path at: /tmp/tensorboard/0\n"
     ]
    },
    {
     "name": "stdout",
     "output_type": "stream",
     "text": [
      "Epoch 100: ELBO (train) -148.7633723558392, saved at /tmp/tensorboard/0/ckpt-1\n"
     ]
    },
    {
     "name": "stdout",
     "output_type": "stream",
     "text": [
      "Epoch 200: ELBO (train) -8.281638769815281, saved at /tmp/tensorboard/0/ckpt-2\n"
     ]
    },
    {
     "name": "stdout",
     "output_type": "stream",
     "text": [
      "Epoch 300: ELBO (train) 24.841307077177735, saved at /tmp/tensorboard/0/ckpt-3\n"
     ]
    },
    {
     "name": "stdout",
     "output_type": "stream",
     "text": [
      "Epoch 400: ELBO (train) 36.77522554100095, saved at /tmp/tensorboard/0/ckpt-4\n"
     ]
    },
    {
     "name": "stdout",
     "output_type": "stream",
     "text": [
      "Epoch 500: ELBO (train) 42.13388390452799, saved at /tmp/tensorboard/0/ckpt-5\n"
     ]
    },
    {
     "name": "stdout",
     "output_type": "stream",
     "text": [
      "Epoch 600: ELBO (train) 45.04693993443813, saved at /tmp/tensorboard/0/ckpt-6\n"
     ]
    },
    {
     "name": "stdout",
     "output_type": "stream",
     "text": [
      "Epoch 700: ELBO (train) 46.89634130045864, saved at /tmp/tensorboard/0/ckpt-7\n"
     ]
    },
    {
     "name": "stdout",
     "output_type": "stream",
     "text": [
      "Epoch 800: ELBO (train) 48.22510708972089, saved at /tmp/tensorboard/0/ckpt-8\n"
     ]
    },
    {
     "name": "stdout",
     "output_type": "stream",
     "text": [
      "Epoch 900: ELBO (train) 49.27538845459077, saved at /tmp/tensorboard/0/ckpt-9\n"
     ]
    },
    {
     "name": "stdout",
     "output_type": "stream",
     "text": [
      "Epoch 1000: ELBO (train) 50.17219733401792, saved at /tmp/tensorboard/0/ckpt-10\n"
     ]
    }
   ],
   "source": [
    "step_var = tf.Variable(1, dtype=tf.int32, trainable=False)\n",
    "epoch_var = tf.Variable(1, dtype=tf.int32, trainable=False)\n",
    "ckpt = tf.train.Checkpoint(model=model, step=step_var, epoch=epoch_var)\n",
    "manager = tf.train.CheckpointManager(ckpt, output_logdir, max_to_keep=5)\n",
    "\n",
    "print(f\"Checkpoint folder path at: {output_logdir}\")\n",
    "\n",
    "checkpointing_training_loop(\n",
    "    model,\n",
    "    batch_size=batch_size,\n",
    "    epochs=1000,\n",
    "    manager=manager,\n",
    "    epoch_var=epoch_var,\n",
    "    step_var=step_var,\n",
    ")"
   ]
  },
  {
   "cell_type": "markdown",
   "id": "4335b63a",
   "metadata": {},
   "source": [
    "After the models have been saved, we can restore them using ```tf.train.Checkpoint.restore``` and assert that their performance corresponds to that logged during training."
   ]
  },
  {
   "cell_type": "code",
   "execution_count": 30,
   "id": "bc4b7ea3",
   "metadata": {
    "execution": {
     "iopub.execute_input": "2022-03-07T11:40:07.240832Z",
     "iopub.status.busy": "2022-03-07T11:40:07.240573Z",
     "iopub.status.idle": "2022-03-07T11:40:07.399528Z",
     "shell.execute_reply": "2022-03-07T11:40:07.398742Z"
    }
   },
   "outputs": [
    {
     "name": "stdout",
     "output_type": "stream",
     "text": [
      "0 restored model from epoch 600 [step:1800] : ELBO training set 45.04693993443813\n",
      "1 restored model from epoch 700 [step:2100] : ELBO training set 46.89634130045864\n",
      "2 restored model from epoch 800 [step:2400] : ELBO training set 48.22510708972089\n",
      "3 restored model from epoch 900 [step:2700] : ELBO training set 49.27538845459077\n",
      "4 restored model from epoch 1000 [step:3000] : ELBO training set 50.17219733401792\n"
     ]
    }
   ],
   "source": [
    "for i, recorded_checkpoint in enumerate(manager.checkpoints):\n",
    "    ckpt.restore(recorded_checkpoint)\n",
    "    print(\n",
    "        f\"{i} restored model from epoch {int(epoch_var)} [step:{int(step_var)}] : ELBO training set {model.elbo(data)}\"\n",
    "    )"
   ]
  },
  {
   "cell_type": "markdown",
   "id": "683445b3",
   "metadata": {},
   "source": [
    "### Copying (hyper)parameter values between models\n",
    "\n",
    "It is easy to interact with the set of all parameters of a model or a subcomponent programmatically.\n",
    "\n",
    "The following returns a dictionary of all parameters within"
   ]
  },
  {
   "cell_type": "code",
   "execution_count": 31,
   "id": "cbd31fee",
   "metadata": {
    "execution": {
     "iopub.execute_input": "2022-03-07T11:40:07.402829Z",
     "iopub.status.busy": "2022-03-07T11:40:07.402545Z",
     "iopub.status.idle": "2022-03-07T11:40:07.417637Z",
     "shell.execute_reply": "2022-03-07T11:40:07.417073Z"
    }
   },
   "outputs": [],
   "source": [
    "model = gpflow.models.SGPR(data, kernel=kernel, inducing_variable=inducing_variable)"
   ]
  },
  {
   "cell_type": "code",
   "execution_count": 32,
   "id": "46e589a8",
   "metadata": {
    "execution": {
     "iopub.execute_input": "2022-03-07T11:40:07.421018Z",
     "iopub.status.busy": "2022-03-07T11:40:07.420712Z",
     "iopub.status.idle": "2022-03-07T11:40:07.432101Z",
     "shell.execute_reply": "2022-03-07T11:40:07.431343Z"
    }
   },
   "outputs": [
    {
     "data": {
      "text/plain": [
       "{'.kernel.variance': <Parameter: dtype=float64, shape=[], fn=\"softplus\", numpy=0.8871404585083305>,\n",
       " '.kernel.lengthscales': <Parameter: dtype=float64, shape=[], fn=\"softplus\", numpy=1.6798650145312535>,\n",
       " '.likelihood.variance': <Parameter: dtype=float64, shape=[], fn=\"chain_of_shift_of_softplus\", numpy=1.0>,\n",
       " '.inducing_variable.Z': <Parameter: dtype=float64, shape=[10, 1], fn=\"identity\", numpy=\n",
       " array([[ 0.        ],\n",
       "        [ 1.11111111],\n",
       "        [ 2.22222222],\n",
       "        [ 3.33333333],\n",
       "        [ 4.44444444],\n",
       "        [ 5.55555556],\n",
       "        [ 6.66666667],\n",
       "        [ 7.77777778],\n",
       "        [ 8.88888889],\n",
       "        [10.        ]])>}"
      ]
     },
     "execution_count": 32,
     "metadata": {},
     "output_type": "execute_result"
    }
   ],
   "source": [
    "gpflow.utilities.parameter_dict(model)"
   ]
  },
  {
   "cell_type": "markdown",
   "id": "6ecf62fb",
   "metadata": {},
   "source": [
    "Such a dictionary can be assigned back to this model (or another model with the same tree of parameters) as follows:"
   ]
  },
  {
   "cell_type": "code",
   "execution_count": 33,
   "id": "a21706ac",
   "metadata": {
    "execution": {
     "iopub.execute_input": "2022-03-07T11:40:07.434741Z",
     "iopub.status.busy": "2022-03-07T11:40:07.434453Z",
     "iopub.status.idle": "2022-03-07T11:40:07.444333Z",
     "shell.execute_reply": "2022-03-07T11:40:07.443654Z"
    }
   },
   "outputs": [],
   "source": [
    "params = gpflow.utilities.parameter_dict(model)\n",
    "gpflow.utilities.multiple_assign(model, params)"
   ]
  },
  {
   "cell_type": "markdown",
   "id": "32577407",
   "metadata": {},
   "source": [
    "### TensorFlow `saved_model`\n",
    "\n",
    "In order to save the model we need to explicitly store the `tf.function`-compiled functions that we wish to export:"
   ]
  },
  {
   "cell_type": "code",
   "execution_count": 34,
   "id": "39339dd6",
   "metadata": {
    "execution": {
     "iopub.execute_input": "2022-03-07T11:40:07.447277Z",
     "iopub.status.busy": "2022-03-07T11:40:07.446999Z",
     "iopub.status.idle": "2022-03-07T11:40:07.450808Z",
     "shell.execute_reply": "2022-03-07T11:40:07.450261Z"
    }
   },
   "outputs": [],
   "source": [
    "model.predict_f_compiled = tf.function(\n",
    "    model.predict_f, input_signature=[tf.TensorSpec(shape=[None, 1], dtype=tf.float64)]\n",
    ")"
   ]
  },
  {
   "cell_type": "markdown",
   "id": "3469c2d6",
   "metadata": {},
   "source": [
    "We also save the original prediction for later comparison. Here `samples_input` needs to be a tensor so that `tf.function` will compile a single graph:"
   ]
  },
  {
   "cell_type": "code",
   "execution_count": 35,
   "id": "75a31935",
   "metadata": {
    "execution": {
     "iopub.execute_input": "2022-03-07T11:40:07.453189Z",
     "iopub.status.busy": "2022-03-07T11:40:07.452980Z",
     "iopub.status.idle": "2022-03-07T11:40:07.984106Z",
     "shell.execute_reply": "2022-03-07T11:40:07.983533Z"
    }
   },
   "outputs": [],
   "source": [
    "samples_input = tf.convert_to_tensor(samples_input, dtype=default_float())\n",
    "original_result = model.predict_f_compiled(samples_input)"
   ]
  },
  {
   "cell_type": "markdown",
   "id": "412f7110",
   "metadata": {
    "lines_to_next_cell": 0
   },
   "source": [
    "Let's save the model:"
   ]
  },
  {
   "cell_type": "code",
   "execution_count": 36,
   "id": "20382ad1",
   "metadata": {
    "execution": {
     "iopub.execute_input": "2022-03-07T11:40:07.988108Z",
     "iopub.status.busy": "2022-03-07T11:40:07.987830Z",
     "iopub.status.idle": "2022-03-07T11:40:08.427675Z",
     "shell.execute_reply": "2022-03-07T11:40:08.427018Z"
    }
   },
   "outputs": [
    {
     "name": "stderr",
     "output_type": "stream",
     "text": [
      "WARNING:absl:Function `predict_f` contains input name(s) Xnew with unsupported characters which will be renamed to xnew in the SavedModel.\n"
     ]
    },
    {
     "name": "stdout",
     "output_type": "stream",
     "text": [
      "WARNING:tensorflow:From /home/circleci/project/.venv/lib/python3.7/site-packages/tensorflow/python/training/tracking/tracking.py:102: Bijector.has_static_min_event_ndims (from tensorflow_probability.python.bijectors.bijector) is deprecated and will be removed after 2021-08-01.\n",
      "Instructions for updating:\n",
      "`min_event_ndims` is now static for all bijectors; this property is no longer needed.\n"
     ]
    },
    {
     "name": "stderr",
     "output_type": "stream",
     "text": [
      "WARNING:tensorflow:From /home/circleci/project/.venv/lib/python3.7/site-packages/tensorflow/python/training/tracking/tracking.py:102: Bijector.has_static_min_event_ndims (from tensorflow_probability.python.bijectors.bijector) is deprecated and will be removed after 2021-08-01.\n",
      "Instructions for updating:\n",
      "`min_event_ndims` is now static for all bijectors; this property is no longer needed.\n"
     ]
    },
    {
     "name": "stdout",
     "output_type": "stream",
     "text": [
      "INFO:tensorflow:Assets written to: /tmp/assets\n"
     ]
    },
    {
     "name": "stderr",
     "output_type": "stream",
     "text": [
      "INFO:tensorflow:Assets written to: /tmp/assets\n"
     ]
    }
   ],
   "source": [
    "save_dir = str(pathlib.Path(tempfile.gettempdir()))\n",
    "tf.saved_model.save(model, save_dir)"
   ]
  },
  {
   "cell_type": "markdown",
   "id": "06f0e75e",
   "metadata": {},
   "source": [
    "We can load the module back as a new instance and compare the prediction results:"
   ]
  },
  {
   "cell_type": "code",
   "execution_count": 37,
   "id": "a2f5faaa",
   "metadata": {
    "execution": {
     "iopub.execute_input": "2022-03-07T11:40:08.431430Z",
     "iopub.status.busy": "2022-03-07T11:40:08.431158Z",
     "iopub.status.idle": "2022-03-07T11:40:08.620135Z",
     "shell.execute_reply": "2022-03-07T11:40:08.619520Z"
    }
   },
   "outputs": [
    {
     "name": "stderr",
     "output_type": "stream",
     "text": [
      "WARNING:absl:Importing a function (__inference_predict_f_55853) with ops with unsaved custom gradients. Will likely fail if a gradient is requested.\n"
     ]
    }
   ],
   "source": [
    "loaded_model = tf.saved_model.load(save_dir)\n",
    "loaded_result = loaded_model.predict_f_compiled(samples_input)\n",
    "\n",
    "np.testing.assert_array_equal(loaded_result, original_result)"
   ]
  },
  {
   "cell_type": "markdown",
   "id": "14dd57b3",
   "metadata": {},
   "source": [
    "## User config update\n",
    "\n",
    "In this notebook, we used a lot `gpflow.config` methods for setting and getting default attributes from global configuration. However, GPflow provides a way for local config modification without updating values in global. As you can see below, using `gpflow.config.as_context` replaces temporarily global config with your instance. At creation time, custom config instance uses standard values from the global config:"
   ]
  },
  {
   "cell_type": "code",
   "execution_count": 38,
   "id": "e47ff59f",
   "metadata": {
    "execution": {
     "iopub.execute_input": "2022-03-07T11:40:08.623479Z",
     "iopub.status.busy": "2022-03-07T11:40:08.623181Z",
     "iopub.status.idle": "2022-03-07T11:40:08.628751Z",
     "shell.execute_reply": "2022-03-07T11:40:08.628121Z"
    }
   },
   "outputs": [
    {
     "name": "stdout",
     "output_type": "stream",
     "text": [
      "User config\t gpflow.config.default_float = <dtype: 'float32'>\n",
      "User config\t gpflow.config.positive_bijector = exp\n",
      "Global config\t gpflow.config.default_float = <class 'numpy.float64'>\n",
      "Global config\t gpflow.config.positive_bijector = softplus\n"
     ]
    }
   ],
   "source": [
    "user_config = gpflow.config.Config(float=tf.float32, positive_bijector=\"exp\")\n",
    "\n",
    "user_str = \"User config\\t\"\n",
    "global_str = \"Global config\\t\"\n",
    "\n",
    "with gpflow.config.as_context(user_config):\n",
    "    print(f\"{user_str} gpflow.config.default_float = {gpflow.config.default_float()}\")\n",
    "    print(\n",
    "        f\"{user_str} gpflow.config.positive_bijector = {gpflow.config.default_positive_bijector()}\"\n",
    "    )\n",
    "\n",
    "print(f\"{global_str} gpflow.config.default_float = {gpflow.config.default_float()}\")\n",
    "print(f\"{global_str} gpflow.config.positive_bijector = {gpflow.config.default_positive_bijector()}\")"
   ]
  },
  {
   "cell_type": "code",
   "execution_count": 39,
   "id": "1e88d69f",
   "metadata": {
    "execution": {
     "iopub.execute_input": "2022-03-07T11:40:08.631500Z",
     "iopub.status.busy": "2022-03-07T11:40:08.631242Z",
     "iopub.status.idle": "2022-03-07T11:40:08.644469Z",
     "shell.execute_reply": "2022-03-07T11:40:08.643804Z"
    }
   },
   "outputs": [
    {
     "name": "stdout",
     "output_type": "stream",
     "text": [
      "User config\t<Parameter: dtype=float32, shape=[], fn=\"exp\", numpy=1.1>\n",
      "Global config\t<Parameter: dtype=float64, shape=[], fn=\"softplus\", numpy=1.1>\n"
     ]
    }
   ],
   "source": [
    "with gpflow.config.as_context(user_config):\n",
    "    p = gpflow.Parameter(1.1, transform=gpflow.utilities.positive())\n",
    "    print(f\"{user_str}{p}\")\n",
    "\n",
    "p = gpflow.Parameter(1.1, transform=gpflow.utilities.positive())\n",
    "print(f\"{global_str}{p}\")"
   ]
  }
 ],
 "metadata": {
  "jupytext": {
   "formats": "ipynb,.pct.py:percent"
  },
  "kernelspec": {
   "display_name": "Python 3",
   "language": "python",
   "name": "python3"
  },
  "language_info": {
   "codemirror_mode": {
    "name": "ipython",
    "version": 3
   },
   "file_extension": ".py",
   "mimetype": "text/x-python",
   "name": "python",
   "nbconvert_exporter": "python",
   "pygments_lexer": "ipython3",
   "version": "3.7.12"
  }
 },
 "nbformat": 4,
 "nbformat_minor": 5
}
