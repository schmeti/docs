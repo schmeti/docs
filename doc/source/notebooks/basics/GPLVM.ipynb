{
 "cells": [
  {
   "cell_type": "markdown",
   "id": "bab624a7",
   "metadata": {},
   "source": [
    "# Bayesian Gaussian process latent variable model (Bayesian GPLVM)\n",
    "This notebook shows how to use the Bayesian GPLVM model. This is an unsupervised learning method usually used for dimensionality reduction. For an in-depth overview of GPLVMs,see **[1, 2]**."
   ]
  },
  {
   "cell_type": "code",
   "execution_count": 1,
   "id": "dbf3c3ce",
   "metadata": {
    "execution": {
     "iopub.execute_input": "2022-03-08T11:06:58.928019Z",
     "iopub.status.busy": "2022-03-08T11:06:58.927718Z",
     "iopub.status.idle": "2022-03-08T11:07:02.270817Z",
     "shell.execute_reply": "2022-03-08T11:07:02.270233Z"
    }
   },
   "outputs": [
    {
     "name": "stderr",
     "output_type": "stream",
     "text": [
      "2022-03-08 11:06:59.320170: W tensorflow/stream_executor/platform/default/dso_loader.cc:64] Could not load dynamic library 'libcudart.so.11.0'; dlerror: libcudart.so.11.0: cannot open shared object file: No such file or directory\n",
      "2022-03-08 11:06:59.320213: I tensorflow/stream_executor/cuda/cudart_stub.cc:29] Ignore above cudart dlerror if you do not have a GPU set up on your machine.\n"
     ]
    }
   ],
   "source": [
    "import gpflow\n",
    "import numpy as np\n",
    "\n",
    "import matplotlib.pyplot as plt\n",
    "import tensorflow as tf\n",
    "\n",
    "import gpflow\n",
    "from gpflow.utilities import ops, print_summary\n",
    "from gpflow.config import set_default_float, default_float, set_default_summary_fmt\n",
    "from gpflow.ci_utils import ci_niter\n",
    "\n",
    "set_default_float(np.float64)\n",
    "set_default_summary_fmt(\"notebook\")\n",
    "\n",
    "%matplotlib inline"
   ]
  },
  {
   "cell_type": "markdown",
   "id": "0643b0eb",
   "metadata": {},
   "source": [
    "## Data\n",
    "We are using the \"three phase oil flow\" dataset used initially for demonstrating the Generative Topographic mapping from **[3]**."
   ]
  },
  {
   "cell_type": "code",
   "execution_count": 2,
   "id": "435bb7f4",
   "metadata": {
    "execution": {
     "iopub.execute_input": "2022-03-08T11:07:02.273915Z",
     "iopub.status.busy": "2022-03-08T11:07:02.273642Z",
     "iopub.status.idle": "2022-03-08T11:07:02.277664Z",
     "shell.execute_reply": "2022-03-08T11:07:02.277100Z"
    }
   },
   "outputs": [],
   "source": [
    "data = np.load(\"./data/three_phase_oil_flow.npz\")"
   ]
  },
  {
   "cell_type": "markdown",
   "id": "07f736a6",
   "metadata": {},
   "source": [
    "Following the GPflow notation we assume this dataset has a shape of `[num_data, output_dim]`"
   ]
  },
  {
   "cell_type": "code",
   "execution_count": 3,
   "id": "b6e3a9ca",
   "metadata": {
    "execution": {
     "iopub.execute_input": "2022-03-08T11:07:02.280365Z",
     "iopub.status.busy": "2022-03-08T11:07:02.280113Z",
     "iopub.status.idle": "2022-03-08T11:07:02.289167Z",
     "shell.execute_reply": "2022-03-08T11:07:02.288399Z"
    }
   },
   "outputs": [
    {
     "name": "stderr",
     "output_type": "stream",
     "text": [
      "2022-03-08 11:07:02.282631: W tensorflow/stream_executor/platform/default/dso_loader.cc:64] Could not load dynamic library 'libcuda.so.1'; dlerror: libcuda.so.1: cannot open shared object file: No such file or directory\n",
      "2022-03-08 11:07:02.282660: W tensorflow/stream_executor/cuda/cuda_driver.cc:269] failed call to cuInit: UNKNOWN ERROR (303)\n",
      "2022-03-08 11:07:02.282679: I tensorflow/stream_executor/cuda/cuda_diagnostics.cc:156] kernel driver does not appear to be running on this host (02c6642140f6): /proc/driver/nvidia/version does not exist\n"
     ]
    },
    {
     "name": "stderr",
     "output_type": "stream",
     "text": [
      "2022-03-08 11:07:02.282965: I tensorflow/core/platform/cpu_feature_guard.cc:142] This TensorFlow binary is optimized with oneAPI Deep Neural Network Library (oneDNN) to use the following CPU instructions in performance-critical operations:  AVX2 AVX512F FMA\n",
      "To enable them in other operations, rebuild TensorFlow with the appropriate compiler flags.\n"
     ]
    }
   ],
   "source": [
    "Y = tf.convert_to_tensor(data[\"Y\"], dtype=default_float())"
   ]
  },
  {
   "cell_type": "markdown",
   "id": "95ce638c",
   "metadata": {},
   "source": [
    "Integer in $[0, 2]$ indicating to which class the data point belongs (shape `[num_data,]`). Not used for model fitting, only for plotting afterwards."
   ]
  },
  {
   "cell_type": "code",
   "execution_count": 4,
   "id": "d2eec01f",
   "metadata": {
    "execution": {
     "iopub.execute_input": "2022-03-08T11:07:02.293385Z",
     "iopub.status.busy": "2022-03-08T11:07:02.293122Z",
     "iopub.status.idle": "2022-03-08T11:07:02.297390Z",
     "shell.execute_reply": "2022-03-08T11:07:02.296610Z"
    }
   },
   "outputs": [],
   "source": [
    "labels = tf.convert_to_tensor(data[\"labels\"])"
   ]
  },
  {
   "cell_type": "code",
   "execution_count": 5,
   "id": "40ff981a",
   "metadata": {
    "execution": {
     "iopub.execute_input": "2022-03-08T11:07:02.299946Z",
     "iopub.status.busy": "2022-03-08T11:07:02.299714Z",
     "iopub.status.idle": "2022-03-08T11:07:02.303441Z",
     "shell.execute_reply": "2022-03-08T11:07:02.302783Z"
    }
   },
   "outputs": [
    {
     "name": "stdout",
     "output_type": "stream",
     "text": [
      "Number of points: 100 and Number of dimensions: 12\n"
     ]
    }
   ],
   "source": [
    "print(\"Number of points: {} and Number of dimensions: {}\".format(Y.shape[0], Y.shape[1]))"
   ]
  },
  {
   "cell_type": "markdown",
   "id": "f24881fa",
   "metadata": {},
   "source": [
    "## Model construction\n",
    "\n",
    "We start by initializing the required variables:"
   ]
  },
  {
   "cell_type": "code",
   "execution_count": 6,
   "id": "c3e04de3",
   "metadata": {
    "execution": {
     "iopub.execute_input": "2022-03-08T11:07:02.306077Z",
     "iopub.status.busy": "2022-03-08T11:07:02.305848Z",
     "iopub.status.idle": "2022-03-08T11:07:02.309481Z",
     "shell.execute_reply": "2022-03-08T11:07:02.308701Z"
    }
   },
   "outputs": [],
   "source": [
    "latent_dim = 2  # number of latent dimensions\n",
    "num_inducing = 20  # number of inducing pts\n",
    "num_data = Y.shape[0]  # number of data points"
   ]
  },
  {
   "cell_type": "markdown",
   "id": "d1f1f9f3",
   "metadata": {},
   "source": [
    "Initialize via PCA:"
   ]
  },
  {
   "cell_type": "code",
   "execution_count": 7,
   "id": "ed92c934",
   "metadata": {
    "execution": {
     "iopub.execute_input": "2022-03-08T11:07:02.312559Z",
     "iopub.status.busy": "2022-03-08T11:07:02.312232Z",
     "iopub.status.idle": "2022-03-08T11:07:02.326044Z",
     "shell.execute_reply": "2022-03-08T11:07:02.325489Z"
    }
   },
   "outputs": [],
   "source": [
    "X_mean_init = ops.pca_reduce(Y, latent_dim)\n",
    "X_var_init = tf.ones((num_data, latent_dim), dtype=default_float())"
   ]
  },
  {
   "cell_type": "markdown",
   "id": "115f34f6",
   "metadata": {},
   "source": [
    "Pick inducing inputs randomly from dataset initialization:"
   ]
  },
  {
   "cell_type": "code",
   "execution_count": 8,
   "id": "0c2b8308",
   "metadata": {
    "execution": {
     "iopub.execute_input": "2022-03-08T11:07:02.329861Z",
     "iopub.status.busy": "2022-03-08T11:07:02.329602Z",
     "iopub.status.idle": "2022-03-08T11:07:02.333344Z",
     "shell.execute_reply": "2022-03-08T11:07:02.332804Z"
    }
   },
   "outputs": [],
   "source": [
    "np.random.seed(1)  # for reproducibility\n",
    "inducing_variable = tf.convert_to_tensor(\n",
    "    np.random.permutation(X_mean_init.numpy())[:num_inducing], dtype=default_float()\n",
    ")"
   ]
  },
  {
   "cell_type": "markdown",
   "id": "02c01716",
   "metadata": {},
   "source": [
    "We construct a Squared Exponential (SE) kernel operating on the two-dimensional latent space.\n",
    "The `ARD` parameter stands for Automatic Relevance Determination, which in practice means that\n",
    "we learn a different lengthscale for each of the input dimensions. See [Manipulating kernels](../advanced/kernels.ipynb) for more information."
   ]
  },
  {
   "cell_type": "code",
   "execution_count": 9,
   "id": "25589940",
   "metadata": {
    "execution": {
     "iopub.execute_input": "2022-03-08T11:07:02.336826Z",
     "iopub.status.busy": "2022-03-08T11:07:02.336580Z",
     "iopub.status.idle": "2022-03-08T11:07:02.349331Z",
     "shell.execute_reply": "2022-03-08T11:07:02.348761Z"
    }
   },
   "outputs": [],
   "source": [
    "lengthscales = tf.convert_to_tensor([1.0] * latent_dim, dtype=default_float())\n",
    "kernel = gpflow.kernels.RBF(lengthscales=lengthscales)"
   ]
  },
  {
   "cell_type": "markdown",
   "id": "d7ff1667",
   "metadata": {},
   "source": [
    "We have all the necessary ingredients to construct the model. GPflow contains an implementation of the Bayesian GPLVM:"
   ]
  },
  {
   "cell_type": "code",
   "execution_count": 10,
   "id": "343e3ff0",
   "metadata": {
    "execution": {
     "iopub.execute_input": "2022-03-08T11:07:02.352206Z",
     "iopub.status.busy": "2022-03-08T11:07:02.351935Z",
     "iopub.status.idle": "2022-03-08T11:07:02.371524Z",
     "shell.execute_reply": "2022-03-08T11:07:02.370980Z"
    }
   },
   "outputs": [],
   "source": [
    "gplvm = gpflow.models.BayesianGPLVM(\n",
    "    Y,\n",
    "    X_data_mean=X_mean_init,\n",
    "    X_data_var=X_var_init,\n",
    "    kernel=kernel,\n",
    "    inducing_variable=inducing_variable,\n",
    ")\n",
    "# Instead of passing an inducing_variable directly, we can also set the num_inducing_variables argument to an integer, which will randomly pick from the data."
   ]
  },
  {
   "cell_type": "markdown",
   "id": "82c0082e",
   "metadata": {},
   "source": [
    "We change the default likelihood variance, which is 1, to 0.01."
   ]
  },
  {
   "cell_type": "code",
   "execution_count": 11,
   "id": "73ec9093",
   "metadata": {
    "execution": {
     "iopub.execute_input": "2022-03-08T11:07:02.375395Z",
     "iopub.status.busy": "2022-03-08T11:07:02.375103Z",
     "iopub.status.idle": "2022-03-08T11:07:02.384336Z",
     "shell.execute_reply": "2022-03-08T11:07:02.383830Z"
    }
   },
   "outputs": [
    {
     "data": {
      "text/plain": [
       "<tf.Variable 'UnreadVariable' shape=() dtype=float64, numpy=-4.600266525158521>"
      ]
     },
     "execution_count": 11,
     "metadata": {},
     "output_type": "execute_result"
    }
   ],
   "source": [
    "gplvm.likelihood.variance.assign(0.01)"
   ]
  },
  {
   "cell_type": "markdown",
   "id": "ea5ce03a",
   "metadata": {},
   "source": [
    "Next we optimize the created model. Given that this model has a deterministic evidence lower bound (ELBO), we can use SciPy's BFGS optimizer."
   ]
  },
  {
   "cell_type": "code",
   "execution_count": 12,
   "id": "3d85e226",
   "metadata": {
    "execution": {
     "iopub.execute_input": "2022-03-08T11:07:02.387242Z",
     "iopub.status.busy": "2022-03-08T11:07:02.386932Z",
     "iopub.status.idle": "2022-03-08T11:09:05.109734Z",
     "shell.execute_reply": "2022-03-08T11:09:05.109139Z"
    }
   },
   "outputs": [
    {
     "name": "stderr",
     "output_type": "stream",
     "text": [
      "2022-03-08 11:07:02.399316: W tensorflow/python/util/util.cc:348] Sets are not currently considered sequences, but this may change in the future, so consider avoiding using them.\n"
     ]
    },
    {
     "name": "stderr",
     "output_type": "stream",
     "text": [
      "2022-03-08 11:07:06.598904: I tensorflow/compiler/mlir/mlir_graph_optimization_pass.cc:185] None of the MLIR Optimization Passes are enabled (registered 2)\n"
     ]
    }
   ],
   "source": [
    "opt = gpflow.optimizers.Scipy()\n",
    "maxiter = ci_niter(1000)\n",
    "_ = opt.minimize(\n",
    "    gplvm.training_loss,\n",
    "    method=\"BFGS\",\n",
    "    variables=gplvm.trainable_variables,\n",
    "    options=dict(maxiter=maxiter),\n",
    ")"
   ]
  },
  {
   "cell_type": "markdown",
   "id": "15152e04",
   "metadata": {},
   "source": [
    "## Model analysis\n",
    "GPflow allows you to inspect the learned model hyperparameters."
   ]
  },
  {
   "cell_type": "code",
   "execution_count": 13,
   "id": "bfec1d1b",
   "metadata": {
    "execution": {
     "iopub.execute_input": "2022-03-08T11:09:05.112755Z",
     "iopub.status.busy": "2022-03-08T11:09:05.112528Z",
     "iopub.status.idle": "2022-03-08T11:09:05.130088Z",
     "shell.execute_reply": "2022-03-08T11:09:05.129613Z"
    }
   },
   "outputs": [
    {
     "data": {
      "text/html": [
       "<table>\n",
       "<thead>\n",
       "<tr><th>name                             </th><th>class    </th><th>transform       </th><th>prior  </th><th>trainable  </th><th>shape   </th><th>dtype  </th><th>value                               </th></tr>\n",
       "</thead>\n",
       "<tbody>\n",
       "<tr><td>BayesianGPLVM.kernel.variance    </td><td>Parameter</td><td>Softplus        </td><td>       </td><td>True       </td><td>()      </td><td>float64</td><td>0.8378352061144433                  </td></tr>\n",
       "<tr><td>BayesianGPLVM.kernel.lengthscales</td><td>Parameter</td><td>Softplus        </td><td>       </td><td>True       </td><td>(2,)    </td><td>float64</td><td>[0.81627498 1.78261592]             </td></tr>\n",
       "<tr><td>BayesianGPLVM.likelihood.variance</td><td>Parameter</td><td>Softplus + Shift</td><td>       </td><td>True       </td><td>()      </td><td>float64</td><td>0.00671318022052699                 </td></tr>\n",
       "<tr><td>BayesianGPLVM.X_data_mean        </td><td>Parameter</td><td>Identity        </td><td>       </td><td>True       </td><td>(100, 2)</td><td>float64</td><td>[[-9.13690131e-01, 3.14164277e+00...</td></tr>\n",
       "<tr><td>BayesianGPLVM.X_data_var         </td><td>Parameter</td><td>Softplus        </td><td>       </td><td>True       </td><td>(100, 2)</td><td>float64</td><td>[[0.00034303, 0.00150816...         </td></tr>\n",
       "<tr><td>BayesianGPLVM.inducing_variable.Z</td><td>Parameter</td><td>Identity        </td><td>       </td><td>True       </td><td>(20, 2) </td><td>float64</td><td>[[0.97126444, -1.05034183...        </td></tr>\n",
       "</tbody>\n",
       "</table>"
      ],
      "text/plain": [
       "<IPython.core.display.HTML object>"
      ]
     },
     "metadata": {},
     "output_type": "display_data"
    }
   ],
   "source": [
    "print_summary(gplvm)"
   ]
  },
  {
   "cell_type": "markdown",
   "id": "d4a43161",
   "metadata": {},
   "source": [
    "## Plotting vs. Principle Component Analysis (PCA)\n",
    "The reduction of the dimensionality of the dataset to two dimensions allows us to visualize the learned manifold.\n",
    "We compare the Bayesian GPLVM's latent space to the deterministic PCA's one."
   ]
  },
  {
   "cell_type": "code",
   "execution_count": 14,
   "id": "b6de7bb5",
   "metadata": {
    "execution": {
     "iopub.execute_input": "2022-03-08T11:09:05.132479Z",
     "iopub.status.busy": "2022-03-08T11:09:05.132242Z",
     "iopub.status.idle": "2022-03-08T11:09:05.473069Z",
     "shell.execute_reply": "2022-03-08T11:09:05.472359Z"
    }
   },
   "outputs": [
    {
     "data": {
      "image/png": "[encoded data removed]",
      "text/plain": [
       "<Figure size 720x432 with 2 Axes>"
      ]
     },
     "metadata": {
      "needs_background": "light"
     },
     "output_type": "display_data"
    }
   ],
   "source": [
    "X_pca = ops.pca_reduce(Y, latent_dim).numpy()\n",
    "gplvm_X_mean = gplvm.X_data_mean.numpy()\n",
    "\n",
    "f, ax = plt.subplots(1, 2, figsize=(10, 6))\n",
    "\n",
    "for i in np.unique(labels):\n",
    "    ax[0].scatter(X_pca[labels == i, 0], X_pca[labels == i, 1], label=i)\n",
    "    ax[1].scatter(gplvm_X_mean[labels == i, 0], gplvm_X_mean[labels == i, 1], label=i)\n",
    "    ax[0].set_title(\"PCA\")\n",
    "    ax[1].set_title(\"Bayesian GPLVM\")"
   ]
  },
  {
   "cell_type": "code",
   "execution_count": null,
   "id": "b98b574d",
   "metadata": {},
   "outputs": [],
   "source": []
  },
  {
   "cell_type": "markdown",
   "id": "f150f9b7",
   "metadata": {},
   "source": [
    "## References\n",
    "\\[1\\] Lawrence, Neil D. 'Gaussian process latent variable models for visualization of high dimensional data'. *Advances in Neural Information Processing Systems*. 2004.\n",
    "\n",
    "\\[2\\] Titsias, Michalis, and Neil D. Lawrence. 'Bayesian Gaussian process latent variable model'. *Proceedings of the Thirteenth International Conference on Artificial Intelligence and Statistics*. 2010.\n",
    "\n",
    "\\[3\\] Bishop, Christopher M., and Gwilym D. James. 'Analysis of multiphase flows using dual-energy gamma densitometry and neural networks'. *Nuclear Instruments and Methods in Physics Research Section A: Accelerators, Spectrometers, Detectors and Associated Equipment* 327.2-3 (1993): 580-593."
   ]
  }
 ],
 "metadata": {
  "jupytext": {
   "formats": "ipynb,.pct.py:percent"
  },
  "kernelspec": {
   "display_name": "Python 3",
   "language": "python",
   "name": "python3"
  },
  "language_info": {
   "codemirror_mode": {
    "name": "ipython",
    "version": 3
   },
   "file_extension": ".py",
   "mimetype": "text/x-python",
   "name": "python",
   "nbconvert_exporter": "python",
   "pygments_lexer": "ipython3",
   "version": "3.7.12"
  }
 },
 "nbformat": 4,
 "nbformat_minor": 5
}
