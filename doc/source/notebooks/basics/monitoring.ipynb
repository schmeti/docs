{
 "cells": [
  {
   "cell_type": "markdown",
   "id": "3bbba6f5",
   "metadata": {},
   "source": [
    "# Monitoring Optimisation\n",
    "\n",
    "In this notebook we cover how to monitor the model and certain metrics during optimisation.\n",
    "\n",
    "## Setup"
   ]
  },
  {
   "cell_type": "code",
   "execution_count": 1,
   "id": "75d4c629",
   "metadata": {
    "execution": {
     "iopub.execute_input": "2022-02-22T14:58:16.087234Z",
     "iopub.status.busy": "2022-02-22T14:58:16.085118Z",
     "iopub.status.idle": "2022-02-22T14:58:19.115004Z",
     "shell.execute_reply": "2022-02-22T14:58:19.115458Z"
    }
   },
   "outputs": [],
   "source": [
    "import numpy as np\n",
    "import matplotlib.pyplot as plt\n",
    "import tensorflow as tf\n",
    "\n",
    "import gpflow\n",
    "from gpflow.ci_utils import ci_niter\n",
    "\n",
    "np.random.seed(0)"
   ]
  },
  {
   "cell_type": "markdown",
   "id": "68c102d6",
   "metadata": {},
   "source": [
    "The monitoring functionality lives in `gpflow.monitor`.\n",
    "For now, we import `ModelToTensorBoard`, `ImageToTensorBoard`, `ScalarToTensorBoard` monitoring tasks and `MonitorTaskGroup` and `Monitor`."
   ]
  },
  {
   "cell_type": "code",
   "execution_count": 2,
   "id": "10e1b054",
   "metadata": {
    "execution": {
     "iopub.execute_input": "2022-02-22T14:58:19.119579Z",
     "iopub.status.busy": "2022-02-22T14:58:19.119099Z",
     "iopub.status.idle": "2022-02-22T14:58:19.120776Z",
     "shell.execute_reply": "2022-02-22T14:58:19.121188Z"
    }
   },
   "outputs": [],
   "source": [
    "from gpflow.monitor import (\n",
    "    ImageToTensorBoard,\n",
    "    ModelToTensorBoard,\n",
    "    Monitor,\n",
    "    MonitorTaskGroup,\n",
    "    ScalarToTensorBoard,\n",
    ")"
   ]
  },
  {
   "cell_type": "markdown",
   "id": "01149277",
   "metadata": {},
   "source": [
    "## Set up data and model"
   ]
  },
  {
   "cell_type": "code",
   "execution_count": 3,
   "id": "ac8abb0c",
   "metadata": {
    "execution": {
     "iopub.execute_input": "2022-02-22T14:58:19.124649Z",
     "iopub.status.busy": "2022-02-22T14:58:19.124192Z",
     "iopub.status.idle": "2022-02-22T14:58:19.125891Z",
     "shell.execute_reply": "2022-02-22T14:58:19.126257Z"
    }
   },
   "outputs": [],
   "source": [
    "# Define some configuration constants.\n",
    "\n",
    "num_data = 100\n",
    "noise_std = 0.1\n",
    "optimisation_steps = ci_niter(100)"
   ]
  },
  {
   "cell_type": "code",
   "execution_count": 4,
   "id": "b4ab7ec0",
   "metadata": {
    "execution": {
     "iopub.execute_input": "2022-02-22T14:58:19.144819Z",
     "iopub.status.busy": "2022-02-22T14:58:19.143072Z",
     "iopub.status.idle": "2022-02-22T14:58:19.252398Z",
     "shell.execute_reply": "2022-02-22T14:58:19.253155Z"
    }
   },
   "outputs": [
    {
     "data": {
      "text/plain": [
       "[<matplotlib.lines.Line2D at 0x7f19b9d3f080>]"
      ]
     },
     "execution_count": 1,
     "metadata": {},
     "output_type": "execute_result"
    },
    {
     "data": {
      "image/png": "[encoded data removed]",
      "text/plain": [
       "<Figure size 432x288 with 1 Axes>"
      ]
     },
     "metadata": {
      "needs_background": "light"
     },
     "output_type": "display_data"
    }
   ],
   "source": [
    "# Create dummy data.\n",
    "\n",
    "X = np.random.randn(num_data, 1)  # [N, 2]\n",
    "Y = np.sin(X) + 0.5 * np.cos(X) + np.random.randn(*X.shape) * noise_std  # [N, 1]\n",
    "plt.plot(X, Y, \"o\")"
   ]
  },
  {
   "cell_type": "code",
   "execution_count": 5,
   "id": "eb500591",
   "metadata": {
    "execution": {
     "iopub.execute_input": "2022-02-22T14:58:19.271701Z",
     "iopub.status.busy": "2022-02-22T14:58:19.270792Z",
     "iopub.status.idle": "2022-02-22T14:58:19.326396Z",
     "shell.execute_reply": "2022-02-22T14:58:19.327100Z"
    },
    "lines_to_next_cell": 2
   },
   "outputs": [
    {
     "data": {
      "text/html": [
       "&lt;gpflow.models.gpr.GPR object at 0x7f19b1cbd8d0&gt;\n",
       "<table>\n",
       "<thead>\n",
       "<tr><th>name                              </th><th>class    </th><th>transform       </th><th>prior  </th><th>trainable  </th><th>shape  </th><th>dtype  </th><th>value               </th></tr>\n",
       "</thead>\n",
       "<tbody>\n",
       "<tr><td>GPR.kernel.kernels[0].variance    </td><td>Parameter</td><td>Softplus        </td><td>       </td><td>True       </td><td>()     </td><td>float64</td><td>1.0                 </td></tr>\n",
       "<tr><td>GPR.kernel.kernels[0].lengthscales</td><td>Parameter</td><td>Softplus        </td><td>       </td><td>True       </td><td>(2,)   </td><td>float64</td><td>[1. 2.]             </td></tr>\n",
       "<tr><td>GPR.kernel.kernels[1].variance    </td><td>Parameter</td><td>Softplus        </td><td>       </td><td>True       </td><td>()     </td><td>float64</td><td>1.0                 </td></tr>\n",
       "<tr><td>GPR.likelihood.variance           </td><td>Parameter</td><td>Softplus + Shift</td><td>       </td><td>True       </td><td>()     </td><td>float64</td><td>0.009999999999999998</td></tr>\n",
       "</tbody>\n",
       "</table>"
      ],
      "text/plain": [
       "<gpflow.models.gpr.GPR object at 0x7f19b1cbd8d0>\n",
       "╒════════════════════════════════════╤═══════════╤══════════════════╤═════════╤═════════════╤═════════╤═════════╤══════════════════════╕\n",
       "│ name                               │ class     │ transform        │ prior   │ trainable   │ shape   │ dtype   │ value                │\n",
       "╞════════════════════════════════════╪═══════════╪══════════════════╪═════════╪═════════════╪═════════╪═════════╪══════════════════════╡\n",
       "│ GPR.kernel.kernels[0].variance     │ Parameter │ Softplus         │         │ True        │ ()      │ float64 │ 1.0                  │\n",
       "├────────────────────────────────────┼───────────┼──────────────────┼─────────┼─────────────┼─────────┼─────────┼──────────────────────┤\n",
       "│ GPR.kernel.kernels[0].lengthscales │ Parameter │ Softplus         │         │ True        │ (2,)    │ float64 │ [1. 2.]              │\n",
       "├────────────────────────────────────┼───────────┼──────────────────┼─────────┼─────────────┼─────────┼─────────┼──────────────────────┤\n",
       "│ GPR.kernel.kernels[1].variance     │ Parameter │ Softplus         │         │ True        │ ()      │ float64 │ 1.0                  │\n",
       "├────────────────────────────────────┼───────────┼──────────────────┼─────────┼─────────────┼─────────┼─────────┼──────────────────────┤\n",
       "│ GPR.likelihood.variance            │ Parameter │ Softplus + Shift │         │ True        │ ()      │ float64 │ 0.009999999999999998 │\n",
       "╘════════════════════════════════════╧═══════════╧══════════════════╧═════════╧═════════════╧═════════╧═════════╧══════════════════════╛"
      ]
     },
     "execution_count": 1,
     "metadata": {},
     "output_type": "execute_result"
    }
   ],
   "source": [
    "# Set up model and print\n",
    "\n",
    "kernel = gpflow.kernels.SquaredExponential(lengthscales=[1.0, 2.0]) + gpflow.kernels.Linear()\n",
    "model = gpflow.models.GPR((X, Y), kernel, noise_variance=noise_std ** 2)\n",
    "model"
   ]
  },
  {
   "cell_type": "code",
   "execution_count": 6,
   "id": "d068a6c7",
   "metadata": {
    "execution": {
     "iopub.execute_input": "2022-02-22T14:58:19.345532Z",
     "iopub.status.busy": "2022-02-22T14:58:19.344573Z",
     "iopub.status.idle": "2022-02-22T14:58:19.498387Z",
     "shell.execute_reply": "2022-02-22T14:58:19.499105Z"
    }
   },
   "outputs": [
    {
     "data": {
      "image/png": "[encoded data removed]",
      "text/plain": [
       "<Figure size 432x288 with 1 Axes>"
      ]
     },
     "metadata": {
      "needs_background": "light"
     },
     "output_type": "display_data"
    }
   ],
   "source": [
    "# We define a function that plots the model's prediction (in the form of samples) together with the data.\n",
    "# Importantly, this function has no other argument than `fig: matplotlib.figure.Figure` and `ax: matplotlib.figure.Axes`.\n",
    "\n",
    "\n",
    "def plot_prediction(fig, ax):\n",
    "    Xnew = np.linspace(X.min() - 0.5, X.max() + 0.5, 100).reshape(-1, 1)\n",
    "    Ypred = model.predict_f_samples(Xnew, full_cov=True, num_samples=20)\n",
    "    ax.plot(Xnew.flatten(), np.squeeze(Ypred).T, \"C1\", alpha=0.2)\n",
    "    ax.plot(X, Y, \"o\")\n",
    "\n",
    "\n",
    "# Let's check if the function does the desired plotting\n",
    "fig = plt.figure()\n",
    "ax = fig.subplots()\n",
    "plot_prediction(fig, ax)\n",
    "plt.show()"
   ]
  },
  {
   "cell_type": "markdown",
   "id": "47ac3c2b",
   "metadata": {},
   "source": [
    "## Set up monitoring tasks\n",
    "\n",
    "We now define the `MonitorTask`s that will be executed during the optimisation.\n",
    "For this tutorial we set up three tasks:\n",
    "- `ModelToTensorBoard`: writes the models hyper-parameters such as `likelihood.variance` and `kernel.lengthscales` to a TensorBoard.\n",
    "- `ImageToTensorBoard`: writes custom matplotlib images to a TensorBoard.\n",
    "- `ScalarToTensorBoard`: writes any scalar value to a TensorBoard. Here, we use it to write the model's training objective."
   ]
  },
  {
   "cell_type": "code",
   "execution_count": 7,
   "id": "9112674a",
   "metadata": {
    "execution": {
     "iopub.execute_input": "2022-02-22T14:58:19.504898Z",
     "iopub.status.busy": "2022-02-22T14:58:19.504034Z",
     "iopub.status.idle": "2022-02-22T14:58:19.522877Z",
     "shell.execute_reply": "2022-02-22T14:58:19.523270Z"
    }
   },
   "outputs": [],
   "source": [
    "log_dir = \"logs\"  # Directory where TensorBoard files will be written.\n",
    "model_task = ModelToTensorBoard(log_dir, model)\n",
    "image_task = ImageToTensorBoard(log_dir, plot_prediction, \"image_samples\")\n",
    "lml_task = ScalarToTensorBoard(log_dir, lambda: model.training_loss(), \"training_objective\")"
   ]
  },
  {
   "cell_type": "markdown",
   "id": "45beff16",
   "metadata": {},
   "source": [
    "We now group the tasks in a set of fast and slow tasks and pass them to the monitor.\n",
    "This allows us to execute the groups at a different frequency."
   ]
  },
  {
   "cell_type": "code",
   "execution_count": 8,
   "id": "5c57bb9b",
   "metadata": {
    "execution": {
     "iopub.execute_input": "2022-02-22T14:58:19.529348Z",
     "iopub.status.busy": "2022-02-22T14:58:19.528799Z",
     "iopub.status.idle": "2022-02-22T14:58:19.530838Z",
     "shell.execute_reply": "2022-02-22T14:58:19.531234Z"
    },
    "lines_to_next_cell": 2
   },
   "outputs": [],
   "source": [
    "# Plotting tasks can be quite slow. We want to run them less frequently.\n",
    "# We group them in a `MonitorTaskGroup` and set the period to 5.\n",
    "slow_tasks = MonitorTaskGroup(image_task, period=5)\n",
    "\n",
    "# The other tasks are fast. We run them at each iteration of the optimisation.\n",
    "fast_tasks = MonitorTaskGroup([model_task, lml_task], period=1)\n",
    "\n",
    "# Both groups are passed to the monitor.\n",
    "# `slow_tasks` will be run five times less frequently than `fast_tasks`.\n",
    "monitor = Monitor(fast_tasks, slow_tasks)"
   ]
  },
  {
   "cell_type": "code",
   "execution_count": 9,
   "id": "d12acef0",
   "metadata": {
    "execution": {
     "iopub.execute_input": "2022-02-22T14:58:19.605733Z",
     "iopub.status.busy": "2022-02-22T14:58:19.569843Z",
     "iopub.status.idle": "2022-02-22T14:58:26.957601Z",
     "shell.execute_reply": "2022-02-22T14:58:26.957996Z"
    }
   },
   "outputs": [],
   "source": [
    "training_loss = model.training_loss_closure(\n",
    "    compile=True\n",
    ")  # compile=True (default): compiles using tf.function\n",
    "opt = tf.optimizers.Adam()\n",
    "\n",
    "for step in range(optimisation_steps):\n",
    "    opt.minimize(training_loss, model.trainable_variables)\n",
    "    monitor(step)  # <-- run the monitoring"
   ]
  },
  {
   "cell_type": "markdown",
   "id": "7c4ad058",
   "metadata": {
    "lines_to_next_cell": 2
   },
   "source": [
    "TensorBoard is accessible through the browser, after launching the server by running `tensorboard --logdir ${logdir}`.\n",
    "See the [TensorFlow documentation on TensorBoard](https://www.tensorflow.org/tensorboard/get_started) for more information."
   ]
  },
  {
   "cell_type": "markdown",
   "id": "f2170561",
   "metadata": {},
   "source": [
    "### For optimal performance, we can also wrap the monitor call inside `tf.function`:"
   ]
  },
  {
   "cell_type": "code",
   "execution_count": 10,
   "id": "bce9b324",
   "metadata": {
    "execution": {
     "iopub.execute_input": "2022-02-22T14:58:26.962761Z",
     "iopub.status.busy": "2022-02-22T14:58:26.962273Z",
     "iopub.status.idle": "2022-02-22T14:58:26.965644Z",
     "shell.execute_reply": "2022-02-22T14:58:26.966013Z"
    },
    "lines_to_next_cell": 2
   },
   "outputs": [],
   "source": [
    "opt = tf.optimizers.Adam()\n",
    "\n",
    "log_dir_compiled = f\"{log_dir}/compiled\"\n",
    "model_task = ModelToTensorBoard(log_dir_compiled, model)\n",
    "lml_task = ScalarToTensorBoard(\n",
    "    log_dir_compiled, lambda: model.training_loss(), \"training_objective\"\n",
    ")\n",
    "# Note that the `ImageToTensorBoard` task cannot be compiled, and is omitted from the monitoring\n",
    "monitor = Monitor(MonitorTaskGroup([model_task, lml_task]))"
   ]
  },
  {
   "cell_type": "markdown",
   "id": "78f5b544",
   "metadata": {
    "lines_to_next_cell": 2
   },
   "source": [
    "In the optimisation loop below we use `tf.range` (rather than Python's built-in range) to avoid re-tracing the `step` function each time."
   ]
  },
  {
   "cell_type": "code",
   "execution_count": 11,
   "id": "e87718af",
   "metadata": {
    "execution": {
     "iopub.execute_input": "2022-02-22T14:58:26.970879Z",
     "iopub.status.busy": "2022-02-22T14:58:26.970420Z",
     "iopub.status.idle": "2022-02-22T14:58:29.156720Z",
     "shell.execute_reply": "2022-02-22T14:58:29.156271Z"
    }
   },
   "outputs": [],
   "source": [
    "@tf.function\n",
    "def step(i):\n",
    "    opt.minimize(model.training_loss, model.trainable_variables)\n",
    "    monitor(i)\n",
    "\n",
    "\n",
    "# Notice the tf.range\n",
    "for i in tf.range(optimisation_steps):\n",
    "    step(i)"
   ]
  },
  {
   "cell_type": "markdown",
   "id": "f7ed99d3",
   "metadata": {},
   "source": [
    "When opening TensorBoard, you may need to use the command `tensorboard --logdir . --reload_multifile=true`, as multiple `FileWriter` objects are used."
   ]
  },
  {
   "cell_type": "markdown",
   "id": "a7a188c8",
   "metadata": {},
   "source": [
    "### Scipy Optimization monitoring\n",
    "\n",
    "Note that if you want to use the `Scipy` optimizer provided by GPflow, and want to monitor the training progress, then you need to simply replace\n",
    "the optimization loop with a single call to its `minimize` method and pass in the monitor as a `step_callback` keyword argument:\n"
   ]
  },
  {
   "cell_type": "code",
   "execution_count": 12,
   "id": "d3458647",
   "metadata": {
    "execution": {
     "iopub.execute_input": "2022-02-22T14:58:29.162027Z",
     "iopub.status.busy": "2022-02-22T14:58:29.161549Z",
     "iopub.status.idle": "2022-02-22T14:58:29.181879Z",
     "shell.execute_reply": "2022-02-22T14:58:29.181464Z"
    }
   },
   "outputs": [],
   "source": [
    "opt = gpflow.optimizers.Scipy()\n",
    "\n",
    "log_dir_scipy = f\"{log_dir}/scipy\"\n",
    "model_task = ModelToTensorBoard(log_dir_scipy, model)\n",
    "lml_task = ScalarToTensorBoard(log_dir_scipy, lambda: model.training_loss(), \"training_objective\")\n",
    "image_task = ImageToTensorBoard(log_dir_scipy, plot_prediction, \"image_samples\")\n",
    "\n",
    "monitor = Monitor(\n",
    "    MonitorTaskGroup([model_task, lml_task], period=1), MonitorTaskGroup(image_task, period=5)\n",
    ")"
   ]
  },
  {
   "cell_type": "code",
   "execution_count": 13,
   "id": "574309d4",
   "metadata": {
    "execution": {
     "iopub.execute_input": "2022-02-22T14:58:29.189710Z",
     "iopub.status.busy": "2022-02-22T14:58:29.189208Z",
     "iopub.status.idle": "2022-02-22T14:58:31.483161Z",
     "shell.execute_reply": "2022-02-22T14:58:31.483545Z"
    }
   },
   "outputs": [
    {
     "data": {
      "text/plain": [
       "      fun: -69.68099880888639\n",
       " hess_inv: <5x5 LbfgsInvHessProduct with dtype=float64>\n",
       "      jac: array([-2.96735889e-04, -4.30340744e-04,  3.97827072e-04,  2.26011082e-06,\n",
       "        4.29136828e-04])\n",
       "  message: b'CONVERGENCE: REL_REDUCTION_OF_F_<=_FACTR*EPSMCH'\n",
       "     nfev: 37\n",
       "      nit: 28\n",
       "     njev: 37\n",
       "   status: 0\n",
       "  success: True\n",
       "        x: array([  2.07005975,   1.74612938,   0.18194305, -15.2187489 ,\n",
       "        -4.53840856])"
      ]
     },
     "execution_count": 1,
     "metadata": {},
     "output_type": "execute_result"
    }
   ],
   "source": [
    "opt.minimize(training_loss, model.trainable_variables, step_callback=monitor)"
   ]
  },
  {
   "cell_type": "code",
   "execution_count": null,
   "id": "854807f9",
   "metadata": {},
   "outputs": [],
   "source": []
  }
 ],
 "metadata": {
  "jupytext": {
   "formats": "ipynb,.pct.py:percent"
  },
  "kernelspec": {
   "display_name": "Python 3",
   "language": "python",
   "name": "python3"
  },
  "language_info": {
   "codemirror_mode": {
    "name": "ipython",
    "version": 3
   },
   "file_extension": ".py",
   "mimetype": "text/x-python",
   "name": "python",
   "nbconvert_exporter": "python",
   "pygments_lexer": "ipython3",
   "version": "3.6.15"
  }
 },
 "nbformat": 4,
 "nbformat_minor": 5
}
