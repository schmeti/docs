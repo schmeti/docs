{
 "cells": [
  {
   "cell_type": "markdown",
   "id": "80a3a858",
   "metadata": {},
   "source": [
    "# Monitoring Optimisation\n",
    "\n",
    "In this notebook we cover how to monitor the model and certain metrics during optimisation.\n",
    "\n",
    "## Setup"
   ]
  },
  {
   "cell_type": "code",
   "execution_count": 1,
   "id": "47cc304b",
   "metadata": {
    "execution": {
     "iopub.execute_input": "2022-02-23T11:24:55.919117Z",
     "iopub.status.busy": "2022-02-23T11:24:55.917565Z",
     "iopub.status.idle": "2022-02-23T11:24:59.063780Z",
     "shell.execute_reply": "2022-02-23T11:24:59.063233Z"
    }
   },
   "outputs": [],
   "source": [
    "import numpy as np\n",
    "import matplotlib.pyplot as plt\n",
    "import tensorflow as tf\n",
    "\n",
    "import gpflow\n",
    "from gpflow.ci_utils import ci_niter\n",
    "\n",
    "np.random.seed(0)"
   ]
  },
  {
   "cell_type": "markdown",
   "id": "14a7286d",
   "metadata": {},
   "source": [
    "The monitoring functionality lives in `gpflow.monitor`.\n",
    "For now, we import `ModelToTensorBoard`, `ImageToTensorBoard`, `ScalarToTensorBoard` monitoring tasks and `MonitorTaskGroup` and `Monitor`."
   ]
  },
  {
   "cell_type": "code",
   "execution_count": 2,
   "id": "5edbee65",
   "metadata": {
    "execution": {
     "iopub.execute_input": "2022-02-23T11:24:59.067787Z",
     "iopub.status.busy": "2022-02-23T11:24:59.067330Z",
     "iopub.status.idle": "2022-02-23T11:24:59.069413Z",
     "shell.execute_reply": "2022-02-23T11:24:59.069783Z"
    }
   },
   "outputs": [],
   "source": [
    "from gpflow.monitor import (\n",
    "    ImageToTensorBoard,\n",
    "    ModelToTensorBoard,\n",
    "    Monitor,\n",
    "    MonitorTaskGroup,\n",
    "    ScalarToTensorBoard,\n",
    ")"
   ]
  },
  {
   "cell_type": "markdown",
   "id": "d2a24937",
   "metadata": {},
   "source": [
    "## Set up data and model"
   ]
  },
  {
   "cell_type": "code",
   "execution_count": 3,
   "id": "7d5b9410",
   "metadata": {
    "execution": {
     "iopub.execute_input": "2022-02-23T11:24:59.073724Z",
     "iopub.status.busy": "2022-02-23T11:24:59.072922Z",
     "iopub.status.idle": "2022-02-23T11:24:59.075061Z",
     "shell.execute_reply": "2022-02-23T11:24:59.075658Z"
    }
   },
   "outputs": [],
   "source": [
    "# Define some configuration constants.\n",
    "\n",
    "num_data = 100\n",
    "noise_std = 0.1\n",
    "optimisation_steps = ci_niter(100)"
   ]
  },
  {
   "cell_type": "code",
   "execution_count": 4,
   "id": "a9821384",
   "metadata": {
    "execution": {
     "iopub.execute_input": "2022-02-23T11:24:59.094407Z",
     "iopub.status.busy": "2022-02-23T11:24:59.092950Z",
     "iopub.status.idle": "2022-02-23T11:24:59.206041Z",
     "shell.execute_reply": "2022-02-23T11:24:59.205431Z"
    }
   },
   "outputs": [
    {
     "data": {
      "text/plain": [
       "[<matplotlib.lines.Line2D at 0x7f1015c3d048>]"
      ]
     },
     "execution_count": 1,
     "metadata": {},
     "output_type": "execute_result"
    },
    {
     "data": {
      "image/png": "[encoded data removed]",
      "text/plain": [
       "<Figure size 432x288 with 1 Axes>"
      ]
     },
     "metadata": {
      "needs_background": "light"
     },
     "output_type": "display_data"
    }
   ],
   "source": [
    "# Create dummy data.\n",
    "\n",
    "X = np.random.randn(num_data, 1)  # [N, 2]\n",
    "Y = np.sin(X) + 0.5 * np.cos(X) + np.random.randn(*X.shape) * noise_std  # [N, 1]\n",
    "plt.plot(X, Y, \"o\")"
   ]
  },
  {
   "cell_type": "code",
   "execution_count": 5,
   "id": "4cbac073",
   "metadata": {
    "execution": {
     "iopub.execute_input": "2022-02-23T11:24:59.224093Z",
     "iopub.status.busy": "2022-02-23T11:24:59.223435Z",
     "iopub.status.idle": "2022-02-23T11:24:59.279344Z",
     "shell.execute_reply": "2022-02-23T11:24:59.279766Z"
    },
    "lines_to_next_cell": 2
   },
   "outputs": [
    {
     "data": {
      "text/html": [
       "&lt;gpflow.models.gpr.GPR object at 0x7f100dbb98d0&gt;\n",
       "<table>\n",
       "<thead>\n",
       "<tr><th>name                              </th><th>class    </th><th>transform       </th><th>prior  </th><th>trainable  </th><th>shape  </th><th>dtype  </th><th>value               </th></tr>\n",
       "</thead>\n",
       "<tbody>\n",
       "<tr><td>GPR.kernel.kernels[0].variance    </td><td>Parameter</td><td>Softplus        </td><td>       </td><td>True       </td><td>()     </td><td>float64</td><td>1.0                 </td></tr>\n",
       "<tr><td>GPR.kernel.kernels[0].lengthscales</td><td>Parameter</td><td>Softplus        </td><td>       </td><td>True       </td><td>(2,)   </td><td>float64</td><td>[1. 2.]             </td></tr>\n",
       "<tr><td>GPR.kernel.kernels[1].variance    </td><td>Parameter</td><td>Softplus        </td><td>       </td><td>True       </td><td>()     </td><td>float64</td><td>1.0                 </td></tr>\n",
       "<tr><td>GPR.likelihood.variance           </td><td>Parameter</td><td>Softplus + Shift</td><td>       </td><td>True       </td><td>()     </td><td>float64</td><td>0.009999999999999998</td></tr>\n",
       "</tbody>\n",
       "</table>"
      ],
      "text/plain": [
       "<gpflow.models.gpr.GPR object at 0x7f100dbb98d0>\n",
       "╒════════════════════════════════════╤═══════════╤══════════════════╤═════════╤═════════════╤═════════╤═════════╤══════════════════════╕\n",
       "│ name                               │ class     │ transform        │ prior   │ trainable   │ shape   │ dtype   │ value                │\n",
       "╞════════════════════════════════════╪═══════════╪══════════════════╪═════════╪═════════════╪═════════╪═════════╪══════════════════════╡\n",
       "│ GPR.kernel.kernels[0].variance     │ Parameter │ Softplus         │         │ True        │ ()      │ float64 │ 1.0                  │\n",
       "├────────────────────────────────────┼───────────┼──────────────────┼─────────┼─────────────┼─────────┼─────────┼──────────────────────┤\n",
       "│ GPR.kernel.kernels[0].lengthscales │ Parameter │ Softplus         │         │ True        │ (2,)    │ float64 │ [1. 2.]              │\n",
       "├────────────────────────────────────┼───────────┼──────────────────┼─────────┼─────────────┼─────────┼─────────┼──────────────────────┤\n",
       "│ GPR.kernel.kernels[1].variance     │ Parameter │ Softplus         │         │ True        │ ()      │ float64 │ 1.0                  │\n",
       "├────────────────────────────────────┼───────────┼──────────────────┼─────────┼─────────────┼─────────┼─────────┼──────────────────────┤\n",
       "│ GPR.likelihood.variance            │ Parameter │ Softplus + Shift │         │ True        │ ()      │ float64 │ 0.009999999999999998 │\n",
       "╘════════════════════════════════════╧═══════════╧══════════════════╧═════════╧═════════════╧═════════╧═════════╧══════════════════════╛"
      ]
     },
     "execution_count": 1,
     "metadata": {},
     "output_type": "execute_result"
    }
   ],
   "source": [
    "# Set up model and print\n",
    "\n",
    "kernel = gpflow.kernels.SquaredExponential(lengthscales=[1.0, 2.0]) + gpflow.kernels.Linear()\n",
    "model = gpflow.models.GPR((X, Y), kernel, noise_variance=noise_std ** 2)\n",
    "model"
   ]
  },
  {
   "cell_type": "code",
   "execution_count": 6,
   "id": "3a76faa1",
   "metadata": {
    "execution": {
     "iopub.execute_input": "2022-02-23T11:24:59.297010Z",
     "iopub.status.busy": "2022-02-23T11:24:59.296524Z",
     "iopub.status.idle": "2022-02-23T11:24:59.451934Z",
     "shell.execute_reply": "2022-02-23T11:24:59.452311Z"
    }
   },
   "outputs": [
    {
     "data": {
      "image/png": "[encoded data removed]",
      "text/plain": [
       "<Figure size 432x288 with 1 Axes>"
      ]
     },
     "metadata": {
      "needs_background": "light"
     },
     "output_type": "display_data"
    }
   ],
   "source": [
    "# We define a function that plots the model's prediction (in the form of samples) together with the data.\n",
    "# Importantly, this function has no other argument than `fig: matplotlib.figure.Figure` and `ax: matplotlib.figure.Axes`.\n",
    "\n",
    "\n",
    "def plot_prediction(fig, ax):\n",
    "    Xnew = np.linspace(X.min() - 0.5, X.max() + 0.5, 100).reshape(-1, 1)\n",
    "    Ypred = model.predict_f_samples(Xnew, full_cov=True, num_samples=20)\n",
    "    ax.plot(Xnew.flatten(), np.squeeze(Ypred).T, \"C1\", alpha=0.2)\n",
    "    ax.plot(X, Y, \"o\")\n",
    "\n",
    "\n",
    "# Let's check if the function does the desired plotting\n",
    "fig = plt.figure()\n",
    "ax = fig.subplots()\n",
    "plot_prediction(fig, ax)\n",
    "plt.show()"
   ]
  },
  {
   "cell_type": "markdown",
   "id": "ed73fb8b",
   "metadata": {},
   "source": [
    "## Set up monitoring tasks\n",
    "\n",
    "We now define the `MonitorTask`s that will be executed during the optimisation.\n",
    "For this tutorial we set up three tasks:\n",
    "- `ModelToTensorBoard`: writes the models hyper-parameters such as `likelihood.variance` and `kernel.lengthscales` to a TensorBoard.\n",
    "- `ImageToTensorBoard`: writes custom matplotlib images to a TensorBoard.\n",
    "- `ScalarToTensorBoard`: writes any scalar value to a TensorBoard. Here, we use it to write the model's training objective."
   ]
  },
  {
   "cell_type": "code",
   "execution_count": 7,
   "id": "dbc478b4",
   "metadata": {
    "execution": {
     "iopub.execute_input": "2022-02-23T11:24:59.456803Z",
     "iopub.status.busy": "2022-02-23T11:24:59.456151Z",
     "iopub.status.idle": "2022-02-23T11:24:59.475900Z",
     "shell.execute_reply": "2022-02-23T11:24:59.475251Z"
    }
   },
   "outputs": [],
   "source": [
    "log_dir = \"logs\"  # Directory where TensorBoard files will be written.\n",
    "model_task = ModelToTensorBoard(log_dir, model)\n",
    "image_task = ImageToTensorBoard(log_dir, plot_prediction, \"image_samples\")\n",
    "lml_task = ScalarToTensorBoard(log_dir, lambda: model.training_loss(), \"training_objective\")"
   ]
  },
  {
   "cell_type": "markdown",
   "id": "e35080b7",
   "metadata": {},
   "source": [
    "We now group the tasks in a set of fast and slow tasks and pass them to the monitor.\n",
    "This allows us to execute the groups at a different frequency."
   ]
  },
  {
   "cell_type": "code",
   "execution_count": 8,
   "id": "0e908e89",
   "metadata": {
    "execution": {
     "iopub.execute_input": "2022-02-23T11:24:59.480852Z",
     "iopub.status.busy": "2022-02-23T11:24:59.480166Z",
     "iopub.status.idle": "2022-02-23T11:24:59.482079Z",
     "shell.execute_reply": "2022-02-23T11:24:59.482674Z"
    },
    "lines_to_next_cell": 2
   },
   "outputs": [],
   "source": [
    "# Plotting tasks can be quite slow. We want to run them less frequently.\n",
    "# We group them in a `MonitorTaskGroup` and set the period to 5.\n",
    "slow_tasks = MonitorTaskGroup(image_task, period=5)\n",
    "\n",
    "# The other tasks are fast. We run them at each iteration of the optimisation.\n",
    "fast_tasks = MonitorTaskGroup([model_task, lml_task], period=1)\n",
    "\n",
    "# Both groups are passed to the monitor.\n",
    "# `slow_tasks` will be run five times less frequently than `fast_tasks`.\n",
    "monitor = Monitor(fast_tasks, slow_tasks)"
   ]
  },
  {
   "cell_type": "code",
   "execution_count": 9,
   "id": "85642fe5",
   "metadata": {
    "execution": {
     "iopub.execute_input": "2022-02-23T11:24:59.558232Z",
     "iopub.status.busy": "2022-02-23T11:24:59.522662Z",
     "iopub.status.idle": "2022-02-23T11:25:06.781336Z",
     "shell.execute_reply": "2022-02-23T11:25:06.781763Z"
    }
   },
   "outputs": [],
   "source": [
    "training_loss = model.training_loss_closure(\n",
    "    compile=True\n",
    ")  # compile=True (default): compiles using tf.function\n",
    "opt = tf.optimizers.Adam()\n",
    "\n",
    "for step in range(optimisation_steps):\n",
    "    opt.minimize(training_loss, model.trainable_variables)\n",
    "    monitor(step)  # <-- run the monitoring"
   ]
  },
  {
   "cell_type": "markdown",
   "id": "713c96e6",
   "metadata": {
    "lines_to_next_cell": 2
   },
   "source": [
    "TensorBoard is accessible through the browser, after launching the server by running `tensorboard --logdir ${logdir}`.\n",
    "See the [TensorFlow documentation on TensorBoard](https://www.tensorflow.org/tensorboard/get_started) for more information."
   ]
  },
  {
   "cell_type": "markdown",
   "id": "f4cd49e5",
   "metadata": {},
   "source": [
    "### For optimal performance, we can also wrap the monitor call inside `tf.function`:"
   ]
  },
  {
   "cell_type": "code",
   "execution_count": 10,
   "id": "34648ed1",
   "metadata": {
    "execution": {
     "iopub.execute_input": "2022-02-23T11:25:06.786269Z",
     "iopub.status.busy": "2022-02-23T11:25:06.785817Z",
     "iopub.status.idle": "2022-02-23T11:25:06.788540Z",
     "shell.execute_reply": "2022-02-23T11:25:06.788882Z"
    },
    "lines_to_next_cell": 2
   },
   "outputs": [],
   "source": [
    "opt = tf.optimizers.Adam()\n",
    "\n",
    "log_dir_compiled = f\"{log_dir}/compiled\"\n",
    "model_task = ModelToTensorBoard(log_dir_compiled, model)\n",
    "lml_task = ScalarToTensorBoard(\n",
    "    log_dir_compiled, lambda: model.training_loss(), \"training_objective\"\n",
    ")\n",
    "# Note that the `ImageToTensorBoard` task cannot be compiled, and is omitted from the monitoring\n",
    "monitor = Monitor(MonitorTaskGroup([model_task, lml_task]))"
   ]
  },
  {
   "cell_type": "markdown",
   "id": "688fd27d",
   "metadata": {
    "lines_to_next_cell": 2
   },
   "source": [
    "In the optimisation loop below we use `tf.range` (rather than Python's built-in range) to avoid re-tracing the `step` function each time."
   ]
  },
  {
   "cell_type": "code",
   "execution_count": 11,
   "id": "618bae3a",
   "metadata": {
    "execution": {
     "iopub.execute_input": "2022-02-23T11:25:06.793360Z",
     "iopub.status.busy": "2022-02-23T11:25:06.792894Z",
     "iopub.status.idle": "2022-02-23T11:25:08.918776Z",
     "shell.execute_reply": "2022-02-23T11:25:08.918290Z"
    }
   },
   "outputs": [],
   "source": [
    "@tf.function\n",
    "def step(i):\n",
    "    opt.minimize(model.training_loss, model.trainable_variables)\n",
    "    monitor(i)\n",
    "\n",
    "\n",
    "# Notice the tf.range\n",
    "for i in tf.range(optimisation_steps):\n",
    "    step(i)"
   ]
  },
  {
   "cell_type": "markdown",
   "id": "e15c2b53",
   "metadata": {},
   "source": [
    "When opening TensorBoard, you may need to use the command `tensorboard --logdir . --reload_multifile=true`, as multiple `FileWriter` objects are used."
   ]
  },
  {
   "cell_type": "markdown",
   "id": "fdb58ba3",
   "metadata": {},
   "source": [
    "### Scipy Optimization monitoring\n",
    "\n",
    "Note that if you want to use the `Scipy` optimizer provided by GPflow, and want to monitor the training progress, then you need to simply replace\n",
    "the optimization loop with a single call to its `minimize` method and pass in the monitor as a `step_callback` keyword argument:\n"
   ]
  },
  {
   "cell_type": "code",
   "execution_count": 12,
   "id": "d443e8ad",
   "metadata": {
    "execution": {
     "iopub.execute_input": "2022-02-23T11:25:08.923620Z",
     "iopub.status.busy": "2022-02-23T11:25:08.923137Z",
     "iopub.status.idle": "2022-02-23T11:25:08.942905Z",
     "shell.execute_reply": "2022-02-23T11:25:08.943653Z"
    }
   },
   "outputs": [],
   "source": [
    "opt = gpflow.optimizers.Scipy()\n",
    "\n",
    "log_dir_scipy = f\"{log_dir}/scipy\"\n",
    "model_task = ModelToTensorBoard(log_dir_scipy, model)\n",
    "lml_task = ScalarToTensorBoard(log_dir_scipy, lambda: model.training_loss(), \"training_objective\")\n",
    "image_task = ImageToTensorBoard(log_dir_scipy, plot_prediction, \"image_samples\")\n",
    "\n",
    "monitor = Monitor(\n",
    "    MonitorTaskGroup([model_task, lml_task], period=1), MonitorTaskGroup(image_task, period=5)\n",
    ")"
   ]
  },
  {
   "cell_type": "code",
   "execution_count": 13,
   "id": "ffbff1a0",
   "metadata": {
    "execution": {
     "iopub.execute_input": "2022-02-23T11:25:08.952220Z",
     "iopub.status.busy": "2022-02-23T11:25:08.951711Z",
     "iopub.status.idle": "2022-02-23T11:25:11.071242Z",
     "shell.execute_reply": "2022-02-23T11:25:11.071649Z"
    }
   },
   "outputs": [
    {
     "data": {
      "text/plain": [
       "      fun: -69.68099880888639\n",
       " hess_inv: <5x5 LbfgsInvHessProduct with dtype=float64>\n",
       "      jac: array([-2.96735889e-04, -4.30340744e-04,  3.97827072e-04,  2.26011082e-06,\n",
       "        4.29136828e-04])\n",
       "  message: b'CONVERGENCE: REL_REDUCTION_OF_F_<=_FACTR*EPSMCH'\n",
       "     nfev: 37\n",
       "      nit: 28\n",
       "     njev: 37\n",
       "   status: 0\n",
       "  success: True\n",
       "        x: array([  2.07005975,   1.74612938,   0.18194305, -15.2187489 ,\n",
       "        -4.53840856])"
      ]
     },
     "execution_count": 1,
     "metadata": {},
     "output_type": "execute_result"
    }
   ],
   "source": [
    "opt.minimize(training_loss, model.trainable_variables, step_callback=monitor)"
   ]
  },
  {
   "cell_type": "code",
   "execution_count": null,
   "id": "4c535369",
   "metadata": {},
   "outputs": [],
   "source": []
  }
 ],
 "metadata": {
  "jupytext": {
   "formats": "ipynb,.pct.py:percent"
  },
  "kernelspec": {
   "display_name": "Python 3",
   "language": "python",
   "name": "python3"
  },
  "language_info": {
   "codemirror_mode": {
    "name": "ipython",
    "version": 3
   },
   "file_extension": ".py",
   "mimetype": "text/x-python",
   "name": "python",
   "nbconvert_exporter": "python",
   "pygments_lexer": "ipython3",
   "version": "3.6.15"
  }
 },
 "nbformat": 4,
 "nbformat_minor": 5
}
