{
 "cells": [
  {
   "cell_type": "markdown",
   "id": "b3c2bd3c",
   "metadata": {},
   "source": [
    "# Monitoring Optimisation\n",
    "\n",
    "In this notebook we cover how to monitor the model and certain metrics during optimisation.\n",
    "\n",
    "## Setup"
   ]
  },
  {
   "cell_type": "code",
   "execution_count": 1,
   "id": "8eb0915b",
   "metadata": {
    "execution": {
     "iopub.execute_input": "2022-03-08T11:09:31.749974Z",
     "iopub.status.busy": "2022-03-08T11:09:31.749652Z",
     "iopub.status.idle": "2022-03-08T11:09:34.878162Z",
     "shell.execute_reply": "2022-03-08T11:09:34.877595Z"
    }
   },
   "outputs": [
    {
     "name": "stderr",
     "output_type": "stream",
     "text": [
      "2022-03-08 11:09:32.838711: W tensorflow/stream_executor/platform/default/dso_loader.cc:64] Could not load dynamic library 'libcudart.so.11.0'; dlerror: libcudart.so.11.0: cannot open shared object file: No such file or directory\n",
      "2022-03-08 11:09:32.838742: I tensorflow/stream_executor/cuda/cudart_stub.cc:29] Ignore above cudart dlerror if you do not have a GPU set up on your machine.\n"
     ]
    }
   ],
   "source": [
    "import numpy as np\n",
    "import matplotlib.pyplot as plt\n",
    "import tensorflow as tf\n",
    "\n",
    "import gpflow\n",
    "from gpflow.ci_utils import ci_niter\n",
    "\n",
    "np.random.seed(0)"
   ]
  },
  {
   "cell_type": "markdown",
   "id": "2fe9fa86",
   "metadata": {},
   "source": [
    "The monitoring functionality lives in `gpflow.monitor`.\n",
    "For now, we import `ModelToTensorBoard`, `ImageToTensorBoard`, `ScalarToTensorBoard` monitoring tasks and `MonitorTaskGroup` and `Monitor`."
   ]
  },
  {
   "cell_type": "code",
   "execution_count": 2,
   "id": "5c14c8d8",
   "metadata": {
    "execution": {
     "iopub.execute_input": "2022-03-08T11:09:34.881256Z",
     "iopub.status.busy": "2022-03-08T11:09:34.881013Z",
     "iopub.status.idle": "2022-03-08T11:09:34.883887Z",
     "shell.execute_reply": "2022-03-08T11:09:34.883405Z"
    }
   },
   "outputs": [],
   "source": [
    "from gpflow.monitor import (\n",
    "    ImageToTensorBoard,\n",
    "    ModelToTensorBoard,\n",
    "    Monitor,\n",
    "    MonitorTaskGroup,\n",
    "    ScalarToTensorBoard,\n",
    ")"
   ]
  },
  {
   "cell_type": "markdown",
   "id": "d4183067",
   "metadata": {},
   "source": [
    "## Set up data and model"
   ]
  },
  {
   "cell_type": "code",
   "execution_count": 3,
   "id": "30bd8836",
   "metadata": {
    "execution": {
     "iopub.execute_input": "2022-03-08T11:09:34.886315Z",
     "iopub.status.busy": "2022-03-08T11:09:34.886096Z",
     "iopub.status.idle": "2022-03-08T11:09:34.888983Z",
     "shell.execute_reply": "2022-03-08T11:09:34.888520Z"
    }
   },
   "outputs": [],
   "source": [
    "# Define some configuration constants.\n",
    "\n",
    "num_data = 100\n",
    "noise_std = 0.1\n",
    "optimisation_steps = ci_niter(100)"
   ]
  },
  {
   "cell_type": "code",
   "execution_count": 4,
   "id": "9db7773e",
   "metadata": {
    "execution": {
     "iopub.execute_input": "2022-03-08T11:09:34.891311Z",
     "iopub.status.busy": "2022-03-08T11:09:34.891097Z",
     "iopub.status.idle": "2022-03-08T11:09:34.993708Z",
     "shell.execute_reply": "2022-03-08T11:09:34.992993Z"
    }
   },
   "outputs": [
    {
     "data": {
      "text/plain": [
       "[<matplotlib.lines.Line2D at 0x7f01913f4810>]"
      ]
     },
     "execution_count": 4,
     "metadata": {},
     "output_type": "execute_result"
    },
    {
     "data": {
      "image/png": "[encoded data removed]",
      "text/plain": [
       "<Figure size 432x288 with 1 Axes>"
      ]
     },
     "metadata": {
      "needs_background": "light"
     },
     "output_type": "display_data"
    }
   ],
   "source": [
    "# Create dummy data.\n",
    "\n",
    "X = np.random.randn(num_data, 1)  # [N, 2]\n",
    "Y = np.sin(X) + 0.5 * np.cos(X) + np.random.randn(*X.shape) * noise_std  # [N, 1]\n",
    "plt.plot(X, Y, \"o\")"
   ]
  },
  {
   "cell_type": "code",
   "execution_count": 5,
   "id": "2194d51c",
   "metadata": {
    "execution": {
     "iopub.execute_input": "2022-03-08T11:09:34.996396Z",
     "iopub.status.busy": "2022-03-08T11:09:34.996147Z",
     "iopub.status.idle": "2022-03-08T11:09:35.044239Z",
     "shell.execute_reply": "2022-03-08T11:09:35.043495Z"
    },
    "lines_to_next_cell": 2
   },
   "outputs": [
    {
     "name": "stderr",
     "output_type": "stream",
     "text": [
      "2022-03-08 11:09:34.998582: W tensorflow/stream_executor/platform/default/dso_loader.cc:64] Could not load dynamic library 'libcuda.so.1'; dlerror: libcuda.so.1: cannot open shared object file: No such file or directory\n",
      "2022-03-08 11:09:34.998616: W tensorflow/stream_executor/cuda/cuda_driver.cc:269] failed call to cuInit: UNKNOWN ERROR (303)\n",
      "2022-03-08 11:09:34.998638: I tensorflow/stream_executor/cuda/cuda_diagnostics.cc:156] kernel driver does not appear to be running on this host (02c6642140f6): /proc/driver/nvidia/version does not exist\n",
      "2022-03-08 11:09:34.998950: I tensorflow/core/platform/cpu_feature_guard.cc:142] This TensorFlow binary is optimized with oneAPI Deep Neural Network Library (oneDNN) to use the following CPU instructions in performance-critical operations:  AVX2 AVX512F FMA\n",
      "To enable them in other operations, rebuild TensorFlow with the appropriate compiler flags.\n"
     ]
    },
    {
     "data": {
      "text/html": [
       "&lt;gpflow.models.gpr.GPR object at 0x7f0183c0e050&gt;\n",
       "<table>\n",
       "<thead>\n",
       "<tr><th>name                              </th><th>class    </th><th>transform       </th><th>prior  </th><th>trainable  </th><th>shape  </th><th>dtype  </th><th>value               </th></tr>\n",
       "</thead>\n",
       "<tbody>\n",
       "<tr><td>GPR.kernel.kernels[0].variance    </td><td>Parameter</td><td>Softplus        </td><td>       </td><td>True       </td><td>()     </td><td>float64</td><td>1.0                 </td></tr>\n",
       "<tr><td>GPR.kernel.kernels[0].lengthscales</td><td>Parameter</td><td>Softplus        </td><td>       </td><td>True       </td><td>(2,)   </td><td>float64</td><td>[1. 2.]             </td></tr>\n",
       "<tr><td>GPR.kernel.kernels[1].variance    </td><td>Parameter</td><td>Softplus        </td><td>       </td><td>True       </td><td>()     </td><td>float64</td><td>1.0                 </td></tr>\n",
       "<tr><td>GPR.likelihood.variance           </td><td>Parameter</td><td>Softplus + Shift</td><td>       </td><td>True       </td><td>()     </td><td>float64</td><td>0.009999999999999998</td></tr>\n",
       "</tbody>\n",
       "</table>"
      ],
      "text/plain": [
       "<gpflow.models.gpr.GPR object at 0x7f0183c0e050>\n",
       "╒════════════════════════════════════╤═══════════╤══════════════════╤═════════╤═════════════╤═════════╤═════════╤══════════════════════╕\n",
       "│ name                               │ class     │ transform        │ prior   │ trainable   │ shape   │ dtype   │ value                │\n",
       "╞════════════════════════════════════╪═══════════╪══════════════════╪═════════╪═════════════╪═════════╪═════════╪══════════════════════╡\n",
       "│ GPR.kernel.kernels[0].variance     │ Parameter │ Softplus         │         │ True        │ ()      │ float64 │ 1.0                  │\n",
       "├────────────────────────────────────┼───────────┼──────────────────┼─────────┼─────────────┼─────────┼─────────┼──────────────────────┤\n",
       "│ GPR.kernel.kernels[0].lengthscales │ Parameter │ Softplus         │         │ True        │ (2,)    │ float64 │ [1. 2.]              │\n",
       "├────────────────────────────────────┼───────────┼──────────────────┼─────────┼─────────────┼─────────┼─────────┼──────────────────────┤\n",
       "│ GPR.kernel.kernels[1].variance     │ Parameter │ Softplus         │         │ True        │ ()      │ float64 │ 1.0                  │\n",
       "├────────────────────────────────────┼───────────┼──────────────────┼─────────┼─────────────┼─────────┼─────────┼──────────────────────┤\n",
       "│ GPR.likelihood.variance            │ Parameter │ Softplus + Shift │         │ True        │ ()      │ float64 │ 0.009999999999999998 │\n",
       "╘════════════════════════════════════╧═══════════╧══════════════════╧═════════╧═════════════╧═════════╧═════════╧══════════════════════╛"
      ]
     },
     "execution_count": 5,
     "metadata": {},
     "output_type": "execute_result"
    }
   ],
   "source": [
    "# Set up model and print\n",
    "\n",
    "kernel = gpflow.kernels.SquaredExponential(lengthscales=[1.0, 2.0]) + gpflow.kernels.Linear()\n",
    "model = gpflow.models.GPR((X, Y), kernel, noise_variance=noise_std ** 2)\n",
    "model"
   ]
  },
  {
   "cell_type": "code",
   "execution_count": 6,
   "id": "d6c107f7",
   "metadata": {
    "execution": {
     "iopub.execute_input": "2022-03-08T11:09:35.047084Z",
     "iopub.status.busy": "2022-03-08T11:09:35.046834Z",
     "iopub.status.idle": "2022-03-08T11:09:35.197080Z",
     "shell.execute_reply": "2022-03-08T11:09:35.196328Z"
    }
   },
   "outputs": [
    {
     "data": {
      "image/png": "[encoded data removed]",
      "text/plain": [
       "<Figure size 432x288 with 1 Axes>"
      ]
     },
     "metadata": {
      "needs_background": "light"
     },
     "output_type": "display_data"
    }
   ],
   "source": [
    "# We define a function that plots the model's prediction (in the form of samples) together with the data.\n",
    "# Importantly, this function has no other argument than `fig: matplotlib.figure.Figure` and `ax: matplotlib.figure.Axes`.\n",
    "\n",
    "\n",
    "def plot_prediction(fig, ax):\n",
    "    Xnew = np.linspace(X.min() - 0.5, X.max() + 0.5, 100).reshape(-1, 1)\n",
    "    Ypred = model.predict_f_samples(Xnew, full_cov=True, num_samples=20)\n",
    "    ax.plot(Xnew.flatten(), np.squeeze(Ypred).T, \"C1\", alpha=0.2)\n",
    "    ax.plot(X, Y, \"o\")\n",
    "\n",
    "\n",
    "# Let's check if the function does the desired plotting\n",
    "fig = plt.figure()\n",
    "ax = fig.subplots()\n",
    "plot_prediction(fig, ax)\n",
    "plt.show()"
   ]
  },
  {
   "cell_type": "markdown",
   "id": "f16d0377",
   "metadata": {},
   "source": [
    "## Set up monitoring tasks\n",
    "\n",
    "We now define the `MonitorTask`s that will be executed during the optimisation.\n",
    "For this tutorial we set up three tasks:\n",
    "- `ModelToTensorBoard`: writes the models hyper-parameters such as `likelihood.variance` and `kernel.lengthscales` to a TensorBoard.\n",
    "- `ImageToTensorBoard`: writes custom matplotlib images to a TensorBoard.\n",
    "- `ScalarToTensorBoard`: writes any scalar value to a TensorBoard. Here, we use it to write the model's training objective."
   ]
  },
  {
   "cell_type": "code",
   "execution_count": 7,
   "id": "053f95bc",
   "metadata": {
    "execution": {
     "iopub.execute_input": "2022-03-08T11:09:35.199880Z",
     "iopub.status.busy": "2022-03-08T11:09:35.199657Z",
     "iopub.status.idle": "2022-03-08T11:09:35.216897Z",
     "shell.execute_reply": "2022-03-08T11:09:35.216262Z"
    }
   },
   "outputs": [],
   "source": [
    "log_dir = \"logs\"  # Directory where TensorBoard files will be written.\n",
    "model_task = ModelToTensorBoard(log_dir, model)\n",
    "image_task = ImageToTensorBoard(log_dir, plot_prediction, \"image_samples\")\n",
    "lml_task = ScalarToTensorBoard(log_dir, lambda: model.training_loss(), \"training_objective\")"
   ]
  },
  {
   "cell_type": "markdown",
   "id": "842e744d",
   "metadata": {},
   "source": [
    "We now group the tasks in a set of fast and slow tasks and pass them to the monitor.\n",
    "This allows us to execute the groups at a different frequency."
   ]
  },
  {
   "cell_type": "code",
   "execution_count": 8,
   "id": "21812f7b",
   "metadata": {
    "execution": {
     "iopub.execute_input": "2022-03-08T11:09:35.219915Z",
     "iopub.status.busy": "2022-03-08T11:09:35.219660Z",
     "iopub.status.idle": "2022-03-08T11:09:35.223489Z",
     "shell.execute_reply": "2022-03-08T11:09:35.222779Z"
    },
    "lines_to_next_cell": 2
   },
   "outputs": [],
   "source": [
    "# Plotting tasks can be quite slow. We want to run them less frequently.\n",
    "# We group them in a `MonitorTaskGroup` and set the period to 5.\n",
    "slow_tasks = MonitorTaskGroup(image_task, period=5)\n",
    "\n",
    "# The other tasks are fast. We run them at each iteration of the optimisation.\n",
    "fast_tasks = MonitorTaskGroup([model_task, lml_task], period=1)\n",
    "\n",
    "# Both groups are passed to the monitor.\n",
    "# `slow_tasks` will be run five times less frequently than `fast_tasks`.\n",
    "monitor = Monitor(fast_tasks, slow_tasks)"
   ]
  },
  {
   "cell_type": "code",
   "execution_count": 9,
   "id": "33e48833",
   "metadata": {
    "execution": {
     "iopub.execute_input": "2022-03-08T11:09:35.226139Z",
     "iopub.status.busy": "2022-03-08T11:09:35.225921Z",
     "iopub.status.idle": "2022-03-08T11:09:41.920580Z",
     "shell.execute_reply": "2022-03-08T11:09:41.919942Z"
    }
   },
   "outputs": [
    {
     "name": "stderr",
     "output_type": "stream",
     "text": [
      "2022-03-08 11:09:35.230658: W tensorflow/python/util/util.cc:348] Sets are not currently considered sequences, but this may change in the future, so consider avoiding using them.\n"
     ]
    },
    {
     "name": "stderr",
     "output_type": "stream",
     "text": [
      "2022-03-08 11:09:36.557967: I tensorflow/compiler/mlir/mlir_graph_optimization_pass.cc:185] None of the MLIR Optimization Passes are enabled (registered 2)\n"
     ]
    },
    {
     "name": "stderr",
     "output_type": "stream",
     "text": [
      "Cleanup called...\n"
     ]
    },
    {
     "name": "stderr",
     "output_type": "stream",
     "text": [
      "Cleanup called...\n"
     ]
    },
    {
     "name": "stderr",
     "output_type": "stream",
     "text": [
      "Cleanup called...\n"
     ]
    },
    {
     "name": "stderr",
     "output_type": "stream",
     "text": [
      "Cleanup called...\n"
     ]
    },
    {
     "name": "stderr",
     "output_type": "stream",
     "text": [
      "Cleanup called...\n"
     ]
    },
    {
     "name": "stderr",
     "output_type": "stream",
     "text": [
      "Cleanup called...\n"
     ]
    },
    {
     "name": "stderr",
     "output_type": "stream",
     "text": [
      "Cleanup called...\n"
     ]
    },
    {
     "name": "stderr",
     "output_type": "stream",
     "text": [
      "Cleanup called...\n"
     ]
    },
    {
     "name": "stderr",
     "output_type": "stream",
     "text": [
      "Cleanup called...\n"
     ]
    },
    {
     "name": "stderr",
     "output_type": "stream",
     "text": [
      "Cleanup called...\n"
     ]
    },
    {
     "name": "stderr",
     "output_type": "stream",
     "text": [
      "Cleanup called...\n"
     ]
    },
    {
     "name": "stderr",
     "output_type": "stream",
     "text": [
      "Cleanup called...\n"
     ]
    },
    {
     "name": "stderr",
     "output_type": "stream",
     "text": [
      "Cleanup called...\n"
     ]
    },
    {
     "name": "stderr",
     "output_type": "stream",
     "text": [
      "Cleanup called...\n"
     ]
    },
    {
     "name": "stderr",
     "output_type": "stream",
     "text": [
      "Cleanup called...\n"
     ]
    },
    {
     "name": "stderr",
     "output_type": "stream",
     "text": [
      "Cleanup called...\n"
     ]
    },
    {
     "name": "stderr",
     "output_type": "stream",
     "text": [
      "Cleanup called...\n"
     ]
    },
    {
     "name": "stderr",
     "output_type": "stream",
     "text": [
      "Cleanup called...\n"
     ]
    },
    {
     "name": "stderr",
     "output_type": "stream",
     "text": [
      "Cleanup called...\n"
     ]
    },
    {
     "name": "stderr",
     "output_type": "stream",
     "text": [
      "Cleanup called...\n"
     ]
    }
   ],
   "source": [
    "training_loss = model.training_loss_closure(\n",
    "    compile=True\n",
    ")  # compile=True (default): compiles using tf.function\n",
    "opt = tf.optimizers.Adam()\n",
    "\n",
    "for step in range(optimisation_steps):\n",
    "    opt.minimize(training_loss, model.trainable_variables)\n",
    "    monitor(step)  # <-- run the monitoring"
   ]
  },
  {
   "cell_type": "markdown",
   "id": "7dc58fca",
   "metadata": {
    "lines_to_next_cell": 2
   },
   "source": [
    "TensorBoard is accessible through the browser, after launching the server by running `tensorboard --logdir ${logdir}`.\n",
    "See the [TensorFlow documentation on TensorBoard](https://www.tensorflow.org/tensorboard/get_started) for more information."
   ]
  },
  {
   "cell_type": "markdown",
   "id": "7c46ef74",
   "metadata": {},
   "source": [
    "### For optimal performance, we can also wrap the monitor call inside `tf.function`:"
   ]
  },
  {
   "cell_type": "code",
   "execution_count": 10,
   "id": "2c6c6c29",
   "metadata": {
    "execution": {
     "iopub.execute_input": "2022-03-08T11:09:41.924079Z",
     "iopub.status.busy": "2022-03-08T11:09:41.923791Z",
     "iopub.status.idle": "2022-03-08T11:09:41.931177Z",
     "shell.execute_reply": "2022-03-08T11:09:41.930431Z"
    },
    "lines_to_next_cell": 2
   },
   "outputs": [],
   "source": [
    "opt = tf.optimizers.Adam()\n",
    "\n",
    "log_dir_compiled = f\"{log_dir}/compiled\"\n",
    "model_task = ModelToTensorBoard(log_dir_compiled, model)\n",
    "lml_task = ScalarToTensorBoard(\n",
    "    log_dir_compiled, lambda: model.training_loss(), \"training_objective\"\n",
    ")\n",
    "# Note that the `ImageToTensorBoard` task cannot be compiled, and is omitted from the monitoring\n",
    "monitor = Monitor(MonitorTaskGroup([model_task, lml_task]))"
   ]
  },
  {
   "cell_type": "markdown",
   "id": "aafaaba8",
   "metadata": {
    "lines_to_next_cell": 2
   },
   "source": [
    "In the optimisation loop below we use `tf.range` (rather than Python's built-in range) to avoid re-tracing the `step` function each time."
   ]
  },
  {
   "cell_type": "code",
   "execution_count": 11,
   "id": "84eb62ef",
   "metadata": {
    "execution": {
     "iopub.execute_input": "2022-03-08T11:09:41.934748Z",
     "iopub.status.busy": "2022-03-08T11:09:41.934373Z",
     "iopub.status.idle": "2022-03-08T11:09:44.080506Z",
     "shell.execute_reply": "2022-03-08T11:09:44.079807Z"
    }
   },
   "outputs": [],
   "source": [
    "@tf.function\n",
    "def step(i):\n",
    "    opt.minimize(model.training_loss, model.trainable_variables)\n",
    "    monitor(i)\n",
    "\n",
    "\n",
    "# Notice the tf.range\n",
    "for i in tf.range(optimisation_steps):\n",
    "    step(i)"
   ]
  },
  {
   "cell_type": "markdown",
   "id": "66638dd4",
   "metadata": {},
   "source": [
    "When opening TensorBoard, you may need to use the command `tensorboard --logdir . --reload_multifile=true`, as multiple `FileWriter` objects are used."
   ]
  },
  {
   "cell_type": "markdown",
   "id": "ca8e322c",
   "metadata": {},
   "source": [
    "### Scipy Optimization monitoring\n",
    "\n",
    "Note that if you want to use the `Scipy` optimizer provided by GPflow, and want to monitor the training progress, then you need to simply replace\n",
    "the optimization loop with a single call to its `minimize` method and pass in the monitor as a `step_callback` keyword argument:\n"
   ]
  },
  {
   "cell_type": "code",
   "execution_count": 12,
   "id": "13ac52bd",
   "metadata": {
    "execution": {
     "iopub.execute_input": "2022-03-08T11:09:44.083575Z",
     "iopub.status.busy": "2022-03-08T11:09:44.083326Z",
     "iopub.status.idle": "2022-03-08T11:09:44.101459Z",
     "shell.execute_reply": "2022-03-08T11:09:44.100897Z"
    }
   },
   "outputs": [],
   "source": [
    "opt = gpflow.optimizers.Scipy()\n",
    "\n",
    "log_dir_scipy = f\"{log_dir}/scipy\"\n",
    "model_task = ModelToTensorBoard(log_dir_scipy, model)\n",
    "lml_task = ScalarToTensorBoard(log_dir_scipy, lambda: model.training_loss(), \"training_objective\")\n",
    "image_task = ImageToTensorBoard(log_dir_scipy, plot_prediction, \"image_samples\")\n",
    "\n",
    "monitor = Monitor(\n",
    "    MonitorTaskGroup([model_task, lml_task], period=1), MonitorTaskGroup(image_task, period=5)\n",
    ")"
   ]
  },
  {
   "cell_type": "code",
   "execution_count": 13,
   "id": "bc69c918",
   "metadata": {
    "execution": {
     "iopub.execute_input": "2022-03-08T11:09:44.104568Z",
     "iopub.status.busy": "2022-03-08T11:09:44.104294Z",
     "iopub.status.idle": "2022-03-08T11:09:46.170345Z",
     "shell.execute_reply": "2022-03-08T11:09:46.169836Z"
    }
   },
   "outputs": [
    {
     "name": "stderr",
     "output_type": "stream",
     "text": [
      "Cleanup called...\n"
     ]
    },
    {
     "name": "stderr",
     "output_type": "stream",
     "text": [
      "Cleanup called...\n"
     ]
    },
    {
     "name": "stderr",
     "output_type": "stream",
     "text": [
      "Cleanup called...\n"
     ]
    },
    {
     "name": "stderr",
     "output_type": "stream",
     "text": [
      "Cleanup called...\n"
     ]
    },
    {
     "name": "stderr",
     "output_type": "stream",
     "text": [
      "Cleanup called...\n"
     ]
    },
    {
     "name": "stderr",
     "output_type": "stream",
     "text": [
      "Cleanup called...\n"
     ]
    },
    {
     "data": {
      "text/plain": [
       "      fun: -69.68099880888701\n",
       " hess_inv: <5x5 LbfgsInvHessProduct with dtype=float64>\n",
       "      jac: array([-2.96735844e-04, -4.30340679e-04,  3.97826987e-04,  2.26011090e-06,\n",
       "        4.29136838e-04])\n",
       "  message: 'CONVERGENCE: REL_REDUCTION_OF_F_<=_FACTR*EPSMCH'\n",
       "     nfev: 37\n",
       "      nit: 28\n",
       "     njev: 37\n",
       "   status: 0\n",
       "  success: True\n",
       "        x: array([  2.07005975,   1.74612938,   0.18194305, -15.21874886,\n",
       "        -4.53840856])"
      ]
     },
     "execution_count": 13,
     "metadata": {},
     "output_type": "execute_result"
    }
   ],
   "source": [
    "opt.minimize(training_loss, model.trainable_variables, step_callback=monitor)"
   ]
  },
  {
   "cell_type": "code",
   "execution_count": null,
   "id": "cc7ad13e",
   "metadata": {},
   "outputs": [],
   "source": []
  }
 ],
 "metadata": {
  "jupytext": {
   "formats": "ipynb,.pct.py:percent"
  },
  "kernelspec": {
   "display_name": "Python 3",
   "language": "python",
   "name": "python3"
  },
  "language_info": {
   "codemirror_mode": {
    "name": "ipython",
    "version": 3
   },
   "file_extension": ".py",
   "mimetype": "text/x-python",
   "name": "python",
   "nbconvert_exporter": "python",
   "pygments_lexer": "ipython3",
   "version": "3.7.12"
  }
 },
 "nbformat": 4,
 "nbformat_minor": 5
}
