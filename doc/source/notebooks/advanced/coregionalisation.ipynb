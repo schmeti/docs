{
 "cells": [
  {
   "cell_type": "markdown",
   "id": "22ec3dc5",
   "metadata": {},
   "source": [
    "# A simple demonstration of coregionalization\n",
    "\n",
    "This notebook shows how to construct a multi-output GP model using GPflow. We will consider a regression problem for functions $f: \\mathbb{R}^D \\rightarrow \\mathbb{R}^P$. We assume that the dataset is of the form $(X_1, f_1), \\dots, (X_P, f_P)$, that is, we do not necessarily observe all the outputs for a particular input location (for cases where there are fully observed outputs for each input, see [Multi-output Gaussian processes in GPflow](./multioutput.ipynb) for a more efficient implementation). We allow each $f_i$ to have a different noise distribution by assigning a different likelihood to each.\n",
    "\n",
    "For this problem, we model $f$ as a *coregionalized* Gaussian process, which assumes a kernel of the form:\n",
    "\n",
    "\\begin{equation}\n",
    "\\textrm{cov}(f_i(X), f_j(X^\\prime)) = k(X, X^\\prime) \\cdot B[i, j].\n",
    "\\end{equation}\n",
    "\n",
    "The covariance of the $i$th function at $X$ and the $j$th function at $X^\\prime$ is a kernel applied at $X$ and $X^\\prime$, times the $(i, j)$th entry of a positive definite $P \\times P$ matrix $B$. This is known as the **intrinsic model of coregionalization (ICM)** (Bonilla and Williams, 2008).\n",
    "\n",
    "To make sure that B is positive-definite, we parameterize it as:\n",
    "\n",
    "\\begin{equation}\n",
    "B = W W^\\top + \\textrm{diag}(\\kappa).\n",
    "\\end{equation}\n",
    "\n",
    "To build such a model in GPflow, we need to perform the following two steps:\n",
    "\n",
    " * Create the kernel function defined previously, using the `Coregion` kernel class.\n",
    " * Augment the training data X with an extra column that contains an integer index to indicate which output an observation is associated with. This is essential to make the data work with the `Coregion` kernel.\n",
    " * Create a likelihood for each output using the `SwitchedLikelihood` class, which is a container for other likelihoods.\n",
    " * Augment the training data Y with an extra column that contains an integer index to indicate which likelihood an observation is associated with."
   ]
  },
  {
   "cell_type": "code",
   "execution_count": 1,
   "id": "a098324f",
   "metadata": {
    "execution": {
     "iopub.execute_input": "2022-02-28T13:53:09.196348Z",
     "iopub.status.busy": "2022-02-28T13:53:09.195116Z",
     "iopub.status.idle": "2022-02-28T13:53:12.047123Z",
     "shell.execute_reply": "2022-02-28T13:53:12.047517Z"
    }
   },
   "outputs": [],
   "source": [
    "import gpflow\n",
    "import tensorflow as tf\n",
    "import numpy as np\n",
    "import matplotlib.pyplot as plt\n",
    "\n",
    "%matplotlib inline\n",
    "\n",
    "from gpflow.ci_utils import ci_niter\n",
    "\n",
    "plt.rcParams[\"figure.figsize\"] = (12, 6)\n",
    "np.random.seed(123)"
   ]
  },
  {
   "cell_type": "markdown",
   "id": "8f4aa1b5",
   "metadata": {},
   "source": [
    "## Data preparation\n",
    "We start by generating some training data to fit the model with. For this example, we choose the following two correlated functions for our outputs:\n",
    "\n",
    "\\begin{align}\n",
    "y_1 &= \\sin(6x) + \\epsilon_1, \\qquad \\epsilon_1 \\sim \\mathcal{N}(0, 0.009) \\\\\n",
    "y_2 &= \\sin(6x + 0.7) + \\epsilon_2, \\qquad \\epsilon_2 \\sim \\mathcal{N}(0, 0.01)\n",
    "\\end{align}\n"
   ]
  },
  {
   "cell_type": "code",
   "execution_count": 2,
   "id": "d98363a8",
   "metadata": {
    "execution": {
     "iopub.execute_input": "2022-02-28T13:53:12.177752Z",
     "iopub.status.busy": "2022-02-28T13:53:12.176834Z",
     "iopub.status.idle": "2022-02-28T13:53:12.282807Z",
     "shell.execute_reply": "2022-02-28T13:53:12.283227Z"
    }
   },
   "outputs": [
    {
     "data": {
      "image/png": "[encoded data removed]",
      "text/plain": [
       "<Figure size 576x288 with 1 Axes>"
      ]
     },
     "metadata": {
      "needs_background": "light"
     },
     "output_type": "display_data"
    }
   ],
   "source": [
    "# make a dataset with two outputs, correlated, heavy-tail noise. One has more noise than the other.\n",
    "X1 = np.random.rand(100, 1)  # Observed locations for first output\n",
    "X2 = np.random.rand(50, 1) * 0.5  # Observed locations for second output\n",
    "\n",
    "Y1 = np.sin(6 * X1) + np.random.randn(*X1.shape) * 0.03\n",
    "Y2 = np.sin(6 * X2 + 0.7) + np.random.randn(*X2.shape) * 0.1\n",
    "\n",
    "plt.figure(figsize=(8, 4))\n",
    "plt.plot(X1, Y1, \"x\", mew=2)\n",
    "_ = plt.plot(X2, Y2, \"x\", mew=2)"
   ]
  },
  {
   "cell_type": "markdown",
   "id": "7f519240",
   "metadata": {},
   "source": [
    "## Data formatting for the coregionalized model\n",
    "We add an extra column to our training dataset that contains an index that specifies which output is observed."
   ]
  },
  {
   "cell_type": "code",
   "execution_count": 3,
   "id": "0eab8427",
   "metadata": {
    "execution": {
     "iopub.execute_input": "2022-02-28T13:53:12.287906Z",
     "iopub.status.busy": "2022-02-28T13:53:12.287435Z",
     "iopub.status.idle": "2022-02-28T13:53:12.288869Z",
     "shell.execute_reply": "2022-02-28T13:53:12.289229Z"
    }
   },
   "outputs": [],
   "source": [
    "# Augment the input with ones or zeros to indicate the required output dimension\n",
    "X_augmented = np.vstack((np.hstack((X1, np.zeros_like(X1))), np.hstack((X2, np.ones_like(X2)))))\n",
    "\n",
    "# Augment the Y data with ones or zeros that specify a likelihood from the list of likelihoods\n",
    "Y_augmented = np.vstack((np.hstack((Y1, np.zeros_like(Y1))), np.hstack((Y2, np.ones_like(Y2)))))"
   ]
  },
  {
   "cell_type": "markdown",
   "id": "7ad55915",
   "metadata": {},
   "source": [
    "## Building the coregionalization kernel\n",
    "We build a coregionalization kernel with the Matern 3/2 kernel as the base kernel. This acts on the leading ([0]) data dimension of the augmented X values. The `Coregion` kernel indexes the outputs, and acts on the last ([1]) data dimension (indices) of the augmented X values. To specify these dimensions, we use the built-in `active_dims` argument in the kernel constructor. To construct the full multi-output kernel, we take the product of the two kernels (for a more in-depth tutorial on kernel combination, see [Manipulating kernels](./kernels.ipynb))."
   ]
  },
  {
   "cell_type": "code",
   "execution_count": 4,
   "id": "3a45ea3d",
   "metadata": {
    "execution": {
     "iopub.execute_input": "2022-02-28T13:53:12.305628Z",
     "iopub.status.busy": "2022-02-28T13:53:12.305142Z",
     "iopub.status.idle": "2022-02-28T13:53:12.317495Z",
     "shell.execute_reply": "2022-02-28T13:53:12.317853Z"
    }
   },
   "outputs": [],
   "source": [
    "output_dim = 2  # Number of outputs\n",
    "rank = 1  # Rank of W\n",
    "\n",
    "# Base kernel\n",
    "k = gpflow.kernels.Matern32(active_dims=[0])\n",
    "\n",
    "# Coregion kernel\n",
    "coreg = gpflow.kernels.Coregion(output_dim=output_dim, rank=rank, active_dims=[1])\n",
    "\n",
    "kern = k * coreg"
   ]
  },
  {
   "cell_type": "markdown",
   "id": "e69ebcf2",
   "metadata": {},
   "source": [
    "**Note:** W = 0 is a saddle point in the objective, which would result in the value of `W` not being optimized to fit the data.\n",
    "Hence, by default, the `W` matrix is initialized with 0.1. Alternatively, you could re-initialize the matrix to random entries."
   ]
  },
  {
   "cell_type": "markdown",
   "id": "3e865218",
   "metadata": {},
   "source": [
    "## Constructing the model\n",
    "The final element in building the model is to specify the likelihood for each output dimension. To do this, use the `SwitchedLikelihood` object in GPflow."
   ]
  },
  {
   "cell_type": "code",
   "execution_count": 5,
   "id": "ed5d1c3f",
   "metadata": {
    "execution": {
     "iopub.execute_input": "2022-02-28T13:53:12.323866Z",
     "iopub.status.busy": "2022-02-28T13:53:12.323378Z",
     "iopub.status.idle": "2022-02-28T13:54:56.046539Z",
     "shell.execute_reply": "2022-02-28T13:54:56.046074Z"
    }
   },
   "outputs": [
    {
     "data": {
      "text/plain": [
       "      fun: -225.66159909739758\n",
       " hess_inv: <11483x11483 LbfgsInvHessProduct with dtype=float64>\n",
       "      jac: array([ 0.29142903,  0.39240235,  0.04690075, ..., -0.00111807,\n",
       "        0.02794148,  0.00111627])\n",
       "  message: b'CONVERGENCE: REL_REDUCTION_OF_F_<=_FACTR*EPSMCH'\n",
       "     nfev: 1354\n",
       "      nit: 1230\n",
       "     njev: 1354\n",
       "   status: 0\n",
       "  success: True\n",
       "        x: array([-0.79611578,  2.21703729, -1.3562529 , ..., -1.7786879 ,\n",
       "       -7.38844622, -4.83461769])"
      ]
     },
     "execution_count": 1,
     "metadata": {},
     "output_type": "execute_result"
    }
   ],
   "source": [
    "# This likelihood switches between Gaussian noise with different variances for each f_i:\n",
    "lik = gpflow.likelihoods.SwitchedLikelihood(\n",
    "    [gpflow.likelihoods.Gaussian(), gpflow.likelihoods.Gaussian()]\n",
    ")\n",
    "\n",
    "# now build the GP model as normal\n",
    "m = gpflow.models.VGP((X_augmented, Y_augmented), kernel=kern, likelihood=lik)\n",
    "\n",
    "# fit the covariance function parameters\n",
    "maxiter = ci_niter(10000)\n",
    "gpflow.optimizers.Scipy().minimize(\n",
    "    m.training_loss,\n",
    "    m.trainable_variables,\n",
    "    options=dict(maxiter=maxiter),\n",
    "    method=\"L-BFGS-B\",\n",
    ")"
   ]
  },
  {
   "cell_type": "markdown",
   "id": "43041626",
   "metadata": {},
   "source": [
    "That's it: the model is trained. Let's plot the model fit to see what's happened."
   ]
  },
  {
   "cell_type": "code",
   "execution_count": 6,
   "id": "f543c721",
   "metadata": {
    "execution": {
     "iopub.execute_input": "2022-02-28T13:54:56.063240Z",
     "iopub.status.busy": "2022-02-28T13:54:56.061719Z",
     "iopub.status.idle": "2022-02-28T13:54:56.334405Z",
     "shell.execute_reply": "2022-02-28T13:54:56.334893Z"
    }
   },
   "outputs": [
    {
     "data": {
      "image/png": "[encoded data removed]",
      "text/plain": [
       "<Figure size 576x288 with 1 Axes>"
      ]
     },
     "metadata": {
      "needs_background": "light"
     },
     "output_type": "display_data"
    }
   ],
   "source": [
    "def plot_gp(x, mu, var, color, label):\n",
    "    plt.plot(x, mu, color=color, lw=2, label=label)\n",
    "    plt.fill_between(\n",
    "        x[:, 0],\n",
    "        (mu - 2 * np.sqrt(var))[:, 0],\n",
    "        (mu + 2 * np.sqrt(var))[:, 0],\n",
    "        color=color,\n",
    "        alpha=0.4,\n",
    "    )\n",
    "\n",
    "\n",
    "def plot(m):\n",
    "    plt.figure(figsize=(8, 4))\n",
    "    Xtest = np.linspace(0, 1, 100)[:, None]\n",
    "    (line,) = plt.plot(X1, Y1, \"x\", mew=2)\n",
    "    mu, var = m.predict_f(np.hstack((Xtest, np.zeros_like(Xtest))))\n",
    "    plot_gp(Xtest, mu, var, line.get_color(), \"Y1\")\n",
    "\n",
    "    (line,) = plt.plot(X2, Y2, \"x\", mew=2)\n",
    "    mu, var = m.predict_f(np.hstack((Xtest, np.ones_like(Xtest))))\n",
    "    plot_gp(Xtest, mu, var, line.get_color(), \"Y2\")\n",
    "\n",
    "    plt.legend()\n",
    "\n",
    "\n",
    "plot(m)"
   ]
  },
  {
   "cell_type": "markdown",
   "id": "b2598f95",
   "metadata": {},
   "source": [
    "From the plots, we can see:\n",
    "\n",
    " - The first function (blue) has low posterior variance everywhere because there are so many observations, and the noise variance is small.\n",
    " - The second function (orange) has higher posterior variance near the data, because the data are more noisy, and very high posterior variance where there are no observations (x > 0.5).\n",
    " - The model has done a reasonable job of estimating the noise variance and lengthscale.\n",
    " - The model recognises the correlation between the two functions and is able to suggest (with uncertainty) that because x > 0.5 the orange curve should follow the blue curve (which we know to be the truth from the data-generating procedure).\n",
    "\n",
    "The covariance matrix between outputs is as follows:"
   ]
  },
  {
   "cell_type": "code",
   "execution_count": 7,
   "id": "0ae00a25",
   "metadata": {
    "execution": {
     "iopub.execute_input": "2022-02-28T13:54:56.339219Z",
     "iopub.status.busy": "2022-02-28T13:54:56.338680Z",
     "iopub.status.idle": "2022-02-28T13:54:56.528501Z",
     "shell.execute_reply": "2022-02-28T13:54:56.529167Z"
    }
   },
   "outputs": [
    {
     "name": "stdout",
     "output_type": "stream",
     "text": [
      "B = [[2.8359009  2.64160408]\n",
      " [2.64160408 4.42714019]]\n"
     ]
    },
    {
     "data": {
      "image/png": "[encoded data removed]",
      "text/plain": [
       "<Figure size 864x432 with 1 Axes>"
      ]
     },
     "metadata": {
      "needs_background": "light"
     },
     "output_type": "display_data"
    }
   ],
   "source": [
    "B = coreg.output_covariance().numpy()\n",
    "print(\"B =\", B)\n",
    "_ = plt.imshow(B)"
   ]
  },
  {
   "cell_type": "markdown",
   "id": "db42867d",
   "metadata": {},
   "source": [
    "## References\n",
    "\n",
    "Bonilla, Edwin V., Kian M. Chai, and Christopher Williams. \"Multi-task Gaussian process prediction.\" _Advances in neural information processing systems_. 2008."
   ]
  }
 ],
 "metadata": {
  "jupytext": {
   "formats": "ipynb,.pct.py:percent"
  },
  "kernelspec": {
   "display_name": "Python 3",
   "language": "python",
   "name": "python3"
  },
  "language_info": {
   "codemirror_mode": {
    "name": "ipython",
    "version": 3
   },
   "file_extension": ".py",
   "mimetype": "text/x-python",
   "name": "python",
   "nbconvert_exporter": "python",
   "pygments_lexer": "ipython3",
   "version": "3.6.15"
  }
 },
 "nbformat": 4,
 "nbformat_minor": 5
}
