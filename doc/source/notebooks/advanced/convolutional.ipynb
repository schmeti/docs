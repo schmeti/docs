{
 "cells": [
  {
   "cell_type": "markdown",
   "id": "884f21de",
   "metadata": {},
   "source": [
    "# Convolutional Gaussian Processes\n",
    "Mark van der Wilk (July 2019)\n",
    "\n",
    "Here we show a simple example of the rectangles experiment, where we compare a normal squared exponential GP, and a convolutional GP. This is similar to the experiment in [1].\n",
    "\n",
    "[1] Van der Wilk, Rasmussen, Hensman (2017). Convolutional Gaussian Processes. *Advances in Neural Information Processing Systems 30*."
   ]
  },
  {
   "cell_type": "markdown",
   "id": "230c8901",
   "metadata": {},
   "source": [
    "## Generate dataset\n",
    "Generate a simple dataset of rectangles. We want to classify whether they are tall or wide. **NOTE:** Here we take care to make sure that the rectangles don't touch the edge, which is different to the original paper. We do this to avoid needing to use patch weights, which are needed to correctly account for edge effects."
   ]
  },
  {
   "cell_type": "code",
   "execution_count": 1,
   "id": "6db283fd",
   "metadata": {
    "execution": {
     "iopub.execute_input": "2022-02-10T09:53:06.377031Z",
     "iopub.status.busy": "2022-02-10T09:53:06.371145Z",
     "iopub.status.idle": "2022-02-10T09:53:09.799673Z",
     "shell.execute_reply": "2022-02-10T09:53:09.799088Z"
    }
   },
   "outputs": [],
   "source": [
    "import time\n",
    "import numpy as np\n",
    "import matplotlib.pyplot as plt\n",
    "\n",
    "import gpflow\n",
    "import tensorflow as tf\n",
    "import tensorflow_probability as tfp\n",
    "\n",
    "from gpflow import set_trainable\n",
    "from gpflow.ci_utils import is_continuous_integration\n",
    "\n",
    "gpflow.config.set_default_float(np.float64)\n",
    "gpflow.config.set_default_jitter(1e-4)\n",
    "gpflow.config.set_default_summary_fmt(\"notebook\")\n",
    "\n",
    "# for reproducibility of this notebook:\n",
    "np.random.seed(123)\n",
    "tf.random.set_seed(42)\n",
    "\n",
    "MAXITER = 2 if is_continuous_integration() else 100\n",
    "NUM_TRAIN_DATA = (\n",
    "    5 if is_continuous_integration() else 100\n",
    ")  # This is less than in the original rectangles dataset\n",
    "NUM_TEST_DATA = 7 if is_continuous_integration() else 300\n",
    "H = W = 14  # width and height. In the original paper this is 28\n",
    "IMAGE_SHAPE = [H, W]"
   ]
  },
  {
   "cell_type": "code",
   "execution_count": 2,
   "id": "084444e0",
   "metadata": {
    "execution": {
     "iopub.execute_input": "2022-02-10T09:53:09.811273Z",
     "iopub.status.busy": "2022-02-10T09:53:09.810716Z",
     "iopub.status.idle": "2022-02-10T09:53:09.813168Z",
     "shell.execute_reply": "2022-02-10T09:53:09.812753Z"
    }
   },
   "outputs": [],
   "source": [
    "def affine_scalar_bijector(shift=None, scale=None):\n",
    "    scale_bijector = tfp.bijectors.Scale(scale) if scale else tfp.bijectors.Identity()\n",
    "    shift_bijector = tfp.bijectors.Shift(shift) if shift else tfp.bijectors.Identity()\n",
    "    return shift_bijector(scale_bijector)\n",
    "\n",
    "\n",
    "def make_rectangle(arr, x0, y0, x1, y1):\n",
    "    arr[y0:y1, x0] = 1\n",
    "    arr[y0:y1, x1] = 1\n",
    "    arr[y0, x0:x1] = 1\n",
    "    arr[y1, x0 : x1 + 1] = 1\n",
    "\n",
    "\n",
    "def make_random_rectangle(arr):\n",
    "    x0 = np.random.randint(1, arr.shape[1] - 3)\n",
    "    y0 = np.random.randint(1, arr.shape[0] - 3)\n",
    "    x1 = np.random.randint(x0 + 2, arr.shape[1] - 1)\n",
    "    y1 = np.random.randint(y0 + 2, arr.shape[0] - 1)\n",
    "    make_rectangle(arr, x0, y0, x1, y1)\n",
    "    return x0, y0, x1, y1\n",
    "\n",
    "\n",
    "def make_rectangles_dataset(num, w, h):\n",
    "    d, Y = np.zeros((num, h, w)), np.zeros((num, 1))\n",
    "    for i, img in enumerate(d):\n",
    "        for j in range(1000):  # Finite number of tries\n",
    "            x0, y0, x1, y1 = make_random_rectangle(img)\n",
    "            rw, rh = y1 - y0, x1 - x0\n",
    "            if rw == rh:\n",
    "                img[:, :] = 0\n",
    "                continue\n",
    "            Y[i, 0] = rw > rh\n",
    "            break\n",
    "    return (\n",
    "        d.reshape(num, w * h).astype(gpflow.config.default_float()),\n",
    "        Y.astype(gpflow.config.default_float()),\n",
    "    )"
   ]
  },
  {
   "cell_type": "code",
   "execution_count": 3,
   "id": "7b3beac7",
   "metadata": {
    "execution": {
     "iopub.execute_input": "2022-02-10T09:53:09.820242Z",
     "iopub.status.busy": "2022-02-10T09:53:09.819733Z",
     "iopub.status.idle": "2022-02-10T09:53:09.832240Z",
     "shell.execute_reply": "2022-02-10T09:53:09.831701Z"
    }
   },
   "outputs": [],
   "source": [
    "X, Y = data = make_rectangles_dataset(NUM_TRAIN_DATA, *IMAGE_SHAPE)\n",
    "Xt, Yt = test_data = make_rectangles_dataset(NUM_TEST_DATA, *IMAGE_SHAPE)"
   ]
  },
  {
   "cell_type": "code",
   "execution_count": 4,
   "id": "64c73722",
   "metadata": {
    "execution": {
     "iopub.execute_input": "2022-02-10T09:53:09.853119Z",
     "iopub.status.busy": "2022-02-10T09:53:09.852522Z",
     "iopub.status.idle": "2022-02-10T09:53:10.197429Z",
     "shell.execute_reply": "2022-02-10T09:53:10.198074Z"
    }
   },
   "outputs": [
    {
     "data": {
      "image/png": "[encoded data removed]",
      "text/plain": [
       "<Figure size 576x216 with 4 Axes>"
      ]
     },
     "metadata": {
      "needs_background": "light"
     },
     "output_type": "display_data"
    }
   ],
   "source": [
    "plt.figure(figsize=(8, 3))\n",
    "for i in range(4):\n",
    "    plt.subplot(1, 4, i + 1)\n",
    "    plt.imshow(X[i, :].reshape(*IMAGE_SHAPE))\n",
    "    plt.title(Y[i, 0])"
   ]
  },
  {
   "cell_type": "markdown",
   "id": "c854b0cc",
   "metadata": {},
   "source": [
    "## Squared Exponential kernel"
   ]
  },
  {
   "cell_type": "code",
   "execution_count": 5,
   "id": "80590d00",
   "metadata": {
    "execution": {
     "iopub.execute_input": "2022-02-10T09:53:10.217943Z",
     "iopub.status.busy": "2022-02-10T09:53:10.217101Z",
     "iopub.status.idle": "2022-02-10T09:53:10.265933Z",
     "shell.execute_reply": "2022-02-10T09:53:10.266641Z"
    }
   },
   "outputs": [],
   "source": [
    "rbf_m = gpflow.models.SVGP(\n",
    "    gpflow.kernels.SquaredExponential(),\n",
    "    gpflow.likelihoods.Bernoulli(),\n",
    "    gpflow.inducing_variables.InducingPoints(X.copy()),\n",
    ")"
   ]
  },
  {
   "cell_type": "code",
   "execution_count": 6,
   "id": "d9e38220",
   "metadata": {
    "execution": {
     "iopub.execute_input": "2022-02-10T09:53:10.272078Z",
     "iopub.status.busy": "2022-02-10T09:53:10.271455Z",
     "iopub.status.idle": "2022-02-10T09:53:15.686343Z",
     "shell.execute_reply": "2022-02-10T09:53:15.686800Z"
    }
   },
   "outputs": [
    {
     "name": "stdout",
     "output_type": "stream",
     "text": [
      "RBF elbo before training: -9.9408e+01\n"
     ]
    }
   ],
   "source": [
    "rbf_training_loss_closure = rbf_m.training_loss_closure(data, compile=True)\n",
    "rbf_elbo = lambda: -rbf_training_loss_closure().numpy()\n",
    "print(\"RBF elbo before training: %.4e\" % rbf_elbo())"
   ]
  },
  {
   "cell_type": "code",
   "execution_count": 7,
   "id": "c07456aa",
   "metadata": {
    "execution": {
     "iopub.execute_input": "2022-02-10T09:53:15.761988Z",
     "iopub.status.busy": "2022-02-10T09:53:15.726012Z",
     "iopub.status.idle": "2022-02-10T09:53:17.462450Z",
     "shell.execute_reply": "2022-02-10T09:53:17.460846Z"
    }
   },
   "outputs": [
    {
     "name": "stdout",
     "output_type": "stream",
     "text": [
      "27.665 iter/s\n"
     ]
    }
   ],
   "source": [
    "set_trainable(rbf_m.inducing_variable, False)\n",
    "start_time = time.time()\n",
    "res = gpflow.optimizers.Scipy().minimize(\n",
    "    rbf_training_loss_closure,\n",
    "    variables=rbf_m.trainable_variables,\n",
    "    method=\"l-bfgs-b\",\n",
    "    options={\"disp\": True, \"maxiter\": MAXITER},\n",
    ")\n",
    "print(f\"{res.nfev / (time.time() - start_time):.3f} iter/s\")"
   ]
  },
  {
   "cell_type": "code",
   "execution_count": 8,
   "id": "3c39b197",
   "metadata": {
    "execution": {
     "iopub.execute_input": "2022-02-10T09:53:17.468097Z",
     "iopub.status.busy": "2022-02-10T09:53:17.467631Z",
     "iopub.status.idle": "2022-02-10T09:53:17.527101Z",
     "shell.execute_reply": "2022-02-10T09:53:17.526260Z"
    }
   },
   "outputs": [
    {
     "name": "stdout",
     "output_type": "stream",
     "text": [
      "Train acc: 100.0%\n",
      "Test acc : 68.33333333333333%\n",
      "RBF elbo after training: -6.0371e+01\n"
     ]
    }
   ],
   "source": [
    "train_acc = np.mean((rbf_m.predict_y(X)[0] > 0.5).numpy().astype(\"float\") == Y)\n",
    "test_acc = np.mean((rbf_m.predict_y(Xt)[0] > 0.5).numpy().astype(\"float\") == Yt)\n",
    "print(f\"Train acc: {train_acc * 100}%\\nTest acc : {test_acc*100}%\")\n",
    "print(\"RBF elbo after training: %.4e\" % rbf_elbo())"
   ]
  },
  {
   "cell_type": "markdown",
   "id": "8608a9df",
   "metadata": {},
   "source": [
    "## Convolutional kernel"
   ]
  },
  {
   "cell_type": "code",
   "execution_count": 9,
   "id": "be6fc8be",
   "metadata": {
    "execution": {
     "iopub.execute_input": "2022-02-10T09:53:17.539702Z",
     "iopub.status.busy": "2022-02-10T09:53:17.538730Z",
     "iopub.status.idle": "2022-02-10T09:53:17.684242Z",
     "shell.execute_reply": "2022-02-10T09:53:17.684765Z"
    }
   },
   "outputs": [],
   "source": [
    "f64 = lambda x: np.array(x, dtype=np.float64)\n",
    "positive_with_min = lambda: affine_scalar_bijector(shift=f64(1e-4))(tfp.bijectors.Softplus())\n",
    "constrained = lambda: affine_scalar_bijector(shift=f64(1e-4), scale=f64(100.0))(\n",
    "    tfp.bijectors.Sigmoid()\n",
    ")\n",
    "max_abs_1 = lambda: affine_scalar_bijector(shift=f64(-2.0), scale=f64(4.0))(tfp.bijectors.Sigmoid())\n",
    "\n",
    "patch_shape = [3, 3]\n",
    "conv_k = gpflow.kernels.Convolutional(gpflow.kernels.SquaredExponential(), IMAGE_SHAPE, patch_shape)\n",
    "conv_k.base_kernel.lengthscales = gpflow.Parameter(1.0, transform=positive_with_min())\n",
    "# Weight scale and variance are non-identifiable. We also need to prevent variance from shooting off crazily.\n",
    "conv_k.base_kernel.variance = gpflow.Parameter(1.0, transform=constrained())\n",
    "conv_k.weights = gpflow.Parameter(conv_k.weights.numpy(), transform=max_abs_1())\n",
    "conv_f = gpflow.inducing_variables.InducingPatches(\n",
    "    np.unique(conv_k.get_patches(X).numpy().reshape(-1, 9), axis=0)\n",
    ")"
   ]
  },
  {
   "cell_type": "code",
   "execution_count": 10,
   "id": "df5c0b3f",
   "metadata": {
    "execution": {
     "iopub.execute_input": "2022-02-10T09:53:17.691435Z",
     "iopub.status.busy": "2022-02-10T09:53:17.690287Z",
     "iopub.status.idle": "2022-02-10T09:53:17.713109Z",
     "shell.execute_reply": "2022-02-10T09:53:17.712154Z"
    }
   },
   "outputs": [],
   "source": [
    "conv_m = gpflow.models.SVGP(conv_k, gpflow.likelihoods.Bernoulli(), conv_f)"
   ]
  },
  {
   "cell_type": "code",
   "execution_count": 11,
   "id": "356b3e3b",
   "metadata": {
    "execution": {
     "iopub.execute_input": "2022-02-10T09:53:17.761791Z",
     "iopub.status.busy": "2022-02-10T09:53:17.753372Z",
     "iopub.status.idle": "2022-02-10T09:53:17.765940Z",
     "shell.execute_reply": "2022-02-10T09:53:17.764957Z"
    }
   },
   "outputs": [],
   "source": [
    "set_trainable(conv_m.inducing_variable, False)\n",
    "set_trainable(conv_m.kernel.base_kernel.variance, False)\n",
    "set_trainable(conv_m.kernel.weights, False)"
   ]
  },
  {
   "cell_type": "code",
   "execution_count": 12,
   "id": "e8d4c882",
   "metadata": {
    "execution": {
     "iopub.execute_input": "2022-02-10T09:53:17.779257Z",
     "iopub.status.busy": "2022-02-10T09:53:17.773248Z",
     "iopub.status.idle": "2022-02-10T09:53:18.940519Z",
     "shell.execute_reply": "2022-02-10T09:53:18.940991Z"
    }
   },
   "outputs": [
    {
     "name": "stdout",
     "output_type": "stream",
     "text": [
      "conv elbo before training: -8.7271e+01\n"
     ]
    }
   ],
   "source": [
    "conv_training_loss_closure = conv_m.training_loss_closure(data, compile=True)\n",
    "conv_elbo = lambda: -conv_training_loss_closure().numpy()\n",
    "print(\"conv elbo before training: %.4e\" % conv_elbo())"
   ]
  },
  {
   "cell_type": "code",
   "execution_count": 13,
   "id": "f62c5a0c",
   "metadata": {
    "execution": {
     "iopub.execute_input": "2022-02-10T09:53:18.979530Z",
     "iopub.status.busy": "2022-02-10T09:53:18.978723Z",
     "iopub.status.idle": "2022-02-10T09:53:20.525035Z",
     "shell.execute_reply": "2022-02-10T09:53:20.524275Z"
    }
   },
   "outputs": [
    {
     "name": "stdout",
     "output_type": "stream",
     "text": [
      "6.992 iter/s\n"
     ]
    }
   ],
   "source": [
    "start_time = time.time()\n",
    "res = gpflow.optimizers.Scipy().minimize(\n",
    "    conv_training_loss_closure,\n",
    "    variables=conv_m.trainable_variables,\n",
    "    method=\"l-bfgs-b\",\n",
    "    options={\"disp\": True, \"maxiter\": MAXITER / 10},\n",
    ")\n",
    "print(f\"{res.nfev / (time.time() - start_time):.3f} iter/s\")"
   ]
  },
  {
   "cell_type": "code",
   "execution_count": 14,
   "id": "fd767598",
   "metadata": {
    "execution": {
     "iopub.execute_input": "2022-02-10T09:53:20.545446Z",
     "iopub.status.busy": "2022-02-10T09:53:20.544860Z",
     "iopub.status.idle": "2022-02-10T09:53:26.874357Z",
     "shell.execute_reply": "2022-02-10T09:53:26.874882Z"
    }
   },
   "outputs": [
    {
     "name": "stdout",
     "output_type": "stream",
     "text": [
      "Train acc: 100.0%\n",
      "Test acc : 99.0%\n",
      "conv elbo after training: -2.6751e+01\n"
     ]
    }
   ],
   "source": [
    "set_trainable(conv_m.kernel.base_kernel.variance, True)\n",
    "res = gpflow.optimizers.Scipy().minimize(\n",
    "    conv_training_loss_closure,\n",
    "    variables=conv_m.trainable_variables,\n",
    "    method=\"l-bfgs-b\",\n",
    "    options={\"disp\": True, \"maxiter\": MAXITER},\n",
    ")\n",
    "train_acc = np.mean((conv_m.predict_y(X)[0] > 0.5).numpy().astype(\"float\") == Y)\n",
    "test_acc = np.mean((conv_m.predict_y(Xt)[0] > 0.5).numpy().astype(\"float\") == Yt)\n",
    "print(f\"Train acc: {train_acc * 100}%\\nTest acc : {test_acc*100}%\")\n",
    "print(\"conv elbo after training: %.4e\" % conv_elbo())"
   ]
  },
  {
   "cell_type": "code",
   "execution_count": 15,
   "id": "a504f97e",
   "metadata": {
    "execution": {
     "iopub.execute_input": "2022-02-10T09:53:26.898550Z",
     "iopub.status.busy": "2022-02-10T09:53:26.897714Z",
     "iopub.status.idle": "2022-02-10T09:53:33.354883Z",
     "shell.execute_reply": "2022-02-10T09:53:33.355461Z"
    }
   },
   "outputs": [
    {
     "name": "stdout",
     "output_type": "stream",
     "text": [
      "Train acc: 100.0%\n",
      "Test acc : 99.0%\n",
      "conv elbo after training: -2.6738e+01\n"
     ]
    }
   ],
   "source": [
    "res = gpflow.optimizers.Scipy().minimize(\n",
    "    conv_training_loss_closure,\n",
    "    variables=conv_m.trainable_variables,\n",
    "    method=\"l-bfgs-b\",\n",
    "    options={\"disp\": True, \"maxiter\": MAXITER},\n",
    ")\n",
    "train_acc = np.mean((conv_m.predict_y(X)[0] > 0.5).numpy().astype(\"float\") == Y)\n",
    "test_acc = np.mean((conv_m.predict_y(Xt)[0] > 0.5).numpy().astype(\"float\") == Yt)\n",
    "print(f\"Train acc: {train_acc * 100}%\\nTest acc : {test_acc*100}%\")\n",
    "print(\"conv elbo after training: %.4e\" % conv_elbo())"
   ]
  },
  {
   "cell_type": "code",
   "execution_count": 16,
   "id": "142d5de6",
   "metadata": {
    "execution": {
     "iopub.execute_input": "2022-02-10T09:53:33.380335Z",
     "iopub.status.busy": "2022-02-10T09:53:33.379666Z",
     "iopub.status.idle": "2022-02-10T09:53:40.554549Z",
     "shell.execute_reply": "2022-02-10T09:53:40.554999Z"
    }
   },
   "outputs": [
    {
     "name": "stdout",
     "output_type": "stream",
     "text": [
      "Train acc: 100.0%\n",
      "Test acc : 97.33333333333334%\n",
      "conv elbo after training: -1.7081e+01\n"
     ]
    }
   ],
   "source": [
    "set_trainable(conv_m.kernel.weights, True)\n",
    "res = gpflow.optimizers.Scipy().minimize(\n",
    "    conv_training_loss_closure,\n",
    "    variables=conv_m.trainable_variables,\n",
    "    method=\"l-bfgs-b\",\n",
    "    options={\"disp\": True, \"maxiter\": MAXITER},\n",
    ")\n",
    "train_acc = np.mean((conv_m.predict_y(X)[0] > 0.5).numpy().astype(\"float\") == Y)\n",
    "test_acc = np.mean((conv_m.predict_y(Xt)[0] > 0.5).numpy().astype(\"float\") == Yt)\n",
    "print(f\"Train acc: {train_acc * 100}%\\nTest acc : {test_acc*100}%\")\n",
    "print(\"conv elbo after training: %.4e\" % conv_elbo())"
   ]
  },
  {
   "cell_type": "code",
   "execution_count": 17,
   "id": "24fde561",
   "metadata": {
    "execution": {
     "iopub.execute_input": "2022-02-10T09:53:40.561911Z",
     "iopub.status.busy": "2022-02-10T09:53:40.561084Z",
     "iopub.status.idle": "2022-02-10T09:53:40.575861Z",
     "shell.execute_reply": "2022-02-10T09:53:40.576287Z"
    }
   },
   "outputs": [
    {
     "data": {
      "text/html": [
       "<table>\n",
       "<thead>\n",
       "<tr><th>name                    </th><th>class    </th><th>transform     </th><th>prior  </th><th>trainable  </th><th>shape        </th><th>dtype  </th><th>value                                               </th></tr>\n",
       "</thead>\n",
       "<tbody>\n",
       "<tr><td>SVGP.kernel.variance    </td><td>Parameter</td><td>Softplus      </td><td>       </td><td>True       </td><td>()           </td><td>float64</td><td>3.5665517692840862                                  </td></tr>\n",
       "<tr><td>SVGP.kernel.lengthscales</td><td>Parameter</td><td>Softplus      </td><td>       </td><td>True       </td><td>()           </td><td>float64</td><td>2.7512917930358562                                  </td></tr>\n",
       "<tr><td>SVGP.inducing_variable.Z</td><td>Parameter</td><td>Identity      </td><td>       </td><td>False      </td><td>(100, 196)   </td><td>float64</td><td>[[0., 0., 0....                                     </td></tr>\n",
       "<tr><td>SVGP.q_mu               </td><td>Parameter</td><td>Identity      </td><td>       </td><td>True       </td><td>(100, 1)     </td><td>float64</td><td>[[-5.78241751e-01...                                </td></tr>\n",
       "<tr><td>SVGP.q_sqrt             </td><td>Parameter</td><td>FillTriangular</td><td>       </td><td>True       </td><td>(1, 100, 100)</td><td>float64</td><td>[[[6.44747990e-01, 0.00000000e+00, 0.00000000e+00...</td></tr>\n",
       "</tbody>\n",
       "</table>"
      ],
      "text/plain": [
       "<IPython.core.display.HTML object>"
      ]
     },
     "metadata": {},
     "output_type": "display_data"
    }
   ],
   "source": [
    "gpflow.utilities.print_summary(rbf_m)"
   ]
  },
  {
   "cell_type": "code",
   "execution_count": 18,
   "id": "2203d784",
   "metadata": {
    "execution": {
     "iopub.execute_input": "2022-02-10T09:53:40.583341Z",
     "iopub.status.busy": "2022-02-10T09:53:40.582847Z",
     "iopub.status.idle": "2022-02-10T09:53:40.632283Z",
     "shell.execute_reply": "2022-02-10T09:53:40.631537Z"
    }
   },
   "outputs": [
    {
     "data": {
      "text/html": [
       "<table>\n",
       "<thead>\n",
       "<tr><th>name                                </th><th>class    </th><th>transform       </th><th>prior  </th><th>trainable  </th><th>shape      </th><th>dtype  </th><th>value                                </th></tr>\n",
       "</thead>\n",
       "<tbody>\n",
       "<tr><td>SVGP.kernel.base_kernel.variance    </td><td>Parameter</td><td>Sigmoid + Chain </td><td>       </td><td>True       </td><td>()         </td><td>float64</td><td>99.9645377733476                     </td></tr>\n",
       "<tr><td>SVGP.kernel.base_kernel.lengthscales</td><td>Parameter</td><td>Softplus + Chain</td><td>       </td><td>True       </td><td>()         </td><td>float64</td><td>0.6306559110189641                   </td></tr>\n",
       "<tr><td>SVGP.kernel.weights                 </td><td>Parameter</td><td>Sigmoid + Chain </td><td>       </td><td>True       </td><td>(144,)     </td><td>float64</td><td>[0.3219504, 0.43132353, 0.50396077...</td></tr>\n",
       "<tr><td>SVGP.inducing_variable.Z            </td><td>Parameter</td><td>Identity        </td><td>       </td><td>False      </td><td>(45, 9)    </td><td>float64</td><td>[[0., 0., 0....                      </td></tr>\n",
       "<tr><td>SVGP.q_mu                           </td><td>Parameter</td><td>Identity        </td><td>       </td><td>True       </td><td>(45, 1)    </td><td>float64</td><td>[[0.01156351...                      </td></tr>\n",
       "<tr><td>SVGP.q_sqrt                         </td><td>Parameter</td><td>FillTriangular  </td><td>       </td><td>True       </td><td>(1, 45, 45)</td><td>float64</td><td>[[[0.07068266, 0., 0....             </td></tr>\n",
       "</tbody>\n",
       "</table>"
      ],
      "text/plain": [
       "<IPython.core.display.HTML object>"
      ]
     },
     "metadata": {},
     "output_type": "display_data"
    }
   ],
   "source": [
    "gpflow.utilities.print_summary(conv_m)"
   ]
  },
  {
   "cell_type": "markdown",
   "id": "788f005f",
   "metadata": {},
   "source": [
    "## Conclusion\n",
    "The convolutional kernel performs much better in this simple task. It demonstrates non-local generalization of the strong assumptions in the kernel."
   ]
  }
 ],
 "metadata": {
  "jupytext": {
   "formats": "ipynb,.pct.py:percent"
  },
  "kernelspec": {
   "display_name": "Python 3",
   "language": "python",
   "name": "python3"
  },
  "language_info": {
   "codemirror_mode": {
    "name": "ipython",
    "version": 3
   },
   "file_extension": ".py",
   "mimetype": "text/x-python",
   "name": "python",
   "nbconvert_exporter": "python",
   "pygments_lexer": "ipython3",
   "version": "3.6.15"
  }
 },
 "nbformat": 4,
 "nbformat_minor": 5
}
