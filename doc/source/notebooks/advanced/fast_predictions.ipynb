{
 "cells": [
  {
   "cell_type": "markdown",
   "id": "5fb29382",
   "metadata": {
    "id": "eYrSpUncKGSk"
   },
   "source": [
    "# Faster predictions by caching"
   ]
  },
  {
   "cell_type": "markdown",
   "id": "0159bc96",
   "metadata": {
    "id": "PLuPjfS7KLQ-"
   },
   "source": [
    "The default behaviour of `predict_f` in GPflow models is to compute the predictions from scratch on each call. This is convenient when predicting and training are interleaved, and simplifies the use of these models. There are some use cases, such as Bayesian optimisation, where prediction (at different test points) happens much more frequently than training. In these cases it is convenient to cache parts of the calculation which do not depend upon the test points, and reuse those parts between predictions.\n",
    "\n",
    "There are three models to which we want to add this caching capability: GPR, (S)VGP and SGPR. The VGP and SVGP can be considered together; the difference between the models is whether to condition on the full training data set (VGP) or on the inducing variables (SVGP)."
   ]
  },
  {
   "cell_type": "markdown",
   "id": "a9895f5a",
   "metadata": {
    "id": "EACkO-iRKM5T"
   },
   "source": [
    "## Posterior predictive distribution\n",
    "\n",
    "The posterior predictive distribution evaluated at a set of test points $\\mathbf{x}_*$ for a Gaussian process model is given by:\n",
    "\\begin{equation*}\n",
    "p(\\mathbf{f}_*|X, Y) = \\mathcal{N}(\\mu, \\Sigma)\n",
    "\\end{equation*}\n",
    "\n",
    "In the case of the GPR model, the parameters $\\mu$ and $\\Sigma$ are given by:\n",
    "\\begin{equation*}\n",
    "\\mu = K_{nm}[K_{mm} + \\sigma^2I]^{-1}\\mathbf{y}\n",
    "\\end{equation*}\n",
    "and\n",
    "\\begin{equation*}\n",
    "\\Sigma = K_{nn} - K_{nm}[K_{mm} + \\sigma^2I]^{-1}K_{mn}\n",
    "\\end{equation*}\n",
    "\n",
    "The posterior predictive distribution for the VGP and SVGP model is parameterised as follows:\n",
    "\\begin{equation*}\n",
    "\\mu = K_{nu}K_{uu}^{-1}\\mathbf{u}\n",
    "\\end{equation*}\n",
    "and\n",
    "\\begin{equation*}\n",
    "\\Sigma = K_{nn} - K_{nu}K_{uu}^{-1}K_{un}\n",
    "\\end{equation*}\n",
    "\n",
    "Finally, the parameters for the SGPR model are:\n",
    "\\begin{equation*}\n",
    "\\mu = K_{nu}L^{-T}L_B^{-T}\\mathbf{c}\n",
    "\\end{equation*}\n",
    "and\n",
    "\\begin{equation*}\n",
    "\\Sigma = K_{nn} - K_{nu}L^{-T}(I - B^{-1})L^{-1}K_{un}\n",
    "\\end{equation*}\n",
    "\n",
    "Where the mean function is not the zero function, the predictive mean should have the mean function evaluated at the test points added to it."
   ]
  },
  {
   "cell_type": "markdown",
   "id": "7dd3429d",
   "metadata": {
    "id": "GX1U-fYPKPrt"
   },
   "source": [
    "## What can be cached?\n",
    "\n",
    "We cache two separate values: $\\alpha$ and $Q^{-1}$. These correspond to the parts of the mean and covariance functions respectively which do not depend upon the test points. In the case of the GPR these are the same value:\n",
    "\\begin{equation*}\n",
    "    \\alpha = Q^{-1} = [K_{mm} + \\sigma^2I]^{-1}\n",
    "\\end{equation*}\n",
    "in the case of the VGP and SVGP model these are:\n",
    "\\begin{equation*}\n",
    "    \\alpha = K_{uu}^{-1}\\mathbf{u}\\\\ Q^{-1} = K_{uu}^{-1}\n",
    "\\end{equation*}\n",
    "and in the case of the SGPR model these are:\n",
    "\\begin{equation*}\n",
    "    \\alpha = L^{-T}L_B^{-T}\\mathbf{c}\\\\ Q^{-1} = L^{-T}(I - B^{-1})L^{-1}\n",
    "\\end{equation*}\n",
    "\n",
    "\n",
    "Note that in the (S)VGP case, $\\alpha$ is the parameter as proposed by Opper and Archambeau for the mean of the predictive distribution."
   ]
  },
  {
   "cell_type": "code",
   "execution_count": 1,
   "id": "e6c182b7",
   "metadata": {
    "execution": {
     "iopub.execute_input": "2022-03-03T11:54:55.412105Z",
     "iopub.status.busy": "2022-03-03T11:54:55.409761Z",
     "iopub.status.idle": "2022-03-03T11:54:58.232610Z",
     "shell.execute_reply": "2022-03-03T11:54:58.233171Z"
    }
   },
   "outputs": [],
   "source": [
    "import gpflow\n",
    "import numpy as np\n",
    "\n",
    "# Create some data\n",
    "X = np.linspace(-1.1, 1.1, 1000)[:, None]\n",
    "Y = np.sin(X)\n",
    "Xnew = np.linspace(-1.1, 1.1, 1000)[:, None]"
   ]
  },
  {
   "cell_type": "markdown",
   "id": "fd3eee6c",
   "metadata": {
    "id": "FzCgor4nKUcW"
   },
   "source": [
    "\n",
    "## GPR Example\n",
    "\n",
    "We will construct a GPR model to demonstrate the faster predictions from using the cached data in the GPFlow posterior classes (subclasses of `gpflow.posteriors.AbstractPosterior`)."
   ]
  },
  {
   "cell_type": "code",
   "execution_count": 2,
   "id": "796ac83c",
   "metadata": {
    "execution": {
     "iopub.execute_input": "2022-03-03T11:54:58.251432Z",
     "iopub.status.busy": "2022-03-03T11:54:58.250916Z",
     "iopub.status.idle": "2022-03-03T11:54:58.285403Z",
     "shell.execute_reply": "2022-03-03T11:54:58.284875Z"
    },
    "id": "BMnIdXNiKU6t"
   },
   "outputs": [],
   "source": [
    "model = gpflow.models.GPR(\n",
    "    (X, Y),\n",
    "    gpflow.kernels.SquaredExponential(),\n",
    ")"
   ]
  },
  {
   "cell_type": "markdown",
   "id": "caaf25b9",
   "metadata": {},
   "source": [
    "The `predict_f` method on the `GPModel` class performs no caching."
   ]
  },
  {
   "cell_type": "code",
   "execution_count": 3,
   "id": "d6adeb3c",
   "metadata": {
    "execution": {
     "iopub.execute_input": "2022-03-03T11:54:58.291083Z",
     "iopub.status.busy": "2022-03-03T11:54:58.290359Z",
     "iopub.status.idle": "2022-03-03T11:54:59.666153Z",
     "shell.execute_reply": "2022-03-03T11:54:59.666530Z"
    }
   },
   "outputs": [
    {
     "name": "stdout",
     "output_type": "stream",
     "text": [
      "167 ms ± 9.44 ms per loop (mean ± std. dev. of 7 runs, 1 loop each)\n"
     ]
    }
   ],
   "source": [
    "%%timeit\n",
    "model.predict_f(Xnew)"
   ]
  },
  {
   "cell_type": "code",
   "execution_count": 4,
   "id": "2a70473b",
   "metadata": {
    "execution": {
     "iopub.execute_input": "2022-03-03T11:54:59.671198Z",
     "iopub.status.busy": "2022-03-03T11:54:59.670707Z",
     "iopub.status.idle": "2022-03-03T11:54:59.819836Z",
     "shell.execute_reply": "2022-03-03T11:54:59.819248Z"
    }
   },
   "outputs": [],
   "source": [
    "# To make use of the caching, first retrieve the posterior class from the model. The posterior class has methods to predict the parameters of marginal distributions at test points, in the same way as the `predict_f` method of the `GPModel`.\n",
    "posterior = model.posterior()"
   ]
  },
  {
   "cell_type": "code",
   "execution_count": 5,
   "id": "f47debf9",
   "metadata": {
    "execution": {
     "iopub.execute_input": "2022-03-03T11:54:59.824926Z",
     "iopub.status.busy": "2022-03-03T11:54:59.824386Z",
     "iopub.status.idle": "2022-03-03T11:55:09.768073Z",
     "shell.execute_reply": "2022-03-03T11:55:09.767624Z"
    }
   },
   "outputs": [
    {
     "name": "stdout",
     "output_type": "stream",
     "text": [
      "124 ms ± 3.6 ms per loop (mean ± std. dev. of 7 runs, 10 loops each)\n"
     ]
    }
   ],
   "source": [
    "%%timeit\n",
    "posterior.predict_f(Xnew)"
   ]
  },
  {
   "cell_type": "markdown",
   "id": "1980736b",
   "metadata": {},
   "source": [
    "## SVGP Example\n",
    "\n",
    "Likewise, we will construct an SVGP model to demonstrate the faster predictions from using the cached data in the GPFlow posterior classes."
   ]
  },
  {
   "cell_type": "code",
   "execution_count": 6,
   "id": "4c51ca8a",
   "metadata": {
    "execution": {
     "iopub.execute_input": "2022-03-03T11:55:09.772709Z",
     "iopub.status.busy": "2022-03-03T11:55:09.772219Z",
     "iopub.status.idle": "2022-03-03T11:55:09.809860Z",
     "shell.execute_reply": "2022-03-03T11:55:09.810261Z"
    },
    "id": "BMnIdXNiKU6t"
   },
   "outputs": [],
   "source": [
    "model = gpflow.models.SVGP(\n",
    "    gpflow.kernels.SquaredExponential(),\n",
    "    gpflow.likelihoods.Gaussian(),\n",
    "    np.linspace(-1.1, 1.1, 1000)[:, None],\n",
    ")"
   ]
  },
  {
   "cell_type": "markdown",
   "id": "697d83e9",
   "metadata": {},
   "source": [
    "The `predict_f` method on the `GPModel` class performs no caching."
   ]
  },
  {
   "cell_type": "code",
   "execution_count": 7,
   "id": "a2c27fe4",
   "metadata": {
    "execution": {
     "iopub.execute_input": "2022-03-03T11:55:09.817365Z",
     "iopub.status.busy": "2022-03-03T11:55:09.816784Z",
     "iopub.status.idle": "2022-03-03T11:55:21.099048Z",
     "shell.execute_reply": "2022-03-03T11:55:21.099448Z"
    }
   },
   "outputs": [
    {
     "name": "stdout",
     "output_type": "stream",
     "text": [
      "140 ms ± 7.03 ms per loop (mean ± std. dev. of 7 runs, 10 loops each)\n"
     ]
    }
   ],
   "source": [
    "%%timeit\n",
    "model.predict_f(Xnew)"
   ]
  },
  {
   "cell_type": "markdown",
   "id": "405962a2",
   "metadata": {},
   "source": [
    "And again using the posterior object and caching"
   ]
  },
  {
   "cell_type": "code",
   "execution_count": 8,
   "id": "c9b36647",
   "metadata": {
    "execution": {
     "iopub.execute_input": "2022-03-03T11:55:21.104635Z",
     "iopub.status.busy": "2022-03-03T11:55:21.103627Z",
     "iopub.status.idle": "2022-03-03T11:55:21.270814Z",
     "shell.execute_reply": "2022-03-03T11:55:21.270354Z"
    }
   },
   "outputs": [],
   "source": [
    "posterior = model.posterior()"
   ]
  },
  {
   "cell_type": "code",
   "execution_count": 9,
   "id": "924a14d2",
   "metadata": {
    "execution": {
     "iopub.execute_input": "2022-03-03T11:55:21.275812Z",
     "iopub.status.busy": "2022-03-03T11:55:21.275333Z",
     "iopub.status.idle": "2022-03-03T11:55:25.164010Z",
     "shell.execute_reply": "2022-03-03T11:55:25.163537Z"
    }
   },
   "outputs": [
    {
     "name": "stdout",
     "output_type": "stream",
     "text": [
      "48.5 ms ± 2.55 ms per loop (mean ± std. dev. of 7 runs, 10 loops each)\n"
     ]
    }
   ],
   "source": [
    "%%timeit\n",
    "posterior.predict_f(Xnew)"
   ]
  },
  {
   "cell_type": "markdown",
   "id": "ded3ea67",
   "metadata": {},
   "source": [
    "## SGPR Example\n",
    "\n",
    "And finally, we follow the same approach this time for the SGPR case."
   ]
  },
  {
   "cell_type": "code",
   "execution_count": 10,
   "id": "4c3bc580",
   "metadata": {
    "execution": {
     "iopub.execute_input": "2022-03-03T11:55:25.168865Z",
     "iopub.status.busy": "2022-03-03T11:55:25.168294Z",
     "iopub.status.idle": "2022-03-03T11:55:25.185394Z",
     "shell.execute_reply": "2022-03-03T11:55:25.184957Z"
    }
   },
   "outputs": [],
   "source": [
    "model = gpflow.models.SGPR(\n",
    "    (X, Y), gpflow.kernels.SquaredExponential(), np.linspace(-1.1, 1.1, 1000)[:, None]\n",
    ")"
   ]
  },
  {
   "cell_type": "markdown",
   "id": "087e3908",
   "metadata": {},
   "source": [
    "The predict_f method on the instance performs no caching."
   ]
  },
  {
   "cell_type": "code",
   "execution_count": 11,
   "id": "52f682b6",
   "metadata": {
    "execution": {
     "iopub.execute_input": "2022-03-03T11:55:25.190264Z",
     "iopub.status.busy": "2022-03-03T11:55:25.189815Z",
     "iopub.status.idle": "2022-03-03T11:55:27.412789Z",
     "shell.execute_reply": "2022-03-03T11:55:27.413198Z"
    }
   },
   "outputs": [
    {
     "name": "stdout",
     "output_type": "stream",
     "text": [
      "278 ms ± 19.2 ms per loop (mean ± std. dev. of 7 runs, 1 loop each)\n"
     ]
    }
   ],
   "source": [
    "%%timeit\n",
    "model.predict_f(Xnew)"
   ]
  },
  {
   "cell_type": "markdown",
   "id": "d5ed826d",
   "metadata": {},
   "source": [
    "Using the posterior object instead:"
   ]
  },
  {
   "cell_type": "code",
   "execution_count": 12,
   "id": "f1a8d93c",
   "metadata": {
    "execution": {
     "iopub.execute_input": "2022-03-03T11:55:27.417542Z",
     "iopub.status.busy": "2022-03-03T11:55:27.417075Z",
     "iopub.status.idle": "2022-03-03T11:55:27.867363Z",
     "shell.execute_reply": "2022-03-03T11:55:27.867767Z"
    }
   },
   "outputs": [],
   "source": [
    "posterior = model.posterior()"
   ]
  },
  {
   "cell_type": "code",
   "execution_count": 13,
   "id": "b1aba47b",
   "metadata": {
    "execution": {
     "iopub.execute_input": "2022-03-03T11:55:27.873060Z",
     "iopub.status.busy": "2022-03-03T11:55:27.872571Z",
     "iopub.status.idle": "2022-03-03T11:55:31.992767Z",
     "shell.execute_reply": "2022-03-03T11:55:31.993150Z"
    }
   },
   "outputs": [
    {
     "name": "stdout",
     "output_type": "stream",
     "text": [
      "50.4 ms ± 425 µs per loop (mean ± std. dev. of 7 runs, 10 loops each)\n"
     ]
    }
   ],
   "source": [
    "%%timeit\n",
    "posterior.predict_f(Xnew)"
   ]
  }
 ],
 "metadata": {
  "kernelspec": {
   "display_name": "Python 3",
   "language": "python",
   "name": "python3"
  },
  "language_info": {
   "codemirror_mode": {
    "name": "ipython",
    "version": 3
   },
   "file_extension": ".py",
   "mimetype": "text/x-python",
   "name": "python",
   "nbconvert_exporter": "python",
   "pygments_lexer": "ipython3",
   "version": "3.6.15"
  }
 },
 "nbformat": 4,
 "nbformat_minor": 5
}
