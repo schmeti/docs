{
 "cells": [
  {
   "cell_type": "markdown",
   "id": "db8029e8",
   "metadata": {
    "id": "eYrSpUncKGSk"
   },
   "source": [
    "# Faster predictions by caching"
   ]
  },
  {
   "cell_type": "markdown",
   "id": "e45e5e24",
   "metadata": {
    "id": "PLuPjfS7KLQ-"
   },
   "source": [
    "The default behaviour of `predict_f` in GPflow models is to compute the predictions from scratch on each call. This is convenient when predicting and training are interleaved, and simplifies the use of these models. There are some use cases, such as Bayesian optimisation, where prediction (at different test points) happens much more frequently than training. In these cases it is convenient to cache parts of the calculation which do not depend upon the test points, and reuse those parts between predictions.\n",
    "\n",
    "There are three models to which we want to add this caching capability: GPR, (S)VGP and SGPR. The VGP and SVGP can be considered together; the difference between the models is whether to condition on the full training data set (VGP) or on the inducing variables (SVGP)."
   ]
  },
  {
   "cell_type": "markdown",
   "id": "a62efea9",
   "metadata": {
    "id": "EACkO-iRKM5T"
   },
   "source": [
    "## Posterior predictive distribution\n",
    "\n",
    "The posterior predictive distribution evaluated at a set of test points $\\mathbf{x}_*$ for a Gaussian process model is given by:\n",
    "\\begin{equation*}\n",
    "p(\\mathbf{f}_*|X, Y) = \\mathcal{N}(\\mu, \\Sigma)\n",
    "\\end{equation*}\n",
    "\n",
    "In the case of the GPR model, the parameters $\\mu$ and $\\Sigma$ are given by:\n",
    "\\begin{equation*}\n",
    "\\mu = K_{nm}[K_{mm} + \\sigma^2I]^{-1}\\mathbf{y}\n",
    "\\end{equation*}\n",
    "and\n",
    "\\begin{equation*}\n",
    "\\Sigma = K_{nn} - K_{nm}[K_{mm} + \\sigma^2I]^{-1}K_{mn}\n",
    "\\end{equation*}\n",
    "\n",
    "The posterior predictive distribution for the VGP and SVGP model is parameterised as follows:\n",
    "\\begin{equation*}\n",
    "\\mu = K_{nu}K_{uu}^{-1}\\mathbf{u}\n",
    "\\end{equation*}\n",
    "and\n",
    "\\begin{equation*}\n",
    "\\Sigma = K_{nn} - K_{nu}K_{uu}^{-1}K_{un}\n",
    "\\end{equation*}\n",
    "\n",
    "Finally, the parameters for the SGPR model are:\n",
    "\\begin{equation*}\n",
    "\\mu = K_{nu}L^{-T}L_B^{-T}\\mathbf{c}\n",
    "\\end{equation*}\n",
    "and\n",
    "\\begin{equation*}\n",
    "\\Sigma = K_{nn} - K_{nu}L^{-T}(I - B^{-1})L^{-1}K_{un}\n",
    "\\end{equation*}\n",
    "\n",
    "Where the mean function is not the zero function, the predictive mean should have the mean function evaluated at the test points added to it."
   ]
  },
  {
   "cell_type": "markdown",
   "id": "1cfd54ed",
   "metadata": {
    "id": "GX1U-fYPKPrt"
   },
   "source": [
    "## What can be cached?\n",
    "\n",
    "We cache two separate values: $\\alpha$ and $Q^{-1}$. These correspond to the parts of the mean and covariance functions respectively which do not depend upon the test points. In the case of the GPR these are the same value:\n",
    "\\begin{equation*}\n",
    "    \\alpha = Q^{-1} = [K_{mm} + \\sigma^2I]^{-1}\n",
    "\\end{equation*}\n",
    "in the case of the VGP and SVGP model these are:\n",
    "\\begin{equation*}\n",
    "    \\alpha = K_{uu}^{-1}\\mathbf{u}\\\\ Q^{-1} = K_{uu}^{-1}\n",
    "\\end{equation*}\n",
    "and in the case of the SGPR model these are:\n",
    "\\begin{equation*}\n",
    "    \\alpha = L^{-T}L_B^{-T}\\mathbf{c}\\\\ Q^{-1} = L^{-T}(I - B^{-1})L^{-1}\n",
    "\\end{equation*}\n",
    "\n",
    "\n",
    "Note that in the (S)VGP case, $\\alpha$ is the parameter as proposed by Opper and Archambeau for the mean of the predictive distribution."
   ]
  },
  {
   "cell_type": "code",
   "execution_count": 1,
   "id": "a2a9da2f",
   "metadata": {
    "execution": {
     "iopub.execute_input": "2022-02-28T10:30:46.777529Z",
     "iopub.status.busy": "2022-02-28T10:30:46.776237Z",
     "iopub.status.idle": "2022-02-28T10:30:49.480541Z",
     "shell.execute_reply": "2022-02-28T10:30:49.481055Z"
    }
   },
   "outputs": [],
   "source": [
    "import gpflow\n",
    "import numpy as np\n",
    "\n",
    "# Create some data\n",
    "X = np.linspace(-1.1, 1.1, 1000)[:, None]\n",
    "Y = np.sin(X)\n",
    "Xnew = np.linspace(-1.1, 1.1, 1000)[:, None]"
   ]
  },
  {
   "cell_type": "markdown",
   "id": "44be4636",
   "metadata": {
    "id": "FzCgor4nKUcW"
   },
   "source": [
    "\n",
    "## GPR Example\n",
    "\n",
    "We will construct a GPR model to demonstrate the faster predictions from using the cached data in the GPFlow posterior classes (subclasses of `gpflow.posteriors.AbstractPosterior`)."
   ]
  },
  {
   "cell_type": "code",
   "execution_count": 2,
   "id": "9f47920e",
   "metadata": {
    "execution": {
     "iopub.execute_input": "2022-02-28T10:30:49.499137Z",
     "iopub.status.busy": "2022-02-28T10:30:49.498597Z",
     "iopub.status.idle": "2022-02-28T10:30:49.528505Z",
     "shell.execute_reply": "2022-02-28T10:30:49.528026Z"
    },
    "id": "BMnIdXNiKU6t"
   },
   "outputs": [],
   "source": [
    "model = gpflow.models.GPR(\n",
    "    (X, Y),\n",
    "    gpflow.kernels.SquaredExponential(),\n",
    ")"
   ]
  },
  {
   "cell_type": "markdown",
   "id": "9479c02b",
   "metadata": {},
   "source": [
    "The `predict_f` method on the `GPModel` class performs no caching."
   ]
  },
  {
   "cell_type": "code",
   "execution_count": 3,
   "id": "9e0b1c99",
   "metadata": {
    "execution": {
     "iopub.execute_input": "2022-02-28T10:30:49.533272Z",
     "iopub.status.busy": "2022-02-28T10:30:49.532822Z",
     "iopub.status.idle": "2022-02-28T10:31:02.198408Z",
     "shell.execute_reply": "2022-02-28T10:31:02.198776Z"
    }
   },
   "outputs": [
    {
     "name": "stdout",
     "output_type": "stream",
     "text": [
      "157 ms ± 6.5 ms per loop (mean ± std. dev. of 7 runs, 10 loops each)\n"
     ]
    }
   ],
   "source": [
    "%%timeit\n",
    "model.predict_f(Xnew)"
   ]
  },
  {
   "cell_type": "code",
   "execution_count": 4,
   "id": "5b7c1c01",
   "metadata": {
    "execution": {
     "iopub.execute_input": "2022-02-28T10:31:02.202492Z",
     "iopub.status.busy": "2022-02-28T10:31:02.202015Z",
     "iopub.status.idle": "2022-02-28T10:31:02.342908Z",
     "shell.execute_reply": "2022-02-28T10:31:02.343669Z"
    }
   },
   "outputs": [],
   "source": [
    "# To make use of the caching, first retrieve the posterior class from the model. The posterior class has methods to predict the parameters of marginal distributions at test points, in the same way as the `predict_f` method of the `GPModel`.\n",
    "posterior = model.posterior()"
   ]
  },
  {
   "cell_type": "code",
   "execution_count": 5,
   "id": "646ceb6b",
   "metadata": {
    "execution": {
     "iopub.execute_input": "2022-02-28T10:31:02.349825Z",
     "iopub.status.busy": "2022-02-28T10:31:02.349030Z",
     "iopub.status.idle": "2022-02-28T10:31:12.556647Z",
     "shell.execute_reply": "2022-02-28T10:31:12.557011Z"
    }
   },
   "outputs": [
    {
     "name": "stdout",
     "output_type": "stream",
     "text": [
      "126 ms ± 4 ms per loop (mean ± std. dev. of 7 runs, 10 loops each)\n"
     ]
    }
   ],
   "source": [
    "%%timeit\n",
    "posterior.predict_f(Xnew)"
   ]
  },
  {
   "cell_type": "markdown",
   "id": "2c3455cd",
   "metadata": {},
   "source": [
    "## SVGP Example\n",
    "\n",
    "Likewise, we will construct an SVGP model to demonstrate the faster predictions from using the cached data in the GPFlow posterior classes."
   ]
  },
  {
   "cell_type": "code",
   "execution_count": 6,
   "id": "0a9c63b3",
   "metadata": {
    "execution": {
     "iopub.execute_input": "2022-02-28T10:31:12.562001Z",
     "iopub.status.busy": "2022-02-28T10:31:12.561498Z",
     "iopub.status.idle": "2022-02-28T10:31:12.602712Z",
     "shell.execute_reply": "2022-02-28T10:31:12.602248Z"
    },
    "id": "BMnIdXNiKU6t"
   },
   "outputs": [],
   "source": [
    "model = gpflow.models.SVGP(\n",
    "    gpflow.kernels.SquaredExponential(),\n",
    "    gpflow.likelihoods.Gaussian(),\n",
    "    np.linspace(-1.1, 1.1, 1000)[:, None],\n",
    ")"
   ]
  },
  {
   "cell_type": "markdown",
   "id": "ecac3ceb",
   "metadata": {},
   "source": [
    "The `predict_f` method on the `GPModel` class performs no caching."
   ]
  },
  {
   "cell_type": "code",
   "execution_count": 7,
   "id": "96872cfe",
   "metadata": {
    "execution": {
     "iopub.execute_input": "2022-02-28T10:31:12.608409Z",
     "iopub.status.busy": "2022-02-28T10:31:12.607876Z",
     "iopub.status.idle": "2022-02-28T10:31:23.150073Z",
     "shell.execute_reply": "2022-02-28T10:31:23.150464Z"
    }
   },
   "outputs": [
    {
     "name": "stdout",
     "output_type": "stream",
     "text": [
      "131 ms ± 1.9 ms per loop (mean ± std. dev. of 7 runs, 10 loops each)\n"
     ]
    }
   ],
   "source": [
    "%%timeit\n",
    "model.predict_f(Xnew)"
   ]
  },
  {
   "cell_type": "markdown",
   "id": "e0ac3c4c",
   "metadata": {},
   "source": [
    "And again using the posterior object and caching"
   ]
  },
  {
   "cell_type": "code",
   "execution_count": 8,
   "id": "9e3898ba",
   "metadata": {
    "execution": {
     "iopub.execute_input": "2022-02-28T10:31:23.155263Z",
     "iopub.status.busy": "2022-02-28T10:31:23.154718Z",
     "iopub.status.idle": "2022-02-28T10:31:23.332800Z",
     "shell.execute_reply": "2022-02-28T10:31:23.333316Z"
    }
   },
   "outputs": [],
   "source": [
    "posterior = model.posterior()"
   ]
  },
  {
   "cell_type": "code",
   "execution_count": 9,
   "id": "62c0cded",
   "metadata": {
    "execution": {
     "iopub.execute_input": "2022-02-28T10:31:23.339281Z",
     "iopub.status.busy": "2022-02-28T10:31:23.338748Z",
     "iopub.status.idle": "2022-02-28T10:31:27.276081Z",
     "shell.execute_reply": "2022-02-28T10:31:27.275333Z"
    }
   },
   "outputs": [
    {
     "name": "stdout",
     "output_type": "stream",
     "text": [
      "48.8 ms ± 2.13 ms per loop (mean ± std. dev. of 7 runs, 10 loops each)\n"
     ]
    }
   ],
   "source": [
    "%%timeit\n",
    "posterior.predict_f(Xnew)"
   ]
  },
  {
   "cell_type": "markdown",
   "id": "acc8b650",
   "metadata": {},
   "source": [
    "## SGPR Example\n",
    "\n",
    "And finally, we follow the same approach this time for the SGPR case."
   ]
  },
  {
   "cell_type": "code",
   "execution_count": 10,
   "id": "a0ee754f",
   "metadata": {
    "execution": {
     "iopub.execute_input": "2022-02-28T10:31:27.281845Z",
     "iopub.status.busy": "2022-02-28T10:31:27.281033Z",
     "iopub.status.idle": "2022-02-28T10:31:27.300067Z",
     "shell.execute_reply": "2022-02-28T10:31:27.300757Z"
    }
   },
   "outputs": [],
   "source": [
    "model = gpflow.models.SGPR(\n",
    "    (X, Y), gpflow.kernels.SquaredExponential(), np.linspace(-1.1, 1.1, 1000)[:, None]\n",
    ")"
   ]
  },
  {
   "cell_type": "markdown",
   "id": "9ff22f86",
   "metadata": {},
   "source": [
    "The predict_f method on the instance performs no caching."
   ]
  },
  {
   "cell_type": "code",
   "execution_count": 11,
   "id": "03a2e4b2",
   "metadata": {
    "execution": {
     "iopub.execute_input": "2022-02-28T10:31:27.308676Z",
     "iopub.status.busy": "2022-02-28T10:31:27.308179Z",
     "iopub.status.idle": "2022-02-28T10:31:29.535175Z",
     "shell.execute_reply": "2022-02-28T10:31:29.534723Z"
    }
   },
   "outputs": [
    {
     "name": "stdout",
     "output_type": "stream",
     "text": [
      "276 ms ± 11.9 ms per loop (mean ± std. dev. of 7 runs, 1 loop each)\n"
     ]
    }
   ],
   "source": [
    "%%timeit\n",
    "model.predict_f(Xnew)"
   ]
  },
  {
   "cell_type": "markdown",
   "id": "252155c5",
   "metadata": {},
   "source": [
    "Using the posterior object instead:"
   ]
  },
  {
   "cell_type": "code",
   "execution_count": 12,
   "id": "dbd4ef63",
   "metadata": {
    "execution": {
     "iopub.execute_input": "2022-02-28T10:31:29.539233Z",
     "iopub.status.busy": "2022-02-28T10:31:29.538748Z",
     "iopub.status.idle": "2022-02-28T10:31:30.053106Z",
     "shell.execute_reply": "2022-02-28T10:31:30.052663Z"
    }
   },
   "outputs": [],
   "source": [
    "posterior = model.posterior()"
   ]
  },
  {
   "cell_type": "code",
   "execution_count": 13,
   "id": "39cf95d8",
   "metadata": {
    "execution": {
     "iopub.execute_input": "2022-02-28T10:31:30.058116Z",
     "iopub.status.busy": "2022-02-28T10:31:30.057650Z",
     "iopub.status.idle": "2022-02-28T10:31:34.150969Z",
     "shell.execute_reply": "2022-02-28T10:31:34.151368Z"
    }
   },
   "outputs": [
    {
     "name": "stdout",
     "output_type": "stream",
     "text": [
      "51.1 ms ± 2.6 ms per loop (mean ± std. dev. of 7 runs, 10 loops each)\n"
     ]
    }
   ],
   "source": [
    "%%timeit\n",
    "posterior.predict_f(Xnew)"
   ]
  }
 ],
 "metadata": {
  "kernelspec": {
   "display_name": "Python 3",
   "language": "python",
   "name": "python3"
  },
  "language_info": {
   "codemirror_mode": {
    "name": "ipython",
    "version": 3
   },
   "file_extension": ".py",
   "mimetype": "text/x-python",
   "name": "python",
   "nbconvert_exporter": "python",
   "pygments_lexer": "ipython3",
   "version": "3.6.15"
  }
 },
 "nbformat": 4,
 "nbformat_minor": 5
}
