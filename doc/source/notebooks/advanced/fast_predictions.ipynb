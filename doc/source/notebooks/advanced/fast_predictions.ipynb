{
 "cells": [
  {
   "cell_type": "markdown",
   "id": "5602d647",
   "metadata": {
    "id": "eYrSpUncKGSk"
   },
   "source": [
    "# Faster predictions by caching"
   ]
  },
  {
   "cell_type": "markdown",
   "id": "38287f61",
   "metadata": {
    "id": "PLuPjfS7KLQ-"
   },
   "source": [
    "The default behaviour of `predict_f` in GPflow models is to compute the predictions from scratch on each call. This is convenient when predicting and training are interleaved, and simplifies the use of these models. There are some use cases, such as Bayesian optimisation, where prediction (at different test points) happens much more frequently than training. In these cases it is convenient to cache parts of the calculation which do not depend upon the test points, and reuse those parts between predictions.\n",
    "\n",
    "There are three models to which we want to add this caching capability: GPR, (S)VGP and SGPR. The VGP and SVGP can be considered together; the difference between the models is whether to condition on the full training data set (VGP) or on the inducing variables (SVGP)."
   ]
  },
  {
   "cell_type": "markdown",
   "id": "6fe97261",
   "metadata": {
    "id": "EACkO-iRKM5T"
   },
   "source": [
    "## Posterior predictive distribution\n",
    "\n",
    "The posterior predictive distribution evaluated at a set of test points $\\mathbf{x}_*$ for a Gaussian process model is given by:\n",
    "\\begin{equation*}\n",
    "p(\\mathbf{f}_*|X, Y) = \\mathcal{N}(\\mu, \\Sigma)\n",
    "\\end{equation*}\n",
    "\n",
    "In the case of the GPR model, the parameters $\\mu$ and $\\Sigma$ are given by:\n",
    "\\begin{equation*}\n",
    "\\mu = K_{nm}[K_{mm} + \\sigma^2I]^{-1}\\mathbf{y}\n",
    "\\end{equation*}\n",
    "and\n",
    "\\begin{equation*}\n",
    "\\Sigma = K_{nn} - K_{nm}[K_{mm} + \\sigma^2I]^{-1}K_{mn}\n",
    "\\end{equation*}\n",
    "\n",
    "The posterior predictive distribution for the VGP and SVGP model is parameterised as follows:\n",
    "\\begin{equation*}\n",
    "\\mu = K_{nu}K_{uu}^{-1}\\mathbf{u}\n",
    "\\end{equation*}\n",
    "and\n",
    "\\begin{equation*}\n",
    "\\Sigma = K_{nn} - K_{nu}K_{uu}^{-1}K_{un}\n",
    "\\end{equation*}\n",
    "\n",
    "Finally, the parameters for the SGPR model are:\n",
    "\\begin{equation*}\n",
    "\\mu = K_{nu}L^{-T}L_B^{-T}\\mathbf{c}\n",
    "\\end{equation*}\n",
    "and\n",
    "\\begin{equation*}\n",
    "\\Sigma = K_{nn} - K_{nu}L^{-T}(I - B^{-1})L^{-1}K_{un}\n",
    "\\end{equation*}\n",
    "\n",
    "Where the mean function is not the zero function, the predictive mean should have the mean function evaluated at the test points added to it."
   ]
  },
  {
   "cell_type": "markdown",
   "id": "172f4424",
   "metadata": {
    "id": "GX1U-fYPKPrt"
   },
   "source": [
    "## What can be cached?\n",
    "\n",
    "We cache two separate values: $\\alpha$ and $Q^{-1}$. These correspond to the parts of the mean and covariance functions respectively which do not depend upon the test points. In the case of the GPR these are the same value:\n",
    "\\begin{equation*}\n",
    "    \\alpha = Q^{-1} = [K_{mm} + \\sigma^2I]^{-1}\n",
    "\\end{equation*}\n",
    "in the case of the VGP and SVGP model these are:\n",
    "\\begin{equation*}\n",
    "    \\alpha = K_{uu}^{-1}\\mathbf{u}\\\\ Q^{-1} = K_{uu}^{-1}\n",
    "\\end{equation*}\n",
    "and in the case of the SGPR model these are:\n",
    "\\begin{equation*}\n",
    "    \\alpha = L^{-T}L_B^{-T}\\mathbf{c}\\\\ Q^{-1} = L^{-T}(I - B^{-1})L^{-1}\n",
    "\\end{equation*}\n",
    "\n",
    "\n",
    "Note that in the (S)VGP case, $\\alpha$ is the parameter as proposed by Opper and Archambeau for the mean of the predictive distribution."
   ]
  },
  {
   "cell_type": "code",
   "execution_count": 1,
   "id": "0471bcf6",
   "metadata": {
    "execution": {
     "iopub.execute_input": "2022-02-24T16:31:36.986042Z",
     "iopub.status.busy": "2022-02-24T16:31:36.984568Z",
     "iopub.status.idle": "2022-02-24T16:31:39.781035Z",
     "shell.execute_reply": "2022-02-24T16:31:39.781463Z"
    }
   },
   "outputs": [],
   "source": [
    "import gpflow\n",
    "import numpy as np\n",
    "\n",
    "# Create some data\n",
    "X = np.linspace(-1.1, 1.1, 1000)[:, None]\n",
    "Y = np.sin(X)\n",
    "Xnew = np.linspace(-1.1, 1.1, 1000)[:, None]"
   ]
  },
  {
   "cell_type": "markdown",
   "id": "2e352eda",
   "metadata": {
    "id": "FzCgor4nKUcW"
   },
   "source": [
    "\n",
    "## GPR Example\n",
    "\n",
    "We will construct a GPR model to demonstrate the faster predictions from using the cached data in the GPFlow posterior classes (subclasses of `gpflow.posteriors.AbstractPosterior`)."
   ]
  },
  {
   "cell_type": "code",
   "execution_count": 2,
   "id": "d5636f80",
   "metadata": {
    "execution": {
     "iopub.execute_input": "2022-02-24T16:31:39.800225Z",
     "iopub.status.busy": "2022-02-24T16:31:39.799727Z",
     "iopub.status.idle": "2022-02-24T16:31:39.830745Z",
     "shell.execute_reply": "2022-02-24T16:31:39.831184Z"
    },
    "id": "BMnIdXNiKU6t"
   },
   "outputs": [],
   "source": [
    "model = gpflow.models.GPR(\n",
    "    (X, Y),\n",
    "    gpflow.kernels.SquaredExponential(),\n",
    ")"
   ]
  },
  {
   "cell_type": "markdown",
   "id": "913379c8",
   "metadata": {},
   "source": [
    "The `predict_f` method on the `GPModel` class performs no caching."
   ]
  },
  {
   "cell_type": "code",
   "execution_count": 3,
   "id": "950f5e21",
   "metadata": {
    "execution": {
     "iopub.execute_input": "2022-02-24T16:31:39.835777Z",
     "iopub.status.busy": "2022-02-24T16:31:39.835313Z",
     "iopub.status.idle": "2022-02-24T16:31:41.220235Z",
     "shell.execute_reply": "2022-02-24T16:31:41.220607Z"
    }
   },
   "outputs": [
    {
     "name": "stdout",
     "output_type": "stream",
     "text": [
      "168 ms ± 15.4 ms per loop (mean ± std. dev. of 7 runs, 1 loop each)\n"
     ]
    }
   ],
   "source": [
    "%%timeit\n",
    "model.predict_f(Xnew)"
   ]
  },
  {
   "cell_type": "code",
   "execution_count": 4,
   "id": "5041be85",
   "metadata": {
    "execution": {
     "iopub.execute_input": "2022-02-24T16:31:41.224447Z",
     "iopub.status.busy": "2022-02-24T16:31:41.223942Z",
     "iopub.status.idle": "2022-02-24T16:31:41.372594Z",
     "shell.execute_reply": "2022-02-24T16:31:41.373062Z"
    }
   },
   "outputs": [],
   "source": [
    "# To make use of the caching, first retrieve the posterior class from the model. The posterior class has methods to predict the parameters of marginal distributions at test points, in the same way as the `predict_f` method of the `GPModel`.\n",
    "posterior = model.posterior()"
   ]
  },
  {
   "cell_type": "code",
   "execution_count": 5,
   "id": "09865574",
   "metadata": {
    "execution": {
     "iopub.execute_input": "2022-02-24T16:31:41.380123Z",
     "iopub.status.busy": "2022-02-24T16:31:41.379270Z",
     "iopub.status.idle": "2022-02-24T16:31:51.405480Z",
     "shell.execute_reply": "2022-02-24T16:31:51.405858Z"
    }
   },
   "outputs": [
    {
     "name": "stdout",
     "output_type": "stream",
     "text": [
      "124 ms ± 4.44 ms per loop (mean ± std. dev. of 7 runs, 10 loops each)\n"
     ]
    }
   ],
   "source": [
    "%%timeit\n",
    "posterior.predict_f(Xnew)"
   ]
  },
  {
   "cell_type": "markdown",
   "id": "7913bf19",
   "metadata": {},
   "source": [
    "## SVGP Example\n",
    "\n",
    "Likewise, we will construct an SVGP model to demonstrate the faster predictions from using the cached data in the GPFlow posterior classes."
   ]
  },
  {
   "cell_type": "code",
   "execution_count": 6,
   "id": "499395e5",
   "metadata": {
    "execution": {
     "iopub.execute_input": "2022-02-24T16:31:51.410950Z",
     "iopub.status.busy": "2022-02-24T16:31:51.410384Z",
     "iopub.status.idle": "2022-02-24T16:31:51.446601Z",
     "shell.execute_reply": "2022-02-24T16:31:51.447076Z"
    },
    "id": "BMnIdXNiKU6t"
   },
   "outputs": [],
   "source": [
    "model = gpflow.models.SVGP(\n",
    "    gpflow.kernels.SquaredExponential(),\n",
    "    gpflow.likelihoods.Gaussian(),\n",
    "    np.linspace(-1.1, 1.1, 1000)[:, None],\n",
    ")"
   ]
  },
  {
   "cell_type": "markdown",
   "id": "9548d74f",
   "metadata": {},
   "source": [
    "The `predict_f` method on the `GPModel` class performs no caching."
   ]
  },
  {
   "cell_type": "code",
   "execution_count": 7,
   "id": "11fb2659",
   "metadata": {
    "execution": {
     "iopub.execute_input": "2022-02-24T16:31:51.455425Z",
     "iopub.status.busy": "2022-02-24T16:31:51.454536Z",
     "iopub.status.idle": "2022-02-24T16:32:02.562990Z",
     "shell.execute_reply": "2022-02-24T16:32:02.563401Z"
    }
   },
   "outputs": [
    {
     "name": "stdout",
     "output_type": "stream",
     "text": [
      "135 ms ± 8.93 ms per loop (mean ± std. dev. of 7 runs, 10 loops each)\n"
     ]
    }
   ],
   "source": [
    "%%timeit\n",
    "model.predict_f(Xnew)"
   ]
  },
  {
   "cell_type": "markdown",
   "id": "f2fda02e",
   "metadata": {},
   "source": [
    "And again using the posterior object and caching"
   ]
  },
  {
   "cell_type": "code",
   "execution_count": 8,
   "id": "681961d9",
   "metadata": {
    "execution": {
     "iopub.execute_input": "2022-02-24T16:32:02.572155Z",
     "iopub.status.busy": "2022-02-24T16:32:02.571062Z",
     "iopub.status.idle": "2022-02-24T16:32:02.768939Z",
     "shell.execute_reply": "2022-02-24T16:32:02.768483Z"
    }
   },
   "outputs": [],
   "source": [
    "posterior = model.posterior()"
   ]
  },
  {
   "cell_type": "code",
   "execution_count": 9,
   "id": "40d990e2",
   "metadata": {
    "execution": {
     "iopub.execute_input": "2022-02-24T16:32:02.777342Z",
     "iopub.status.busy": "2022-02-24T16:32:02.776579Z",
     "iopub.status.idle": "2022-02-24T16:32:06.598041Z",
     "shell.execute_reply": "2022-02-24T16:32:06.598409Z"
    }
   },
   "outputs": [
    {
     "name": "stdout",
     "output_type": "stream",
     "text": [
      "47.5 ms ± 2.35 ms per loop (mean ± std. dev. of 7 runs, 10 loops each)\n"
     ]
    }
   ],
   "source": [
    "%%timeit\n",
    "posterior.predict_f(Xnew)"
   ]
  },
  {
   "cell_type": "markdown",
   "id": "3f5b3aa7",
   "metadata": {},
   "source": [
    "## SGPR Example\n",
    "\n",
    "And finally, we follow the same approach this time for the SGPR case."
   ]
  },
  {
   "cell_type": "code",
   "execution_count": 10,
   "id": "bde7b2ea",
   "metadata": {
    "execution": {
     "iopub.execute_input": "2022-02-24T16:32:06.602657Z",
     "iopub.status.busy": "2022-02-24T16:32:06.602161Z",
     "iopub.status.idle": "2022-02-24T16:32:06.618807Z",
     "shell.execute_reply": "2022-02-24T16:32:06.618349Z"
    }
   },
   "outputs": [],
   "source": [
    "model = gpflow.models.SGPR(\n",
    "    (X, Y), gpflow.kernels.SquaredExponential(), np.linspace(-1.1, 1.1, 1000)[:, None]\n",
    ")"
   ]
  },
  {
   "cell_type": "markdown",
   "id": "da76b75f",
   "metadata": {},
   "source": [
    "The predict_f method on the instance performs no caching."
   ]
  },
  {
   "cell_type": "code",
   "execution_count": 11,
   "id": "96ac83a7",
   "metadata": {
    "execution": {
     "iopub.execute_input": "2022-02-24T16:32:06.623766Z",
     "iopub.status.busy": "2022-02-24T16:32:06.623270Z",
     "iopub.status.idle": "2022-02-24T16:32:08.842679Z",
     "shell.execute_reply": "2022-02-24T16:32:08.843038Z"
    }
   },
   "outputs": [
    {
     "name": "stdout",
     "output_type": "stream",
     "text": [
      "270 ms ± 22.5 ms per loop (mean ± std. dev. of 7 runs, 1 loop each)\n"
     ]
    }
   ],
   "source": [
    "%%timeit\n",
    "model.predict_f(Xnew)"
   ]
  },
  {
   "cell_type": "markdown",
   "id": "d0777159",
   "metadata": {},
   "source": [
    "Using the posterior object instead:"
   ]
  },
  {
   "cell_type": "code",
   "execution_count": 12,
   "id": "8e3be6e4",
   "metadata": {
    "execution": {
     "iopub.execute_input": "2022-02-24T16:32:08.848294Z",
     "iopub.status.busy": "2022-02-24T16:32:08.847851Z",
     "iopub.status.idle": "2022-02-24T16:32:09.376434Z",
     "shell.execute_reply": "2022-02-24T16:32:09.375962Z"
    }
   },
   "outputs": [],
   "source": [
    "posterior = model.posterior()"
   ]
  },
  {
   "cell_type": "code",
   "execution_count": 13,
   "id": "e7c0aacf",
   "metadata": {
    "execution": {
     "iopub.execute_input": "2022-02-24T16:32:09.381770Z",
     "iopub.status.busy": "2022-02-24T16:32:09.381282Z",
     "iopub.status.idle": "2022-02-24T16:32:13.546198Z",
     "shell.execute_reply": "2022-02-24T16:32:13.546618Z"
    }
   },
   "outputs": [
    {
     "name": "stdout",
     "output_type": "stream",
     "text": [
      "52.1 ms ± 2.59 ms per loop (mean ± std. dev. of 7 runs, 10 loops each)\n"
     ]
    }
   ],
   "source": [
    "%%timeit\n",
    "posterior.predict_f(Xnew)"
   ]
  }
 ],
 "metadata": {
  "kernelspec": {
   "display_name": "Python 3",
   "language": "python",
   "name": "python3"
  },
  "language_info": {
   "codemirror_mode": {
    "name": "ipython",
    "version": 3
   },
   "file_extension": ".py",
   "mimetype": "text/x-python",
   "name": "python",
   "nbconvert_exporter": "python",
   "pygments_lexer": "ipython3",
   "version": "3.6.15"
  }
 },
 "nbformat": 4,
 "nbformat_minor": 5
}
