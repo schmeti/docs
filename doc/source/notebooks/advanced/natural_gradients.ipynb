{
 "cells": [
  {
   "cell_type": "markdown",
   "id": "a2c578ce",
   "metadata": {},
   "source": [
    "# Natural gradients\n",
    "\n",
    "This notebook shows some basic usage of the natural gradient optimizer, both on its own and in combination with Adam optimizer."
   ]
  },
  {
   "cell_type": "code",
   "execution_count": 1,
   "id": "4e47e39e",
   "metadata": {
    "execution": {
     "iopub.execute_input": "2022-02-03T16:25:32.308315Z",
     "iopub.status.busy": "2022-02-03T16:25:32.305605Z",
     "iopub.status.idle": "2022-02-03T16:25:35.696659Z",
     "shell.execute_reply": "2022-02-03T16:25:35.695909Z"
    }
   },
   "outputs": [],
   "source": [
    "import warnings\n",
    "import numpy as np\n",
    "import gpflow\n",
    "import tensorflow as tf\n",
    "\n",
    "from gpflow.ci_utils import ci_niter, ci_range\n",
    "from gpflow.models import VGP, GPR, SGPR, SVGP\n",
    "from gpflow.optimizers import NaturalGradient\n",
    "from gpflow.optimizers.natgrad import XiSqrtMeanVar\n",
    "from gpflow import set_trainable\n",
    "\n",
    "%matplotlib inline\n",
    "%precision 4\n",
    "\n",
    "np.random.seed(0)\n",
    "tf.random.set_seed(0)\n",
    "\n",
    "N, D = 100, 2\n",
    "batch_size = 50\n",
    "\n",
    "# inducing points\n",
    "M = 10\n",
    "\n",
    "x = np.random.uniform(size=(N, D))\n",
    "y = np.sin(10 * x[:, :1]) + 5 * x[:, 1:] ** 2\n",
    "\n",
    "data = (x, y)\n",
    "inducing_variable = tf.random.uniform((M, D))\n",
    "adam_learning_rate = 0.01\n",
    "iterations = ci_niter(5)\n",
    "autotune = tf.data.experimental.AUTOTUNE"
   ]
  },
  {
   "cell_type": "markdown",
   "id": "70c07f90",
   "metadata": {},
   "source": [
    "### VGP is a GPR"
   ]
  },
  {
   "cell_type": "markdown",
   "id": "3932bbed",
   "metadata": {},
   "source": [
    "The following section demonstrates how natural gradients can turn VGP into GPR *in a single step, if the likelihood is Gaussian*."
   ]
  },
  {
   "cell_type": "markdown",
   "id": "6318bb7a",
   "metadata": {},
   "source": [
    "Let's start by first creating a standard GPR model with Gaussian likelihood:"
   ]
  },
  {
   "cell_type": "code",
   "execution_count": 2,
   "id": "0e9cbefb",
   "metadata": {
    "execution": {
     "iopub.execute_input": "2022-02-03T16:25:35.714566Z",
     "iopub.status.busy": "2022-02-03T16:25:35.713981Z",
     "iopub.status.idle": "2022-02-03T16:25:35.747292Z",
     "shell.execute_reply": "2022-02-03T16:25:35.747709Z"
    }
   },
   "outputs": [],
   "source": [
    "gpr = GPR(data, kernel=gpflow.kernels.Matern52())"
   ]
  },
  {
   "cell_type": "markdown",
   "id": "f4e1f885",
   "metadata": {},
   "source": [
    "The log marginal likelihood of the exact GP model is:"
   ]
  },
  {
   "cell_type": "code",
   "execution_count": 3,
   "id": "a6262aed",
   "metadata": {
    "execution": {
     "iopub.execute_input": "2022-02-03T16:25:35.752972Z",
     "iopub.status.busy": "2022-02-03T16:25:35.752483Z",
     "iopub.status.idle": "2022-02-03T16:25:35.768044Z",
     "shell.execute_reply": "2022-02-03T16:25:35.768461Z"
    }
   },
   "outputs": [
    {
     "data": {
      "text/plain": [
       "-139.56404314546032"
      ]
     },
     "execution_count": 1,
     "metadata": {},
     "output_type": "execute_result"
    }
   ],
   "source": [
    "gpr.log_marginal_likelihood().numpy()"
   ]
  },
  {
   "cell_type": "markdown",
   "id": "582f3f73",
   "metadata": {},
   "source": [
    "Now we will create an approximate model which approximates the true posterior via a variational Gaussian distribution.<br>We initialize the distribution to be zero mean and unit variance."
   ]
  },
  {
   "cell_type": "code",
   "execution_count": 4,
   "id": "13ee0646",
   "metadata": {
    "execution": {
     "iopub.execute_input": "2022-02-03T16:25:35.773173Z",
     "iopub.status.busy": "2022-02-03T16:25:35.772679Z",
     "iopub.status.idle": "2022-02-03T16:25:35.801399Z",
     "shell.execute_reply": "2022-02-03T16:25:35.801820Z"
    }
   },
   "outputs": [],
   "source": [
    "vgp = VGP(data, kernel=gpflow.kernels.Matern52(), likelihood=gpflow.likelihoods.Gaussian())\n",
    "# (Note that GPflow's NaturalGradient optimizer does not implement diagonal covariance parametrization, i.e., it does not work for `q_diag=True`.)"
   ]
  },
  {
   "cell_type": "markdown",
   "id": "bd7f75df",
   "metadata": {},
   "source": [
    "The log marginal likelihood lower bound (evidence lower bound or ELBO) of the approximate GP model is:"
   ]
  },
  {
   "cell_type": "code",
   "execution_count": 5,
   "id": "271f4c32",
   "metadata": {
    "execution": {
     "iopub.execute_input": "2022-02-03T16:25:35.806928Z",
     "iopub.status.busy": "2022-02-03T16:25:35.806413Z",
     "iopub.status.idle": "2022-02-03T16:25:35.827514Z",
     "shell.execute_reply": "2022-02-03T16:25:35.827031Z"
    }
   },
   "outputs": [
    {
     "data": {
      "text/plain": [
       "-426.9017357334335"
      ]
     },
     "execution_count": 1,
     "metadata": {},
     "output_type": "execute_result"
    }
   ],
   "source": [
    "vgp.elbo().numpy()"
   ]
  },
  {
   "cell_type": "markdown",
   "id": "74c0d98e",
   "metadata": {},
   "source": [
    "Obviously, our initial guess for the variational distribution is not correct, which results in a lower bound to the likelihood of the exact GPR model. We can optimize the variational parameters in order to get a tighter bound."
   ]
  },
  {
   "cell_type": "markdown",
   "id": "db054004",
   "metadata": {},
   "source": [
    "In fact, we only need to take **one step** in the natural gradient direction to recover the exact posterior:"
   ]
  },
  {
   "cell_type": "code",
   "execution_count": 6,
   "id": "161e8438",
   "metadata": {
    "execution": {
     "iopub.execute_input": "2022-02-03T16:25:35.840221Z",
     "iopub.status.busy": "2022-02-03T16:25:35.838718Z",
     "iopub.status.idle": "2022-02-03T16:25:35.908888Z",
     "shell.execute_reply": "2022-02-03T16:25:35.909620Z"
    }
   },
   "outputs": [],
   "source": [
    "natgrad_opt = NaturalGradient(gamma=1.0)\n",
    "variational_params = [(vgp.q_mu, vgp.q_sqrt)]\n",
    "natgrad_opt.minimize(vgp.training_loss, var_list=variational_params)"
   ]
  },
  {
   "cell_type": "markdown",
   "id": "dcf50cb9",
   "metadata": {},
   "source": [
    "The ELBO of the approximate GP model after a single NatGrad step:"
   ]
  },
  {
   "cell_type": "code",
   "execution_count": 7,
   "id": "813dfc99",
   "metadata": {
    "execution": {
     "iopub.execute_input": "2022-02-03T16:25:35.917414Z",
     "iopub.status.busy": "2022-02-03T16:25:35.916611Z",
     "iopub.status.idle": "2022-02-03T16:25:35.943478Z",
     "shell.execute_reply": "2022-02-03T16:25:35.942719Z"
    }
   },
   "outputs": [
    {
     "data": {
      "text/plain": [
       "-139.56406476221196"
      ]
     },
     "execution_count": 1,
     "metadata": {},
     "output_type": "execute_result"
    }
   ],
   "source": [
    "vgp.elbo().numpy()"
   ]
  },
  {
   "cell_type": "markdown",
   "id": "52b33bcf",
   "metadata": {},
   "source": [
    "### Optimize both variational parameters and kernel hyperparameters together\n",
    "\n",
    "In the Gaussian likelihood case we can iterate between an Adam update for the hyperparameters and a NatGrad update for the variational parameters. That way, we achieve optimization of hyperparameters as if the model were a GPR."
   ]
  },
  {
   "cell_type": "markdown",
   "id": "67c447e6",
   "metadata": {},
   "source": [
    "The trick is to forbid Adam from updating the variational parameters by setting them to not trainable."
   ]
  },
  {
   "cell_type": "code",
   "execution_count": 8,
   "id": "6a3cb2a7",
   "metadata": {
    "execution": {
     "iopub.execute_input": "2022-02-03T16:25:36.128198Z",
     "iopub.status.busy": "2022-02-03T16:25:36.116504Z",
     "iopub.status.idle": "2022-02-03T16:25:36.130159Z",
     "shell.execute_reply": "2022-02-03T16:25:36.129717Z"
    }
   },
   "outputs": [],
   "source": [
    "# Stop Adam from optimizing the variational parameters\n",
    "set_trainable(vgp.q_mu, False)\n",
    "set_trainable(vgp.q_sqrt, False)\n",
    "\n",
    "adam_opt_for_vgp = tf.optimizers.Adam(adam_learning_rate)\n",
    "adam_opt_for_gpr = tf.optimizers.Adam(adam_learning_rate)"
   ]
  },
  {
   "cell_type": "code",
   "execution_count": 9,
   "id": "48281aed",
   "metadata": {
    "execution": {
     "iopub.execute_input": "2022-02-03T16:25:36.168167Z",
     "iopub.status.busy": "2022-02-03T16:25:36.167311Z",
     "iopub.status.idle": "2022-02-03T16:25:36.379128Z",
     "shell.execute_reply": "2022-02-03T16:25:36.378469Z"
    }
   },
   "outputs": [
    {
     "name": "stdout",
     "output_type": "stream",
     "text": [
      "GPR with Adam: iteration 1 likelihood -139.2548\n"
     ]
    },
    {
     "name": "stdout",
     "output_type": "stream",
     "text": [
      "GPR with Adam: iteration 2 likelihood -138.9456\n"
     ]
    },
    {
     "name": "stdout",
     "output_type": "stream",
     "text": [
      "GPR with Adam: iteration 3 likelihood -138.6363\n"
     ]
    },
    {
     "name": "stdout",
     "output_type": "stream",
     "text": [
      "GPR with Adam: iteration 4 likelihood -138.3270\n"
     ]
    },
    {
     "name": "stdout",
     "output_type": "stream",
     "text": [
      "GPR with Adam: iteration 5 likelihood -138.0177\n"
     ]
    }
   ],
   "source": [
    "for i in range(iterations):\n",
    "    adam_opt_for_gpr.minimize(gpr.training_loss, var_list=gpr.trainable_variables)\n",
    "    likelihood = gpr.log_marginal_likelihood()\n",
    "    tf.print(f\"GPR with Adam: iteration {i + 1} likelihood {likelihood:.04f}\")"
   ]
  },
  {
   "cell_type": "code",
   "execution_count": 10,
   "id": "fe9cb2f4",
   "metadata": {
    "execution": {
     "iopub.execute_input": "2022-02-03T16:25:36.387425Z",
     "iopub.status.busy": "2022-02-03T16:25:36.385654Z",
     "iopub.status.idle": "2022-02-03T16:25:36.941067Z",
     "shell.execute_reply": "2022-02-03T16:25:36.940552Z"
    }
   },
   "outputs": [
    {
     "name": "stdout",
     "output_type": "stream",
     "text": [
      "VGP with NaturalGradient and Adam: iteration 1 likelihood -139.2581\n"
     ]
    },
    {
     "name": "stdout",
     "output_type": "stream",
     "text": [
      "VGP with NaturalGradient and Adam: iteration 2 likelihood -138.9489\n"
     ]
    },
    {
     "name": "stdout",
     "output_type": "stream",
     "text": [
      "VGP with NaturalGradient and Adam: iteration 3 likelihood -138.6397\n"
     ]
    },
    {
     "name": "stdout",
     "output_type": "stream",
     "text": [
      "VGP with NaturalGradient and Adam: iteration 4 likelihood -138.3305\n"
     ]
    },
    {
     "name": "stdout",
     "output_type": "stream",
     "text": [
      "VGP with NaturalGradient and Adam: iteration 5 likelihood -138.0213\n"
     ]
    }
   ],
   "source": [
    "for i in range(iterations):\n",
    "    natgrad_opt.minimize(vgp.training_loss, var_list=variational_params)\n",
    "    adam_opt_for_vgp.minimize(vgp.training_loss, var_list=vgp.trainable_variables)\n",
    "    likelihood = vgp.elbo()\n",
    "    tf.print(f\"VGP with NaturalGradient and Adam: iteration {i + 1} likelihood {likelihood:.04f}\")"
   ]
  },
  {
   "cell_type": "markdown",
   "id": "a2cbc63f",
   "metadata": {},
   "source": [
    "Compare GPR and VGP lengthscales after optimization:"
   ]
  },
  {
   "cell_type": "code",
   "execution_count": 11,
   "id": "cb494f79",
   "metadata": {
    "execution": {
     "iopub.execute_input": "2022-02-03T16:25:36.945387Z",
     "iopub.status.busy": "2022-02-03T16:25:36.944697Z",
     "iopub.status.idle": "2022-02-03T16:25:36.949353Z",
     "shell.execute_reply": "2022-02-03T16:25:36.949725Z"
    }
   },
   "outputs": [
    {
     "name": "stdout",
     "output_type": "stream",
     "text": [
      "GPR lengthscales = 0.9687\n",
      "VGP lengthscales = 0.9687\n"
     ]
    }
   ],
   "source": [
    "print(f\"GPR lengthscales = {gpr.kernel.lengthscales.numpy():.04f}\")\n",
    "print(f\"VGP lengthscales = {vgp.kernel.lengthscales.numpy():.04f}\")"
   ]
  },
  {
   "cell_type": "markdown",
   "id": "cff8b1c3",
   "metadata": {},
   "source": [
    "### Natural gradients also work for the sparse model\n",
    "Similarly, natural gradients turn SVGP into SGPR in the Gaussian likelihood case. <br>\n",
    "We can again combine natural gradients with Adam to update both variational parameters and hyperparameters too.<br>\n",
    "Here we'll just do a single natural step demonstration."
   ]
  },
  {
   "cell_type": "code",
   "execution_count": 12,
   "id": "2597b727",
   "metadata": {
    "execution": {
     "iopub.execute_input": "2022-02-03T16:25:36.955047Z",
     "iopub.status.busy": "2022-02-03T16:25:36.954525Z",
     "iopub.status.idle": "2022-02-03T16:25:36.998902Z",
     "shell.execute_reply": "2022-02-03T16:25:36.999311Z"
    }
   },
   "outputs": [],
   "source": [
    "svgp = SVGP(\n",
    "    kernel=gpflow.kernels.Matern52(),\n",
    "    likelihood=gpflow.likelihoods.Gaussian(),\n",
    "    inducing_variable=inducing_variable,\n",
    ")\n",
    "sgpr = SGPR(data, kernel=gpflow.kernels.Matern52(), inducing_variable=inducing_variable)\n",
    "\n",
    "for model in svgp, sgpr:\n",
    "    model.likelihood.variance.assign(0.1)"
   ]
  },
  {
   "cell_type": "markdown",
   "id": "5463813f",
   "metadata": {},
   "source": [
    "Analytically optimal sparse model ELBO:"
   ]
  },
  {
   "cell_type": "code",
   "execution_count": 13,
   "id": "7bd1d15b",
   "metadata": {
    "execution": {
     "iopub.execute_input": "2022-02-03T16:25:37.004209Z",
     "iopub.status.busy": "2022-02-03T16:25:37.003742Z",
     "iopub.status.idle": "2022-02-03T16:25:37.027530Z",
     "shell.execute_reply": "2022-02-03T16:25:37.027907Z"
    }
   },
   "outputs": [
    {
     "data": {
      "text/plain": [
       "-227.983987291884"
      ]
     },
     "execution_count": 1,
     "metadata": {},
     "output_type": "execute_result"
    }
   ],
   "source": [
    "sgpr.elbo().numpy()"
   ]
  },
  {
   "cell_type": "markdown",
   "id": "22d235d4",
   "metadata": {},
   "source": [
    "SVGP ELBO before natural gradient step:"
   ]
  },
  {
   "cell_type": "code",
   "execution_count": 14,
   "id": "eea94809",
   "metadata": {
    "execution": {
     "iopub.execute_input": "2022-02-03T16:25:37.032794Z",
     "iopub.status.busy": "2022-02-03T16:25:37.032310Z",
     "iopub.status.idle": "2022-02-03T16:25:37.064822Z",
     "shell.execute_reply": "2022-02-03T16:25:37.064389Z"
    }
   },
   "outputs": [
    {
     "data": {
      "text/plain": [
       "-3326.8429228004275"
      ]
     },
     "execution_count": 1,
     "metadata": {},
     "output_type": "execute_result"
    }
   ],
   "source": [
    "svgp.elbo(data).numpy()"
   ]
  },
  {
   "cell_type": "code",
   "execution_count": 15,
   "id": "566b062b",
   "metadata": {
    "execution": {
     "iopub.execute_input": "2022-02-03T16:25:37.072926Z",
     "iopub.status.busy": "2022-02-03T16:25:37.068897Z",
     "iopub.status.idle": "2022-02-03T16:25:41.568780Z",
     "shell.execute_reply": "2022-02-03T16:25:41.569221Z"
    }
   },
   "outputs": [],
   "source": [
    "variational_params = [(svgp.q_mu, svgp.q_sqrt)]\n",
    "\n",
    "natgrad_opt = NaturalGradient(gamma=1.0)\n",
    "natgrad_opt.minimize(svgp.training_loss_closure(data), var_list=variational_params)"
   ]
  },
  {
   "cell_type": "markdown",
   "id": "5c49e813",
   "metadata": {},
   "source": [
    "SVGP ELBO after a single natural gradient step:"
   ]
  },
  {
   "cell_type": "code",
   "execution_count": 16,
   "id": "9566db45",
   "metadata": {
    "execution": {
     "iopub.execute_input": "2022-02-03T16:25:41.574330Z",
     "iopub.status.busy": "2022-02-03T16:25:41.573808Z",
     "iopub.status.idle": "2022-02-03T16:25:41.605534Z",
     "shell.execute_reply": "2022-02-03T16:25:41.605946Z"
    }
   },
   "outputs": [
    {
     "data": {
      "text/plain": [
       "-227.98398729188335"
      ]
     },
     "execution_count": 1,
     "metadata": {},
     "output_type": "execute_result"
    }
   ],
   "source": [
    "svgp.elbo(data).numpy()"
   ]
  },
  {
   "cell_type": "markdown",
   "id": "bd019ec5",
   "metadata": {},
   "source": [
    "### Minibatches\n",
    "A crucial property of the natural gradient method is that it still works with minibatches.\n",
    "In practice though, we need to use a smaller gamma."
   ]
  },
  {
   "cell_type": "code",
   "execution_count": 17,
   "id": "0b784f05",
   "metadata": {
    "execution": {
     "iopub.execute_input": "2022-02-03T16:25:41.614848Z",
     "iopub.status.busy": "2022-02-03T16:25:41.614246Z",
     "iopub.status.idle": "2022-02-03T16:25:46.748645Z",
     "shell.execute_reply": "2022-02-03T16:25:46.748166Z"
    }
   },
   "outputs": [],
   "source": [
    "natgrad_opt = NaturalGradient(gamma=0.1)\n",
    "\n",
    "data_minibatch = (\n",
    "    tf.data.Dataset.from_tensor_slices(data)\n",
    "    .prefetch(autotune)\n",
    "    .repeat()\n",
    "    .shuffle(N)\n",
    "    .batch(batch_size)\n",
    ")\n",
    "data_minibatch_it = iter(data_minibatch)\n",
    "\n",
    "\n",
    "svgp_objective = svgp.training_loss_closure(data_minibatch_it)\n",
    "for _ in range(ci_niter(100)):\n",
    "    natgrad_opt.minimize(svgp_objective, var_list=variational_params)"
   ]
  },
  {
   "cell_type": "markdown",
   "id": "e5f98248",
   "metadata": {},
   "source": [
    "Minibatch SVGP ELBO after NatGrad optimization:"
   ]
  },
  {
   "cell_type": "code",
   "execution_count": 18,
   "id": "3d51e73f",
   "metadata": {
    "execution": {
     "iopub.execute_input": "2022-02-03T16:25:46.752827Z",
     "iopub.status.busy": "2022-02-03T16:25:46.752313Z",
     "iopub.status.idle": "2022-02-03T16:25:49.881680Z",
     "shell.execute_reply": "2022-02-03T16:25:49.882058Z"
    }
   },
   "outputs": [
    {
     "data": {
      "text/plain": [
       "-136.16498257017187"
      ]
     },
     "execution_count": 1,
     "metadata": {},
     "output_type": "execute_result"
    }
   ],
   "source": [
    "np.average([svgp.elbo(next(data_minibatch_it)) for _ in ci_range(100)])"
   ]
  },
  {
   "cell_type": "markdown",
   "id": "35e3d185",
   "metadata": {},
   "source": [
    "### Comparison with ordinary gradients in the conjugate case\n",
    "\n",
    "##### (Take home message: natural gradients are always better)\n",
    "\n",
    "Compared to SVGP with ordinary gradients with minibatches, the natural gradient optimizer is much faster in the Gaussian case.\n",
    "\n",
    "Here we'll do hyperparameter learning together with optimization of the variational parameters, comparing the interleaved natural gradient approach and the one using ordinary gradients for the hyperparameters and variational parameters jointly.\n",
    "\n",
    "**NOTE:** Again we need to compromise for smaller gamma value, which we'll keep *fixed* during the optimization."
   ]
  },
  {
   "cell_type": "code",
   "execution_count": 19,
   "id": "24f740d6",
   "metadata": {
    "execution": {
     "iopub.execute_input": "2022-02-03T16:25:49.888444Z",
     "iopub.status.busy": "2022-02-03T16:25:49.887948Z",
     "iopub.status.idle": "2022-02-03T16:25:49.933498Z",
     "shell.execute_reply": "2022-02-03T16:25:49.933891Z"
    }
   },
   "outputs": [],
   "source": [
    "svgp_ordinary = SVGP(\n",
    "    kernel=gpflow.kernels.Matern52(),\n",
    "    likelihood=gpflow.likelihoods.Gaussian(),\n",
    "    inducing_variable=inducing_variable,\n",
    ")\n",
    "svgp_natgrad = SVGP(\n",
    "    kernel=gpflow.kernels.Matern52(),\n",
    "    likelihood=gpflow.likelihoods.Gaussian(),\n",
    "    inducing_variable=inducing_variable,\n",
    ")\n",
    "\n",
    "# ordinary gradients with Adam for SVGP\n",
    "ordinary_adam_opt = tf.optimizers.Adam(adam_learning_rate)\n",
    "\n",
    "# NatGrads and Adam for SVGP\n",
    "# Stop Adam from optimizing the variational parameters\n",
    "set_trainable(svgp_natgrad.q_mu, False)\n",
    "set_trainable(svgp_natgrad.q_sqrt, False)\n",
    "\n",
    "# Create the optimize_tensors for SVGP\n",
    "natgrad_adam_opt = tf.optimizers.Adam(adam_learning_rate)\n",
    "\n",
    "natgrad_opt = NaturalGradient(gamma=0.1)\n",
    "variational_params = [(svgp_natgrad.q_mu, svgp_natgrad.q_sqrt)]"
   ]
  },
  {
   "cell_type": "markdown",
   "id": "df44653c",
   "metadata": {},
   "source": [
    "Let's optimize the models:"
   ]
  },
  {
   "cell_type": "code",
   "execution_count": 20,
   "id": "cee32bf2",
   "metadata": {
    "execution": {
     "iopub.execute_input": "2022-02-03T16:25:49.940423Z",
     "iopub.status.busy": "2022-02-03T16:25:49.939922Z",
     "iopub.status.idle": "2022-02-03T16:25:57.204414Z",
     "shell.execute_reply": "2022-02-03T16:25:57.205141Z"
    }
   },
   "outputs": [],
   "source": [
    "data_minibatch = (\n",
    "    tf.data.Dataset.from_tensor_slices(data)\n",
    "    .prefetch(autotune)\n",
    "    .repeat()\n",
    "    .shuffle(N)\n",
    "    .batch(batch_size)\n",
    ")\n",
    "data_minibatch_it = iter(data_minibatch)\n",
    "\n",
    "\n",
    "svgp_ordinary_loss = svgp_ordinary.training_loss_closure(data_minibatch_it)\n",
    "svgp_natgrad_loss = svgp_natgrad.training_loss_closure(data_minibatch_it)\n",
    "\n",
    "\n",
    "for _ in range(ci_niter(100)):\n",
    "    ordinary_adam_opt.minimize(svgp_ordinary_loss, var_list=svgp_ordinary.trainable_variables)\n",
    "\n",
    "\n",
    "for _ in range(ci_niter(100)):\n",
    "    natgrad_adam_opt.minimize(svgp_natgrad_loss, var_list=svgp_natgrad.trainable_variables)\n",
    "    natgrad_opt.minimize(svgp_natgrad_loss, var_list=variational_params)"
   ]
  },
  {
   "cell_type": "markdown",
   "id": "c0021d91",
   "metadata": {},
   "source": [
    "SVGP ELBO after ordinary `Adam` optimization:"
   ]
  },
  {
   "cell_type": "code",
   "execution_count": 21,
   "id": "eab353d6",
   "metadata": {
    "execution": {
     "iopub.execute_input": "2022-02-03T16:25:57.209938Z",
     "iopub.status.busy": "2022-02-03T16:25:57.209198Z",
     "iopub.status.idle": "2022-02-03T16:26:00.197152Z",
     "shell.execute_reply": "2022-02-03T16:26:00.196500Z"
    }
   },
   "outputs": [
    {
     "data": {
      "text/plain": [
       "-82.77116468128966"
      ]
     },
     "execution_count": 1,
     "metadata": {},
     "output_type": "execute_result"
    }
   ],
   "source": [
    "np.average([svgp_ordinary.elbo(next(data_minibatch_it)) for _ in ci_range(100)])"
   ]
  },
  {
   "cell_type": "markdown",
   "id": "a2179c19",
   "metadata": {},
   "source": [
    "SVGP ELBO after `NaturalGradient` and `Adam` optimization:"
   ]
  },
  {
   "cell_type": "code",
   "execution_count": 22,
   "id": "3a386e1e",
   "metadata": {
    "execution": {
     "iopub.execute_input": "2022-02-03T16:26:00.202080Z",
     "iopub.status.busy": "2022-02-03T16:26:00.200990Z",
     "iopub.status.idle": "2022-02-03T16:26:03.126913Z",
     "shell.execute_reply": "2022-02-03T16:26:03.127616Z"
    }
   },
   "outputs": [
    {
     "data": {
      "text/plain": [
       "-73.08621692763711"
      ]
     },
     "execution_count": 1,
     "metadata": {},
     "output_type": "execute_result"
    }
   ],
   "source": [
    "np.average([svgp_natgrad.elbo(next(data_minibatch_it)) for _ in ci_range(100)])"
   ]
  },
  {
   "cell_type": "markdown",
   "id": "898335a4",
   "metadata": {},
   "source": [
    "### Comparison with ordinary gradients in the non-conjugate case\n",
    "#### Binary classification\n",
    "\n",
    "##### (Take home message: natural gradients are usually better)\n",
    "\n",
    "We can use natural gradients even when the likelihood isn't Gaussian. It isn't guaranteed to be better, but it usually is better in practical situations."
   ]
  },
  {
   "cell_type": "code",
   "execution_count": 23,
   "id": "ac29daee",
   "metadata": {
    "execution": {
     "iopub.execute_input": "2022-02-03T16:26:03.135991Z",
     "iopub.status.busy": "2022-02-03T16:26:03.135133Z",
     "iopub.status.idle": "2022-02-03T16:26:03.169881Z",
     "shell.execute_reply": "2022-02-03T16:26:03.168336Z"
    }
   },
   "outputs": [],
   "source": [
    "y_binary = np.random.choice([1.0, -1], size=x.shape)\n",
    "vgp_data = (x, y_binary)\n",
    "\n",
    "vgp_bernoulli = VGP(\n",
    "    vgp_data, kernel=gpflow.kernels.Matern52(), likelihood=gpflow.likelihoods.Bernoulli()\n",
    ")\n",
    "vgp_bernoulli_natgrad = VGP(\n",
    "    vgp_data, kernel=gpflow.kernels.Matern52(), likelihood=gpflow.likelihoods.Bernoulli()\n",
    ")\n",
    "\n",
    "# ordinary gradients with Adam for VGP with Bernoulli likelihood\n",
    "adam_opt = tf.optimizers.Adam(adam_learning_rate)\n",
    "\n",
    "# NatGrads and Adam for VGP with Bernoulli likelihood\n",
    "# Stop Adam from optimizing the variational parameters\n",
    "set_trainable(vgp_bernoulli_natgrad.q_mu, False)\n",
    "set_trainable(vgp_bernoulli_natgrad.q_sqrt, False)\n",
    "\n",
    "# Create the optimize_tensors for VGP with natural gradients\n",
    "natgrad_adam_opt = tf.optimizers.Adam(adam_learning_rate)\n",
    "natgrad_opt = NaturalGradient(gamma=0.1)\n",
    "variational_params = [(vgp_bernoulli_natgrad.q_mu, vgp_bernoulli_natgrad.q_sqrt)]"
   ]
  },
  {
   "cell_type": "code",
   "execution_count": 24,
   "id": "17bcf62d",
   "metadata": {
    "execution": {
     "iopub.execute_input": "2022-02-03T16:26:03.189559Z",
     "iopub.status.busy": "2022-02-03T16:26:03.188653Z",
     "iopub.status.idle": "2022-02-03T16:26:15.643915Z",
     "shell.execute_reply": "2022-02-03T16:26:15.643424Z"
    }
   },
   "outputs": [],
   "source": [
    "# Optimize vgp_bernoulli\n",
    "for _ in range(ci_niter(100)):\n",
    "    adam_opt.minimize(vgp_bernoulli.training_loss, var_list=vgp_bernoulli.trainable_variables)\n",
    "\n",
    "# Optimize vgp_bernoulli_natgrad\n",
    "for _ in range(ci_niter(100)):\n",
    "    adam_opt.minimize(\n",
    "        vgp_bernoulli_natgrad.training_loss, var_list=vgp_bernoulli_natgrad.trainable_variables\n",
    "    )\n",
    "    natgrad_opt.minimize(vgp_bernoulli_natgrad.training_loss, var_list=variational_params)"
   ]
  },
  {
   "cell_type": "markdown",
   "id": "d755c4ae",
   "metadata": {},
   "source": [
    "VGP ELBO after ordinary `Adam` optimization:"
   ]
  },
  {
   "cell_type": "code",
   "execution_count": 25,
   "id": "57ed654d",
   "metadata": {
    "execution": {
     "iopub.execute_input": "2022-02-03T16:26:15.649215Z",
     "iopub.status.busy": "2022-02-03T16:26:15.648647Z",
     "iopub.status.idle": "2022-02-03T16:26:15.667954Z",
     "shell.execute_reply": "2022-02-03T16:26:15.667500Z"
    }
   },
   "outputs": [
    {
     "data": {
      "text/plain": [
       "-144.2140072044554"
      ]
     },
     "execution_count": 1,
     "metadata": {},
     "output_type": "execute_result"
    }
   ],
   "source": [
    "vgp_bernoulli.elbo().numpy()"
   ]
  },
  {
   "cell_type": "markdown",
   "id": "d377898f",
   "metadata": {},
   "source": [
    "VGP ELBO after `NaturalGradient` + `Adam` optimization:"
   ]
  },
  {
   "cell_type": "code",
   "execution_count": 26,
   "id": "bcbf4fea",
   "metadata": {
    "execution": {
     "iopub.execute_input": "2022-02-03T16:26:15.672129Z",
     "iopub.status.busy": "2022-02-03T16:26:15.671660Z",
     "iopub.status.idle": "2022-02-03T16:26:15.689480Z",
     "shell.execute_reply": "2022-02-03T16:26:15.689880Z"
    }
   },
   "outputs": [
    {
     "data": {
      "text/plain": [
       "-142.83799599075445"
      ]
     },
     "execution_count": 1,
     "metadata": {},
     "output_type": "execute_result"
    }
   ],
   "source": [
    "vgp_bernoulli_natgrad.elbo().numpy()"
   ]
  },
  {
   "cell_type": "markdown",
   "id": "de36b03c",
   "metadata": {},
   "source": [
    "We can also choose to run natural gradients in another parameterization.<br>\n",
    "The sensible choice is the model parameters (q_mu, q_sqrt), which is already in GPflow."
   ]
  },
  {
   "cell_type": "code",
   "execution_count": 27,
   "id": "975bbc77",
   "metadata": {
    "execution": {
     "iopub.execute_input": "2022-02-03T16:26:15.695638Z",
     "iopub.status.busy": "2022-02-03T16:26:15.695153Z",
     "iopub.status.idle": "2022-02-03T16:26:15.714001Z",
     "shell.execute_reply": "2022-02-03T16:26:15.714462Z"
    }
   },
   "outputs": [],
   "source": [
    "vgp_bernoulli_natgrads_xi = VGP(\n",
    "    vgp_data, kernel=gpflow.kernels.Matern52(), likelihood=gpflow.likelihoods.Bernoulli()\n",
    ")\n",
    "\n",
    "# Stop Adam from optimizing the variational parameters\n",
    "set_trainable(vgp_bernoulli_natgrads_xi.q_mu, False)\n",
    "set_trainable(vgp_bernoulli_natgrads_xi.q_sqrt, False)\n",
    "\n",
    "# Create the optimize_tensors for VGP with Bernoulli likelihood\n",
    "adam_opt = tf.optimizers.Adam(adam_learning_rate)\n",
    "natgrad_opt = NaturalGradient(gamma=0.01)\n",
    "\n",
    "variational_params = [\n",
    "    (vgp_bernoulli_natgrads_xi.q_mu, vgp_bernoulli_natgrads_xi.q_sqrt, XiSqrtMeanVar())\n",
    "]"
   ]
  },
  {
   "cell_type": "code",
   "execution_count": 28,
   "id": "a7f92b95",
   "metadata": {
    "execution": {
     "iopub.execute_input": "2022-02-03T16:26:15.721537Z",
     "iopub.status.busy": "2022-02-03T16:26:15.721053Z",
     "iopub.status.idle": "2022-02-03T16:26:27.255836Z",
     "shell.execute_reply": "2022-02-03T16:26:27.255377Z"
    }
   },
   "outputs": [
    {
     "name": "stdout",
     "output_type": "stream",
     "text": [
      "WARNING:tensorflow:Calling GradientTape.gradient on a persistent tape inside its context is significantly less efficient than calling it outside the context (it causes the gradient ops to be recorded on the tape, leading to increased CPU and memory usage). Only call GradientTape.gradient inside the context if you actually want to trace the gradient in order to compute higher order derivatives.\n"
     ]
    }
   ],
   "source": [
    "# Optimize vgp_bernoulli_natgrads_xi\n",
    "for _ in range(ci_niter(100)):\n",
    "    adam_opt.minimize(\n",
    "        vgp_bernoulli_natgrads_xi.training_loss,\n",
    "        var_list=vgp_bernoulli_natgrads_xi.trainable_variables,\n",
    "    )\n",
    "\n",
    "    natgrad_opt.minimize(vgp_bernoulli_natgrads_xi.training_loss, var_list=variational_params)"
   ]
  },
  {
   "cell_type": "markdown",
   "id": "fc321a96",
   "metadata": {},
   "source": [
    "VGP ELBO after `NaturalGradient` with `XiSqrtMeanVar` + `Adam` optimization:"
   ]
  },
  {
   "cell_type": "code",
   "execution_count": 29,
   "id": "b49cf4e3",
   "metadata": {
    "execution": {
     "iopub.execute_input": "2022-02-03T16:26:27.260604Z",
     "iopub.status.busy": "2022-02-03T16:26:27.259944Z",
     "iopub.status.idle": "2022-02-03T16:26:27.276768Z",
     "shell.execute_reply": "2022-02-03T16:26:27.277147Z"
    }
   },
   "outputs": [
    {
     "data": {
      "text/plain": [
       "-143.098904803163"
      ]
     },
     "execution_count": 1,
     "metadata": {},
     "output_type": "execute_result"
    }
   ],
   "source": [
    "vgp_bernoulli_natgrads_xi.elbo().numpy()"
   ]
  },
  {
   "cell_type": "markdown",
   "id": "8247204b",
   "metadata": {},
   "source": [
    "With sufficiently small steps, it shouldn't make a difference which transform is used, but for large\n",
    "steps this can make a difference in practice."
   ]
  }
 ],
 "metadata": {
  "jupytext": {
   "formats": "ipynb,.pct.py:percent"
  },
  "kernelspec": {
   "display_name": "Python 3",
   "language": "python",
   "name": "python3"
  },
  "language_info": {
   "codemirror_mode": {
    "name": "ipython",
    "version": 3
   },
   "file_extension": ".py",
   "mimetype": "text/x-python",
   "name": "python",
   "nbconvert_exporter": "python",
   "pygments_lexer": "ipython3",
   "version": "3.6.15"
  }
 },
 "nbformat": 4,
 "nbformat_minor": 5
}
