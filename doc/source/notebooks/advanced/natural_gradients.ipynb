{
 "cells": [
  {
   "cell_type": "markdown",
   "id": "66f8850d",
   "metadata": {},
   "source": [
    "# Natural gradients\n",
    "\n",
    "This notebook shows some basic usage of the natural gradient optimizer, both on its own and in combination with Adam optimizer."
   ]
  },
  {
   "cell_type": "code",
   "execution_count": 1,
   "id": "dedc0fe5",
   "metadata": {
    "execution": {
     "iopub.execute_input": "2022-03-08T11:00:38.730760Z",
     "iopub.status.busy": "2022-03-08T11:00:38.730472Z",
     "iopub.status.idle": "2022-03-08T11:00:41.976632Z",
     "shell.execute_reply": "2022-03-08T11:00:41.975828Z"
    }
   },
   "outputs": [
    {
     "name": "stderr",
     "output_type": "stream",
     "text": [
      "2022-03-08 11:00:39.118516: W tensorflow/stream_executor/platform/default/dso_loader.cc:64] Could not load dynamic library 'libcudart.so.11.0'; dlerror: libcudart.so.11.0: cannot open shared object file: No such file or directory\n",
      "2022-03-08 11:00:39.118557: I tensorflow/stream_executor/cuda/cudart_stub.cc:29] Ignore above cudart dlerror if you do not have a GPU set up on your machine.\n"
     ]
    },
    {
     "name": "stderr",
     "output_type": "stream",
     "text": [
      "2022-03-08 11:00:41.968764: W tensorflow/stream_executor/platform/default/dso_loader.cc:64] Could not load dynamic library 'libcuda.so.1'; dlerror: libcuda.so.1: cannot open shared object file: No such file or directory\n",
      "2022-03-08 11:00:41.968794: W tensorflow/stream_executor/cuda/cuda_driver.cc:269] failed call to cuInit: UNKNOWN ERROR (303)\n",
      "2022-03-08 11:00:41.968817: I tensorflow/stream_executor/cuda/cuda_diagnostics.cc:156] kernel driver does not appear to be running on this host (02c6642140f6): /proc/driver/nvidia/version does not exist\n",
      "2022-03-08 11:00:41.969107: I tensorflow/core/platform/cpu_feature_guard.cc:142] This TensorFlow binary is optimized with oneAPI Deep Neural Network Library (oneDNN) to use the following CPU instructions in performance-critical operations:  AVX2 AVX512F FMA\n",
      "To enable them in other operations, rebuild TensorFlow with the appropriate compiler flags.\n"
     ]
    }
   ],
   "source": [
    "import warnings\n",
    "import numpy as np\n",
    "import gpflow\n",
    "import tensorflow as tf\n",
    "\n",
    "from gpflow.ci_utils import ci_niter, ci_range\n",
    "from gpflow.models import VGP, GPR, SGPR, SVGP\n",
    "from gpflow.optimizers import NaturalGradient\n",
    "from gpflow.optimizers.natgrad import XiSqrtMeanVar\n",
    "from gpflow import set_trainable\n",
    "\n",
    "%matplotlib inline\n",
    "%precision 4\n",
    "\n",
    "np.random.seed(0)\n",
    "tf.random.set_seed(0)\n",
    "\n",
    "N, D = 100, 2\n",
    "batch_size = 50\n",
    "\n",
    "# inducing points\n",
    "M = 10\n",
    "\n",
    "x = np.random.uniform(size=(N, D))\n",
    "y = np.sin(10 * x[:, :1]) + 5 * x[:, 1:] ** 2\n",
    "\n",
    "data = (x, y)\n",
    "inducing_variable = tf.random.uniform((M, D))\n",
    "adam_learning_rate = 0.01\n",
    "iterations = ci_niter(5)\n",
    "autotune = tf.data.experimental.AUTOTUNE"
   ]
  },
  {
   "cell_type": "markdown",
   "id": "a120b34b",
   "metadata": {},
   "source": [
    "### VGP is a GPR"
   ]
  },
  {
   "cell_type": "markdown",
   "id": "d1cbc02a",
   "metadata": {},
   "source": [
    "The following section demonstrates how natural gradients can turn VGP into GPR *in a single step, if the likelihood is Gaussian*."
   ]
  },
  {
   "cell_type": "markdown",
   "id": "e46655a1",
   "metadata": {},
   "source": [
    "Let's start by first creating a standard GPR model with Gaussian likelihood:"
   ]
  },
  {
   "cell_type": "code",
   "execution_count": 2,
   "id": "06eea8dd",
   "metadata": {
    "execution": {
     "iopub.execute_input": "2022-03-08T11:00:41.980213Z",
     "iopub.status.busy": "2022-03-08T11:00:41.979788Z",
     "iopub.status.idle": "2022-03-08T11:00:42.140621Z",
     "shell.execute_reply": "2022-03-08T11:00:42.139750Z"
    }
   },
   "outputs": [],
   "source": [
    "gpr = GPR(data, kernel=gpflow.kernels.Matern52())"
   ]
  },
  {
   "cell_type": "markdown",
   "id": "ad10817d",
   "metadata": {},
   "source": [
    "The log marginal likelihood of the exact GP model is:"
   ]
  },
  {
   "cell_type": "code",
   "execution_count": 3,
   "id": "fe9b519f",
   "metadata": {
    "execution": {
     "iopub.execute_input": "2022-03-08T11:00:42.143650Z",
     "iopub.status.busy": "2022-03-08T11:00:42.143371Z",
     "iopub.status.idle": "2022-03-08T11:00:42.162494Z",
     "shell.execute_reply": "2022-03-08T11:00:42.161925Z"
    }
   },
   "outputs": [
    {
     "data": {
      "text/plain": [
       "-139.56404314546032"
      ]
     },
     "execution_count": 3,
     "metadata": {},
     "output_type": "execute_result"
    }
   ],
   "source": [
    "gpr.log_marginal_likelihood().numpy()"
   ]
  },
  {
   "cell_type": "markdown",
   "id": "be0c99be",
   "metadata": {},
   "source": [
    "Now we will create an approximate model which approximates the true posterior via a variational Gaussian distribution.<br>We initialize the distribution to be zero mean and unit variance."
   ]
  },
  {
   "cell_type": "code",
   "execution_count": 4,
   "id": "c3054d99",
   "metadata": {
    "execution": {
     "iopub.execute_input": "2022-03-08T11:00:42.165285Z",
     "iopub.status.busy": "2022-03-08T11:00:42.165021Z",
     "iopub.status.idle": "2022-03-08T11:00:42.195869Z",
     "shell.execute_reply": "2022-03-08T11:00:42.195015Z"
    }
   },
   "outputs": [],
   "source": [
    "vgp = VGP(data, kernel=gpflow.kernels.Matern52(), likelihood=gpflow.likelihoods.Gaussian())\n",
    "# (Note that GPflow's NaturalGradient optimizer does not implement diagonal covariance parametrization, i.e., it does not work for `q_diag=True`.)"
   ]
  },
  {
   "cell_type": "markdown",
   "id": "7d741900",
   "metadata": {},
   "source": [
    "The log marginal likelihood lower bound (evidence lower bound or ELBO) of the approximate GP model is:"
   ]
  },
  {
   "cell_type": "code",
   "execution_count": 5,
   "id": "105567bb",
   "metadata": {
    "execution": {
     "iopub.execute_input": "2022-03-08T11:00:42.200279Z",
     "iopub.status.busy": "2022-03-08T11:00:42.199875Z",
     "iopub.status.idle": "2022-03-08T11:00:42.227727Z",
     "shell.execute_reply": "2022-03-08T11:00:42.226925Z"
    }
   },
   "outputs": [
    {
     "data": {
      "text/plain": [
       "-426.9017357334335"
      ]
     },
     "execution_count": 5,
     "metadata": {},
     "output_type": "execute_result"
    }
   ],
   "source": [
    "vgp.elbo().numpy()"
   ]
  },
  {
   "cell_type": "markdown",
   "id": "5ce2a763",
   "metadata": {},
   "source": [
    "Obviously, our initial guess for the variational distribution is not correct, which results in a lower bound to the likelihood of the exact GPR model. We can optimize the variational parameters in order to get a tighter bound."
   ]
  },
  {
   "cell_type": "markdown",
   "id": "1154cb77",
   "metadata": {},
   "source": [
    "In fact, we only need to take **one step** in the natural gradient direction to recover the exact posterior:"
   ]
  },
  {
   "cell_type": "code",
   "execution_count": 6,
   "id": "0ef5d3ea",
   "metadata": {
    "execution": {
     "iopub.execute_input": "2022-03-08T11:00:42.231591Z",
     "iopub.status.busy": "2022-03-08T11:00:42.231324Z",
     "iopub.status.idle": "2022-03-08T11:00:42.289655Z",
     "shell.execute_reply": "2022-03-08T11:00:42.289018Z"
    }
   },
   "outputs": [
    {
     "name": "stderr",
     "output_type": "stream",
     "text": [
      "2022-03-08 11:00:42.255231: W tensorflow/python/util/util.cc:348] Sets are not currently considered sequences, but this may change in the future, so consider avoiding using them.\n"
     ]
    }
   ],
   "source": [
    "natgrad_opt = NaturalGradient(gamma=1.0)\n",
    "variational_params = [(vgp.q_mu, vgp.q_sqrt)]\n",
    "natgrad_opt.minimize(vgp.training_loss, var_list=variational_params)"
   ]
  },
  {
   "cell_type": "markdown",
   "id": "92a78dc6",
   "metadata": {},
   "source": [
    "The ELBO of the approximate GP model after a single NatGrad step:"
   ]
  },
  {
   "cell_type": "code",
   "execution_count": 7,
   "id": "4d12fc27",
   "metadata": {
    "execution": {
     "iopub.execute_input": "2022-03-08T11:00:42.293162Z",
     "iopub.status.busy": "2022-03-08T11:00:42.292885Z",
     "iopub.status.idle": "2022-03-08T11:00:42.316636Z",
     "shell.execute_reply": "2022-03-08T11:00:42.316092Z"
    }
   },
   "outputs": [
    {
     "data": {
      "text/plain": [
       "-139.56406476221196"
      ]
     },
     "execution_count": 7,
     "metadata": {},
     "output_type": "execute_result"
    }
   ],
   "source": [
    "vgp.elbo().numpy()"
   ]
  },
  {
   "cell_type": "markdown",
   "id": "e5f43b1b",
   "metadata": {},
   "source": [
    "### Optimize both variational parameters and kernel hyperparameters together\n",
    "\n",
    "In the Gaussian likelihood case we can iterate between an Adam update for the hyperparameters and a NatGrad update for the variational parameters. That way, we achieve optimization of hyperparameters as if the model were a GPR."
   ]
  },
  {
   "cell_type": "markdown",
   "id": "80cc79f4",
   "metadata": {},
   "source": [
    "The trick is to forbid Adam from updating the variational parameters by setting them to not trainable."
   ]
  },
  {
   "cell_type": "code",
   "execution_count": 8,
   "id": "b369986c",
   "metadata": {
    "execution": {
     "iopub.execute_input": "2022-03-08T11:00:42.320159Z",
     "iopub.status.busy": "2022-03-08T11:00:42.319861Z",
     "iopub.status.idle": "2022-03-08T11:00:42.335529Z",
     "shell.execute_reply": "2022-03-08T11:00:42.334981Z"
    }
   },
   "outputs": [],
   "source": [
    "# Stop Adam from optimizing the variational parameters\n",
    "set_trainable(vgp.q_mu, False)\n",
    "set_trainable(vgp.q_sqrt, False)\n",
    "\n",
    "adam_opt_for_vgp = tf.optimizers.Adam(adam_learning_rate)\n",
    "adam_opt_for_gpr = tf.optimizers.Adam(adam_learning_rate)"
   ]
  },
  {
   "cell_type": "code",
   "execution_count": 9,
   "id": "f4bfe87d",
   "metadata": {
    "execution": {
     "iopub.execute_input": "2022-03-08T11:00:42.339290Z",
     "iopub.status.busy": "2022-03-08T11:00:42.339014Z",
     "iopub.status.idle": "2022-03-08T11:00:42.519140Z",
     "shell.execute_reply": "2022-03-08T11:00:42.518439Z"
    }
   },
   "outputs": [
    {
     "name": "stdout",
     "output_type": "stream",
     "text": [
      "GPR with Adam: iteration 1 likelihood -139.2548\n"
     ]
    },
    {
     "name": "stdout",
     "output_type": "stream",
     "text": [
      "GPR with Adam: iteration 2 likelihood -138.9456\n"
     ]
    },
    {
     "name": "stdout",
     "output_type": "stream",
     "text": [
      "GPR with Adam: iteration 3 likelihood -138.6363\n"
     ]
    },
    {
     "name": "stdout",
     "output_type": "stream",
     "text": [
      "GPR with Adam: iteration 4 likelihood -138.3270\n"
     ]
    },
    {
     "name": "stdout",
     "output_type": "stream",
     "text": [
      "GPR with Adam: iteration 5 likelihood -138.0177\n"
     ]
    }
   ],
   "source": [
    "for i in range(iterations):\n",
    "    adam_opt_for_gpr.minimize(gpr.training_loss, var_list=gpr.trainable_variables)\n",
    "    likelihood = gpr.log_marginal_likelihood()\n",
    "    tf.print(f\"GPR with Adam: iteration {i + 1} likelihood {likelihood:.04f}\")"
   ]
  },
  {
   "cell_type": "code",
   "execution_count": 10,
   "id": "6b2dde9a",
   "metadata": {
    "execution": {
     "iopub.execute_input": "2022-03-08T11:00:42.522922Z",
     "iopub.status.busy": "2022-03-08T11:00:42.522650Z",
     "iopub.status.idle": "2022-03-08T11:00:43.118545Z",
     "shell.execute_reply": "2022-03-08T11:00:43.118024Z"
    }
   },
   "outputs": [
    {
     "name": "stdout",
     "output_type": "stream",
     "text": [
      "VGP with NaturalGradient and Adam: iteration 1 likelihood -139.2581\n"
     ]
    },
    {
     "name": "stdout",
     "output_type": "stream",
     "text": [
      "VGP with NaturalGradient and Adam: iteration 2 likelihood -138.9489\n"
     ]
    },
    {
     "name": "stdout",
     "output_type": "stream",
     "text": [
      "VGP with NaturalGradient and Adam: iteration 3 likelihood -138.6397\n"
     ]
    },
    {
     "name": "stdout",
     "output_type": "stream",
     "text": [
      "VGP with NaturalGradient and Adam: iteration 4 likelihood -138.3305\n"
     ]
    },
    {
     "name": "stdout",
     "output_type": "stream",
     "text": [
      "VGP with NaturalGradient and Adam: iteration 5 likelihood -138.0213\n"
     ]
    }
   ],
   "source": [
    "for i in range(iterations):\n",
    "    natgrad_opt.minimize(vgp.training_loss, var_list=variational_params)\n",
    "    adam_opt_for_vgp.minimize(vgp.training_loss, var_list=vgp.trainable_variables)\n",
    "    likelihood = vgp.elbo()\n",
    "    tf.print(f\"VGP with NaturalGradient and Adam: iteration {i + 1} likelihood {likelihood:.04f}\")"
   ]
  },
  {
   "cell_type": "markdown",
   "id": "450a67a7",
   "metadata": {},
   "source": [
    "Compare GPR and VGP lengthscales after optimization:"
   ]
  },
  {
   "cell_type": "code",
   "execution_count": 11,
   "id": "68808903",
   "metadata": {
    "execution": {
     "iopub.execute_input": "2022-03-08T11:00:43.121204Z",
     "iopub.status.busy": "2022-03-08T11:00:43.120944Z",
     "iopub.status.idle": "2022-03-08T11:00:43.126598Z",
     "shell.execute_reply": "2022-03-08T11:00:43.126080Z"
    }
   },
   "outputs": [
    {
     "name": "stdout",
     "output_type": "stream",
     "text": [
      "GPR lengthscales = 0.9687\n",
      "VGP lengthscales = 0.9687\n"
     ]
    }
   ],
   "source": [
    "print(f\"GPR lengthscales = {gpr.kernel.lengthscales.numpy():.04f}\")\n",
    "print(f\"VGP lengthscales = {vgp.kernel.lengthscales.numpy():.04f}\")"
   ]
  },
  {
   "cell_type": "markdown",
   "id": "75d13e9c",
   "metadata": {},
   "source": [
    "### Natural gradients also work for the sparse model\n",
    "Similarly, natural gradients turn SVGP into SGPR in the Gaussian likelihood case. <br>\n",
    "We can again combine natural gradients with Adam to update both variational parameters and hyperparameters too.<br>\n",
    "Here we'll just do a single natural step demonstration."
   ]
  },
  {
   "cell_type": "code",
   "execution_count": 12,
   "id": "6d634d79",
   "metadata": {
    "execution": {
     "iopub.execute_input": "2022-03-08T11:00:43.129116Z",
     "iopub.status.busy": "2022-03-08T11:00:43.128882Z",
     "iopub.status.idle": "2022-03-08T11:00:43.181655Z",
     "shell.execute_reply": "2022-03-08T11:00:43.180964Z"
    }
   },
   "outputs": [],
   "source": [
    "svgp = SVGP(\n",
    "    kernel=gpflow.kernels.Matern52(),\n",
    "    likelihood=gpflow.likelihoods.Gaussian(),\n",
    "    inducing_variable=inducing_variable,\n",
    ")\n",
    "sgpr = SGPR(data, kernel=gpflow.kernels.Matern52(), inducing_variable=inducing_variable)\n",
    "\n",
    "for model in svgp, sgpr:\n",
    "    model.likelihood.variance.assign(0.1)"
   ]
  },
  {
   "cell_type": "markdown",
   "id": "9ad426fc",
   "metadata": {},
   "source": [
    "Analytically optimal sparse model ELBO:"
   ]
  },
  {
   "cell_type": "code",
   "execution_count": 13,
   "id": "ab1478d2",
   "metadata": {
    "execution": {
     "iopub.execute_input": "2022-03-08T11:00:43.184836Z",
     "iopub.status.busy": "2022-03-08T11:00:43.184570Z",
     "iopub.status.idle": "2022-03-08T11:00:43.212516Z",
     "shell.execute_reply": "2022-03-08T11:00:43.211302Z"
    }
   },
   "outputs": [
    {
     "data": {
      "text/plain": [
       "-227.983987291884"
      ]
     },
     "execution_count": 13,
     "metadata": {},
     "output_type": "execute_result"
    }
   ],
   "source": [
    "sgpr.elbo().numpy()"
   ]
  },
  {
   "cell_type": "markdown",
   "id": "6a98ce0e",
   "metadata": {},
   "source": [
    "SVGP ELBO before natural gradient step:"
   ]
  },
  {
   "cell_type": "code",
   "execution_count": 14,
   "id": "e310d89d",
   "metadata": {
    "execution": {
     "iopub.execute_input": "2022-03-08T11:00:43.215867Z",
     "iopub.status.busy": "2022-03-08T11:00:43.215542Z",
     "iopub.status.idle": "2022-03-08T11:00:43.259382Z",
     "shell.execute_reply": "2022-03-08T11:00:43.258791Z"
    }
   },
   "outputs": [
    {
     "data": {
      "text/plain": [
       "-3326.8429228004275"
      ]
     },
     "execution_count": 14,
     "metadata": {},
     "output_type": "execute_result"
    }
   ],
   "source": [
    "svgp.elbo(data).numpy()"
   ]
  },
  {
   "cell_type": "code",
   "execution_count": 15,
   "id": "b4524276",
   "metadata": {
    "execution": {
     "iopub.execute_input": "2022-03-08T11:00:43.262957Z",
     "iopub.status.busy": "2022-03-08T11:00:43.262684Z",
     "iopub.status.idle": "2022-03-08T11:00:48.189134Z",
     "shell.execute_reply": "2022-03-08T11:00:48.184546Z"
    }
   },
   "outputs": [
    {
     "name": "stderr",
     "output_type": "stream",
     "text": [
      "2022-03-08 11:00:47.878476: I tensorflow/compiler/mlir/mlir_graph_optimization_pass.cc:185] None of the MLIR Optimization Passes are enabled (registered 2)\n"
     ]
    }
   ],
   "source": [
    "variational_params = [(svgp.q_mu, svgp.q_sqrt)]\n",
    "\n",
    "natgrad_opt = NaturalGradient(gamma=1.0)\n",
    "natgrad_opt.minimize(svgp.training_loss_closure(data), var_list=variational_params)"
   ]
  },
  {
   "cell_type": "markdown",
   "id": "32a05b64",
   "metadata": {},
   "source": [
    "SVGP ELBO after a single natural gradient step:"
   ]
  },
  {
   "cell_type": "code",
   "execution_count": 16,
   "id": "66f3c9d6",
   "metadata": {
    "execution": {
     "iopub.execute_input": "2022-03-08T11:00:48.193461Z",
     "iopub.status.busy": "2022-03-08T11:00:48.193051Z",
     "iopub.status.idle": "2022-03-08T11:00:48.243115Z",
     "shell.execute_reply": "2022-03-08T11:00:48.242278Z"
    }
   },
   "outputs": [
    {
     "data": {
      "text/plain": [
       "-227.98398729188335"
      ]
     },
     "execution_count": 16,
     "metadata": {},
     "output_type": "execute_result"
    }
   ],
   "source": [
    "svgp.elbo(data).numpy()"
   ]
  },
  {
   "cell_type": "markdown",
   "id": "0c6f1136",
   "metadata": {},
   "source": [
    "### Minibatches\n",
    "A crucial property of the natural gradient method is that it still works with minibatches.\n",
    "In practice though, we need to use a smaller gamma."
   ]
  },
  {
   "cell_type": "code",
   "execution_count": 17,
   "id": "709cdbcb",
   "metadata": {
    "execution": {
     "iopub.execute_input": "2022-03-08T11:00:48.247067Z",
     "iopub.status.busy": "2022-03-08T11:00:48.246695Z",
     "iopub.status.idle": "2022-03-08T11:00:52.848673Z",
     "shell.execute_reply": "2022-03-08T11:00:52.847638Z"
    }
   },
   "outputs": [],
   "source": [
    "natgrad_opt = NaturalGradient(gamma=0.1)\n",
    "\n",
    "data_minibatch = (\n",
    "    tf.data.Dataset.from_tensor_slices(data)\n",
    "    .prefetch(autotune)\n",
    "    .repeat()\n",
    "    .shuffle(N)\n",
    "    .batch(batch_size)\n",
    ")\n",
    "data_minibatch_it = iter(data_minibatch)\n",
    "\n",
    "\n",
    "svgp_objective = svgp.training_loss_closure(data_minibatch_it)\n",
    "for _ in range(ci_niter(100)):\n",
    "    natgrad_opt.minimize(svgp_objective, var_list=variational_params)"
   ]
  },
  {
   "cell_type": "markdown",
   "id": "d2efd722",
   "metadata": {},
   "source": [
    "Minibatch SVGP ELBO after NatGrad optimization:"
   ]
  },
  {
   "cell_type": "code",
   "execution_count": 18,
   "id": "b9fc9b47",
   "metadata": {
    "execution": {
     "iopub.execute_input": "2022-03-08T11:00:52.852922Z",
     "iopub.status.busy": "2022-03-08T11:00:52.852636Z",
     "iopub.status.idle": "2022-03-08T11:00:55.955550Z",
     "shell.execute_reply": "2022-03-08T11:00:55.954670Z"
    }
   },
   "outputs": [
    {
     "data": {
      "text/plain": [
       "-136.16498257017187"
      ]
     },
     "execution_count": 18,
     "metadata": {},
     "output_type": "execute_result"
    }
   ],
   "source": [
    "np.average([svgp.elbo(next(data_minibatch_it)) for _ in ci_range(100)])"
   ]
  },
  {
   "cell_type": "markdown",
   "id": "e586956d",
   "metadata": {},
   "source": [
    "### Comparison with ordinary gradients in the conjugate case\n",
    "\n",
    "##### (Take home message: natural gradients are always better)\n",
    "\n",
    "Compared to SVGP with ordinary gradients with minibatches, the natural gradient optimizer is much faster in the Gaussian case.\n",
    "\n",
    "Here we'll do hyperparameter learning together with optimization of the variational parameters, comparing the interleaved natural gradient approach and the one using ordinary gradients for the hyperparameters and variational parameters jointly.\n",
    "\n",
    "**NOTE:** Again we need to compromise for smaller gamma value, which we'll keep *fixed* during the optimization."
   ]
  },
  {
   "cell_type": "code",
   "execution_count": 19,
   "id": "99bf648e",
   "metadata": {
    "execution": {
     "iopub.execute_input": "2022-03-08T11:00:55.960570Z",
     "iopub.status.busy": "2022-03-08T11:00:55.959930Z",
     "iopub.status.idle": "2022-03-08T11:00:56.045698Z",
     "shell.execute_reply": "2022-03-08T11:00:56.044829Z"
    }
   },
   "outputs": [],
   "source": [
    "svgp_ordinary = SVGP(\n",
    "    kernel=gpflow.kernels.Matern52(),\n",
    "    likelihood=gpflow.likelihoods.Gaussian(),\n",
    "    inducing_variable=inducing_variable,\n",
    ")\n",
    "svgp_natgrad = SVGP(\n",
    "    kernel=gpflow.kernels.Matern52(),\n",
    "    likelihood=gpflow.likelihoods.Gaussian(),\n",
    "    inducing_variable=inducing_variable,\n",
    ")\n",
    "\n",
    "# ordinary gradients with Adam for SVGP\n",
    "ordinary_adam_opt = tf.optimizers.Adam(adam_learning_rate)\n",
    "\n",
    "# NatGrads and Adam for SVGP\n",
    "# Stop Adam from optimizing the variational parameters\n",
    "set_trainable(svgp_natgrad.q_mu, False)\n",
    "set_trainable(svgp_natgrad.q_sqrt, False)\n",
    "\n",
    "# Create the optimize_tensors for SVGP\n",
    "natgrad_adam_opt = tf.optimizers.Adam(adam_learning_rate)\n",
    "\n",
    "natgrad_opt = NaturalGradient(gamma=0.1)\n",
    "variational_params = [(svgp_natgrad.q_mu, svgp_natgrad.q_sqrt)]"
   ]
  },
  {
   "cell_type": "markdown",
   "id": "9f9b1896",
   "metadata": {},
   "source": [
    "Let's optimize the models:"
   ]
  },
  {
   "cell_type": "code",
   "execution_count": 20,
   "id": "848dff1d",
   "metadata": {
    "execution": {
     "iopub.execute_input": "2022-03-08T11:00:56.049364Z",
     "iopub.status.busy": "2022-03-08T11:00:56.048999Z",
     "iopub.status.idle": "2022-03-08T11:01:04.540027Z",
     "shell.execute_reply": "2022-03-08T11:01:04.538900Z"
    }
   },
   "outputs": [],
   "source": [
    "data_minibatch = (\n",
    "    tf.data.Dataset.from_tensor_slices(data)\n",
    "    .prefetch(autotune)\n",
    "    .repeat()\n",
    "    .shuffle(N)\n",
    "    .batch(batch_size)\n",
    ")\n",
    "data_minibatch_it = iter(data_minibatch)\n",
    "\n",
    "\n",
    "svgp_ordinary_loss = svgp_ordinary.training_loss_closure(data_minibatch_it)\n",
    "svgp_natgrad_loss = svgp_natgrad.training_loss_closure(data_minibatch_it)\n",
    "\n",
    "\n",
    "for _ in range(ci_niter(100)):\n",
    "    ordinary_adam_opt.minimize(svgp_ordinary_loss, var_list=svgp_ordinary.trainable_variables)\n",
    "\n",
    "\n",
    "for _ in range(ci_niter(100)):\n",
    "    natgrad_adam_opt.minimize(svgp_natgrad_loss, var_list=svgp_natgrad.trainable_variables)\n",
    "    natgrad_opt.minimize(svgp_natgrad_loss, var_list=variational_params)"
   ]
  },
  {
   "cell_type": "markdown",
   "id": "655a31ec",
   "metadata": {},
   "source": [
    "SVGP ELBO after ordinary `Adam` optimization:"
   ]
  },
  {
   "cell_type": "code",
   "execution_count": 21,
   "id": "62fb92dc",
   "metadata": {
    "execution": {
     "iopub.execute_input": "2022-03-08T11:01:04.543912Z",
     "iopub.status.busy": "2022-03-08T11:01:04.543613Z",
     "iopub.status.idle": "2022-03-08T11:01:07.964064Z",
     "shell.execute_reply": "2022-03-08T11:01:07.963402Z"
    }
   },
   "outputs": [
    {
     "data": {
      "text/plain": [
       "-82.77116468128966"
      ]
     },
     "execution_count": 21,
     "metadata": {},
     "output_type": "execute_result"
    }
   ],
   "source": [
    "np.average([svgp_ordinary.elbo(next(data_minibatch_it)) for _ in ci_range(100)])"
   ]
  },
  {
   "cell_type": "markdown",
   "id": "504967ac",
   "metadata": {},
   "source": [
    "SVGP ELBO after `NaturalGradient` and `Adam` optimization:"
   ]
  },
  {
   "cell_type": "code",
   "execution_count": 22,
   "id": "7441ea7d",
   "metadata": {
    "execution": {
     "iopub.execute_input": "2022-03-08T11:01:07.967856Z",
     "iopub.status.busy": "2022-03-08T11:01:07.967557Z",
     "iopub.status.idle": "2022-03-08T11:01:11.834747Z",
     "shell.execute_reply": "2022-03-08T11:01:11.833896Z"
    }
   },
   "outputs": [
    {
     "data": {
      "text/plain": [
       "-73.08621692763711"
      ]
     },
     "execution_count": 22,
     "metadata": {},
     "output_type": "execute_result"
    }
   ],
   "source": [
    "np.average([svgp_natgrad.elbo(next(data_minibatch_it)) for _ in ci_range(100)])"
   ]
  },
  {
   "cell_type": "markdown",
   "id": "408998a9",
   "metadata": {},
   "source": [
    "### Comparison with ordinary gradients in the non-conjugate case\n",
    "#### Binary classification\n",
    "\n",
    "##### (Take home message: natural gradients are usually better)\n",
    "\n",
    "We can use natural gradients even when the likelihood isn't Gaussian. It isn't guaranteed to be better, but it usually is better in practical situations."
   ]
  },
  {
   "cell_type": "code",
   "execution_count": 23,
   "id": "2c682758",
   "metadata": {
    "execution": {
     "iopub.execute_input": "2022-03-08T11:01:11.838822Z",
     "iopub.status.busy": "2022-03-08T11:01:11.838450Z",
     "iopub.status.idle": "2022-03-08T11:01:11.908306Z",
     "shell.execute_reply": "2022-03-08T11:01:11.907405Z"
    }
   },
   "outputs": [],
   "source": [
    "y_binary = np.random.choice([1.0, -1], size=x.shape)\n",
    "vgp_data = (x, y_binary)\n",
    "\n",
    "vgp_bernoulli = VGP(\n",
    "    vgp_data, kernel=gpflow.kernels.Matern52(), likelihood=gpflow.likelihoods.Bernoulli()\n",
    ")\n",
    "vgp_bernoulli_natgrad = VGP(\n",
    "    vgp_data, kernel=gpflow.kernels.Matern52(), likelihood=gpflow.likelihoods.Bernoulli()\n",
    ")\n",
    "\n",
    "# ordinary gradients with Adam for VGP with Bernoulli likelihood\n",
    "adam_opt = tf.optimizers.Adam(adam_learning_rate)\n",
    "\n",
    "# NatGrads and Adam for VGP with Bernoulli likelihood\n",
    "# Stop Adam from optimizing the variational parameters\n",
    "set_trainable(vgp_bernoulli_natgrad.q_mu, False)\n",
    "set_trainable(vgp_bernoulli_natgrad.q_sqrt, False)\n",
    "\n",
    "# Create the optimize_tensors for VGP with natural gradients\n",
    "natgrad_adam_opt = tf.optimizers.Adam(adam_learning_rate)\n",
    "natgrad_opt = NaturalGradient(gamma=0.1)\n",
    "variational_params = [(vgp_bernoulli_natgrad.q_mu, vgp_bernoulli_natgrad.q_sqrt)]"
   ]
  },
  {
   "cell_type": "code",
   "execution_count": 24,
   "id": "e798d40f",
   "metadata": {
    "execution": {
     "iopub.execute_input": "2022-03-08T11:01:11.912490Z",
     "iopub.status.busy": "2022-03-08T11:01:11.912132Z",
     "iopub.status.idle": "2022-03-08T11:01:27.398377Z",
     "shell.execute_reply": "2022-03-08T11:01:27.397580Z"
    }
   },
   "outputs": [],
   "source": [
    "# Optimize vgp_bernoulli\n",
    "for _ in range(ci_niter(100)):\n",
    "    adam_opt.minimize(vgp_bernoulli.training_loss, var_list=vgp_bernoulli.trainable_variables)\n",
    "\n",
    "# Optimize vgp_bernoulli_natgrad\n",
    "for _ in range(ci_niter(100)):\n",
    "    adam_opt.minimize(\n",
    "        vgp_bernoulli_natgrad.training_loss, var_list=vgp_bernoulli_natgrad.trainable_variables\n",
    "    )\n",
    "    natgrad_opt.minimize(vgp_bernoulli_natgrad.training_loss, var_list=variational_params)"
   ]
  },
  {
   "cell_type": "markdown",
   "id": "1e45784b",
   "metadata": {},
   "source": [
    "VGP ELBO after ordinary `Adam` optimization:"
   ]
  },
  {
   "cell_type": "code",
   "execution_count": 25,
   "id": "a3988eed",
   "metadata": {
    "execution": {
     "iopub.execute_input": "2022-03-08T11:01:27.401937Z",
     "iopub.status.busy": "2022-03-08T11:01:27.401570Z",
     "iopub.status.idle": "2022-03-08T11:01:27.433223Z",
     "shell.execute_reply": "2022-03-08T11:01:27.432519Z"
    }
   },
   "outputs": [
    {
     "data": {
      "text/plain": [
       "-144.2140072044554"
      ]
     },
     "execution_count": 25,
     "metadata": {},
     "output_type": "execute_result"
    }
   ],
   "source": [
    "vgp_bernoulli.elbo().numpy()"
   ]
  },
  {
   "cell_type": "markdown",
   "id": "89b526bf",
   "metadata": {},
   "source": [
    "VGP ELBO after `NaturalGradient` + `Adam` optimization:"
   ]
  },
  {
   "cell_type": "code",
   "execution_count": 26,
   "id": "bf585e91",
   "metadata": {
    "execution": {
     "iopub.execute_input": "2022-03-08T11:01:27.437377Z",
     "iopub.status.busy": "2022-03-08T11:01:27.436980Z",
     "iopub.status.idle": "2022-03-08T11:01:27.467963Z",
     "shell.execute_reply": "2022-03-08T11:01:27.467054Z"
    }
   },
   "outputs": [
    {
     "data": {
      "text/plain": [
       "-142.83799599075445"
      ]
     },
     "execution_count": 26,
     "metadata": {},
     "output_type": "execute_result"
    }
   ],
   "source": [
    "vgp_bernoulli_natgrad.elbo().numpy()"
   ]
  },
  {
   "cell_type": "markdown",
   "id": "2203223e",
   "metadata": {},
   "source": [
    "We can also choose to run natural gradients in another parameterization.<br>\n",
    "The sensible choice is the model parameters (q_mu, q_sqrt), which is already in GPflow."
   ]
  },
  {
   "cell_type": "code",
   "execution_count": 27,
   "id": "e310dfaa",
   "metadata": {
    "execution": {
     "iopub.execute_input": "2022-03-08T11:01:27.472483Z",
     "iopub.status.busy": "2022-03-08T11:01:27.472088Z",
     "iopub.status.idle": "2022-03-08T11:01:27.510157Z",
     "shell.execute_reply": "2022-03-08T11:01:27.509356Z"
    }
   },
   "outputs": [],
   "source": [
    "vgp_bernoulli_natgrads_xi = VGP(\n",
    "    vgp_data, kernel=gpflow.kernels.Matern52(), likelihood=gpflow.likelihoods.Bernoulli()\n",
    ")\n",
    "\n",
    "# Stop Adam from optimizing the variational parameters\n",
    "set_trainable(vgp_bernoulli_natgrads_xi.q_mu, False)\n",
    "set_trainable(vgp_bernoulli_natgrads_xi.q_sqrt, False)\n",
    "\n",
    "# Create the optimize_tensors for VGP with Bernoulli likelihood\n",
    "adam_opt = tf.optimizers.Adam(adam_learning_rate)\n",
    "natgrad_opt = NaturalGradient(gamma=0.01)\n",
    "\n",
    "variational_params = [\n",
    "    (vgp_bernoulli_natgrads_xi.q_mu, vgp_bernoulli_natgrads_xi.q_sqrt, XiSqrtMeanVar())\n",
    "]"
   ]
  },
  {
   "cell_type": "code",
   "execution_count": 28,
   "id": "5767ce56",
   "metadata": {
    "execution": {
     "iopub.execute_input": "2022-03-08T11:01:27.513912Z",
     "iopub.status.busy": "2022-03-08T11:01:27.513620Z",
     "iopub.status.idle": "2022-03-08T11:01:40.841999Z",
     "shell.execute_reply": "2022-03-08T11:01:40.841085Z"
    }
   },
   "outputs": [
    {
     "name": "stdout",
     "output_type": "stream",
     "text": [
      "WARNING:tensorflow:Calling GradientTape.gradient on a persistent tape inside its context is significantly less efficient than calling it outside the context (it causes the gradient ops to be recorded on the tape, leading to increased CPU and memory usage). Only call GradientTape.gradient inside the context if you actually want to trace the gradient in order to compute higher order derivatives.\n"
     ]
    }
   ],
   "source": [
    "# Optimize vgp_bernoulli_natgrads_xi\n",
    "for _ in range(ci_niter(100)):\n",
    "    adam_opt.minimize(\n",
    "        vgp_bernoulli_natgrads_xi.training_loss,\n",
    "        var_list=vgp_bernoulli_natgrads_xi.trainable_variables,\n",
    "    )\n",
    "\n",
    "    natgrad_opt.minimize(vgp_bernoulli_natgrads_xi.training_loss, var_list=variational_params)"
   ]
  },
  {
   "cell_type": "markdown",
   "id": "8523083c",
   "metadata": {},
   "source": [
    "VGP ELBO after `NaturalGradient` with `XiSqrtMeanVar` + `Adam` optimization:"
   ]
  },
  {
   "cell_type": "code",
   "execution_count": 29,
   "id": "388a59fa",
   "metadata": {
    "execution": {
     "iopub.execute_input": "2022-03-08T11:01:40.845614Z",
     "iopub.status.busy": "2022-03-08T11:01:40.845344Z",
     "iopub.status.idle": "2022-03-08T11:01:40.873794Z",
     "shell.execute_reply": "2022-03-08T11:01:40.872985Z"
    }
   },
   "outputs": [
    {
     "data": {
      "text/plain": [
       "-143.098904803163"
      ]
     },
     "execution_count": 29,
     "metadata": {},
     "output_type": "execute_result"
    }
   ],
   "source": [
    "vgp_bernoulli_natgrads_xi.elbo().numpy()"
   ]
  },
  {
   "cell_type": "markdown",
   "id": "e5036181",
   "metadata": {},
   "source": [
    "With sufficiently small steps, it shouldn't make a difference which transform is used, but for large\n",
    "steps this can make a difference in practice."
   ]
  }
 ],
 "metadata": {
  "jupytext": {
   "formats": "ipynb,.pct.py:percent"
  },
  "kernelspec": {
   "display_name": "Python 3",
   "language": "python",
   "name": "python3"
  },
  "language_info": {
   "codemirror_mode": {
    "name": "ipython",
    "version": 3
   },
   "file_extension": ".py",
   "mimetype": "text/x-python",
   "name": "python",
   "nbconvert_exporter": "python",
   "pygments_lexer": "ipython3",
   "version": "3.7.12"
  }
 },
 "nbformat": 4,
 "nbformat_minor": 5
}
