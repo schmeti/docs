{
 "cells": [
  {
   "cell_type": "markdown",
   "id": "aecda66f",
   "metadata": {},
   "source": [
    "# Natural gradients\n",
    "\n",
    "This notebook shows some basic usage of the natural gradient optimizer, both on its own and in combination with Adam optimizer."
   ]
  },
  {
   "cell_type": "code",
   "execution_count": 1,
   "id": "3121f774",
   "metadata": {
    "execution": {
     "iopub.execute_input": "2021-12-14T11:32:14.461234Z",
     "iopub.status.busy": "2021-12-14T11:32:14.459579Z",
     "iopub.status.idle": "2021-12-14T11:32:17.201094Z",
     "shell.execute_reply": "2021-12-14T11:32:17.201522Z"
    }
   },
   "outputs": [],
   "source": [
    "import warnings\n",
    "import numpy as np\n",
    "import gpflow\n",
    "import tensorflow as tf\n",
    "\n",
    "from gpflow.ci_utils import ci_niter, ci_range\n",
    "from gpflow.models import VGP, GPR, SGPR, SVGP\n",
    "from gpflow.optimizers import NaturalGradient\n",
    "from gpflow.optimizers.natgrad import XiSqrtMeanVar\n",
    "from gpflow import set_trainable\n",
    "\n",
    "%matplotlib inline\n",
    "%precision 4\n",
    "\n",
    "np.random.seed(0)\n",
    "tf.random.set_seed(0)\n",
    "\n",
    "N, D = 100, 2\n",
    "batch_size = 50\n",
    "\n",
    "# inducing points\n",
    "M = 10\n",
    "\n",
    "x = np.random.uniform(size=(N, D))\n",
    "y = np.sin(10 * x[:, :1]) + 5 * x[:, 1:] ** 2\n",
    "\n",
    "data = (x, y)\n",
    "inducing_variable = tf.random.uniform((M, D))\n",
    "adam_learning_rate = 0.01\n",
    "iterations = ci_niter(5)\n",
    "autotune = tf.data.experimental.AUTOTUNE"
   ]
  },
  {
   "cell_type": "markdown",
   "id": "24f69505",
   "metadata": {},
   "source": [
    "### VGP is a GPR"
   ]
  },
  {
   "cell_type": "markdown",
   "id": "7c5f3034",
   "metadata": {},
   "source": [
    "The following section demonstrates how natural gradients can turn VGP into GPR *in a single step, if the likelihood is Gaussian*."
   ]
  },
  {
   "cell_type": "markdown",
   "id": "4a841922",
   "metadata": {},
   "source": [
    "Let's start by first creating a standard GPR model with Gaussian likelihood:"
   ]
  },
  {
   "cell_type": "code",
   "execution_count": 2,
   "id": "765a574c",
   "metadata": {
    "execution": {
     "iopub.execute_input": "2021-12-14T11:32:17.213550Z",
     "iopub.status.busy": "2021-12-14T11:32:17.213047Z",
     "iopub.status.idle": "2021-12-14T11:32:17.241608Z",
     "shell.execute_reply": "2021-12-14T11:32:17.242011Z"
    }
   },
   "outputs": [],
   "source": [
    "gpr = GPR(data, kernel=gpflow.kernels.Matern52())"
   ]
  },
  {
   "cell_type": "markdown",
   "id": "27f724e7",
   "metadata": {},
   "source": [
    "The log marginal likelihood of the exact GP model is:"
   ]
  },
  {
   "cell_type": "code",
   "execution_count": 3,
   "id": "fa941a16",
   "metadata": {
    "execution": {
     "iopub.execute_input": "2021-12-14T11:32:17.245526Z",
     "iopub.status.busy": "2021-12-14T11:32:17.245052Z",
     "iopub.status.idle": "2021-12-14T11:32:17.258698Z",
     "shell.execute_reply": "2021-12-14T11:32:17.259060Z"
    }
   },
   "outputs": [
    {
     "data": {
      "text/plain": [
       "-139.56404314546032"
      ]
     },
     "execution_count": 1,
     "metadata": {},
     "output_type": "execute_result"
    }
   ],
   "source": [
    "gpr.log_marginal_likelihood().numpy()"
   ]
  },
  {
   "cell_type": "markdown",
   "id": "7ec1ea9e",
   "metadata": {},
   "source": [
    "Now we will create an approximate model which approximates the true posterior via a variational Gaussian distribution.<br>We initialize the distribution to be zero mean and unit variance."
   ]
  },
  {
   "cell_type": "code",
   "execution_count": 4,
   "id": "20d664b7",
   "metadata": {
    "execution": {
     "iopub.execute_input": "2021-12-14T11:32:17.263021Z",
     "iopub.status.busy": "2021-12-14T11:32:17.262566Z",
     "iopub.status.idle": "2021-12-14T11:32:17.284675Z",
     "shell.execute_reply": "2021-12-14T11:32:17.285074Z"
    }
   },
   "outputs": [],
   "source": [
    "vgp = VGP(data, kernel=gpflow.kernels.Matern52(), likelihood=gpflow.likelihoods.Gaussian())\n",
    "# (Note that GPflow's NaturalGradient optimizer does not implement diagonal covariance parametrization, i.e., it does not work for `q_diag=True`.)"
   ]
  },
  {
   "cell_type": "markdown",
   "id": "337d3914",
   "metadata": {},
   "source": [
    "The log marginal likelihood lower bound (evidence lower bound or ELBO) of the approximate GP model is:"
   ]
  },
  {
   "cell_type": "code",
   "execution_count": 5,
   "id": "f9d121e6",
   "metadata": {
    "execution": {
     "iopub.execute_input": "2021-12-14T11:32:17.288935Z",
     "iopub.status.busy": "2021-12-14T11:32:17.288205Z",
     "iopub.status.idle": "2021-12-14T11:32:17.308695Z",
     "shell.execute_reply": "2021-12-14T11:32:17.309077Z"
    }
   },
   "outputs": [
    {
     "data": {
      "text/plain": [
       "-426.9017357334335"
      ]
     },
     "execution_count": 1,
     "metadata": {},
     "output_type": "execute_result"
    }
   ],
   "source": [
    "vgp.elbo().numpy()"
   ]
  },
  {
   "cell_type": "markdown",
   "id": "584bc602",
   "metadata": {},
   "source": [
    "Obviously, our initial guess for the variational distribution is not correct, which results in a lower bound to the likelihood of the exact GPR model. We can optimize the variational parameters in order to get a tighter bound."
   ]
  },
  {
   "cell_type": "markdown",
   "id": "b8283995",
   "metadata": {},
   "source": [
    "In fact, we only need to take **one step** in the natural gradient direction to recover the exact posterior:"
   ]
  },
  {
   "cell_type": "code",
   "execution_count": 6,
   "id": "56cd00de",
   "metadata": {
    "execution": {
     "iopub.execute_input": "2021-12-14T11:32:17.319541Z",
     "iopub.status.busy": "2021-12-14T11:32:17.318206Z",
     "iopub.status.idle": "2021-12-14T11:32:17.376970Z",
     "shell.execute_reply": "2021-12-14T11:32:17.377360Z"
    }
   },
   "outputs": [],
   "source": [
    "natgrad_opt = NaturalGradient(gamma=1.0)\n",
    "variational_params = [(vgp.q_mu, vgp.q_sqrt)]\n",
    "natgrad_opt.minimize(vgp.training_loss, var_list=variational_params)"
   ]
  },
  {
   "cell_type": "markdown",
   "id": "511d2365",
   "metadata": {},
   "source": [
    "The ELBO of the approximate GP model after a single NatGrad step:"
   ]
  },
  {
   "cell_type": "code",
   "execution_count": 7,
   "id": "9970844f",
   "metadata": {
    "execution": {
     "iopub.execute_input": "2021-12-14T11:32:17.381207Z",
     "iopub.status.busy": "2021-12-14T11:32:17.380744Z",
     "iopub.status.idle": "2021-12-14T11:32:17.399004Z",
     "shell.execute_reply": "2021-12-14T11:32:17.398589Z"
    }
   },
   "outputs": [
    {
     "data": {
      "text/plain": [
       "-139.56406476221196"
      ]
     },
     "execution_count": 1,
     "metadata": {},
     "output_type": "execute_result"
    }
   ],
   "source": [
    "vgp.elbo().numpy()"
   ]
  },
  {
   "cell_type": "markdown",
   "id": "66bbd23c",
   "metadata": {},
   "source": [
    "### Optimize both variational parameters and kernel hyperparameters together\n",
    "\n",
    "In the Gaussian likelihood case we can iterate between an Adam update for the hyperparameters and a NatGrad update for the variational parameters. That way, we achieve optimization of hyperparameters as if the model were a GPR."
   ]
  },
  {
   "cell_type": "markdown",
   "id": "a6b5a5c3",
   "metadata": {},
   "source": [
    "The trick is to forbid Adam from updating the variational parameters by setting them to not trainable."
   ]
  },
  {
   "cell_type": "code",
   "execution_count": 8,
   "id": "6cd81d70",
   "metadata": {
    "execution": {
     "iopub.execute_input": "2021-12-14T11:32:17.557388Z",
     "iopub.status.busy": "2021-12-14T11:32:17.551293Z",
     "iopub.status.idle": "2021-12-14T11:32:17.559067Z",
     "shell.execute_reply": "2021-12-14T11:32:17.559429Z"
    }
   },
   "outputs": [],
   "source": [
    "# Stop Adam from optimizing the variational parameters\n",
    "set_trainable(vgp.q_mu, False)\n",
    "set_trainable(vgp.q_sqrt, False)\n",
    "\n",
    "adam_opt_for_vgp = tf.optimizers.Adam(adam_learning_rate)\n",
    "adam_opt_for_gpr = tf.optimizers.Adam(adam_learning_rate)"
   ]
  },
  {
   "cell_type": "code",
   "execution_count": 9,
   "id": "8572e4b9",
   "metadata": {
    "execution": {
     "iopub.execute_input": "2021-12-14T11:32:17.590013Z",
     "iopub.status.busy": "2021-12-14T11:32:17.589521Z",
     "iopub.status.idle": "2021-12-14T11:32:17.726839Z",
     "shell.execute_reply": "2021-12-14T11:32:17.727441Z"
    }
   },
   "outputs": [
    {
     "name": "stdout",
     "output_type": "stream",
     "text": [
      "GPR with Adam: iteration 1 likelihood -139.2548\n"
     ]
    },
    {
     "name": "stdout",
     "output_type": "stream",
     "text": [
      "GPR with Adam: iteration 2 likelihood -138.9456\n"
     ]
    },
    {
     "name": "stdout",
     "output_type": "stream",
     "text": [
      "GPR with Adam: iteration 3 likelihood -138.6363\n"
     ]
    },
    {
     "name": "stdout",
     "output_type": "stream",
     "text": [
      "GPR with Adam: iteration 4 likelihood -138.3270\n"
     ]
    },
    {
     "name": "stdout",
     "output_type": "stream",
     "text": [
      "GPR with Adam: iteration 5 likelihood -138.0177\n"
     ]
    }
   ],
   "source": [
    "for i in range(iterations):\n",
    "    adam_opt_for_gpr.minimize(gpr.training_loss, var_list=gpr.trainable_variables)\n",
    "    likelihood = gpr.log_marginal_likelihood()\n",
    "    tf.print(f\"GPR with Adam: iteration {i + 1} likelihood {likelihood:.04f}\")"
   ]
  },
  {
   "cell_type": "code",
   "execution_count": 10,
   "id": "ae95c53e",
   "metadata": {
    "execution": {
     "iopub.execute_input": "2021-12-14T11:32:17.732050Z",
     "iopub.status.busy": "2021-12-14T11:32:17.731601Z",
     "iopub.status.idle": "2021-12-14T11:32:18.214204Z",
     "shell.execute_reply": "2021-12-14T11:32:18.214578Z"
    }
   },
   "outputs": [
    {
     "name": "stdout",
     "output_type": "stream",
     "text": [
      "VGP with NaturalGradient and Adam: iteration 1 likelihood -139.2581\n"
     ]
    },
    {
     "name": "stdout",
     "output_type": "stream",
     "text": [
      "VGP with NaturalGradient and Adam: iteration 2 likelihood -138.9489\n"
     ]
    },
    {
     "name": "stdout",
     "output_type": "stream",
     "text": [
      "VGP with NaturalGradient and Adam: iteration 3 likelihood -138.6397\n"
     ]
    },
    {
     "name": "stdout",
     "output_type": "stream",
     "text": [
      "VGP with NaturalGradient and Adam: iteration 4 likelihood -138.3305\n"
     ]
    },
    {
     "name": "stdout",
     "output_type": "stream",
     "text": [
      "VGP with NaturalGradient and Adam: iteration 5 likelihood -138.0213\n"
     ]
    }
   ],
   "source": [
    "for i in range(iterations):\n",
    "    natgrad_opt.minimize(vgp.training_loss, var_list=variational_params)\n",
    "    adam_opt_for_vgp.minimize(vgp.training_loss, var_list=vgp.trainable_variables)\n",
    "    likelihood = vgp.elbo()\n",
    "    tf.print(f\"VGP with NaturalGradient and Adam: iteration {i + 1} likelihood {likelihood:.04f}\")"
   ]
  },
  {
   "cell_type": "markdown",
   "id": "091fa13f",
   "metadata": {},
   "source": [
    "Compare GPR and VGP lengthscales after optimization:"
   ]
  },
  {
   "cell_type": "code",
   "execution_count": 11,
   "id": "66a14520",
   "metadata": {
    "execution": {
     "iopub.execute_input": "2021-12-14T11:32:18.218048Z",
     "iopub.status.busy": "2021-12-14T11:32:18.217491Z",
     "iopub.status.idle": "2021-12-14T11:32:18.221323Z",
     "shell.execute_reply": "2021-12-14T11:32:18.221684Z"
    }
   },
   "outputs": [
    {
     "name": "stdout",
     "output_type": "stream",
     "text": [
      "GPR lengthscales = 0.9687\n",
      "VGP lengthscales = 0.9687\n"
     ]
    }
   ],
   "source": [
    "print(f\"GPR lengthscales = {gpr.kernel.lengthscales.numpy():.04f}\")\n",
    "print(f\"VGP lengthscales = {vgp.kernel.lengthscales.numpy():.04f}\")"
   ]
  },
  {
   "cell_type": "markdown",
   "id": "f2ccbbc6",
   "metadata": {},
   "source": [
    "### Natural gradients also work for the sparse model\n",
    "Similarly, natural gradients turn SVGP into SGPR in the Gaussian likelihood case. <br>\n",
    "We can again combine natural gradients with Adam to update both variational parameters and hyperparameters too.<br>\n",
    "Here we'll just do a single natural step demonstration."
   ]
  },
  {
   "cell_type": "code",
   "execution_count": 12,
   "id": "f09bb51e",
   "metadata": {
    "execution": {
     "iopub.execute_input": "2021-12-14T11:32:18.226199Z",
     "iopub.status.busy": "2021-12-14T11:32:18.225747Z",
     "iopub.status.idle": "2021-12-14T11:32:18.264932Z",
     "shell.execute_reply": "2021-12-14T11:32:18.265330Z"
    }
   },
   "outputs": [],
   "source": [
    "svgp = SVGP(\n",
    "    kernel=gpflow.kernels.Matern52(),\n",
    "    likelihood=gpflow.likelihoods.Gaussian(),\n",
    "    inducing_variable=inducing_variable,\n",
    ")\n",
    "sgpr = SGPR(data, kernel=gpflow.kernels.Matern52(), inducing_variable=inducing_variable)\n",
    "\n",
    "for model in svgp, sgpr:\n",
    "    model.likelihood.variance.assign(0.1)"
   ]
  },
  {
   "cell_type": "markdown",
   "id": "711338b7",
   "metadata": {},
   "source": [
    "Analytically optimal sparse model ELBO:"
   ]
  },
  {
   "cell_type": "code",
   "execution_count": 13,
   "id": "f4230f89",
   "metadata": {
    "execution": {
     "iopub.execute_input": "2021-12-14T11:32:18.269776Z",
     "iopub.status.busy": "2021-12-14T11:32:18.269298Z",
     "iopub.status.idle": "2021-12-14T11:32:18.292214Z",
     "shell.execute_reply": "2021-12-14T11:32:18.292592Z"
    }
   },
   "outputs": [
    {
     "data": {
      "text/plain": [
       "-227.983987291884"
      ]
     },
     "execution_count": 1,
     "metadata": {},
     "output_type": "execute_result"
    }
   ],
   "source": [
    "sgpr.elbo().numpy()"
   ]
  },
  {
   "cell_type": "markdown",
   "id": "c6fc850e",
   "metadata": {},
   "source": [
    "SVGP ELBO before natural gradient step:"
   ]
  },
  {
   "cell_type": "code",
   "execution_count": 14,
   "id": "e4453397",
   "metadata": {
    "execution": {
     "iopub.execute_input": "2021-12-14T11:32:18.296627Z",
     "iopub.status.busy": "2021-12-14T11:32:18.295908Z",
     "iopub.status.idle": "2021-12-14T11:32:18.326928Z",
     "shell.execute_reply": "2021-12-14T11:32:18.326522Z"
    }
   },
   "outputs": [
    {
     "data": {
      "text/plain": [
       "-3326.8429228004275"
      ]
     },
     "execution_count": 1,
     "metadata": {},
     "output_type": "execute_result"
    }
   ],
   "source": [
    "svgp.elbo(data).numpy()"
   ]
  },
  {
   "cell_type": "code",
   "execution_count": 15,
   "id": "22adff5b",
   "metadata": {
    "execution": {
     "iopub.execute_input": "2021-12-14T11:32:18.335837Z",
     "iopub.status.busy": "2021-12-14T11:32:18.334704Z",
     "iopub.status.idle": "2021-12-14T11:32:22.682051Z",
     "shell.execute_reply": "2021-12-14T11:32:22.681330Z"
    }
   },
   "outputs": [],
   "source": [
    "variational_params = [(svgp.q_mu, svgp.q_sqrt)]\n",
    "\n",
    "natgrad_opt = NaturalGradient(gamma=1.0)\n",
    "natgrad_opt.minimize(svgp.training_loss_closure(data), var_list=variational_params)"
   ]
  },
  {
   "cell_type": "markdown",
   "id": "ef80b7f6",
   "metadata": {},
   "source": [
    "SVGP ELBO after a single natural gradient step:"
   ]
  },
  {
   "cell_type": "code",
   "execution_count": 16,
   "id": "4f6ed441",
   "metadata": {
    "execution": {
     "iopub.execute_input": "2021-12-14T11:32:22.687419Z",
     "iopub.status.busy": "2021-12-14T11:32:22.686902Z",
     "iopub.status.idle": "2021-12-14T11:32:22.720424Z",
     "shell.execute_reply": "2021-12-14T11:32:22.719963Z"
    }
   },
   "outputs": [
    {
     "data": {
      "text/plain": [
       "-227.98398729188335"
      ]
     },
     "execution_count": 1,
     "metadata": {},
     "output_type": "execute_result"
    }
   ],
   "source": [
    "svgp.elbo(data).numpy()"
   ]
  },
  {
   "cell_type": "markdown",
   "id": "d891810c",
   "metadata": {},
   "source": [
    "### Minibatches\n",
    "A crucial property of the natural gradient method is that it still works with minibatches.\n",
    "In practice though, we need to use a smaller gamma."
   ]
  },
  {
   "cell_type": "code",
   "execution_count": 17,
   "id": "c3b19365",
   "metadata": {
    "execution": {
     "iopub.execute_input": "2021-12-14T11:32:22.728977Z",
     "iopub.status.busy": "2021-12-14T11:32:22.728506Z",
     "iopub.status.idle": "2021-12-14T11:32:26.561185Z",
     "shell.execute_reply": "2021-12-14T11:32:26.561653Z"
    }
   },
   "outputs": [],
   "source": [
    "natgrad_opt = NaturalGradient(gamma=0.1)\n",
    "\n",
    "data_minibatch = (\n",
    "    tf.data.Dataset.from_tensor_slices(data)\n",
    "    .prefetch(autotune)\n",
    "    .repeat()\n",
    "    .shuffle(N)\n",
    "    .batch(batch_size)\n",
    ")\n",
    "data_minibatch_it = iter(data_minibatch)\n",
    "\n",
    "\n",
    "svgp_objective = svgp.training_loss_closure(data_minibatch_it)\n",
    "for _ in range(ci_niter(100)):\n",
    "    natgrad_opt.minimize(svgp_objective, var_list=variational_params)"
   ]
  },
  {
   "cell_type": "markdown",
   "id": "6fcdc8b4",
   "metadata": {},
   "source": [
    "Minibatch SVGP ELBO after NatGrad optimization:"
   ]
  },
  {
   "cell_type": "code",
   "execution_count": 18,
   "id": "6d3d7b2d",
   "metadata": {
    "execution": {
     "iopub.execute_input": "2021-12-14T11:32:26.566201Z",
     "iopub.status.busy": "2021-12-14T11:32:26.565684Z",
     "iopub.status.idle": "2021-12-14T11:32:29.181926Z",
     "shell.execute_reply": "2021-12-14T11:32:29.182291Z"
    }
   },
   "outputs": [
    {
     "data": {
      "text/plain": [
       "-136.16498257017187"
      ]
     },
     "execution_count": 1,
     "metadata": {},
     "output_type": "execute_result"
    }
   ],
   "source": [
    "np.average([svgp.elbo(next(data_minibatch_it)) for _ in ci_range(100)])"
   ]
  },
  {
   "cell_type": "markdown",
   "id": "dfaee4d4",
   "metadata": {},
   "source": [
    "### Comparison with ordinary gradients in the conjugate case\n",
    "\n",
    "##### (Take home message: natural gradients are always better)\n",
    "\n",
    "Compared to SVGP with ordinary gradients with minibatches, the natural gradient optimizer is much faster in the Gaussian case.\n",
    "\n",
    "Here we'll do hyperparameter learning together with optimization of the variational parameters, comparing the interleaved natural gradient approach and the one using ordinary gradients for the hyperparameters and variational parameters jointly.\n",
    "\n",
    "**NOTE:** Again we need to compromise for smaller gamma value, which we'll keep *fixed* during the optimization."
   ]
  },
  {
   "cell_type": "code",
   "execution_count": 19,
   "id": "5c94c0d6",
   "metadata": {
    "execution": {
     "iopub.execute_input": "2021-12-14T11:32:29.188623Z",
     "iopub.status.busy": "2021-12-14T11:32:29.188139Z",
     "iopub.status.idle": "2021-12-14T11:32:29.230482Z",
     "shell.execute_reply": "2021-12-14T11:32:29.230859Z"
    }
   },
   "outputs": [],
   "source": [
    "svgp_ordinary = SVGP(\n",
    "    kernel=gpflow.kernels.Matern52(),\n",
    "    likelihood=gpflow.likelihoods.Gaussian(),\n",
    "    inducing_variable=inducing_variable,\n",
    ")\n",
    "svgp_natgrad = SVGP(\n",
    "    kernel=gpflow.kernels.Matern52(),\n",
    "    likelihood=gpflow.likelihoods.Gaussian(),\n",
    "    inducing_variable=inducing_variable,\n",
    ")\n",
    "\n",
    "# ordinary gradients with Adam for SVGP\n",
    "ordinary_adam_opt = tf.optimizers.Adam(adam_learning_rate)\n",
    "\n",
    "# NatGrads and Adam for SVGP\n",
    "# Stop Adam from optimizing the variational parameters\n",
    "set_trainable(svgp_natgrad.q_mu, False)\n",
    "set_trainable(svgp_natgrad.q_sqrt, False)\n",
    "\n",
    "# Create the optimize_tensors for SVGP\n",
    "natgrad_adam_opt = tf.optimizers.Adam(adam_learning_rate)\n",
    "\n",
    "natgrad_opt = NaturalGradient(gamma=0.1)\n",
    "variational_params = [(svgp_natgrad.q_mu, svgp_natgrad.q_sqrt)]"
   ]
  },
  {
   "cell_type": "markdown",
   "id": "0c9815f6",
   "metadata": {},
   "source": [
    "Let's optimize the models:"
   ]
  },
  {
   "cell_type": "code",
   "execution_count": 20,
   "id": "89c4f1ca",
   "metadata": {
    "execution": {
     "iopub.execute_input": "2021-12-14T11:32:29.236598Z",
     "iopub.status.busy": "2021-12-14T11:32:29.236072Z",
     "iopub.status.idle": "2021-12-14T11:32:35.673029Z",
     "shell.execute_reply": "2021-12-14T11:32:35.673435Z"
    }
   },
   "outputs": [],
   "source": [
    "data_minibatch = (\n",
    "    tf.data.Dataset.from_tensor_slices(data)\n",
    "    .prefetch(autotune)\n",
    "    .repeat()\n",
    "    .shuffle(N)\n",
    "    .batch(batch_size)\n",
    ")\n",
    "data_minibatch_it = iter(data_minibatch)\n",
    "\n",
    "\n",
    "svgp_ordinary_loss = svgp_ordinary.training_loss_closure(data_minibatch_it)\n",
    "svgp_natgrad_loss = svgp_natgrad.training_loss_closure(data_minibatch_it)\n",
    "\n",
    "\n",
    "for _ in range(ci_niter(100)):\n",
    "    ordinary_adam_opt.minimize(svgp_ordinary_loss, var_list=svgp_ordinary.trainable_variables)\n",
    "\n",
    "\n",
    "for _ in range(ci_niter(100)):\n",
    "    natgrad_adam_opt.minimize(svgp_natgrad_loss, var_list=svgp_natgrad.trainable_variables)\n",
    "    natgrad_opt.minimize(svgp_natgrad_loss, var_list=variational_params)"
   ]
  },
  {
   "cell_type": "markdown",
   "id": "9797fff9",
   "metadata": {},
   "source": [
    "SVGP ELBO after ordinary `Adam` optimization:"
   ]
  },
  {
   "cell_type": "code",
   "execution_count": 21,
   "id": "6423fcd7",
   "metadata": {
    "execution": {
     "iopub.execute_input": "2021-12-14T11:32:35.677445Z",
     "iopub.status.busy": "2021-12-14T11:32:35.676959Z",
     "iopub.status.idle": "2021-12-14T11:32:38.485009Z",
     "shell.execute_reply": "2021-12-14T11:32:38.484411Z"
    }
   },
   "outputs": [
    {
     "data": {
      "text/plain": [
       "-82.77116468128966"
      ]
     },
     "execution_count": 1,
     "metadata": {},
     "output_type": "execute_result"
    }
   ],
   "source": [
    "np.average([svgp_ordinary.elbo(next(data_minibatch_it)) for _ in ci_range(100)])"
   ]
  },
  {
   "cell_type": "markdown",
   "id": "8a1b5d6d",
   "metadata": {},
   "source": [
    "SVGP ELBO after `NaturalGradient` and `Adam` optimization:"
   ]
  },
  {
   "cell_type": "code",
   "execution_count": 22,
   "id": "99eb9add",
   "metadata": {
    "execution": {
     "iopub.execute_input": "2021-12-14T11:32:38.489372Z",
     "iopub.status.busy": "2021-12-14T11:32:38.488699Z",
     "iopub.status.idle": "2021-12-14T11:32:41.375527Z",
     "shell.execute_reply": "2021-12-14T11:32:41.375929Z"
    }
   },
   "outputs": [
    {
     "data": {
      "text/plain": [
       "-73.08621692763711"
      ]
     },
     "execution_count": 1,
     "metadata": {},
     "output_type": "execute_result"
    }
   ],
   "source": [
    "np.average([svgp_natgrad.elbo(next(data_minibatch_it)) for _ in ci_range(100)])"
   ]
  },
  {
   "cell_type": "markdown",
   "id": "e8594746",
   "metadata": {},
   "source": [
    "### Comparison with ordinary gradients in the non-conjugate case\n",
    "#### Binary classification\n",
    "\n",
    "##### (Take home message: natural gradients are usually better)\n",
    "\n",
    "We can use natural gradients even when the likelihood isn't Gaussian. It isn't guaranteed to be better, but it usually is better in practical situations."
   ]
  },
  {
   "cell_type": "code",
   "execution_count": 23,
   "id": "43104ad8",
   "metadata": {
    "execution": {
     "iopub.execute_input": "2021-12-14T11:32:41.385842Z",
     "iopub.status.busy": "2021-12-14T11:32:41.385285Z",
     "iopub.status.idle": "2021-12-14T11:32:41.427179Z",
     "shell.execute_reply": "2021-12-14T11:32:41.427601Z"
    }
   },
   "outputs": [],
   "source": [
    "y_binary = np.random.choice([1.0, -1], size=x.shape)\n",
    "vgp_data = (x, y_binary)\n",
    "\n",
    "vgp_bernoulli = VGP(\n",
    "    vgp_data, kernel=gpflow.kernels.Matern52(), likelihood=gpflow.likelihoods.Bernoulli()\n",
    ")\n",
    "vgp_bernoulli_natgrad = VGP(\n",
    "    vgp_data, kernel=gpflow.kernels.Matern52(), likelihood=gpflow.likelihoods.Bernoulli()\n",
    ")\n",
    "\n",
    "# ordinary gradients with Adam for VGP with Bernoulli likelihood\n",
    "adam_opt = tf.optimizers.Adam(adam_learning_rate)\n",
    "\n",
    "# NatGrads and Adam for VGP with Bernoulli likelihood\n",
    "# Stop Adam from optimizing the variational parameters\n",
    "set_trainable(vgp_bernoulli_natgrad.q_mu, False)\n",
    "set_trainable(vgp_bernoulli_natgrad.q_sqrt, False)\n",
    "\n",
    "# Create the optimize_tensors for VGP with natural gradients\n",
    "natgrad_adam_opt = tf.optimizers.Adam(adam_learning_rate)\n",
    "natgrad_opt = NaturalGradient(gamma=0.1)\n",
    "variational_params = [(vgp_bernoulli_natgrad.q_mu, vgp_bernoulli_natgrad.q_sqrt)]"
   ]
  },
  {
   "cell_type": "code",
   "execution_count": 24,
   "id": "ca7d36a5",
   "metadata": {
    "execution": {
     "iopub.execute_input": "2021-12-14T11:32:41.445414Z",
     "iopub.status.busy": "2021-12-14T11:32:41.444763Z",
     "iopub.status.idle": "2021-12-14T11:32:54.537536Z",
     "shell.execute_reply": "2021-12-14T11:32:54.536748Z"
    }
   },
   "outputs": [],
   "source": [
    "# Optimize vgp_bernoulli\n",
    "for _ in range(ci_niter(100)):\n",
    "    adam_opt.minimize(vgp_bernoulli.training_loss, var_list=vgp_bernoulli.trainable_variables)\n",
    "\n",
    "# Optimize vgp_bernoulli_natgrad\n",
    "for _ in range(ci_niter(100)):\n",
    "    adam_opt.minimize(\n",
    "        vgp_bernoulli_natgrad.training_loss, var_list=vgp_bernoulli_natgrad.trainable_variables\n",
    "    )\n",
    "    natgrad_opt.minimize(vgp_bernoulli_natgrad.training_loss, var_list=variational_params)"
   ]
  },
  {
   "cell_type": "markdown",
   "id": "e4792531",
   "metadata": {},
   "source": [
    "VGP ELBO after ordinary `Adam` optimization:"
   ]
  },
  {
   "cell_type": "code",
   "execution_count": 25,
   "id": "e65a6957",
   "metadata": {
    "execution": {
     "iopub.execute_input": "2021-12-14T11:32:54.543108Z",
     "iopub.status.busy": "2021-12-14T11:32:54.542329Z",
     "iopub.status.idle": "2021-12-14T11:32:54.564139Z",
     "shell.execute_reply": "2021-12-14T11:32:54.563605Z"
    }
   },
   "outputs": [
    {
     "data": {
      "text/plain": [
       "-144.2140072044554"
      ]
     },
     "execution_count": 1,
     "metadata": {},
     "output_type": "execute_result"
    }
   ],
   "source": [
    "vgp_bernoulli.elbo().numpy()"
   ]
  },
  {
   "cell_type": "markdown",
   "id": "84913e32",
   "metadata": {},
   "source": [
    "VGP ELBO after `NaturalGradient` + `Adam` optimization:"
   ]
  },
  {
   "cell_type": "code",
   "execution_count": 26,
   "id": "23ec210b",
   "metadata": {
    "execution": {
     "iopub.execute_input": "2021-12-14T11:32:54.569044Z",
     "iopub.status.busy": "2021-12-14T11:32:54.568476Z",
     "iopub.status.idle": "2021-12-14T11:32:54.586640Z",
     "shell.execute_reply": "2021-12-14T11:32:54.587194Z"
    }
   },
   "outputs": [
    {
     "data": {
      "text/plain": [
       "-142.83799599075445"
      ]
     },
     "execution_count": 1,
     "metadata": {},
     "output_type": "execute_result"
    }
   ],
   "source": [
    "vgp_bernoulli_natgrad.elbo().numpy()"
   ]
  },
  {
   "cell_type": "markdown",
   "id": "fdcf39d3",
   "metadata": {},
   "source": [
    "We can also choose to run natural gradients in another parameterization.<br>\n",
    "The sensible choice is the model parameters (q_mu, q_sqrt), which is already in GPflow."
   ]
  },
  {
   "cell_type": "code",
   "execution_count": 27,
   "id": "df0aeacf",
   "metadata": {
    "execution": {
     "iopub.execute_input": "2021-12-14T11:32:54.593551Z",
     "iopub.status.busy": "2021-12-14T11:32:54.592872Z",
     "iopub.status.idle": "2021-12-14T11:32:54.614055Z",
     "shell.execute_reply": "2021-12-14T11:32:54.614567Z"
    }
   },
   "outputs": [],
   "source": [
    "vgp_bernoulli_natgrads_xi = VGP(\n",
    "    vgp_data, kernel=gpflow.kernels.Matern52(), likelihood=gpflow.likelihoods.Bernoulli()\n",
    ")\n",
    "\n",
    "# Stop Adam from optimizing the variational parameters\n",
    "set_trainable(vgp_bernoulli_natgrads_xi.q_mu, False)\n",
    "set_trainable(vgp_bernoulli_natgrads_xi.q_sqrt, False)\n",
    "\n",
    "# Create the optimize_tensors for VGP with Bernoulli likelihood\n",
    "adam_opt = tf.optimizers.Adam(adam_learning_rate)\n",
    "natgrad_opt = NaturalGradient(gamma=0.01)\n",
    "\n",
    "variational_params = [\n",
    "    (vgp_bernoulli_natgrads_xi.q_mu, vgp_bernoulli_natgrads_xi.q_sqrt, XiSqrtMeanVar())\n",
    "]"
   ]
  },
  {
   "cell_type": "code",
   "execution_count": 28,
   "id": "6597f04b",
   "metadata": {
    "execution": {
     "iopub.execute_input": "2021-12-14T11:32:54.623101Z",
     "iopub.status.busy": "2021-12-14T11:32:54.622581Z",
     "iopub.status.idle": "2021-12-14T11:33:06.452199Z",
     "shell.execute_reply": "2021-12-14T11:33:06.452730Z"
    }
   },
   "outputs": [
    {
     "name": "stdout",
     "output_type": "stream",
     "text": [
      "WARNING:tensorflow:Calling GradientTape.gradient on a persistent tape inside its context is significantly less efficient than calling it outside the context (it causes the gradient ops to be recorded on the tape, leading to increased CPU and memory usage). Only call GradientTape.gradient inside the context if you actually want to trace the gradient in order to compute higher order derivatives.\n"
     ]
    }
   ],
   "source": [
    "# Optimize vgp_bernoulli_natgrads_xi\n",
    "for _ in range(ci_niter(100)):\n",
    "    adam_opt.minimize(\n",
    "        vgp_bernoulli_natgrads_xi.training_loss,\n",
    "        var_list=vgp_bernoulli_natgrads_xi.trainable_variables,\n",
    "    )\n",
    "\n",
    "    natgrad_opt.minimize(vgp_bernoulli_natgrads_xi.training_loss, var_list=variational_params)"
   ]
  },
  {
   "cell_type": "markdown",
   "id": "e61fcb53",
   "metadata": {},
   "source": [
    "VGP ELBO after `NaturalGradient` with `XiSqrtMeanVar` + `Adam` optimization:"
   ]
  },
  {
   "cell_type": "code",
   "execution_count": 29,
   "id": "780d8a28",
   "metadata": {
    "execution": {
     "iopub.execute_input": "2021-12-14T11:33:06.457823Z",
     "iopub.status.busy": "2021-12-14T11:33:06.456929Z",
     "iopub.status.idle": "2021-12-14T11:33:06.475947Z",
     "shell.execute_reply": "2021-12-14T11:33:06.476374Z"
    }
   },
   "outputs": [
    {
     "data": {
      "text/plain": [
       "-143.098904803163"
      ]
     },
     "execution_count": 1,
     "metadata": {},
     "output_type": "execute_result"
    }
   ],
   "source": [
    "vgp_bernoulli_natgrads_xi.elbo().numpy()"
   ]
  },
  {
   "cell_type": "markdown",
   "id": "b9394438",
   "metadata": {},
   "source": [
    "With sufficiently small steps, it shouldn't make a difference which transform is used, but for large\n",
    "steps this can make a difference in practice."
   ]
  }
 ],
 "metadata": {
  "jupytext": {
   "formats": "ipynb,.pct.py:percent"
  },
  "kernelspec": {
   "display_name": "Python 3",
   "language": "python",
   "name": "python3"
  },
  "language_info": {
   "codemirror_mode": {
    "name": "ipython",
    "version": 3
   },
   "file_extension": ".py",
   "mimetype": "text/x-python",
   "name": "python",
   "nbconvert_exporter": "python",
   "pygments_lexer": "ipython3",
   "version": "3.6.15"
  }
 },
 "nbformat": 4,
 "nbformat_minor": 5
}
